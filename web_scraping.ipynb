{
 "cells": [
  {
   "cell_type": "code",
   "execution_count": 2,
   "metadata": {},
   "outputs": [],
   "source": [
    "import pandas as pd\n",
    "\n",
    "from bs4 import BeautifulSoup\n",
    "from urllib.request import urlopen"
   ]
  },
  {
   "cell_type": "code",
   "execution_count": 3,
   "metadata": {},
   "outputs": [],
   "source": [
    "base_url = 'https://bechdeltest.com/'\n",
    "\n",
    "# open connection, grab page\n",
    "client = urlopen(base_url)\n",
    "\n",
    "# store html in variable\n",
    "base_html = client.read()\n",
    "\n",
    "# close connection\n",
    "client.close()"
   ]
  },
  {
   "cell_type": "code",
   "execution_count": 4,
   "metadata": {},
   "outputs": [],
   "source": [
    "# parse html\n",
    "soup = BeautifulSoup(base_html, 'html.parser')"
   ]
  },
  {
   "cell_type": "code",
   "execution_count": 5,
   "metadata": {},
   "outputs": [
    {
     "data": {
      "text/plain": [
       "<h1 style=\"margin-bottom: 5px\"><a href=\"/\" style=\"text-decoration:none;\">Bechdel Test Movie List</a></h1>"
      ]
     },
     "execution_count": 5,
     "metadata": {},
     "output_type": "execute_result"
    }
   ],
   "source": [
    "soup.h1"
   ]
  },
  {
   "cell_type": "code",
   "execution_count": 6,
   "metadata": {},
   "outputs": [
    {
     "data": {
      "text/plain": [
       "<p>The <b>Bechdel Test</b>, sometimes called the <i>Mo Movie Measure</i> or <i>Bechdel Rule</i> is a simple test which names the following three criteria: (1) it has to have at least two women in it, who (2) who talk to each other, about (3) something besides a man. The test was popularized by <b>Alison Bechdel</b>'s comic <b>Dykes to Watch Out For</b>, in a 1985 strip called <a href=\"http://alisonbechdel.blogspot.com/2005/08/rule.html\"><i>The Rule</i></a>. For a nice video introduction to the subject please check out <a href=\"http://www.feministfrequency.com/2009/12/the-bechdel-test-for-women-in-movies/\">The Bechdel Test for Women in Movies</a> on <a href=\"http://www.feministfrequency.com/\">feministfrequency.com</a>.</p>"
      ]
     },
     "execution_count": 6,
     "metadata": {},
     "output_type": "execute_result"
    }
   ],
   "source": [
    "soup.p"
   ]
  },
  {
   "cell_type": "code",
   "execution_count": 7,
   "metadata": {},
   "outputs": [],
   "source": [
    "# grab each movie\n",
    "movies = soup.findAll('div', {'class': 'movie'})"
   ]
  },
  {
   "cell_type": "code",
   "execution_count": 8,
   "metadata": {},
   "outputs": [
    {
     "data": {
      "text/plain": [
       "200"
      ]
     },
     "execution_count": 8,
     "metadata": {},
     "output_type": "execute_result"
    }
   ],
   "source": [
    "len(movies)"
   ]
  },
  {
   "cell_type": "code",
   "execution_count": 9,
   "metadata": {},
   "outputs": [
    {
     "data": {
      "text/plain": [
       "<div class=\"movie\"><a href=\"http://us.imdb.com/title/tt0437086/\"><img alt=\"[[3]]\" src=\"/static/pass.png\" title=\"[There are two or more women in this movie and they talk to each other about something other than a man]\"/></a>\n",
       "<a href=\"/view/8642/alita:_battle_angel/\" id=\"movie-8642\">Alita: Battle Angel</a> <a href=\"/view/8642/alita:_battle_angel/\" onclick=\"showComments('8642'); return false;\"><img alt=\"[1 comment(s) available]\" id=\"comment-img-8642\" src=\"/static/comments.png\" style=\"height: 10px; width: 10px;\" title=\"1 comment\"/></a> </div>"
      ]
     },
     "execution_count": 9,
     "metadata": {},
     "output_type": "execute_result"
    }
   ],
   "source": [
    "movies[0]"
   ]
  },
  {
   "cell_type": "code",
   "execution_count": 10,
   "metadata": {},
   "outputs": [],
   "source": [
    "# movies object contains imdb id (within imdb link), Bechdel Test score, 'pass' or 'nopass', movie title in 3 \n",
    "# different formats, and number of comments\n",
    "movie = movies[0]"
   ]
  },
  {
   "cell_type": "code",
   "execution_count": 11,
   "metadata": {},
   "outputs": [
    {
     "data": {
      "text/plain": [
       "<a href=\"http://us.imdb.com/title/tt0437086/\"><img alt=\"[[3]]\" src=\"/static/pass.png\" title=\"[There are two or more women in this movie and they talk to each other about something other than a man]\"/></a>"
      ]
     },
     "execution_count": 11,
     "metadata": {},
     "output_type": "execute_result"
    }
   ],
   "source": [
    "movie.a"
   ]
  },
  {
   "cell_type": "code",
   "execution_count": 16,
   "metadata": {},
   "outputs": [
    {
     "data": {
      "text/plain": [
       "<img alt=\"[[3]]\" src=\"/static/pass.png\" title=\"[There are two or more women in this movie and they talk to each other about something other than a man]\"/>"
      ]
     },
     "execution_count": 16,
     "metadata": {},
     "output_type": "execute_result"
    }
   ],
   "source": [
    "movie.a.img"
   ]
  },
  {
   "cell_type": "code",
   "execution_count": 18,
   "metadata": {},
   "outputs": [
    {
     "data": {
      "text/plain": [
       "'[[3]]'"
      ]
     },
     "execution_count": 18,
     "metadata": {},
     "output_type": "execute_result"
    }
   ],
   "source": [
    "movie.a.img['alt']"
   ]
  },
  {
   "cell_type": "code",
   "execution_count": 19,
   "metadata": {},
   "outputs": [
    {
     "data": {
      "text/plain": [
       "'3'"
      ]
     },
     "execution_count": 19,
     "metadata": {},
     "output_type": "execute_result"
    }
   ],
   "source": [
    "# yessss! the score!!! \n",
    "movie.a.img['alt'][2]"
   ]
  },
  {
   "cell_type": "code",
   "execution_count": 17,
   "metadata": {},
   "outputs": [
    {
     "data": {
      "text/plain": [
       "<div class=\"movie\"><a href=\"http://us.imdb.com/title/tt5719748/\"><img alt=\"[[1]]\" src=\"/static/nopass.png\" title=\"[There are two or more women in this movie, but they don't talk to each other]\"/></a>\n",
       "<a href=\"/view/8639/cold_pursuit/\" id=\"movie-8639\">Cold Pursuit</a> <a href=\"/view/8639/cold_pursuit/\" onclick=\"showComments('8639'); return false;\"><img alt=\"[1 comment(s) available]\" id=\"comment-img-8639\" src=\"/static/comments.png\" style=\"height: 10px; width: 10px;\" title=\"1 comment\"/></a> </div>"
      ]
     },
     "execution_count": 17,
     "metadata": {},
     "output_type": "execute_result"
    }
   ],
   "source": [
    "movies[3]"
   ]
  },
  {
   "cell_type": "code",
   "execution_count": null,
   "metadata": {},
   "outputs": [],
   "source": []
  }
 ],
 "metadata": {
  "kernelspec": {
   "display_name": "Python [conda env:learn-env]",
   "language": "python",
   "name": "conda-env-learn-env-py"
  },
  "language_info": {
   "codemirror_mode": {
    "name": "ipython",
    "version": 3
   },
   "file_extension": ".py",
   "mimetype": "text/x-python",
   "name": "python",
   "nbconvert_exporter": "python",
   "pygments_lexer": "ipython3",
   "version": "3.6.6"
  },
  "toc": {
   "base_numbering": 1,
   "nav_menu": {},
   "number_sections": false,
   "sideBar": true,
   "skip_h1_title": false,
   "title_cell": "Table of Contents",
   "title_sidebar": "Contents",
   "toc_cell": false,
   "toc_position": {},
   "toc_section_display": true,
   "toc_window_display": false
  }
 },
 "nbformat": 4,
 "nbformat_minor": 2
}
