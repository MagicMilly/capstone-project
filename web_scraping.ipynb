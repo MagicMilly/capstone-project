{
 "cells": [
  {
   "cell_type": "markdown",
   "metadata": {},
   "source": [
    "## Web Scraping with Beautiful Soup"
   ]
  },
  {
   "cell_type": "code",
   "execution_count": 1,
   "metadata": {},
   "outputs": [],
   "source": [
    "import pandas as pd\n",
    "\n",
    "from bs4 import BeautifulSoup\n",
    "from random import randint\n",
    "from requests import get\n",
    "from time import sleep, time\n",
    "from warnings import warn"
   ]
  },
  {
   "cell_type": "markdown",
   "metadata": {},
   "source": [
    "## I. Bechdel Test website"
   ]
  },
  {
   "cell_type": "markdown",
   "metadata": {},
   "source": [
    "#### A. First Page Trial Run"
   ]
  },
  {
   "cell_type": "code",
   "execution_count": 3,
   "metadata": {},
   "outputs": [],
   "source": [
    "base_url = 'https://bechdeltest.com/'\n",
    "\n",
    "# open connection, grab page\n",
    "client = urlopen(base_url)\n",
    "\n",
    "# store html in variable\n",
    "base_html = client.read()\n",
    "\n",
    "# close connection\n",
    "client.close()"
   ]
  },
  {
   "cell_type": "code",
   "execution_count": 4,
   "metadata": {},
   "outputs": [],
   "source": [
    "# parse html\n",
    "soup = BeautifulSoup(base_html, 'html.parser')"
   ]
  },
  {
   "cell_type": "code",
   "execution_count": 5,
   "metadata": {},
   "outputs": [
    {
     "data": {
      "text/plain": [
       "<h1 style=\"margin-bottom: 5px\"><a href=\"/\" style=\"text-decoration:none;\">Bechdel Test Movie List</a></h1>"
      ]
     },
     "execution_count": 5,
     "metadata": {},
     "output_type": "execute_result"
    }
   ],
   "source": [
    "soup.h1"
   ]
  },
  {
   "cell_type": "code",
   "execution_count": 6,
   "metadata": {},
   "outputs": [
    {
     "data": {
      "text/plain": [
       "<p>The <b>Bechdel Test</b>, sometimes called the <i>Mo Movie Measure</i> or <i>Bechdel Rule</i> is a simple test which names the following three criteria: (1) it has to have at least two women in it, who (2) who talk to each other, about (3) something besides a man. The test was popularized by <b>Alison Bechdel</b>'s comic <b>Dykes to Watch Out For</b>, in a 1985 strip called <a href=\"http://alisonbechdel.blogspot.com/2005/08/rule.html\"><i>The Rule</i></a>. For a nice video introduction to the subject please check out <a href=\"http://www.feministfrequency.com/2009/12/the-bechdel-test-for-women-in-movies/\">The Bechdel Test for Women in Movies</a> on <a href=\"http://www.feministfrequency.com/\">feministfrequency.com</a>.</p>"
      ]
     },
     "execution_count": 6,
     "metadata": {},
     "output_type": "execute_result"
    }
   ],
   "source": [
    "soup.p"
   ]
  },
  {
   "cell_type": "code",
   "execution_count": 7,
   "metadata": {},
   "outputs": [],
   "source": [
    "# grab each movie\n",
    "movies = soup.findAll('div', {'class': 'movie'})"
   ]
  },
  {
   "cell_type": "code",
   "execution_count": 8,
   "metadata": {},
   "outputs": [
    {
     "data": {
      "text/plain": [
       "200"
      ]
     },
     "execution_count": 8,
     "metadata": {},
     "output_type": "execute_result"
    }
   ],
   "source": [
    "len(movies)"
   ]
  },
  {
   "cell_type": "code",
   "execution_count": 9,
   "metadata": {},
   "outputs": [
    {
     "data": {
      "text/plain": [
       "<div class=\"movie\"><a href=\"http://us.imdb.com/title/tt0437086/\"><img alt=\"[[3]]\" src=\"/static/pass.png\" title=\"[There are two or more women in this movie and they talk to each other about something other than a man]\"/></a>\n",
       "<a href=\"/view/8642/alita:_battle_angel/\" id=\"movie-8642\">Alita: Battle Angel</a> <a href=\"/view/8642/alita:_battle_angel/\" onclick=\"showComments('8642'); return false;\"><img alt=\"[1 comment(s) available]\" id=\"comment-img-8642\" src=\"/static/comments.png\" style=\"height: 10px; width: 10px;\" title=\"1 comment\"/></a> </div>"
      ]
     },
     "execution_count": 9,
     "metadata": {},
     "output_type": "execute_result"
    }
   ],
   "source": [
    "movies[0]"
   ]
  },
  {
   "cell_type": "code",
   "execution_count": 10,
   "metadata": {},
   "outputs": [],
   "source": [
    "# movies object contains imdb id (within imdb link), Bechdel Test score, 'pass' or 'nopass', movie title in 3 \n",
    "# different formats, and number of comments\n",
    "movie = movies[0]"
   ]
  },
  {
   "cell_type": "code",
   "execution_count": 34,
   "metadata": {},
   "outputs": [
    {
     "data": {
      "text/plain": [
       "6"
      ]
     },
     "execution_count": 34,
     "metadata": {},
     "output_type": "execute_result"
    }
   ],
   "source": [
    "len(movie.contents)"
   ]
  },
  {
   "cell_type": "code",
   "execution_count": 35,
   "metadata": {},
   "outputs": [
    {
     "data": {
      "text/plain": [
       "[<a href=\"http://us.imdb.com/title/tt0437086/\"><img alt=\"[[3]]\" src=\"/static/pass.png\" title=\"[There are two or more women in this movie and they talk to each other about something other than a man]\"/></a>,\n",
       " '\\n',\n",
       " <a href=\"/view/8642/alita:_battle_angel/\" id=\"movie-8642\">Alita: Battle Angel</a>,\n",
       " ' ',\n",
       " <a href=\"/view/8642/alita:_battle_angel/\" onclick=\"showComments('8642'); return false;\"><img alt=\"[1 comment(s) available]\" id=\"comment-img-8642\" src=\"/static/comments.png\" style=\"height: 10px; width: 10px;\" title=\"1 comment\"/></a>,\n",
       " ' ']"
      ]
     },
     "execution_count": 35,
     "metadata": {},
     "output_type": "execute_result"
    }
   ],
   "source": [
    "movie.contents"
   ]
  },
  {
   "cell_type": "code",
   "execution_count": 47,
   "metadata": {},
   "outputs": [
    {
     "data": {
      "text/plain": [
       "'2019'"
      ]
     },
     "execution_count": 47,
     "metadata": {},
     "output_type": "execute_result"
    }
   ],
   "source": [
    "movie.parent.h3.a['id'].split('-')[1]"
   ]
  },
  {
   "cell_type": "code",
   "execution_count": 39,
   "metadata": {},
   "outputs": [
    {
     "data": {
      "text/plain": [
       "'American Woman'"
      ]
     },
     "execution_count": 39,
     "metadata": {},
     "output_type": "execute_result"
    }
   ],
   "source": [
    "movies[1].contents[2].text"
   ]
  },
  {
   "cell_type": "code",
   "execution_count": 41,
   "metadata": {},
   "outputs": [
    {
     "data": {
      "text/plain": [
       "'Hold the Dark'"
      ]
     },
     "execution_count": 41,
     "metadata": {},
     "output_type": "execute_result"
    }
   ],
   "source": [
    "movies[75].contents[2].text.strip()"
   ]
  },
  {
   "cell_type": "code",
   "execution_count": 11,
   "metadata": {},
   "outputs": [
    {
     "data": {
      "text/plain": [
       "<a href=\"http://us.imdb.com/title/tt0437086/\"><img alt=\"[[3]]\" src=\"/static/pass.png\" title=\"[There are two or more women in this movie and they talk to each other about something other than a man]\"/></a>"
      ]
     },
     "execution_count": 11,
     "metadata": {},
     "output_type": "execute_result"
    }
   ],
   "source": [
    "movie.a"
   ]
  },
  {
   "cell_type": "code",
   "execution_count": 16,
   "metadata": {},
   "outputs": [
    {
     "data": {
      "text/plain": [
       "<img alt=\"[[3]]\" src=\"/static/pass.png\" title=\"[There are two or more women in this movie and they talk to each other about something other than a man]\"/>"
      ]
     },
     "execution_count": 16,
     "metadata": {},
     "output_type": "execute_result"
    }
   ],
   "source": [
    "movie.a.img"
   ]
  },
  {
   "cell_type": "code",
   "execution_count": 18,
   "metadata": {},
   "outputs": [
    {
     "data": {
      "text/plain": [
       "'[[3]]'"
      ]
     },
     "execution_count": 18,
     "metadata": {},
     "output_type": "execute_result"
    }
   ],
   "source": [
    "movie.a.img['alt']"
   ]
  },
  {
   "cell_type": "code",
   "execution_count": 19,
   "metadata": {},
   "outputs": [
    {
     "data": {
      "text/plain": [
       "'3'"
      ]
     },
     "execution_count": 19,
     "metadata": {},
     "output_type": "execute_result"
    }
   ],
   "source": [
    "# yessss! the score!!! \n",
    "movie.a.img['alt'][2]"
   ]
  },
  {
   "cell_type": "code",
   "execution_count": 20,
   "metadata": {},
   "outputs": [
    {
     "data": {
      "text/plain": [
       "'http://us.imdb.com/title/tt0437086/'"
      ]
     },
     "execution_count": 20,
     "metadata": {},
     "output_type": "execute_result"
    }
   ],
   "source": [
    "movie.a['href']"
   ]
  },
  {
   "cell_type": "code",
   "execution_count": 21,
   "metadata": {},
   "outputs": [
    {
     "data": {
      "text/plain": [
       "['http:', '', 'us.imdb.com', 'title', 'tt0437086', '']"
      ]
     },
     "execution_count": 21,
     "metadata": {},
     "output_type": "execute_result"
    }
   ],
   "source": [
    "movie.a['href'].split('/')"
   ]
  },
  {
   "cell_type": "code",
   "execution_count": 22,
   "metadata": {},
   "outputs": [
    {
     "data": {
      "text/plain": [
       "'tt0437086'"
      ]
     },
     "execution_count": 22,
     "metadata": {},
     "output_type": "execute_result"
    }
   ],
   "source": [
    "movie.a['href'].split('/')[4]"
   ]
  },
  {
   "cell_type": "code",
   "execution_count": 28,
   "metadata": {},
   "outputs": [
    {
     "data": {
      "text/plain": [
       "'pass'"
      ]
     },
     "execution_count": 28,
     "metadata": {},
     "output_type": "execute_result"
    }
   ],
   "source": [
    "movie.a.img['src'].split('/')[2].split('.')[0]"
   ]
  },
  {
   "cell_type": "code",
   "execution_count": 17,
   "metadata": {},
   "outputs": [
    {
     "data": {
      "text/plain": [
       "<div class=\"movie\"><a href=\"http://us.imdb.com/title/tt5719748/\"><img alt=\"[[1]]\" src=\"/static/nopass.png\" title=\"[There are two or more women in this movie, but they don't talk to each other]\"/></a>\n",
       "<a href=\"/view/8639/cold_pursuit/\" id=\"movie-8639\">Cold Pursuit</a> <a href=\"/view/8639/cold_pursuit/\" onclick=\"showComments('8639'); return false;\"><img alt=\"[1 comment(s) available]\" id=\"comment-img-8639\" src=\"/static/comments.png\" style=\"height: 10px; width: 10px;\" title=\"1 comment\"/></a> </div>"
      ]
     },
     "execution_count": 17,
     "metadata": {},
     "output_type": "execute_result"
    }
   ],
   "source": [
    "movies[3]"
   ]
  },
  {
   "cell_type": "code",
   "execution_count": 29,
   "metadata": {},
   "outputs": [
    {
     "data": {
      "text/plain": [
       "'nopass'"
      ]
     },
     "execution_count": 29,
     "metadata": {},
     "output_type": "execute_result"
    }
   ],
   "source": [
    "movies[3].a.img['src'].split('/')[2].split('.')[0]"
   ]
  },
  {
   "cell_type": "code",
   "execution_count": 48,
   "metadata": {},
   "outputs": [
    {
     "data": {
      "text/plain": [
       "'2019'"
      ]
     },
     "execution_count": 48,
     "metadata": {},
     "output_type": "execute_result"
    }
   ],
   "source": [
    "movies[100].parent.h3.a['id'].split('-')[1]"
   ]
  },
  {
   "cell_type": "code",
   "execution_count": 66,
   "metadata": {},
   "outputs": [
    {
     "data": {
      "text/plain": [
       "'2018'"
      ]
     },
     "execution_count": 66,
     "metadata": {},
     "output_type": "execute_result"
    }
   ],
   "source": [
    "movies[100].find_previous('h3').a['id'].split('-')[1]"
   ]
  },
  {
   "cell_type": "code",
   "execution_count": 67,
   "metadata": {},
   "outputs": [
    {
     "data": {
      "text/plain": [
       "'2017'"
      ]
     },
     "execution_count": 67,
     "metadata": {},
     "output_type": "execute_result"
    }
   ],
   "source": [
    "movies[199].find_previous('h3').a['id'].split('-')[1]"
   ]
  },
  {
   "cell_type": "code",
   "execution_count": 58,
   "metadata": {},
   "outputs": [
    {
     "data": {
      "text/plain": [
       "3"
      ]
     },
     "execution_count": 58,
     "metadata": {},
     "output_type": "execute_result"
    }
   ],
   "source": [
    "int(movies[10].a.img['alt'][2])"
   ]
  },
  {
   "cell_type": "code",
   "execution_count": 49,
   "metadata": {},
   "outputs": [
    {
     "data": {
      "text/plain": [
       "'The Miseducation of Cameron Post'"
      ]
     },
     "execution_count": 49,
     "metadata": {},
     "output_type": "execute_result"
    }
   ],
   "source": [
    "movies[100].contents[2].text.strip()"
   ]
  },
  {
   "cell_type": "code",
   "execution_count": null,
   "metadata": {},
   "outputs": [],
   "source": [
    "# could write directly to csv, but I'm not going to\n",
    "# filename = 'bechdel_test_movies.csv'\n",
    "# f = open(filename, 'w')\n",
    "# headers = 'imdb_id, imdb_link, test_score, passing, title\\n'\n",
    "# f.write(headers)\n",
    "\n",
    "# build loop\n",
    "# if writing to pandas df, change year and test_score to integers\n",
    "\n",
    "# for movie in movies:\n",
    "#     year = movie.find_previous('h3').a['id'].split('-')[1]\n",
    "#     title = movies.contents[2].text.strip()\n",
    "#     test_score = movie.a.img['alt'][2]\n",
    "#     passing = movie.a.img['src'].split('/')[2].split('.')[0]\n",
    "#     imdb_id = movie.a['href'].split('/')[4]\n",
    "#     imdb_link = movie.a['href']\n",
    "    \n",
    "    # f.write(imdb_id + ',' + imdb_link + ',' + test_score + ',' + passing.replace(',','|') + ',' + 'title' + '\\n')\n",
    "    # if a title has any punctuation. . . this may not work, should probably go into a dataframe\n",
    "# f.close()"
   ]
  },
  {
   "cell_type": "code",
   "execution_count": 69,
   "metadata": {},
   "outputs": [],
   "source": [
    "# test run on page one (sorting by year)\n",
    "\n",
    "years = []\n",
    "movie_titles = []\n",
    "test_scores = []\n",
    "pass_or_no_pass = []\n",
    "imdb_ids = []\n",
    "imdb_links = []\n",
    "\n",
    "for movie in movies:\n",
    "    \n",
    "    year = movie.find_previous('h3').a['id'].split('-')[1]\n",
    "    years.append(int(year))\n",
    "    \n",
    "    title = movie.contents[2].text.strip()\n",
    "    movie_titles.append(title)\n",
    "    \n",
    "    test_score = movie.a.img['alt'][2]\n",
    "    test_scores.append(int(test_score))\n",
    "    \n",
    "    passing = movie.a.img['src'].split('/')[2].split('.')[0]\n",
    "    pass_or_no_pass.append(passing)\n",
    "    \n",
    "    imdb_id = movie.a['href'].split('/')[4]\n",
    "    imdb_ids.append(imdb_id)\n",
    "    \n",
    "    imdb_link = movie.a['href']\n",
    "    imdb_links.append(imdb_link)"
   ]
  },
  {
   "cell_type": "code",
   "execution_count": 71,
   "metadata": {},
   "outputs": [],
   "source": [
    "test_df = pd.DataFrame({'year': years,\n",
    "                       'title': movie_titles,\n",
    "                       'score': test_scores,\n",
    "                       'passing': pass_or_no_pass,\n",
    "                       'imdb_id': imdb_ids,\n",
    "                       'imdb_link': imdb_links})"
   ]
  },
  {
   "cell_type": "code",
   "execution_count": 72,
   "metadata": {},
   "outputs": [
    {
     "data": {
      "text/html": [
       "<div>\n",
       "<style scoped>\n",
       "    .dataframe tbody tr th:only-of-type {\n",
       "        vertical-align: middle;\n",
       "    }\n",
       "\n",
       "    .dataframe tbody tr th {\n",
       "        vertical-align: top;\n",
       "    }\n",
       "\n",
       "    .dataframe thead th {\n",
       "        text-align: right;\n",
       "    }\n",
       "</style>\n",
       "<table border=\"1\" class=\"dataframe\">\n",
       "  <thead>\n",
       "    <tr style=\"text-align: right;\">\n",
       "      <th></th>\n",
       "      <th>year</th>\n",
       "      <th>title</th>\n",
       "      <th>score</th>\n",
       "      <th>passing</th>\n",
       "      <th>imdb_id</th>\n",
       "      <th>imdb_link</th>\n",
       "    </tr>\n",
       "  </thead>\n",
       "  <tbody>\n",
       "    <tr>\n",
       "      <th>0</th>\n",
       "      <td>2019</td>\n",
       "      <td>Alita: Battle Angel</td>\n",
       "      <td>3</td>\n",
       "      <td>pass</td>\n",
       "      <td>tt0437086</td>\n",
       "      <td>http://us.imdb.com/title/tt0437086/</td>\n",
       "    </tr>\n",
       "    <tr>\n",
       "      <th>1</th>\n",
       "      <td>2019</td>\n",
       "      <td>American Woman</td>\n",
       "      <td>3</td>\n",
       "      <td>pass</td>\n",
       "      <td>tt9109492</td>\n",
       "      <td>http://us.imdb.com/title/tt9109492/</td>\n",
       "    </tr>\n",
       "    <tr>\n",
       "      <th>2</th>\n",
       "      <td>2019</td>\n",
       "      <td>Close</td>\n",
       "      <td>3</td>\n",
       "      <td>pass</td>\n",
       "      <td>tt5316540</td>\n",
       "      <td>http://us.imdb.com/title/tt5316540/</td>\n",
       "    </tr>\n",
       "    <tr>\n",
       "      <th>3</th>\n",
       "      <td>2019</td>\n",
       "      <td>Cold Pursuit</td>\n",
       "      <td>1</td>\n",
       "      <td>nopass</td>\n",
       "      <td>tt5719748</td>\n",
       "      <td>http://us.imdb.com/title/tt5719748/</td>\n",
       "    </tr>\n",
       "    <tr>\n",
       "      <th>4</th>\n",
       "      <td>2019</td>\n",
       "      <td>How to Train Your Dragon: The Hidden World</td>\n",
       "      <td>2</td>\n",
       "      <td>nopass</td>\n",
       "      <td>tt2386490</td>\n",
       "      <td>http://us.imdb.com/title/tt2386490/</td>\n",
       "    </tr>\n",
       "  </tbody>\n",
       "</table>\n",
       "</div>"
      ],
      "text/plain": [
       "   year                                       title  score passing    imdb_id  \\\n",
       "0  2019                         Alita: Battle Angel      3    pass  tt0437086   \n",
       "1  2019                              American Woman      3    pass  tt9109492   \n",
       "2  2019                                       Close      3    pass  tt5316540   \n",
       "3  2019                                Cold Pursuit      1  nopass  tt5719748   \n",
       "4  2019  How to Train Your Dragon: The Hidden World      2  nopass  tt2386490   \n",
       "\n",
       "                             imdb_link  \n",
       "0  http://us.imdb.com/title/tt0437086/  \n",
       "1  http://us.imdb.com/title/tt9109492/  \n",
       "2  http://us.imdb.com/title/tt5316540/  \n",
       "3  http://us.imdb.com/title/tt5719748/  \n",
       "4  http://us.imdb.com/title/tt2386490/  "
      ]
     },
     "execution_count": 72,
     "metadata": {},
     "output_type": "execute_result"
    }
   ],
   "source": [
    "test_df.head()"
   ]
  },
  {
   "cell_type": "code",
   "execution_count": 73,
   "metadata": {},
   "outputs": [
    {
     "data": {
      "text/html": [
       "<div>\n",
       "<style scoped>\n",
       "    .dataframe tbody tr th:only-of-type {\n",
       "        vertical-align: middle;\n",
       "    }\n",
       "\n",
       "    .dataframe tbody tr th {\n",
       "        vertical-align: top;\n",
       "    }\n",
       "\n",
       "    .dataframe thead th {\n",
       "        text-align: right;\n",
       "    }\n",
       "</style>\n",
       "<table border=\"1\" class=\"dataframe\">\n",
       "  <thead>\n",
       "    <tr style=\"text-align: right;\">\n",
       "      <th></th>\n",
       "      <th>year</th>\n",
       "      <th>title</th>\n",
       "      <th>score</th>\n",
       "      <th>passing</th>\n",
       "      <th>imdb_id</th>\n",
       "      <th>imdb_link</th>\n",
       "    </tr>\n",
       "  </thead>\n",
       "  <tbody>\n",
       "    <tr>\n",
       "      <th>195</th>\n",
       "      <td>2017</td>\n",
       "      <td>Call Me by Your Name</td>\n",
       "      <td>3</td>\n",
       "      <td>pass</td>\n",
       "      <td>tt5726616</td>\n",
       "      <td>http://us.imdb.com/title/tt5726616/</td>\n",
       "    </tr>\n",
       "    <tr>\n",
       "      <th>196</th>\n",
       "      <td>2017</td>\n",
       "      <td>Canaries</td>\n",
       "      <td>3</td>\n",
       "      <td>pass</td>\n",
       "      <td>tt4082644</td>\n",
       "      <td>http://us.imdb.com/title/tt4082644/</td>\n",
       "    </tr>\n",
       "    <tr>\n",
       "      <th>197</th>\n",
       "      <td>2017</td>\n",
       "      <td>Captain Underpants: The First Epic Movie</td>\n",
       "      <td>1</td>\n",
       "      <td>nopass</td>\n",
       "      <td>tt2091256</td>\n",
       "      <td>http://us.imdb.com/title/tt2091256/</td>\n",
       "    </tr>\n",
       "    <tr>\n",
       "      <th>198</th>\n",
       "      <td>2017</td>\n",
       "      <td>Cars 3</td>\n",
       "      <td>3</td>\n",
       "      <td>pass</td>\n",
       "      <td>tt3606752</td>\n",
       "      <td>http://us.imdb.com/title/tt3606752/</td>\n",
       "    </tr>\n",
       "    <tr>\n",
       "      <th>199</th>\n",
       "      <td>2017</td>\n",
       "      <td>Cherry Pop</td>\n",
       "      <td>3</td>\n",
       "      <td>pass</td>\n",
       "      <td>tt4807950</td>\n",
       "      <td>http://us.imdb.com/title/tt4807950/</td>\n",
       "    </tr>\n",
       "  </tbody>\n",
       "</table>\n",
       "</div>"
      ],
      "text/plain": [
       "     year                                     title  score passing    imdb_id  \\\n",
       "195  2017                      Call Me by Your Name      3    pass  tt5726616   \n",
       "196  2017                                  Canaries      3    pass  tt4082644   \n",
       "197  2017  Captain Underpants: The First Epic Movie      1  nopass  tt2091256   \n",
       "198  2017                                    Cars 3      3    pass  tt3606752   \n",
       "199  2017                                Cherry Pop      3    pass  tt4807950   \n",
       "\n",
       "                               imdb_link  \n",
       "195  http://us.imdb.com/title/tt5726616/  \n",
       "196  http://us.imdb.com/title/tt4082644/  \n",
       "197  http://us.imdb.com/title/tt2091256/  \n",
       "198  http://us.imdb.com/title/tt3606752/  \n",
       "199  http://us.imdb.com/title/tt4807950/  "
      ]
     },
     "execution_count": 73,
     "metadata": {},
     "output_type": "execute_result"
    }
   ],
   "source": [
    "test_df.tail()"
   ]
  },
  {
   "cell_type": "code",
   "execution_count": 74,
   "metadata": {},
   "outputs": [
    {
     "name": "stdout",
     "output_type": "stream",
     "text": [
      "<class 'pandas.core.frame.DataFrame'>\n",
      "RangeIndex: 200 entries, 0 to 199\n",
      "Data columns (total 6 columns):\n",
      "year         200 non-null int64\n",
      "title        200 non-null object\n",
      "score        200 non-null int64\n",
      "passing      200 non-null object\n",
      "imdb_id      200 non-null object\n",
      "imdb_link    200 non-null object\n",
      "dtypes: int64(2), object(4)\n",
      "memory usage: 9.5+ KB\n"
     ]
    }
   ],
   "source": [
    "test_df.info()"
   ]
  },
  {
   "cell_type": "markdown",
   "metadata": {},
   "source": [
    "#### B. Scrape Entire Site"
   ]
  },
  {
   "cell_type": "code",
   "execution_count": 82,
   "metadata": {},
   "outputs": [],
   "source": [
    "from time import sleep, time\n",
    "from random import randint\n",
    "from requests import get\n",
    "from warnings import warn\n",
    "\n",
    "# warn(\"Warning Simulation\")"
   ]
  },
  {
   "cell_type": "code",
   "execution_count": 77,
   "metadata": {},
   "outputs": [],
   "source": [
    "# page format - first page was page 0 I guess\n",
    "# https://bechdeltest.com/?page=1\n",
    "# last page is page 40\n",
    "# use clear_output(wait=True) at end of loop if scraping something really big\n",
    "# from Ipython.core.display import clear_output"
   ]
  },
  {
   "cell_type": "code",
   "execution_count": 80,
   "metadata": {},
   "outputs": [
    {
     "name": "stdout",
     "output_type": "stream",
     "text": [
      "Request: 1 Frequency: 0.333 requests/second\n",
      "Request: 2 Frequency: 0.499 requests/second\n",
      "Request: 3 Frequency: 0.374 requests/second\n",
      "Request: 4 Frequency: 0.363 requests/second\n",
      "Request: 5 Frequency: 0.357 requests/second\n"
     ]
    }
   ],
   "source": [
    "# pages = [str(i) for i in range(1,41)]\n",
    "\n",
    "start = time()\n",
    "requests = 0\n",
    "\n",
    "# reset lists\n",
    "years = []\n",
    "movie_titles = []\n",
    "test_scores = []\n",
    "pass_or_no_pass = []\n",
    "imdb_ids = []\n",
    "imdb_links = []\n",
    "\n",
    "# for r in range(41):\n",
    "for r in range(5):\n",
    "    # request\n",
    "    \n",
    "    requests += 1\n",
    "    sleep(randint(1,5))\n",
    "    elapsed = time() - start\n",
    "    \n",
    "    print(f'Request: {requests} Frequency: {round(requests/elapsed, 3)} requests/second')"
   ]
  },
  {
   "cell_type": "code",
   "execution_count": 83,
   "metadata": {},
   "outputs": [
    {
     "name": "stdout",
     "output_type": "stream",
     "text": [
      "Request: 1 Frequency: 0.065 requests/second\n",
      "Request: 2 Frequency: 0.064 requests/second\n",
      "Request: 3 Frequency: 0.062 requests/second\n",
      "Request: 4 Frequency: 0.067 requests/second\n",
      "Request: 5 Frequency: 0.068 requests/second\n",
      "Request: 6 Frequency: 0.067 requests/second\n",
      "Request: 7 Frequency: 0.068 requests/second\n",
      "Request: 8 Frequency: 0.066 requests/second\n",
      "Request: 9 Frequency: 0.066 requests/second\n",
      "Request: 10 Frequency: 0.065 requests/second\n",
      "Request: 11 Frequency: 0.064 requests/second\n",
      "Request: 12 Frequency: 0.064 requests/second\n",
      "Request: 13 Frequency: 0.064 requests/second\n",
      "Request: 14 Frequency: 0.064 requests/second\n",
      "Request: 15 Frequency: 0.064 requests/second\n",
      "Request: 16 Frequency: 0.065 requests/second\n",
      "Request: 17 Frequency: 0.066 requests/second\n",
      "Request: 18 Frequency: 0.065 requests/second\n",
      "Request: 19 Frequency: 0.065 requests/second\n",
      "Request: 20 Frequency: 0.065 requests/second\n",
      "Request: 21 Frequency: 0.065 requests/second\n",
      "Request: 22 Frequency: 0.066 requests/second\n",
      "Request: 23 Frequency: 0.066 requests/second\n",
      "Request: 24 Frequency: 0.066 requests/second\n",
      "Request: 25 Frequency: 0.066 requests/second\n",
      "Request: 26 Frequency: 0.067 requests/second\n",
      "Request: 27 Frequency: 0.066 requests/second\n",
      "Request: 28 Frequency: 0.066 requests/second\n",
      "Request: 29 Frequency: 0.067 requests/second\n",
      "Request: 30 Frequency: 0.066 requests/second\n",
      "Request: 31 Frequency: 0.067 requests/second\n",
      "Request: 32 Frequency: 0.067 requests/second\n",
      "Request: 33 Frequency: 0.067 requests/second\n",
      "Request: 34 Frequency: 0.067 requests/second\n",
      "Request: 35 Frequency: 0.067 requests/second\n",
      "Request: 36 Frequency: 0.067 requests/second\n",
      "Request: 37 Frequency: 0.066 requests/second\n",
      "Request: 38 Frequency: 0.067 requests/second\n",
      "Request: 39 Frequency: 0.066 requests/second\n",
      "Request: 40 Frequency: 0.067 requests/second\n",
      "Request: 41 Frequency: 0.067 requests/second\n"
     ]
    }
   ],
   "source": [
    "# reset lists\n",
    "\n",
    "years = []\n",
    "movie_titles = []\n",
    "test_scores = []\n",
    "pass_or_no_pass = []\n",
    "imdb_ids = []\n",
    "imdb_links = []\n",
    "\n",
    "start = time()\n",
    "requests = 0\n",
    "\n",
    "# first page will execute outside of loop due to different urls\n",
    "\n",
    "base_url = 'https://bechdeltest.com/'\n",
    "response = get(base_url)\n",
    "\n",
    "# I swear I am not a robot beep boop beep\n",
    "sleep(randint(8,15))\n",
    "\n",
    "requests += 1\n",
    "elapsed = time() - start\n",
    "print(f'Request: {requests} Frequency: {round(requests/elapsed, 3)} requests/second')\n",
    "\n",
    "# warning for non-200 status codes\n",
    "if response.status_code != 200:\n",
    "    warn(f'Request: {requests} Status code: {response.status_code}')\n",
    "    \n",
    "soup = BeautifulSoup(response.text, 'html.parser')\n",
    "movies = soup.findAll('div', {'class': 'movie'})\n",
    "\n",
    "for movie in movies:\n",
    "    \n",
    "    year = movie.find_previous('h3').a['id'].split('-')[1]\n",
    "    years.append(int(year))\n",
    "    \n",
    "    title = movie.contents[2].text.strip()\n",
    "    movie_titles.append(title)\n",
    "    \n",
    "    test_score = movie.a.img['alt'][2]\n",
    "    test_scores.append(int(test_score))\n",
    "    \n",
    "    passing = movie.a.img['src'].split('/')[2].split('.')[0]\n",
    "    pass_or_no_pass.append(passing)\n",
    "    \n",
    "    imdb_id = movie.a['href'].split('/')[4]\n",
    "    imdb_ids.append(imdb_id)\n",
    "    \n",
    "    imdb_link = movie.a['href']\n",
    "    imdb_links.append(imdb_link)\n",
    "    \n",
    "# now start with page 1\n",
    "pages = [str(i) for i in range(1,41)]\n",
    "\n",
    "for page in pages:\n",
    "    \n",
    "    response = get(base_url + '?page=' + page)\n",
    "    \n",
    "    # repeat sleeping, print statements, and warnings\n",
    "    sleep(randint(8,15))\n",
    "\n",
    "    requests += 1\n",
    "    elapsed = time() - start\n",
    "    print(f'Request: {requests} Frequency: {round(requests/elapsed, 3)} requests/second')\n",
    "\n",
    "    \n",
    "    if response.status_code != 200:\n",
    "        warn(f'Request: {requests} Status code: {response.status_code}')\n",
    "        \n",
    "    if requests > 42:\n",
    "        warn('Number of requests greater than expected.')\n",
    "        break\n",
    "    \n",
    "    soup = BeautifulSoup(response.text, 'html.parser')\n",
    "    movies = soup.findAll('div', {'class': 'movie'})\n",
    "    \n",
    "    for movie in movies:\n",
    "        \n",
    "        year = movie.find_previous('h3').a['id'].split('-')[1]\n",
    "        years.append(int(year))\n",
    "    \n",
    "        title = movie.contents[2].text.strip()\n",
    "        movie_titles.append(title)\n",
    "    \n",
    "        test_score = movie.a.img['alt'][2]\n",
    "        test_scores.append(int(test_score))\n",
    "    \n",
    "        passing = movie.a.img['src'].split('/')[2].split('.')[0]\n",
    "        pass_or_no_pass.append(passing)\n",
    "    \n",
    "        imdb_id = movie.a['href'].split('/')[4]\n",
    "        imdb_ids.append(imdb_id)\n",
    "    \n",
    "        imdb_link = movie.a['href']\n",
    "        imdb_links.append(imdb_link)"
   ]
  },
  {
   "cell_type": "code",
   "execution_count": null,
   "metadata": {},
   "outputs": [],
   "source": [
    "# add total elapsed time for next site"
   ]
  },
  {
   "cell_type": "markdown",
   "metadata": {},
   "source": [
    "#### C. Store in pandas DataFrame"
   ]
  },
  {
   "cell_type": "code",
   "execution_count": 84,
   "metadata": {},
   "outputs": [],
   "source": [
    "bechdel_df = pd.DataFrame({'year': years, \n",
    "                           'title': movie_titles,\n",
    "                           'score': test_scores,\n",
    "                           'passing': pass_or_no_pass,\n",
    "                           'imdb_id': imdb_ids,\n",
    "                           'imdb_link': imdb_links})"
   ]
  },
  {
   "cell_type": "code",
   "execution_count": 85,
   "metadata": {},
   "outputs": [
    {
     "data": {
      "text/html": [
       "<div>\n",
       "<style scoped>\n",
       "    .dataframe tbody tr th:only-of-type {\n",
       "        vertical-align: middle;\n",
       "    }\n",
       "\n",
       "    .dataframe tbody tr th {\n",
       "        vertical-align: top;\n",
       "    }\n",
       "\n",
       "    .dataframe thead th {\n",
       "        text-align: right;\n",
       "    }\n",
       "</style>\n",
       "<table border=\"1\" class=\"dataframe\">\n",
       "  <thead>\n",
       "    <tr style=\"text-align: right;\">\n",
       "      <th></th>\n",
       "      <th>year</th>\n",
       "      <th>title</th>\n",
       "      <th>score</th>\n",
       "      <th>passing</th>\n",
       "      <th>imdb_id</th>\n",
       "      <th>imdb_link</th>\n",
       "    </tr>\n",
       "  </thead>\n",
       "  <tbody>\n",
       "    <tr>\n",
       "      <th>0</th>\n",
       "      <td>2019</td>\n",
       "      <td>Alita: Battle Angel</td>\n",
       "      <td>3</td>\n",
       "      <td>pass</td>\n",
       "      <td>tt0437086</td>\n",
       "      <td>http://us.imdb.com/title/tt0437086/</td>\n",
       "    </tr>\n",
       "    <tr>\n",
       "      <th>1</th>\n",
       "      <td>2019</td>\n",
       "      <td>American Woman</td>\n",
       "      <td>3</td>\n",
       "      <td>pass</td>\n",
       "      <td>tt9109492</td>\n",
       "      <td>http://us.imdb.com/title/tt9109492/</td>\n",
       "    </tr>\n",
       "    <tr>\n",
       "      <th>2</th>\n",
       "      <td>2019</td>\n",
       "      <td>Close</td>\n",
       "      <td>3</td>\n",
       "      <td>pass</td>\n",
       "      <td>tt5316540</td>\n",
       "      <td>http://us.imdb.com/title/tt5316540/</td>\n",
       "    </tr>\n",
       "    <tr>\n",
       "      <th>3</th>\n",
       "      <td>2019</td>\n",
       "      <td>Cold Pursuit</td>\n",
       "      <td>1</td>\n",
       "      <td>nopass</td>\n",
       "      <td>tt5719748</td>\n",
       "      <td>http://us.imdb.com/title/tt5719748/</td>\n",
       "    </tr>\n",
       "    <tr>\n",
       "      <th>4</th>\n",
       "      <td>2019</td>\n",
       "      <td>How to Train Your Dragon: The Hidden World</td>\n",
       "      <td>2</td>\n",
       "      <td>nopass</td>\n",
       "      <td>tt2386490</td>\n",
       "      <td>http://us.imdb.com/title/tt2386490/</td>\n",
       "    </tr>\n",
       "    <tr>\n",
       "      <th>5</th>\n",
       "      <td>2019</td>\n",
       "      <td>The Kid Who Would Be King</td>\n",
       "      <td>1</td>\n",
       "      <td>nopass</td>\n",
       "      <td>tt6811018</td>\n",
       "      <td>http://us.imdb.com/title/tt6811018/</td>\n",
       "    </tr>\n",
       "    <tr>\n",
       "      <th>6</th>\n",
       "      <td>2019</td>\n",
       "      <td>The Lego Movie 2: The Second Part</td>\n",
       "      <td>3</td>\n",
       "      <td>pass</td>\n",
       "      <td>tt3513498</td>\n",
       "      <td>http://us.imdb.com/title/tt3513498/</td>\n",
       "    </tr>\n",
       "    <tr>\n",
       "      <th>7</th>\n",
       "      <td>2019</td>\n",
       "      <td>Polar</td>\n",
       "      <td>2</td>\n",
       "      <td>nopass</td>\n",
       "      <td>tt4139588</td>\n",
       "      <td>http://us.imdb.com/title/tt4139588/</td>\n",
       "    </tr>\n",
       "    <tr>\n",
       "      <th>8</th>\n",
       "      <td>2019</td>\n",
       "      <td>Serenity</td>\n",
       "      <td>1</td>\n",
       "      <td>nopass</td>\n",
       "      <td>tt6476140</td>\n",
       "      <td>http://us.imdb.com/title/tt6476140/</td>\n",
       "    </tr>\n",
       "    <tr>\n",
       "      <th>9</th>\n",
       "      <td>2019</td>\n",
       "      <td>Soni</td>\n",
       "      <td>3</td>\n",
       "      <td>pass</td>\n",
       "      <td>tt6078866</td>\n",
       "      <td>http://us.imdb.com/title/tt6078866/</td>\n",
       "    </tr>\n",
       "    <tr>\n",
       "      <th>10</th>\n",
       "      <td>2019</td>\n",
       "      <td>The Wandering Earth (Liu Lang Di Qiu)</td>\n",
       "      <td>3</td>\n",
       "      <td>pass</td>\n",
       "      <td>tt7605074</td>\n",
       "      <td>http://us.imdb.com/title/tt7605074/</td>\n",
       "    </tr>\n",
       "    <tr>\n",
       "      <th>11</th>\n",
       "      <td>2019</td>\n",
       "      <td>We Are Little Zombies</td>\n",
       "      <td>2</td>\n",
       "      <td>nopass</td>\n",
       "      <td>tt9358120</td>\n",
       "      <td>http://us.imdb.com/title/tt9358120/</td>\n",
       "    </tr>\n",
       "    <tr>\n",
       "      <th>12</th>\n",
       "      <td>2018</td>\n",
       "      <td>6 Balloons</td>\n",
       "      <td>3</td>\n",
       "      <td>pass</td>\n",
       "      <td>tt6142496</td>\n",
       "      <td>http://us.imdb.com/title/tt6142496/</td>\n",
       "    </tr>\n",
       "    <tr>\n",
       "      <th>13</th>\n",
       "      <td>2018</td>\n",
       "      <td>A private war</td>\n",
       "      <td>1</td>\n",
       "      <td>nopass</td>\n",
       "      <td>tt2368254</td>\n",
       "      <td>http://us.imdb.com/title/tt2368254/</td>\n",
       "    </tr>\n",
       "    <tr>\n",
       "      <th>14</th>\n",
       "      <td>2018</td>\n",
       "      <td>A Quiet Place</td>\n",
       "      <td>1</td>\n",
       "      <td>nopass</td>\n",
       "      <td>tt6644200</td>\n",
       "      <td>http://us.imdb.com/title/tt6644200/</td>\n",
       "    </tr>\n",
       "  </tbody>\n",
       "</table>\n",
       "</div>"
      ],
      "text/plain": [
       "    year                                       title  score passing  \\\n",
       "0   2019                         Alita: Battle Angel      3    pass   \n",
       "1   2019                              American Woman      3    pass   \n",
       "2   2019                                       Close      3    pass   \n",
       "3   2019                                Cold Pursuit      1  nopass   \n",
       "4   2019  How to Train Your Dragon: The Hidden World      2  nopass   \n",
       "5   2019                   The Kid Who Would Be King      1  nopass   \n",
       "6   2019           The Lego Movie 2: The Second Part      3    pass   \n",
       "7   2019                                       Polar      2  nopass   \n",
       "8   2019                                    Serenity      1  nopass   \n",
       "9   2019                                        Soni      3    pass   \n",
       "10  2019       The Wandering Earth (Liu Lang Di Qiu)      3    pass   \n",
       "11  2019                       We Are Little Zombies      2  nopass   \n",
       "12  2018                                  6 Balloons      3    pass   \n",
       "13  2018                               A private war      1  nopass   \n",
       "14  2018                               A Quiet Place      1  nopass   \n",
       "\n",
       "      imdb_id                            imdb_link  \n",
       "0   tt0437086  http://us.imdb.com/title/tt0437086/  \n",
       "1   tt9109492  http://us.imdb.com/title/tt9109492/  \n",
       "2   tt5316540  http://us.imdb.com/title/tt5316540/  \n",
       "3   tt5719748  http://us.imdb.com/title/tt5719748/  \n",
       "4   tt2386490  http://us.imdb.com/title/tt2386490/  \n",
       "5   tt6811018  http://us.imdb.com/title/tt6811018/  \n",
       "6   tt3513498  http://us.imdb.com/title/tt3513498/  \n",
       "7   tt4139588  http://us.imdb.com/title/tt4139588/  \n",
       "8   tt6476140  http://us.imdb.com/title/tt6476140/  \n",
       "9   tt6078866  http://us.imdb.com/title/tt6078866/  \n",
       "10  tt7605074  http://us.imdb.com/title/tt7605074/  \n",
       "11  tt9358120  http://us.imdb.com/title/tt9358120/  \n",
       "12  tt6142496  http://us.imdb.com/title/tt6142496/  \n",
       "13  tt2368254  http://us.imdb.com/title/tt2368254/  \n",
       "14  tt6644200  http://us.imdb.com/title/tt6644200/  "
      ]
     },
     "execution_count": 85,
     "metadata": {},
     "output_type": "execute_result"
    }
   ],
   "source": [
    "bechdel_df.head(15)"
   ]
  },
  {
   "cell_type": "code",
   "execution_count": 86,
   "metadata": {},
   "outputs": [
    {
     "data": {
      "text/html": [
       "<div>\n",
       "<style scoped>\n",
       "    .dataframe tbody tr th:only-of-type {\n",
       "        vertical-align: middle;\n",
       "    }\n",
       "\n",
       "    .dataframe tbody tr th {\n",
       "        vertical-align: top;\n",
       "    }\n",
       "\n",
       "    .dataframe thead th {\n",
       "        text-align: right;\n",
       "    }\n",
       "</style>\n",
       "<table border=\"1\" class=\"dataframe\">\n",
       "  <thead>\n",
       "    <tr style=\"text-align: right;\">\n",
       "      <th></th>\n",
       "      <th>year</th>\n",
       "      <th>title</th>\n",
       "      <th>score</th>\n",
       "      <th>passing</th>\n",
       "      <th>imdb_id</th>\n",
       "      <th>imdb_link</th>\n",
       "    </tr>\n",
       "  </thead>\n",
       "  <tbody>\n",
       "    <tr>\n",
       "      <th>8047</th>\n",
       "      <td>1896</td>\n",
       "      <td>Une nuit terrible</td>\n",
       "      <td>0</td>\n",
       "      <td>nopass</td>\n",
       "      <td>tt0000131</td>\n",
       "      <td>http://us.imdb.com/title/tt0000131/</td>\n",
       "    </tr>\n",
       "    <tr>\n",
       "      <th>8048</th>\n",
       "      <td>1895</td>\n",
       "      <td>The Execution of Mary, Queen of Scots</td>\n",
       "      <td>0</td>\n",
       "      <td>nopass</td>\n",
       "      <td>tt0132134</td>\n",
       "      <td>http://us.imdb.com/title/tt0132134/</td>\n",
       "    </tr>\n",
       "    <tr>\n",
       "      <th>8049</th>\n",
       "      <td>1895</td>\n",
       "      <td>Tables Turned on the Gardener</td>\n",
       "      <td>0</td>\n",
       "      <td>nopass</td>\n",
       "      <td>tt0000014</td>\n",
       "      <td>http://us.imdb.com/title/tt0000014/</td>\n",
       "    </tr>\n",
       "    <tr>\n",
       "      <th>8050</th>\n",
       "      <td>1892</td>\n",
       "      <td>Pauvre Pierrot</td>\n",
       "      <td>0</td>\n",
       "      <td>nopass</td>\n",
       "      <td>tt0000003</td>\n",
       "      <td>http://us.imdb.com/title/tt0000003/</td>\n",
       "    </tr>\n",
       "    <tr>\n",
       "      <th>8051</th>\n",
       "      <td>1888</td>\n",
       "      <td>Roundhay Garden Scene</td>\n",
       "      <td>0</td>\n",
       "      <td>nopass</td>\n",
       "      <td>tt0392728</td>\n",
       "      <td>http://us.imdb.com/title/tt0392728/</td>\n",
       "    </tr>\n",
       "  </tbody>\n",
       "</table>\n",
       "</div>"
      ],
      "text/plain": [
       "      year                                  title  score passing    imdb_id  \\\n",
       "8047  1896                      Une nuit terrible      0  nopass  tt0000131   \n",
       "8048  1895  The Execution of Mary, Queen of Scots      0  nopass  tt0132134   \n",
       "8049  1895          Tables Turned on the Gardener      0  nopass  tt0000014   \n",
       "8050  1892                         Pauvre Pierrot      0  nopass  tt0000003   \n",
       "8051  1888                  Roundhay Garden Scene      0  nopass  tt0392728   \n",
       "\n",
       "                                imdb_link  \n",
       "8047  http://us.imdb.com/title/tt0000131/  \n",
       "8048  http://us.imdb.com/title/tt0132134/  \n",
       "8049  http://us.imdb.com/title/tt0000014/  \n",
       "8050  http://us.imdb.com/title/tt0000003/  \n",
       "8051  http://us.imdb.com/title/tt0392728/  "
      ]
     },
     "execution_count": 86,
     "metadata": {},
     "output_type": "execute_result"
    }
   ],
   "source": [
    "bechdel_df.tail()"
   ]
  },
  {
   "cell_type": "code",
   "execution_count": 87,
   "metadata": {},
   "outputs": [
    {
     "data": {
      "text/plain": [
       "(8052, 6)"
      ]
     },
     "execution_count": 87,
     "metadata": {},
     "output_type": "execute_result"
    }
   ],
   "source": [
    "bechdel_df.shape"
   ]
  },
  {
   "cell_type": "code",
   "execution_count": 88,
   "metadata": {},
   "outputs": [],
   "source": [
    "bechdel_df.to_csv('my_data/bechdel_movies.csv', index=False)"
   ]
  },
  {
   "cell_type": "code",
   "execution_count": null,
   "metadata": {},
   "outputs": [],
   "source": [
    "# aw man I forgot to change the passing column to binary"
   ]
  },
  {
   "cell_type": "markdown",
   "metadata": {},
   "source": [
    "#### D. Convert `passing` values to binary"
   ]
  },
  {
   "cell_type": "code",
   "execution_count": 89,
   "metadata": {},
   "outputs": [],
   "source": [
    "bechdel_df.passing.replace({'nopass': 0, 'pass': 1}, inplace=True)"
   ]
  },
  {
   "cell_type": "code",
   "execution_count": 90,
   "metadata": {},
   "outputs": [
    {
     "data": {
      "text/html": [
       "<div>\n",
       "<style scoped>\n",
       "    .dataframe tbody tr th:only-of-type {\n",
       "        vertical-align: middle;\n",
       "    }\n",
       "\n",
       "    .dataframe tbody tr th {\n",
       "        vertical-align: top;\n",
       "    }\n",
       "\n",
       "    .dataframe thead th {\n",
       "        text-align: right;\n",
       "    }\n",
       "</style>\n",
       "<table border=\"1\" class=\"dataframe\">\n",
       "  <thead>\n",
       "    <tr style=\"text-align: right;\">\n",
       "      <th></th>\n",
       "      <th>year</th>\n",
       "      <th>title</th>\n",
       "      <th>score</th>\n",
       "      <th>passing</th>\n",
       "      <th>imdb_id</th>\n",
       "      <th>imdb_link</th>\n",
       "    </tr>\n",
       "  </thead>\n",
       "  <tbody>\n",
       "    <tr>\n",
       "      <th>0</th>\n",
       "      <td>2019</td>\n",
       "      <td>Alita: Battle Angel</td>\n",
       "      <td>3</td>\n",
       "      <td>1</td>\n",
       "      <td>tt0437086</td>\n",
       "      <td>http://us.imdb.com/title/tt0437086/</td>\n",
       "    </tr>\n",
       "    <tr>\n",
       "      <th>1</th>\n",
       "      <td>2019</td>\n",
       "      <td>American Woman</td>\n",
       "      <td>3</td>\n",
       "      <td>1</td>\n",
       "      <td>tt9109492</td>\n",
       "      <td>http://us.imdb.com/title/tt9109492/</td>\n",
       "    </tr>\n",
       "    <tr>\n",
       "      <th>2</th>\n",
       "      <td>2019</td>\n",
       "      <td>Close</td>\n",
       "      <td>3</td>\n",
       "      <td>1</td>\n",
       "      <td>tt5316540</td>\n",
       "      <td>http://us.imdb.com/title/tt5316540/</td>\n",
       "    </tr>\n",
       "    <tr>\n",
       "      <th>3</th>\n",
       "      <td>2019</td>\n",
       "      <td>Cold Pursuit</td>\n",
       "      <td>1</td>\n",
       "      <td>0</td>\n",
       "      <td>tt5719748</td>\n",
       "      <td>http://us.imdb.com/title/tt5719748/</td>\n",
       "    </tr>\n",
       "    <tr>\n",
       "      <th>4</th>\n",
       "      <td>2019</td>\n",
       "      <td>How to Train Your Dragon: The Hidden World</td>\n",
       "      <td>2</td>\n",
       "      <td>0</td>\n",
       "      <td>tt2386490</td>\n",
       "      <td>http://us.imdb.com/title/tt2386490/</td>\n",
       "    </tr>\n",
       "  </tbody>\n",
       "</table>\n",
       "</div>"
      ],
      "text/plain": [
       "   year                                       title  score  passing  \\\n",
       "0  2019                         Alita: Battle Angel      3        1   \n",
       "1  2019                              American Woman      3        1   \n",
       "2  2019                                       Close      3        1   \n",
       "3  2019                                Cold Pursuit      1        0   \n",
       "4  2019  How to Train Your Dragon: The Hidden World      2        0   \n",
       "\n",
       "     imdb_id                            imdb_link  \n",
       "0  tt0437086  http://us.imdb.com/title/tt0437086/  \n",
       "1  tt9109492  http://us.imdb.com/title/tt9109492/  \n",
       "2  tt5316540  http://us.imdb.com/title/tt5316540/  \n",
       "3  tt5719748  http://us.imdb.com/title/tt5719748/  \n",
       "4  tt2386490  http://us.imdb.com/title/tt2386490/  "
      ]
     },
     "execution_count": 90,
     "metadata": {},
     "output_type": "execute_result"
    }
   ],
   "source": [
    "bechdel_df.head()"
   ]
  },
  {
   "cell_type": "markdown",
   "metadata": {},
   "source": [
    "#### E. Find and Drop Duplicate Entries"
   ]
  },
  {
   "cell_type": "code",
   "execution_count": 95,
   "metadata": {},
   "outputs": [],
   "source": [
    "dupes = bechdel_df.duplicated()"
   ]
  },
  {
   "cell_type": "code",
   "execution_count": 99,
   "metadata": {},
   "outputs": [
    {
     "name": "stdout",
     "output_type": "stream",
     "text": [
      "2316\n",
      "5220\n"
     ]
    }
   ],
   "source": [
    "for idx, status in enumerate(dupes):\n",
    "    if status == True:\n",
    "        print(idx)"
   ]
  },
  {
   "cell_type": "code",
   "execution_count": 101,
   "metadata": {},
   "outputs": [
    {
     "data": {
      "text/plain": [
       "year                                        2011\n",
       "title                     Last Call at the Oasis\n",
       "score                                          3\n",
       "passing                                        1\n",
       "imdb_id                                tt2043900\n",
       "imdb_link    http://us.imdb.com/title/tt2043900/\n",
       "Name: 2316, dtype: object"
      ]
     },
     "execution_count": 101,
     "metadata": {},
     "output_type": "execute_result"
    }
   ],
   "source": [
    "bechdel_df.iloc[2316]"
   ]
  },
  {
   "cell_type": "code",
   "execution_count": 102,
   "metadata": {},
   "outputs": [
    {
     "data": {
      "text/plain": [
       "year                                        1997\n",
       "title                                      Ayneh\n",
       "score                                          3\n",
       "passing                                        1\n",
       "imdb_id                                tt0117056\n",
       "imdb_link    http://us.imdb.com/title/tt0117056/\n",
       "Name: 5220, dtype: object"
      ]
     },
     "execution_count": 102,
     "metadata": {},
     "output_type": "execute_result"
    }
   ],
   "source": [
    "bechdel_df.iloc[5220]"
   ]
  },
  {
   "cell_type": "code",
   "execution_count": 103,
   "metadata": {},
   "outputs": [
    {
     "data": {
      "text/html": [
       "<div>\n",
       "<style scoped>\n",
       "    .dataframe tbody tr th:only-of-type {\n",
       "        vertical-align: middle;\n",
       "    }\n",
       "\n",
       "    .dataframe tbody tr th {\n",
       "        vertical-align: top;\n",
       "    }\n",
       "\n",
       "    .dataframe thead th {\n",
       "        text-align: right;\n",
       "    }\n",
       "</style>\n",
       "<table border=\"1\" class=\"dataframe\">\n",
       "  <thead>\n",
       "    <tr style=\"text-align: right;\">\n",
       "      <th></th>\n",
       "      <th>year</th>\n",
       "      <th>title</th>\n",
       "      <th>score</th>\n",
       "      <th>passing</th>\n",
       "      <th>imdb_id</th>\n",
       "      <th>imdb_link</th>\n",
       "    </tr>\n",
       "  </thead>\n",
       "  <tbody>\n",
       "    <tr>\n",
       "      <th>2315</th>\n",
       "      <td>2011</td>\n",
       "      <td>Last Call at the Oasis</td>\n",
       "      <td>3</td>\n",
       "      <td>1</td>\n",
       "      <td>tt2043900</td>\n",
       "      <td>http://us.imdb.com/title/tt2043900/</td>\n",
       "    </tr>\n",
       "    <tr>\n",
       "      <th>2316</th>\n",
       "      <td>2011</td>\n",
       "      <td>Last Call at the Oasis</td>\n",
       "      <td>3</td>\n",
       "      <td>1</td>\n",
       "      <td>tt2043900</td>\n",
       "      <td>http://us.imdb.com/title/tt2043900/</td>\n",
       "    </tr>\n",
       "  </tbody>\n",
       "</table>\n",
       "</div>"
      ],
      "text/plain": [
       "      year                   title  score  passing    imdb_id  \\\n",
       "2315  2011  Last Call at the Oasis      3        1  tt2043900   \n",
       "2316  2011  Last Call at the Oasis      3        1  tt2043900   \n",
       "\n",
       "                                imdb_link  \n",
       "2315  http://us.imdb.com/title/tt2043900/  \n",
       "2316  http://us.imdb.com/title/tt2043900/  "
      ]
     },
     "execution_count": 103,
     "metadata": {},
     "output_type": "execute_result"
    }
   ],
   "source": [
    "bechdel_df.loc[bechdel_df.imdb_id == 'tt2043900']"
   ]
  },
  {
   "cell_type": "code",
   "execution_count": 104,
   "metadata": {},
   "outputs": [
    {
     "data": {
      "text/html": [
       "<div>\n",
       "<style scoped>\n",
       "    .dataframe tbody tr th:only-of-type {\n",
       "        vertical-align: middle;\n",
       "    }\n",
       "\n",
       "    .dataframe tbody tr th {\n",
       "        vertical-align: top;\n",
       "    }\n",
       "\n",
       "    .dataframe thead th {\n",
       "        text-align: right;\n",
       "    }\n",
       "</style>\n",
       "<table border=\"1\" class=\"dataframe\">\n",
       "  <thead>\n",
       "    <tr style=\"text-align: right;\">\n",
       "      <th></th>\n",
       "      <th>year</th>\n",
       "      <th>title</th>\n",
       "      <th>score</th>\n",
       "      <th>passing</th>\n",
       "      <th>imdb_id</th>\n",
       "      <th>imdb_link</th>\n",
       "    </tr>\n",
       "  </thead>\n",
       "  <tbody>\n",
       "    <tr>\n",
       "      <th>5219</th>\n",
       "      <td>1997</td>\n",
       "      <td>Ayneh</td>\n",
       "      <td>3</td>\n",
       "      <td>1</td>\n",
       "      <td>tt0117056</td>\n",
       "      <td>http://us.imdb.com/title/tt0117056/</td>\n",
       "    </tr>\n",
       "    <tr>\n",
       "      <th>5220</th>\n",
       "      <td>1997</td>\n",
       "      <td>Ayneh</td>\n",
       "      <td>3</td>\n",
       "      <td>1</td>\n",
       "      <td>tt0117056</td>\n",
       "      <td>http://us.imdb.com/title/tt0117056/</td>\n",
       "    </tr>\n",
       "  </tbody>\n",
       "</table>\n",
       "</div>"
      ],
      "text/plain": [
       "      year  title  score  passing    imdb_id  \\\n",
       "5219  1997  Ayneh      3        1  tt0117056   \n",
       "5220  1997  Ayneh      3        1  tt0117056   \n",
       "\n",
       "                                imdb_link  \n",
       "5219  http://us.imdb.com/title/tt0117056/  \n",
       "5220  http://us.imdb.com/title/tt0117056/  "
      ]
     },
     "execution_count": 104,
     "metadata": {},
     "output_type": "execute_result"
    }
   ],
   "source": [
    "bechdel_df.loc[bechdel_df.imdb_id == 'tt0117056']"
   ]
  },
  {
   "cell_type": "code",
   "execution_count": 105,
   "metadata": {},
   "outputs": [],
   "source": [
    "bechdel_df.drop_duplicates(inplace=True)"
   ]
  },
  {
   "cell_type": "code",
   "execution_count": 106,
   "metadata": {},
   "outputs": [
    {
     "data": {
      "text/plain": [
       "(8050, 6)"
      ]
     },
     "execution_count": 106,
     "metadata": {},
     "output_type": "execute_result"
    }
   ],
   "source": [
    "bechdel_df.shape"
   ]
  },
  {
   "cell_type": "code",
   "execution_count": 107,
   "metadata": {},
   "outputs": [
    {
     "data": {
      "text/plain": [
       "0"
      ]
     },
     "execution_count": 107,
     "metadata": {},
     "output_type": "execute_result"
    }
   ],
   "source": [
    "bechdel_df.duplicated().sum()"
   ]
  },
  {
   "cell_type": "markdown",
   "metadata": {},
   "source": [
    "#### F. Save to `.csv` file"
   ]
  },
  {
   "cell_type": "code",
   "execution_count": 108,
   "metadata": {},
   "outputs": [],
   "source": [
    "bechdel_df.to_csv('my_data/bechdel_test_movies.csv', index=False)"
   ]
  },
  {
   "cell_type": "markdown",
   "metadata": {},
   "source": [
    "## II. IMDB "
   ]
  },
  {
   "cell_type": "code",
   "execution_count": 2,
   "metadata": {},
   "outputs": [
    {
     "data": {
      "text/html": [
       "<div>\n",
       "<style scoped>\n",
       "    .dataframe tbody tr th:only-of-type {\n",
       "        vertical-align: middle;\n",
       "    }\n",
       "\n",
       "    .dataframe tbody tr th {\n",
       "        vertical-align: top;\n",
       "    }\n",
       "\n",
       "    .dataframe thead th {\n",
       "        text-align: right;\n",
       "    }\n",
       "</style>\n",
       "<table border=\"1\" class=\"dataframe\">\n",
       "  <thead>\n",
       "    <tr style=\"text-align: right;\">\n",
       "      <th></th>\n",
       "      <th>year</th>\n",
       "      <th>title</th>\n",
       "      <th>score</th>\n",
       "      <th>passing</th>\n",
       "      <th>imdb_id</th>\n",
       "      <th>imdb_link</th>\n",
       "    </tr>\n",
       "  </thead>\n",
       "  <tbody>\n",
       "    <tr>\n",
       "      <th>0</th>\n",
       "      <td>2019</td>\n",
       "      <td>Alita: Battle Angel</td>\n",
       "      <td>3</td>\n",
       "      <td>1</td>\n",
       "      <td>tt0437086</td>\n",
       "      <td>http://us.imdb.com/title/tt0437086/</td>\n",
       "    </tr>\n",
       "    <tr>\n",
       "      <th>1</th>\n",
       "      <td>2019</td>\n",
       "      <td>American Woman</td>\n",
       "      <td>3</td>\n",
       "      <td>1</td>\n",
       "      <td>tt9109492</td>\n",
       "      <td>http://us.imdb.com/title/tt9109492/</td>\n",
       "    </tr>\n",
       "    <tr>\n",
       "      <th>2</th>\n",
       "      <td>2019</td>\n",
       "      <td>Close</td>\n",
       "      <td>3</td>\n",
       "      <td>1</td>\n",
       "      <td>tt5316540</td>\n",
       "      <td>http://us.imdb.com/title/tt5316540/</td>\n",
       "    </tr>\n",
       "    <tr>\n",
       "      <th>3</th>\n",
       "      <td>2019</td>\n",
       "      <td>Cold Pursuit</td>\n",
       "      <td>1</td>\n",
       "      <td>0</td>\n",
       "      <td>tt5719748</td>\n",
       "      <td>http://us.imdb.com/title/tt5719748/</td>\n",
       "    </tr>\n",
       "    <tr>\n",
       "      <th>4</th>\n",
       "      <td>2019</td>\n",
       "      <td>How to Train Your Dragon: The Hidden World</td>\n",
       "      <td>2</td>\n",
       "      <td>0</td>\n",
       "      <td>tt2386490</td>\n",
       "      <td>http://us.imdb.com/title/tt2386490/</td>\n",
       "    </tr>\n",
       "  </tbody>\n",
       "</table>\n",
       "</div>"
      ],
      "text/plain": [
       "   year                                       title  score  passing  \\\n",
       "0  2019                         Alita: Battle Angel      3        1   \n",
       "1  2019                              American Woman      3        1   \n",
       "2  2019                                       Close      3        1   \n",
       "3  2019                                Cold Pursuit      1        0   \n",
       "4  2019  How to Train Your Dragon: The Hidden World      2        0   \n",
       "\n",
       "     imdb_id                            imdb_link  \n",
       "0  tt0437086  http://us.imdb.com/title/tt0437086/  \n",
       "1  tt9109492  http://us.imdb.com/title/tt9109492/  \n",
       "2  tt5316540  http://us.imdb.com/title/tt5316540/  \n",
       "3  tt5719748  http://us.imdb.com/title/tt5719748/  \n",
       "4  tt2386490  http://us.imdb.com/title/tt2386490/  "
      ]
     },
     "execution_count": 2,
     "metadata": {},
     "output_type": "execute_result"
    }
   ],
   "source": [
    "df = pd.read_csv('my_data/bechdel_test_movies.csv')\n",
    "df.head()"
   ]
  },
  {
   "cell_type": "markdown",
   "metadata": {},
   "source": [
    "#### A. Grab attributes from one movie: Hurt Locker"
   ]
  },
  {
   "cell_type": "code",
   "execution_count": 5,
   "metadata": {},
   "outputs": [
    {
     "data": {
      "text/html": [
       "<div>\n",
       "<style scoped>\n",
       "    .dataframe tbody tr th:only-of-type {\n",
       "        vertical-align: middle;\n",
       "    }\n",
       "\n",
       "    .dataframe tbody tr th {\n",
       "        vertical-align: top;\n",
       "    }\n",
       "\n",
       "    .dataframe thead th {\n",
       "        text-align: right;\n",
       "    }\n",
       "</style>\n",
       "<table border=\"1\" class=\"dataframe\">\n",
       "  <thead>\n",
       "    <tr style=\"text-align: right;\">\n",
       "      <th></th>\n",
       "      <th>year</th>\n",
       "      <th>title</th>\n",
       "      <th>score</th>\n",
       "      <th>passing</th>\n",
       "      <th>imdb_id</th>\n",
       "      <th>imdb_link</th>\n",
       "    </tr>\n",
       "  </thead>\n",
       "  <tbody>\n",
       "    <tr>\n",
       "      <th>3275</th>\n",
       "      <td>2008</td>\n",
       "      <td>The Hurt Locker</td>\n",
       "      <td>1</td>\n",
       "      <td>0</td>\n",
       "      <td>tt0887912</td>\n",
       "      <td>http://us.imdb.com/title/tt0887912/</td>\n",
       "    </tr>\n",
       "  </tbody>\n",
       "</table>\n",
       "</div>"
      ],
      "text/plain": [
       "      year            title  score  passing    imdb_id  \\\n",
       "3275  2008  The Hurt Locker      1        0  tt0887912   \n",
       "\n",
       "                                imdb_link  \n",
       "3275  http://us.imdb.com/title/tt0887912/  "
      ]
     },
     "execution_count": 5,
     "metadata": {},
     "output_type": "execute_result"
    }
   ],
   "source": [
    "df.loc[df.title == 'The Hurt Locker']"
   ]
  },
  {
   "cell_type": "code",
   "execution_count": 6,
   "metadata": {},
   "outputs": [],
   "source": [
    "from datetime import datetime"
   ]
  },
  {
   "cell_type": "code",
   "execution_count": 8,
   "metadata": {},
   "outputs": [
    {
     "name": "stdout",
     "output_type": "stream",
     "text": [
      "0:00:05.002150\n"
     ]
    }
   ],
   "source": [
    "start = datetime.now()\n",
    "sleep(5)\n",
    "elapsed = datetime.now() - start\n",
    "print(elapsed)"
   ]
  },
  {
   "cell_type": "code",
   "execution_count": 10,
   "metadata": {},
   "outputs": [],
   "source": [
    "test_url = df.imdb_link.iloc[3275]\n",
    "response = get(test_url)\n",
    "soup = BeautifulSoup(response.text, 'html.parser')    "
   ]
  },
  {
   "cell_type": "code",
   "execution_count": 11,
   "metadata": {},
   "outputs": [
    {
     "data": {
      "text/plain": [
       "[<div class=\"main\" id=\"main_top\">\n",
       " <div class=\"title-overview\">\n",
       " <script>\n",
       "     if ('csm' in window) {\n",
       "       csm.measure('csm_TitleOverviewWidget_started');\n",
       "     }\n",
       "   </script>\n",
       " <div class=\"heroic-overview\" id=\"title-overview-widget\">\n",
       " <div class=\"vital\">\n",
       " <div class=\"subnav\" id=\"quicklinksBar\">\n",
       " <div id=\"quicklinksMainSection\">\n",
       " <a class=\"quicklink\" href=\"/title/tt0887912/fullcredits?ref_=tt_ql_1\">FULL CAST AND CREW</a> <span class=\"ghost\">|</span>\n",
       " <a class=\"quicklink\" href=\"/title/tt0887912/trivia?ref_=tt_ql_2\">TRIVIA</a> <span class=\"ghost\">|</span>\n",
       " <a class=\"quicklink\" href=\"/title/tt0887912/reviews?ref_=tt_ql_3\">USER REVIEWS</a> <span class=\"ghost\">|</span>\n",
       " <a class=\"quicklink\" href=\"https://pro.imdb.com/title/tt0887912?rf=cons_tt_contact&amp;ref_=cons_tt_contact\">IMDbPro</a>\n",
       " <span class=\"ghost\">|</span>\n",
       " <span class=\"show_more quicklink\">\n",
       "             MORE<span class=\"titleOverviewSprite quicklinksArrowUp\"></span>\n",
       " </span>\n",
       " <span class=\"show_less quicklink\" style=\"display:none\">\n",
       "            LESS<span class=\"titleOverviewSprite quicklinksArrowDown\"></span>\n",
       " </span>\n",
       " </div>\n",
       " <span id=\"title-social-sharing-widget\"></span>\n",
       " <div id=\"share-checkin\">\n",
       " <div class=\"add_to_checkins\" data-const=\"tt0887912\" data-lcn=\"title-maindetails\">\n",
       " <span class=\"btn2_wrapper\"><a class=\"btn2 large btn2_text_on disabled checkins_action_btn\" onclick=\"\"><span class=\"btn2_glyph\">0</span><span class=\"btn2_text\">Check in</span></a></span> <div class=\"popup checkin-dialog\">\n",
       " <a class=\"dialog-close-button\">X</a>\n",
       " <span class=\"title\">I'm Watching This!</span>\n",
       " <div class=\"body\">\n",
       " <div class=\"info\">Keep track of everything you watch; tell your friends.\n",
       "             </div>\n",
       " <div class=\"small message_box\">\n",
       " <div class=\"hidden error\"><h2><div class=\"checkin-error\">Error</div></h2> Please try again!</div>\n",
       " <div class=\"hidden success\"><h2><div class=\"checkin-success\">Added to Your Check-Ins.</div></h2> <a href=\"/list/checkins\">View</a></div>\n",
       " </div>\n",
       " <textarea data-msg=\"Enter a comment...\"></textarea>\n",
       " <div class=\"share\">\n",
       " <button class=\"checkin-button\"><span>Check in</span></button>\n",
       " <!--\n",
       "                     Check-ins are more fun when<br>\n",
       "                     you <a href=\"/register/sharing\">enable Facebook sharing</a>!\n",
       " -->\n",
       " </div>\n",
       " </div>\n",
       " </div>\n",
       " <input name=\"49e6c\" type=\"hidden\" value=\"da29\"/>\n",
       " </div>\n",
       " </div>\n",
       " <div class=\"quicklinkSection\" id=\"full_subnav\" style=\"display:none\">\n",
       " <div class=\"quicklinkSectionColumn\">\n",
       " <div class=\"quicklinkGroup\">\n",
       " <div class=\"quicklinkSectionHeader\">DETAILS</div>\n",
       " <div class=\"quicklinkSectionItem\">\n",
       " <a class=\"quicklink\" href=\"/title/tt0887912/fullcredits?ref_=tt_ql_dt_1\">Full Cast and Crew</a> </div>\n",
       " <div class=\"quicklinkSectionItem\">\n",
       " <a class=\"quicklink\" href=\"/title/tt0887912/releaseinfo?ref_=tt_ql_dt_2\">Release Dates</a> </div>\n",
       " <div class=\"quicklinkSectionItem\">\n",
       " <a class=\"quicklink quicklinkGray\" href=\"/title/tt0887912/officialsites?ref_=tt_ql_dt_3\">Official Sites</a> </div>\n",
       " <div class=\"quicklinkSectionItem\">\n",
       " <a class=\"quicklink\" href=\"/title/tt0887912/companycredits?ref_=tt_ql_dt_4\">Company Credits</a> </div>\n",
       " <div class=\"quicklinkSectionItem\">\n",
       " <a class=\"quicklink\" href=\"/title/tt0887912/locations?ref_=tt_ql_dt_5\">Filming &amp; Production</a> </div>\n",
       " <div class=\"quicklinkSectionItem\">\n",
       " <a class=\"quicklink\" href=\"/title/tt0887912/technical?ref_=tt_ql_dt_6\">Technical Specs</a> </div>\n",
       " </div>\n",
       " </div>\n",
       " <div class=\"quicklinkSectionColumn\">\n",
       " <div class=\"quicklinkGroup\">\n",
       " <div class=\"quicklinkSectionHeader\">STORYLINE</div>\n",
       " <div class=\"quicklinkSectionItem\">\n",
       " <a class=\"quicklink\" href=\"/title/tt0887912/taglines?ref_=tt_ql_stry_1\">Taglines</a> </div>\n",
       " <div class=\"quicklinkSectionItem\">\n",
       " <a class=\"quicklink\" href=\"/title/tt0887912/plotsummary?ref_=tt_ql_stry_2\">Plot Summary</a> </div>\n",
       " <div class=\"quicklinkSectionItem\">\n",
       " <a class=\"quicklink\" href=\"/title/tt0887912/synopsis?ref_=tt_ql_stry_3\">Synopsis</a> </div>\n",
       " <div class=\"quicklinkSectionItem\">\n",
       " <a class=\"quicklink\" href=\"/title/tt0887912/keywords?ref_=tt_ql_stry_4\">Plot Keywords</a> </div>\n",
       " <div class=\"quicklinkSectionItem\">\n",
       " <a class=\"quicklink\" href=\"/title/tt0887912/parentalguide?ref_=tt_ql_stry_5\">Parents Guide</a> </div>\n",
       " </div>\n",
       " <div class=\"quicklinkGroup\">\n",
       " <div class=\"quicklinkSectionHeader\">RELATED ITEMS</div>\n",
       " <div class=\"quicklinkSectionItem\">\n",
       " <a class=\"quicklink\" href=\"/title/tt0887912/news?ref_=tt_ql_rel_1\">News</a> </div>\n",
       " <div class=\"quicklinkSectionItem\">\n",
       " <a class=\"quicklink\" href=\"/title/tt0887912/externalsites?ref_=tt_ql_rel_2\">External Sites</a> </div>\n",
       " </div>\n",
       " </div>\n",
       " <div class=\"quicklinkSectionColumn\">\n",
       " <div class=\"quicklinkGroup\">\n",
       " <div class=\"quicklinkSectionHeader\">OPINION</div>\n",
       " <div class=\"quicklinkSectionItem\">\n",
       " <a class=\"quicklink\" href=\"/title/tt0887912/awards?ref_=tt_ql_op_1\">Awards</a> </div>\n",
       " <div class=\"quicklinkSectionItem\">\n",
       " <a class=\"quicklink\" href=\"/title/tt0887912/faq?ref_=tt_ql_op_2\">FAQ</a> </div>\n",
       " <div class=\"quicklinkSectionItem\">\n",
       " <a class=\"quicklink\" href=\"/title/tt0887912/reviews?ref_=tt_ql_op_3\">User Reviews</a> </div>\n",
       " <div class=\"quicklinkSectionItem\">\n",
       " <a class=\"quicklink\" href=\"/title/tt0887912/ratings?ref_=tt_ql_op_4\">User Ratings</a> </div>\n",
       " <div class=\"quicklinkSectionItem\">\n",
       " <a class=\"quicklink\" href=\"/title/tt0887912/externalreviews?ref_=tt_ql_op_5\">External Reviews</a> </div>\n",
       " <div class=\"quicklinkSectionItem\">\n",
       " <a class=\"quicklink\" href=\"/title/tt0887912/criticreviews?ref_=tt_ql_op_6\">Metacritic Reviews</a> </div>\n",
       " </div>\n",
       " <div class=\"quicklinkGroup\">\n",
       " <div class=\"quicklinkSectionHeader\">PHOTO &amp; VIDEO</div>\n",
       " <div class=\"quicklinkSectionItem\">\n",
       " <a class=\"quicklink\" href=\"/title/tt0887912/mediaindex?ref_=tt_ql_pv_1\">Photo Gallery</a> </div>\n",
       " <div class=\"quicklinkSectionItem\">\n",
       " <a class=\"quicklink\" href=\"/title/tt0887912/videogallery?ref_=tt_ql_pv_2\">Trailers and Videos</a> </div>\n",
       " </div>\n",
       " </div>\n",
       " <div class=\"quicklinkSectionColumn\">\n",
       " <div class=\"quicklinkGroup\">\n",
       " <div class=\"quicklinkSectionHeader\">DID YOU KNOW?</div>\n",
       " <div class=\"quicklinkSectionItem\">\n",
       " <a class=\"quicklink\" href=\"/title/tt0887912/trivia?ref_=tt_ql_trv_1\">Trivia</a> </div>\n",
       " <div class=\"quicklinkSectionItem\">\n",
       " <a class=\"quicklink\" href=\"/title/tt0887912/goofs?ref_=tt_ql_trv_2\">Goofs</a> </div>\n",
       " <div class=\"quicklinkSectionItem\">\n",
       " <a class=\"quicklink\" href=\"/title/tt0887912/crazycredits?ref_=tt_ql_trv_3\">Crazy Credits</a> </div>\n",
       " <div class=\"quicklinkSectionItem\">\n",
       " <a class=\"quicklink\" href=\"/title/tt0887912/quotes?ref_=tt_ql_trv_4\">Quotes</a> </div>\n",
       " <div class=\"quicklinkSectionItem\">\n",
       " <a class=\"quicklink quicklinkGray\" href=\"/title/tt0887912/alternateversions?ref_=tt_ql_trv_5\">Alternate Versions</a> </div>\n",
       " <div class=\"quicklinkSectionItem\">\n",
       " <a class=\"quicklink\" href=\"/title/tt0887912/movieconnections?ref_=tt_ql_trv_6\">Connections</a> </div>\n",
       " <div class=\"quicklinkSectionItem\">\n",
       " <a class=\"quicklink\" href=\"/title/tt0887912/soundtrack?ref_=tt_ql_trv_7\">Soundtracks</a> </div>\n",
       " </div>\n",
       " </div>\n",
       " </div>\n",
       " </div>\n",
       " <div class=\"title_block\">\n",
       " <div class=\"title_bar_wrapper\">\n",
       " <div class=\"ratings_wrapper\">\n",
       " <div class=\"imdbRating\" itemprop=\"aggregateRating\" itemscope=\"\" itemtype=\"http://schema.org/AggregateRating\">\n",
       " <div class=\"ratingValue\">\n",
       " <strong title=\"7.6 based on 387,749 user ratings\"><span itemprop=\"ratingValue\">7.6</span></strong><span class=\"grey\">/</span><span class=\"grey\" itemprop=\"bestRating\">10</span> </div>\n",
       " <a href=\"/title/tt0887912/ratings?ref_=tt_ov_rt\"><span class=\"small\" itemprop=\"ratingCount\">387,749</span></a>\n",
       " <div class=\"hiddenImportant\">\n",
       " <span itemprop=\"reviewCount\">913 user</span>\n",
       " <span itemprop=\"reviewCount\">393 critic</span>\n",
       " </div>\n",
       " </div>\n",
       " <div class=\"star-rating-widget\" data-auth=\"\" data-rating=\"0\" data-rating-next-share-time=\"2000-01-01T00:00:00.000Z\" data-rating-share-enabled=\"false\" data-rating-share-treatment=\"C\" data-tconst=\"tt0887912\" data-title=\"The Hurt Locker\" data-tracking-tag=\"title-maindetails\" data-user=\"\" id=\"star-rating-widget\">\n",
       " <div class=\"star-rating-button\">\n",
       " <button>\n",
       " <span class=\"star-rating-star no-rating\"></span>\n",
       " <span class=\"star-rating-text\">Rate This</span>\n",
       " </button>\n",
       " </div>\n",
       " </div>\n",
       " </div>\n",
       " <div class=\"titleBar\">\n",
       " <div class=\"primary_ribbon\">\n",
       " <div class=\"ribbonize\" data-caller-name=\"title\" data-tconst=\"tt0887912\"></div>\n",
       " <div class=\"wlb_dropdown_btn\" data-caller-name=\"title\" data-size=\"large\" data-tconst=\"tt0887912\" data-type=\"primary\"></div>\n",
       " <div class=\"wlb_dropdown_list\" style=\"display:none\"></div>\n",
       " </div>\n",
       " <div class=\"title_wrapper\">\n",
       " <h1 class=\"\">The Hurt Locker <span id=\"titleYear\">(<a href=\"/year/2008/?ref_=tt_ov_inf\">2008</a>)</span> </h1>\n",
       " <div class=\"subtext\">\n",
       "                     R\n",
       "     <span class=\"ghost\">|</span> <time datetime=\"PT131M\">\n",
       "                         2h 11min\n",
       "                     </time>\n",
       " <span class=\"ghost\">|</span>\n",
       " <a href=\"/search/title?genres=drama&amp;explore=title_type,genres&amp;ref_=tt_ov_inf\">Drama</a>, \n",
       " <a href=\"/search/title?genres=thriller&amp;explore=title_type,genres&amp;ref_=tt_ov_inf\">Thriller</a>, \n",
       " <a href=\"/search/title?genres=war&amp;explore=title_type,genres&amp;ref_=tt_ov_inf\">War</a>\n",
       " <span class=\"ghost\">|</span>\n",
       " <a href=\"/title/tt0887912/releaseinfo?ref_=tt_ov_inf\" title=\"See more release dates\">31 July 2009 (USA)\n",
       " </a> </div>\n",
       " </div>\n",
       " </div>\n",
       " </div>\n",
       " </div>\n",
       " <div class=\"slate_wrapper\">\n",
       " <div class=\"poster\">\n",
       " <a href=\"/title/tt0887912/mediaviewer/rm338000896?ref_=tt_ov_i\"> <img alt=\"The Hurt Locker Poster\" src=\"https://m.media-amazon.com/images/M/MV5BYWYxZjU2MmQtMmMzYi00ZWUwLTg2ZWQtMDExZTVlYjM3ZWM1XkEyXkFqcGdeQXVyNzkwMjQ5NzM@._V1_UX182_CR0,0,182,268_AL_.jpg\" title=\"The Hurt Locker Poster\"/>\n",
       " </a> </div>\n",
       " <div class=\"slate\">\n",
       " <a class=\"slate_button prevent-ad-overlay video-modal\" data-context=\"imdb\" data-pixels=\"\" data-refsuffix=\"tt_ov_vi\" data-tconst=\"tt0887912\" data-type=\"recommends\" data-video=\"vi2755855129\" href=\"/video/imdb/vi2755855129?playlistId=tt0887912&amp;ref_=tt_ov_vi\"> <img alt=\"Trailer\" src=\"https://m.media-amazon.com/images/M/MV5BMTcyODYzODQyNl5BMl5BanBnXkFtZTcwNDM4Mzg0Mg@@._V1_CR0,44,480,270_AL_UX477_CR0,0,477,268_AL_.jpg\" title=\"Trailer\"/>\n",
       " <div class=\"slate_fade_top\"></div>\n",
       " <div class=\"slate_fade_bottom\"></div>\n",
       " </a> <div class=\"caption\">\n",
       " <div style=\"float: left;\">2:31 <span class=\"ghost\">|</span> Trailer</div>\n",
       " <div style=\"float: right;\"> <a href=\"/title/tt0887912/videogallery?ref_=tt_ov_vi_sm\">3 VIDEOS</a>\n",
       " <span class=\"ghost\">|</span> <a href=\"/title/tt0887912/mediaindex?ref_=tt_ov_mi_sm\">62 IMAGES</a>\n",
       " </div>\n",
       " <div style=\"clear: both;\"></div>\n",
       " </div>\n",
       " </div>\n",
       " </div>\n",
       " </div>\n",
       " <a name=\"slot_center-2\"></a>\n",
       " <script type=\"text/javascript\">if(typeof uet === 'function'){uet('bb','TitleWatchBar',{wb:1});}</script>\n",
       " <span class=\"ab_widget\">\n",
       " <div class=\"watchbar2 article\">\n",
       " <div class=\"showtime full-table \">\n",
       " <div class=\"winner-option watch-option \" data-href=\"/offsite/?pf_rd_m=A2FGELUUNOQJNL&amp;pf_rd_p=11468689-c6cf-4171-acbb-3b9e94cd223b&amp;pf_rd_r=RPMXA7QCYAMGEB5TX9J1&amp;pf_rd_s=center-2&amp;pf_rd_t=15021&amp;pf_rd_i=tt0887912&amp;page-action=watch-aiv&amp;token=BCYlQOyPOZx88g5sMoXhyh5jskGbA1P4hVITgXXr9j929-A4It8E3EdeZlxwXFAvzjZWrdq0bFJ8%0D%0AVVIVZtXlk9huEB_EQ1anzcPqqfxgLtLWm63D3HfVWKIRPufgdAAKrR3AdRw_K41C5P-7tOhrzBn-%0D%0Ai0rSqgjTB97MJAXP6RjBt7Ts1hVxQ4W8e30WC_xCcwEGGAE-CnoPiNTlWfN95hHJPLd0T_ay4lne%0D%0AgkMjwYBYjWOWtvwl4-McUuPIMchKV1FvsKF2LSsU2WTV7Esak3BRlw%0D%0A&amp;ref_=tt_wbr_aiv\" data-offsite=\"1\" title=\"Watch Now\">\n",
       " <div class=\"watch-icon winner provider amazon-instant-video\" id=\"watchbar2\">\n",
       " </div>\n",
       " <div class=\"info table-cell\">\n",
       " <h2>\n",
       " <a class=\"segment-link \" href=\"/offsite/?pf_rd_m=A2FGELUUNOQJNL&amp;pf_rd_p=11468689-c6cf-4171-acbb-3b9e94cd223b&amp;pf_rd_r=RPMXA7QCYAMGEB5TX9J1&amp;pf_rd_s=center-2&amp;pf_rd_t=15021&amp;pf_rd_i=tt0887912&amp;page-action=watch-aiv&amp;token=BCYlQOyPOZx88g5sMoXhyh5jskGbA1P4hVITgXXr9j929-A4It8E3EdeZlxwXFAvzjZWrdq0bFJ8%0D%0AVVIVZtXlk9huEB_EQ1anzcPqqfxgLtLWm63D3HfVWKIRPufgdAAKrR3AdRw_K41C5P-7tOhrzBn-%0D%0Ai0rSqgjTB97MJAXP6RjBt7Ts1hVxQ4W8e30WC_xCcwEGGAE-CnoPiNTlWfN95hHJPLd0T_ay4lne%0D%0AgkMjwYBYjWOWtvwl4-McUuPIMchKV1FvsKF2LSsU2WTV7Esak3BRlw%0D%0A&amp;ref_=tt_wbr_aiv\" target=\"_blank\"> Watch Now\n",
       " </a> </h2>\n",
       " <p>\n",
       " \n",
       "             From $3.99 (HD) on\n",
       " Prime Video                </p>\n",
       " </div>\n",
       " </div>\n",
       " <script type=\"text/javascript\">\n",
       "         var xmlhttp = new XMLHttpRequest();\n",
       "         xmlhttp.open(\"POST\",\"/tr/\",true);\n",
       "         xmlhttp.setRequestHeader(\"Content-type\",\"application/x-www-form-urlencoded\");\n",
       "         xmlhttp.send(\"ref_=tt_wbr_aiv&pt=title&spt=main&pageAction=showing-aiv&ht=clickstreamIgnore\");\n",
       "     </script>\n",
       " <div class=\"watch-option secondary-watch-option \" data-href=\"/offsite/?pf_rd_m=A2FGELUUNOQJNL&amp;pf_rd_p=11468689-c6cf-4171-acbb-3b9e94cd223b&amp;pf_rd_r=RPMXA7QCYAMGEB5TX9J1&amp;pf_rd_s=center-2&amp;pf_rd_t=15021&amp;pf_rd_i=tt0887912&amp;page-action=watch-amazon&amp;token=BCYqP5eAxld8KV6hyKmxlIqmWp3XR4MYc3VihMbiXKUC9Bmb3UqaO1JreD_f0IvFpdqFywthrOoH%0D%0AvFr7sMtX_gB_Fs9bPhh4o1uvAOe708bYZfIusWGXeWHejJxs-1SQsal6bqTDSGVOoEMLraVadhpD%0D%0AR8gsaqIxACI2A9hkMVBETQwPQfwrXF55KxRltoyW2tzsUu825lp9VFJyUT33kOgbhVi6-hphyZeT%0D%0AsCpv0pI1PsWXVeCWWDy7xaTOcye5r283%0D%0A&amp;ref_=tt_wbr_amazon\" data-optiontype=\"physical\" title=\"On Disc\">\n",
       " <div class=\"watch-icon physical\"></div>\n",
       " <div class=\"secondary-info\">ON DISC</div>\n",
       " </div>\n",
       " </div>\n",
       " </div>\n",
       " </span>\n",
       " <script type=\"text/javascript\">\n",
       "                 if(typeof uex === 'function'){uex('ld','TitleWatchBar',{wb:1});}\n",
       "             </script>\n",
       " <div class=\"plot_summary_wrapper\">\n",
       " <script>\n",
       "     if ('csm' in window) {\n",
       "       csm.measure('csm_TitlePlotAndCreditSummaryWidget_started');\n",
       "     }\n",
       "   </script>\n",
       " <div class=\"plot_summary \">\n",
       " <div class=\"summary_text\">\n",
       "                     During the Iraq War, a Sergeant recently assigned to an army bomb squad is put at odds with his squad mates due to his maverick way of handling his work.\n",
       "             </div>\n",
       " <div class=\"credit_summary_item\">\n",
       " <h4 class=\"inline\">Director:</h4>\n",
       " <a href=\"/name/nm0000941/?ref_=tt_ov_dr\">Kathryn Bigelow</a> </div>\n",
       " <div class=\"credit_summary_item\">\n",
       " <h4 class=\"inline\">Writer:</h4>\n",
       " <a href=\"/name/nm1676793/?ref_=tt_ov_wr\">Mark Boal</a> </div>\n",
       " <div class=\"credit_summary_item\">\n",
       " <h4 class=\"inline\">Stars:</h4>\n",
       " <a href=\"/name/nm0719637/?ref_=tt_ov_st_sm\">Jeremy Renner</a>, <a href=\"/name/nm1107001/?ref_=tt_ov_st_sm\">Anthony Mackie</a>, <a href=\"/name/nm1310016/?ref_=tt_ov_st_sm\">Brian Geraghty</a> <span class=\"ghost\">|</span>\n",
       " <a href=\"fullcredits/?ref_=tt_ov_st_sm\">See full cast &amp; crew</a> »\n",
       "     </div>\n",
       " </div>\n",
       " <script>\n",
       "     if ('csm' in window) {\n",
       "       csm.measure('csm_TitlePlotAndCreditSummaryWidget_finished');\n",
       "     }\n",
       "   </script>\n",
       " <!--To display Pro Title CTA above the watchlist for in-development titles -->\n",
       " <div class=\"wlb-title-main-details\">\n",
       " <span class=\"full-wl-button ribbonize\" data-recordmetrics=\"true\" data-tconst=\"tt0887912\"></span>\n",
       " </div>\n",
       " <script>\n",
       "     if ('csm' in window) {\n",
       "       csm.measure('csm_TitleReviewsAndPopularityWidget_started');\n",
       "     }\n",
       "   </script>\n",
       " <div class=\"titleReviewBar \">\n",
       " <div class=\"titleReviewBarItem\">\n",
       " <a href=\"criticreviews?ref_=tt_ov_rt\"> <div class=\"metacriticScore score_favorable titleReviewBarSubItem\">\n",
       " <span>94</span>\n",
       " </div></a> <div class=\"titleReviewBarSubItem\">\n",
       " <div><a href=\"criticreviews?ref_=tt_ov_rt\">\n",
       " Metascore\n",
       " </a> </div>\n",
       " <div><span class=\"subText\"> \n",
       "                From <a href=\"http://www.metacritic.com\" target=\"_blank\">metacritic.com</a>\n",
       " </span>\n",
       " </div>\n",
       " </div>\n",
       " </div>\n",
       " <div class=\"divider\"></div>\n",
       " <div class=\"titleReviewBarItem titleReviewbarItemBorder\">\n",
       " <div>\n",
       "         Reviews\n",
       "         </div>\n",
       " <div>\n",
       " <span class=\"subText\">\n",
       " <a href=\"reviews?ref_=tt_ov_rt\">913 user</a>\n",
       " <span class=\"ghostText\">|</span>\n",
       " <a href=\"externalreviews?ref_=tt_ov_rt\">393 critic</a>\n",
       " </span>\n",
       " </div>\n",
       " </div>\n",
       " <div class=\"divider\"></div>\n",
       " <div class=\"titleReviewBarItem\">\n",
       " <div class=\"titleOverviewSprite popularityTrendUp\"></div>\n",
       " <div class=\"titleReviewBarSubItem\">\n",
       " <div>\n",
       "             Popularity\n",
       "             </div>\n",
       " <div>\n",
       " <span class=\"subText\">\n",
       "                     642\n",
       "       (<span class=\"titleOverviewSprite popularityImageUp\"></span> <span class=\"popularityUpOrFlat\">480</span>)\n",
       "                 </span>\n",
       " </div>\n",
       " </div>\n",
       " </div>\n",
       " </div>\n",
       " <script>\n",
       "     if ('csm' in window) {\n",
       "       csm.measure('csm_TitleReviewsAndPopularityWidget_finished');\n",
       "     }\n",
       "   </script>\n",
       " </div>\n",
       " <!--To display Pro Title CTA below the review bar for completed titles -->\n",
       " <div class=\"pro_logo_main_title\">\n",
       " <div class=\"pro_title_link_with_separator\" id=\"title_completed_pro_link\">\n",
       " <a class=\"pro_title_href\" href=\"https://pro.imdb.com/title/tt0887912?rf=cons_tt_atf&amp;ref_=cons_tt_atf\"> <img class=\"pro_logo\" src=\"https://m.media-amazon.com/images/G/01/imdb/IMDbConsumerSiteProTitleViews/images/logo/pro_logo_dark-3176609149._CB455053166_.png\"/>\n",
       " <span class=\"pro_title_link_text\">\n",
       " View production, box office, &amp; company info\n",
       " </span>\n",
       " <img class=\"pro_link_icon\" src=\"https://m.media-amazon.com/images/G/01/imdb/IMDbConsumerSiteProTitleViews/images/icons/link_2x-1783866327._CB454438608_.png\"/>\n",
       " </a> </div>\n",
       " </div>\n",
       " </div>\n",
       " <script>\n",
       "     if ('csm' in window) {\n",
       "       csm.measure('csm_TitleOverviewWidget_finished');\n",
       "     }\n",
       "   </script>\n",
       " </div>\n",
       " <script>\n",
       "     if (typeof uet == 'function') {\n",
       "       uet(\"af\");\n",
       "     }\n",
       " </script>\n",
       " <script>\n",
       "     if ('csm' in window) {\n",
       "       csm.measure('csm_atf_main');\n",
       "     }\n",
       "   </script>\n",
       " </div>]"
      ]
     },
     "execution_count": 11,
     "metadata": {},
     "output_type": "execute_result"
    }
   ],
   "source": [
    "soup.findAll('div', {'class': 'main', 'id': 'main_top'})"
   ]
  },
  {
   "cell_type": "code",
   "execution_count": null,
   "metadata": {},
   "outputs": [],
   "source": [
    "# imdb is not going to like 8000+ requests from me. . . I think wikipedia might be a better bet and seems to\n",
    "# contain the same information"
   ]
  }
 ],
 "metadata": {
  "kernelspec": {
   "display_name": "Python [conda env:learn-env]",
   "language": "python",
   "name": "conda-env-learn-env-py"
  },
  "language_info": {
   "codemirror_mode": {
    "name": "ipython",
    "version": 3
   },
   "file_extension": ".py",
   "mimetype": "text/x-python",
   "name": "python",
   "nbconvert_exporter": "python",
   "pygments_lexer": "ipython3",
   "version": "3.6.6"
  },
  "toc": {
   "base_numbering": 1,
   "nav_menu": {},
   "number_sections": false,
   "sideBar": true,
   "skip_h1_title": false,
   "title_cell": "Table of Contents",
   "title_sidebar": "Contents",
   "toc_cell": false,
   "toc_position": {},
   "toc_section_display": true,
   "toc_window_display": true
  }
 },
 "nbformat": 4,
 "nbformat_minor": 2
}
