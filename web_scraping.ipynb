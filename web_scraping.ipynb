{
 "cells": [
  {
   "cell_type": "markdown",
   "metadata": {},
   "source": [
    "## Web Scraping with Beautiful Soup"
   ]
  },
  {
   "cell_type": "code",
   "execution_count": 1,
   "metadata": {},
   "outputs": [],
   "source": [
    "import pandas as pd\n",
    "\n",
    "from bs4 import BeautifulSoup\n",
    "from random import randint\n",
    "from requests import get\n",
    "from time import sleep, time\n",
    "from warnings import warn"
   ]
  },
  {
   "cell_type": "markdown",
   "metadata": {},
   "source": [
    "## I. Bechdel Test website"
   ]
  },
  {
   "cell_type": "markdown",
   "metadata": {},
   "source": [
    "#### A. First Page Trial Run"
   ]
  },
  {
   "cell_type": "code",
   "execution_count": 3,
   "metadata": {},
   "outputs": [],
   "source": [
    "base_url = 'https://bechdeltest.com/'\n",
    "\n",
    "# open connection, grab page\n",
    "client = urlopen(base_url)\n",
    "\n",
    "# store html in variable\n",
    "base_html = client.read()\n",
    "\n",
    "# close connection\n",
    "client.close()"
   ]
  },
  {
   "cell_type": "code",
   "execution_count": 4,
   "metadata": {},
   "outputs": [],
   "source": [
    "# parse html\n",
    "soup = BeautifulSoup(base_html, 'html.parser')"
   ]
  },
  {
   "cell_type": "code",
   "execution_count": 5,
   "metadata": {},
   "outputs": [
    {
     "data": {
      "text/plain": [
       "<h1 style=\"margin-bottom: 5px\"><a href=\"/\" style=\"text-decoration:none;\">Bechdel Test Movie List</a></h1>"
      ]
     },
     "execution_count": 5,
     "metadata": {},
     "output_type": "execute_result"
    }
   ],
   "source": [
    "soup.h1"
   ]
  },
  {
   "cell_type": "code",
   "execution_count": 6,
   "metadata": {},
   "outputs": [
    {
     "data": {
      "text/plain": [
       "<p>The <b>Bechdel Test</b>, sometimes called the <i>Mo Movie Measure</i> or <i>Bechdel Rule</i> is a simple test which names the following three criteria: (1) it has to have at least two women in it, who (2) who talk to each other, about (3) something besides a man. The test was popularized by <b>Alison Bechdel</b>'s comic <b>Dykes to Watch Out For</b>, in a 1985 strip called <a href=\"http://alisonbechdel.blogspot.com/2005/08/rule.html\"><i>The Rule</i></a>. For a nice video introduction to the subject please check out <a href=\"http://www.feministfrequency.com/2009/12/the-bechdel-test-for-women-in-movies/\">The Bechdel Test for Women in Movies</a> on <a href=\"http://www.feministfrequency.com/\">feministfrequency.com</a>.</p>"
      ]
     },
     "execution_count": 6,
     "metadata": {},
     "output_type": "execute_result"
    }
   ],
   "source": [
    "soup.p"
   ]
  },
  {
   "cell_type": "code",
   "execution_count": 7,
   "metadata": {},
   "outputs": [],
   "source": [
    "# grab each movie\n",
    "movies = soup.findAll('div', {'class': 'movie'})"
   ]
  },
  {
   "cell_type": "code",
   "execution_count": 8,
   "metadata": {},
   "outputs": [
    {
     "data": {
      "text/plain": [
       "200"
      ]
     },
     "execution_count": 8,
     "metadata": {},
     "output_type": "execute_result"
    }
   ],
   "source": [
    "len(movies)"
   ]
  },
  {
   "cell_type": "code",
   "execution_count": 9,
   "metadata": {},
   "outputs": [
    {
     "data": {
      "text/plain": [
       "<div class=\"movie\"><a href=\"http://us.imdb.com/title/tt0437086/\"><img alt=\"[[3]]\" src=\"/static/pass.png\" title=\"[There are two or more women in this movie and they talk to each other about something other than a man]\"/></a>\n",
       "<a href=\"/view/8642/alita:_battle_angel/\" id=\"movie-8642\">Alita: Battle Angel</a> <a href=\"/view/8642/alita:_battle_angel/\" onclick=\"showComments('8642'); return false;\"><img alt=\"[1 comment(s) available]\" id=\"comment-img-8642\" src=\"/static/comments.png\" style=\"height: 10px; width: 10px;\" title=\"1 comment\"/></a> </div>"
      ]
     },
     "execution_count": 9,
     "metadata": {},
     "output_type": "execute_result"
    }
   ],
   "source": [
    "movies[0]"
   ]
  },
  {
   "cell_type": "code",
   "execution_count": 10,
   "metadata": {},
   "outputs": [],
   "source": [
    "# movies object contains imdb id (within imdb link), Bechdel Test score, 'pass' or 'nopass', movie title in 3 \n",
    "# different formats, and number of comments\n",
    "movie = movies[0]"
   ]
  },
  {
   "cell_type": "code",
   "execution_count": 34,
   "metadata": {},
   "outputs": [
    {
     "data": {
      "text/plain": [
       "6"
      ]
     },
     "execution_count": 34,
     "metadata": {},
     "output_type": "execute_result"
    }
   ],
   "source": [
    "len(movie.contents)"
   ]
  },
  {
   "cell_type": "code",
   "execution_count": 35,
   "metadata": {},
   "outputs": [
    {
     "data": {
      "text/plain": [
       "[<a href=\"http://us.imdb.com/title/tt0437086/\"><img alt=\"[[3]]\" src=\"/static/pass.png\" title=\"[There are two or more women in this movie and they talk to each other about something other than a man]\"/></a>,\n",
       " '\\n',\n",
       " <a href=\"/view/8642/alita:_battle_angel/\" id=\"movie-8642\">Alita: Battle Angel</a>,\n",
       " ' ',\n",
       " <a href=\"/view/8642/alita:_battle_angel/\" onclick=\"showComments('8642'); return false;\"><img alt=\"[1 comment(s) available]\" id=\"comment-img-8642\" src=\"/static/comments.png\" style=\"height: 10px; width: 10px;\" title=\"1 comment\"/></a>,\n",
       " ' ']"
      ]
     },
     "execution_count": 35,
     "metadata": {},
     "output_type": "execute_result"
    }
   ],
   "source": [
    "movie.contents"
   ]
  },
  {
   "cell_type": "code",
   "execution_count": 47,
   "metadata": {},
   "outputs": [
    {
     "data": {
      "text/plain": [
       "'2019'"
      ]
     },
     "execution_count": 47,
     "metadata": {},
     "output_type": "execute_result"
    }
   ],
   "source": [
    "movie.parent.h3.a['id'].split('-')[1]"
   ]
  },
  {
   "cell_type": "code",
   "execution_count": 39,
   "metadata": {},
   "outputs": [
    {
     "data": {
      "text/plain": [
       "'American Woman'"
      ]
     },
     "execution_count": 39,
     "metadata": {},
     "output_type": "execute_result"
    }
   ],
   "source": [
    "movies[1].contents[2].text"
   ]
  },
  {
   "cell_type": "code",
   "execution_count": 41,
   "metadata": {},
   "outputs": [
    {
     "data": {
      "text/plain": [
       "'Hold the Dark'"
      ]
     },
     "execution_count": 41,
     "metadata": {},
     "output_type": "execute_result"
    }
   ],
   "source": [
    "movies[75].contents[2].text.strip()"
   ]
  },
  {
   "cell_type": "code",
   "execution_count": 11,
   "metadata": {},
   "outputs": [
    {
     "data": {
      "text/plain": [
       "<a href=\"http://us.imdb.com/title/tt0437086/\"><img alt=\"[[3]]\" src=\"/static/pass.png\" title=\"[There are two or more women in this movie and they talk to each other about something other than a man]\"/></a>"
      ]
     },
     "execution_count": 11,
     "metadata": {},
     "output_type": "execute_result"
    }
   ],
   "source": [
    "movie.a"
   ]
  },
  {
   "cell_type": "code",
   "execution_count": 16,
   "metadata": {},
   "outputs": [
    {
     "data": {
      "text/plain": [
       "<img alt=\"[[3]]\" src=\"/static/pass.png\" title=\"[There are two or more women in this movie and they talk to each other about something other than a man]\"/>"
      ]
     },
     "execution_count": 16,
     "metadata": {},
     "output_type": "execute_result"
    }
   ],
   "source": [
    "movie.a.img"
   ]
  },
  {
   "cell_type": "code",
   "execution_count": 18,
   "metadata": {},
   "outputs": [
    {
     "data": {
      "text/plain": [
       "'[[3]]'"
      ]
     },
     "execution_count": 18,
     "metadata": {},
     "output_type": "execute_result"
    }
   ],
   "source": [
    "movie.a.img['alt']"
   ]
  },
  {
   "cell_type": "code",
   "execution_count": 19,
   "metadata": {},
   "outputs": [
    {
     "data": {
      "text/plain": [
       "'3'"
      ]
     },
     "execution_count": 19,
     "metadata": {},
     "output_type": "execute_result"
    }
   ],
   "source": [
    "# yessss! the score!!! \n",
    "movie.a.img['alt'][2]"
   ]
  },
  {
   "cell_type": "code",
   "execution_count": 20,
   "metadata": {},
   "outputs": [
    {
     "data": {
      "text/plain": [
       "'http://us.imdb.com/title/tt0437086/'"
      ]
     },
     "execution_count": 20,
     "metadata": {},
     "output_type": "execute_result"
    }
   ],
   "source": [
    "movie.a['href']"
   ]
  },
  {
   "cell_type": "code",
   "execution_count": 21,
   "metadata": {},
   "outputs": [
    {
     "data": {
      "text/plain": [
       "['http:', '', 'us.imdb.com', 'title', 'tt0437086', '']"
      ]
     },
     "execution_count": 21,
     "metadata": {},
     "output_type": "execute_result"
    }
   ],
   "source": [
    "movie.a['href'].split('/')"
   ]
  },
  {
   "cell_type": "code",
   "execution_count": 22,
   "metadata": {},
   "outputs": [
    {
     "data": {
      "text/plain": [
       "'tt0437086'"
      ]
     },
     "execution_count": 22,
     "metadata": {},
     "output_type": "execute_result"
    }
   ],
   "source": [
    "movie.a['href'].split('/')[4]"
   ]
  },
  {
   "cell_type": "code",
   "execution_count": 28,
   "metadata": {},
   "outputs": [
    {
     "data": {
      "text/plain": [
       "'pass'"
      ]
     },
     "execution_count": 28,
     "metadata": {},
     "output_type": "execute_result"
    }
   ],
   "source": [
    "movie.a.img['src'].split('/')[2].split('.')[0]"
   ]
  },
  {
   "cell_type": "code",
   "execution_count": 17,
   "metadata": {},
   "outputs": [
    {
     "data": {
      "text/plain": [
       "<div class=\"movie\"><a href=\"http://us.imdb.com/title/tt5719748/\"><img alt=\"[[1]]\" src=\"/static/nopass.png\" title=\"[There are two or more women in this movie, but they don't talk to each other]\"/></a>\n",
       "<a href=\"/view/8639/cold_pursuit/\" id=\"movie-8639\">Cold Pursuit</a> <a href=\"/view/8639/cold_pursuit/\" onclick=\"showComments('8639'); return false;\"><img alt=\"[1 comment(s) available]\" id=\"comment-img-8639\" src=\"/static/comments.png\" style=\"height: 10px; width: 10px;\" title=\"1 comment\"/></a> </div>"
      ]
     },
     "execution_count": 17,
     "metadata": {},
     "output_type": "execute_result"
    }
   ],
   "source": [
    "movies[3]"
   ]
  },
  {
   "cell_type": "code",
   "execution_count": 29,
   "metadata": {},
   "outputs": [
    {
     "data": {
      "text/plain": [
       "'nopass'"
      ]
     },
     "execution_count": 29,
     "metadata": {},
     "output_type": "execute_result"
    }
   ],
   "source": [
    "movies[3].a.img['src'].split('/')[2].split('.')[0]"
   ]
  },
  {
   "cell_type": "code",
   "execution_count": 48,
   "metadata": {},
   "outputs": [
    {
     "data": {
      "text/plain": [
       "'2019'"
      ]
     },
     "execution_count": 48,
     "metadata": {},
     "output_type": "execute_result"
    }
   ],
   "source": [
    "movies[100].parent.h3.a['id'].split('-')[1]"
   ]
  },
  {
   "cell_type": "code",
   "execution_count": 66,
   "metadata": {},
   "outputs": [
    {
     "data": {
      "text/plain": [
       "'2018'"
      ]
     },
     "execution_count": 66,
     "metadata": {},
     "output_type": "execute_result"
    }
   ],
   "source": [
    "movies[100].find_previous('h3').a['id'].split('-')[1]"
   ]
  },
  {
   "cell_type": "code",
   "execution_count": 67,
   "metadata": {},
   "outputs": [
    {
     "data": {
      "text/plain": [
       "'2017'"
      ]
     },
     "execution_count": 67,
     "metadata": {},
     "output_type": "execute_result"
    }
   ],
   "source": [
    "movies[199].find_previous('h3').a['id'].split('-')[1]"
   ]
  },
  {
   "cell_type": "code",
   "execution_count": 58,
   "metadata": {},
   "outputs": [
    {
     "data": {
      "text/plain": [
       "3"
      ]
     },
     "execution_count": 58,
     "metadata": {},
     "output_type": "execute_result"
    }
   ],
   "source": [
    "int(movies[10].a.img['alt'][2])"
   ]
  },
  {
   "cell_type": "code",
   "execution_count": 49,
   "metadata": {},
   "outputs": [
    {
     "data": {
      "text/plain": [
       "'The Miseducation of Cameron Post'"
      ]
     },
     "execution_count": 49,
     "metadata": {},
     "output_type": "execute_result"
    }
   ],
   "source": [
    "movies[100].contents[2].text.strip()"
   ]
  },
  {
   "cell_type": "code",
   "execution_count": null,
   "metadata": {},
   "outputs": [],
   "source": [
    "# could write directly to csv, but I'm not going to\n",
    "# filename = 'bechdel_test_movies.csv'\n",
    "# f = open(filename, 'w')\n",
    "# headers = 'imdb_id, imdb_link, test_score, passing, title\\n'\n",
    "# f.write(headers)\n",
    "\n",
    "# build loop\n",
    "# if writing to pandas df, change year and test_score to integers\n",
    "\n",
    "# for movie in movies:\n",
    "#     year = movie.find_previous('h3').a['id'].split('-')[1]\n",
    "#     title = movies.contents[2].text.strip()\n",
    "#     test_score = movie.a.img['alt'][2]\n",
    "#     passing = movie.a.img['src'].split('/')[2].split('.')[0]\n",
    "#     imdb_id = movie.a['href'].split('/')[4]\n",
    "#     imdb_link = movie.a['href']\n",
    "    \n",
    "    # f.write(imdb_id + ',' + imdb_link + ',' + test_score + ',' + passing.replace(',','|') + ',' + 'title' + '\\n')\n",
    "    # if a title has any punctuation. . . this may not work, should probably go into a dataframe\n",
    "# f.close()"
   ]
  },
  {
   "cell_type": "code",
   "execution_count": 69,
   "metadata": {},
   "outputs": [],
   "source": [
    "# test run on page one (sorting by year)\n",
    "\n",
    "years = []\n",
    "movie_titles = []\n",
    "test_scores = []\n",
    "pass_or_no_pass = []\n",
    "imdb_ids = []\n",
    "imdb_links = []\n",
    "\n",
    "for movie in movies:\n",
    "    \n",
    "    year = movie.find_previous('h3').a['id'].split('-')[1]\n",
    "    years.append(int(year))\n",
    "    \n",
    "    title = movie.contents[2].text.strip()\n",
    "    movie_titles.append(title)\n",
    "    \n",
    "    test_score = movie.a.img['alt'][2]\n",
    "    test_scores.append(int(test_score))\n",
    "    \n",
    "    passing = movie.a.img['src'].split('/')[2].split('.')[0]\n",
    "    pass_or_no_pass.append(passing)\n",
    "    \n",
    "    imdb_id = movie.a['href'].split('/')[4]\n",
    "    imdb_ids.append(imdb_id)\n",
    "    \n",
    "    imdb_link = movie.a['href']\n",
    "    imdb_links.append(imdb_link)"
   ]
  },
  {
   "cell_type": "code",
   "execution_count": 71,
   "metadata": {},
   "outputs": [],
   "source": [
    "test_df = pd.DataFrame({'year': years,\n",
    "                       'title': movie_titles,\n",
    "                       'score': test_scores,\n",
    "                       'passing': pass_or_no_pass,\n",
    "                       'imdb_id': imdb_ids,\n",
    "                       'imdb_link': imdb_links})"
   ]
  },
  {
   "cell_type": "code",
   "execution_count": 72,
   "metadata": {},
   "outputs": [
    {
     "data": {
      "text/html": [
       "<div>\n",
       "<style scoped>\n",
       "    .dataframe tbody tr th:only-of-type {\n",
       "        vertical-align: middle;\n",
       "    }\n",
       "\n",
       "    .dataframe tbody tr th {\n",
       "        vertical-align: top;\n",
       "    }\n",
       "\n",
       "    .dataframe thead th {\n",
       "        text-align: right;\n",
       "    }\n",
       "</style>\n",
       "<table border=\"1\" class=\"dataframe\">\n",
       "  <thead>\n",
       "    <tr style=\"text-align: right;\">\n",
       "      <th></th>\n",
       "      <th>year</th>\n",
       "      <th>title</th>\n",
       "      <th>score</th>\n",
       "      <th>passing</th>\n",
       "      <th>imdb_id</th>\n",
       "      <th>imdb_link</th>\n",
       "    </tr>\n",
       "  </thead>\n",
       "  <tbody>\n",
       "    <tr>\n",
       "      <th>0</th>\n",
       "      <td>2019</td>\n",
       "      <td>Alita: Battle Angel</td>\n",
       "      <td>3</td>\n",
       "      <td>pass</td>\n",
       "      <td>tt0437086</td>\n",
       "      <td>http://us.imdb.com/title/tt0437086/</td>\n",
       "    </tr>\n",
       "    <tr>\n",
       "      <th>1</th>\n",
       "      <td>2019</td>\n",
       "      <td>American Woman</td>\n",
       "      <td>3</td>\n",
       "      <td>pass</td>\n",
       "      <td>tt9109492</td>\n",
       "      <td>http://us.imdb.com/title/tt9109492/</td>\n",
       "    </tr>\n",
       "    <tr>\n",
       "      <th>2</th>\n",
       "      <td>2019</td>\n",
       "      <td>Close</td>\n",
       "      <td>3</td>\n",
       "      <td>pass</td>\n",
       "      <td>tt5316540</td>\n",
       "      <td>http://us.imdb.com/title/tt5316540/</td>\n",
       "    </tr>\n",
       "    <tr>\n",
       "      <th>3</th>\n",
       "      <td>2019</td>\n",
       "      <td>Cold Pursuit</td>\n",
       "      <td>1</td>\n",
       "      <td>nopass</td>\n",
       "      <td>tt5719748</td>\n",
       "      <td>http://us.imdb.com/title/tt5719748/</td>\n",
       "    </tr>\n",
       "    <tr>\n",
       "      <th>4</th>\n",
       "      <td>2019</td>\n",
       "      <td>How to Train Your Dragon: The Hidden World</td>\n",
       "      <td>2</td>\n",
       "      <td>nopass</td>\n",
       "      <td>tt2386490</td>\n",
       "      <td>http://us.imdb.com/title/tt2386490/</td>\n",
       "    </tr>\n",
       "  </tbody>\n",
       "</table>\n",
       "</div>"
      ],
      "text/plain": [
       "   year                                       title  score passing    imdb_id  \\\n",
       "0  2019                         Alita: Battle Angel      3    pass  tt0437086   \n",
       "1  2019                              American Woman      3    pass  tt9109492   \n",
       "2  2019                                       Close      3    pass  tt5316540   \n",
       "3  2019                                Cold Pursuit      1  nopass  tt5719748   \n",
       "4  2019  How to Train Your Dragon: The Hidden World      2  nopass  tt2386490   \n",
       "\n",
       "                             imdb_link  \n",
       "0  http://us.imdb.com/title/tt0437086/  \n",
       "1  http://us.imdb.com/title/tt9109492/  \n",
       "2  http://us.imdb.com/title/tt5316540/  \n",
       "3  http://us.imdb.com/title/tt5719748/  \n",
       "4  http://us.imdb.com/title/tt2386490/  "
      ]
     },
     "execution_count": 72,
     "metadata": {},
     "output_type": "execute_result"
    }
   ],
   "source": [
    "test_df.head()"
   ]
  },
  {
   "cell_type": "code",
   "execution_count": 73,
   "metadata": {},
   "outputs": [
    {
     "data": {
      "text/html": [
       "<div>\n",
       "<style scoped>\n",
       "    .dataframe tbody tr th:only-of-type {\n",
       "        vertical-align: middle;\n",
       "    }\n",
       "\n",
       "    .dataframe tbody tr th {\n",
       "        vertical-align: top;\n",
       "    }\n",
       "\n",
       "    .dataframe thead th {\n",
       "        text-align: right;\n",
       "    }\n",
       "</style>\n",
       "<table border=\"1\" class=\"dataframe\">\n",
       "  <thead>\n",
       "    <tr style=\"text-align: right;\">\n",
       "      <th></th>\n",
       "      <th>year</th>\n",
       "      <th>title</th>\n",
       "      <th>score</th>\n",
       "      <th>passing</th>\n",
       "      <th>imdb_id</th>\n",
       "      <th>imdb_link</th>\n",
       "    </tr>\n",
       "  </thead>\n",
       "  <tbody>\n",
       "    <tr>\n",
       "      <th>195</th>\n",
       "      <td>2017</td>\n",
       "      <td>Call Me by Your Name</td>\n",
       "      <td>3</td>\n",
       "      <td>pass</td>\n",
       "      <td>tt5726616</td>\n",
       "      <td>http://us.imdb.com/title/tt5726616/</td>\n",
       "    </tr>\n",
       "    <tr>\n",
       "      <th>196</th>\n",
       "      <td>2017</td>\n",
       "      <td>Canaries</td>\n",
       "      <td>3</td>\n",
       "      <td>pass</td>\n",
       "      <td>tt4082644</td>\n",
       "      <td>http://us.imdb.com/title/tt4082644/</td>\n",
       "    </tr>\n",
       "    <tr>\n",
       "      <th>197</th>\n",
       "      <td>2017</td>\n",
       "      <td>Captain Underpants: The First Epic Movie</td>\n",
       "      <td>1</td>\n",
       "      <td>nopass</td>\n",
       "      <td>tt2091256</td>\n",
       "      <td>http://us.imdb.com/title/tt2091256/</td>\n",
       "    </tr>\n",
       "    <tr>\n",
       "      <th>198</th>\n",
       "      <td>2017</td>\n",
       "      <td>Cars 3</td>\n",
       "      <td>3</td>\n",
       "      <td>pass</td>\n",
       "      <td>tt3606752</td>\n",
       "      <td>http://us.imdb.com/title/tt3606752/</td>\n",
       "    </tr>\n",
       "    <tr>\n",
       "      <th>199</th>\n",
       "      <td>2017</td>\n",
       "      <td>Cherry Pop</td>\n",
       "      <td>3</td>\n",
       "      <td>pass</td>\n",
       "      <td>tt4807950</td>\n",
       "      <td>http://us.imdb.com/title/tt4807950/</td>\n",
       "    </tr>\n",
       "  </tbody>\n",
       "</table>\n",
       "</div>"
      ],
      "text/plain": [
       "     year                                     title  score passing    imdb_id  \\\n",
       "195  2017                      Call Me by Your Name      3    pass  tt5726616   \n",
       "196  2017                                  Canaries      3    pass  tt4082644   \n",
       "197  2017  Captain Underpants: The First Epic Movie      1  nopass  tt2091256   \n",
       "198  2017                                    Cars 3      3    pass  tt3606752   \n",
       "199  2017                                Cherry Pop      3    pass  tt4807950   \n",
       "\n",
       "                               imdb_link  \n",
       "195  http://us.imdb.com/title/tt5726616/  \n",
       "196  http://us.imdb.com/title/tt4082644/  \n",
       "197  http://us.imdb.com/title/tt2091256/  \n",
       "198  http://us.imdb.com/title/tt3606752/  \n",
       "199  http://us.imdb.com/title/tt4807950/  "
      ]
     },
     "execution_count": 73,
     "metadata": {},
     "output_type": "execute_result"
    }
   ],
   "source": [
    "test_df.tail()"
   ]
  },
  {
   "cell_type": "code",
   "execution_count": 74,
   "metadata": {},
   "outputs": [
    {
     "name": "stdout",
     "output_type": "stream",
     "text": [
      "<class 'pandas.core.frame.DataFrame'>\n",
      "RangeIndex: 200 entries, 0 to 199\n",
      "Data columns (total 6 columns):\n",
      "year         200 non-null int64\n",
      "title        200 non-null object\n",
      "score        200 non-null int64\n",
      "passing      200 non-null object\n",
      "imdb_id      200 non-null object\n",
      "imdb_link    200 non-null object\n",
      "dtypes: int64(2), object(4)\n",
      "memory usage: 9.5+ KB\n"
     ]
    }
   ],
   "source": [
    "test_df.info()"
   ]
  },
  {
   "cell_type": "markdown",
   "metadata": {},
   "source": [
    "#### B. Scrape Entire Site"
   ]
  },
  {
   "cell_type": "code",
   "execution_count": 82,
   "metadata": {},
   "outputs": [],
   "source": [
    "from time import sleep, time\n",
    "from random import randint\n",
    "from requests import get\n",
    "from warnings import warn\n",
    "\n",
    "# warn(\"Warning Simulation\")"
   ]
  },
  {
   "cell_type": "code",
   "execution_count": 77,
   "metadata": {},
   "outputs": [],
   "source": [
    "# page format - first page was page 0 I guess\n",
    "# https://bechdeltest.com/?page=1\n",
    "# last page is page 40\n",
    "# use clear_output(wait=True) at end of loop if scraping something really big\n",
    "# from Ipython.core.display import clear_output"
   ]
  },
  {
   "cell_type": "code",
   "execution_count": 80,
   "metadata": {},
   "outputs": [
    {
     "name": "stdout",
     "output_type": "stream",
     "text": [
      "Request: 1 Frequency: 0.333 requests/second\n",
      "Request: 2 Frequency: 0.499 requests/second\n",
      "Request: 3 Frequency: 0.374 requests/second\n",
      "Request: 4 Frequency: 0.363 requests/second\n",
      "Request: 5 Frequency: 0.357 requests/second\n"
     ]
    }
   ],
   "source": [
    "# pages = [str(i) for i in range(1,41)]\n",
    "\n",
    "start = time()\n",
    "requests = 0\n",
    "\n",
    "# reset lists\n",
    "years = []\n",
    "movie_titles = []\n",
    "test_scores = []\n",
    "pass_or_no_pass = []\n",
    "imdb_ids = []\n",
    "imdb_links = []\n",
    "\n",
    "# for r in range(41):\n",
    "for r in range(5):\n",
    "    # request\n",
    "    \n",
    "    requests += 1\n",
    "    sleep(randint(1,5))\n",
    "    elapsed = time() - start\n",
    "    \n",
    "    print(f'Request: {requests} Frequency: {round(requests/elapsed, 3)} requests/second')"
   ]
  },
  {
   "cell_type": "code",
   "execution_count": 83,
   "metadata": {},
   "outputs": [
    {
     "name": "stdout",
     "output_type": "stream",
     "text": [
      "Request: 1 Frequency: 0.065 requests/second\n",
      "Request: 2 Frequency: 0.064 requests/second\n",
      "Request: 3 Frequency: 0.062 requests/second\n",
      "Request: 4 Frequency: 0.067 requests/second\n",
      "Request: 5 Frequency: 0.068 requests/second\n",
      "Request: 6 Frequency: 0.067 requests/second\n",
      "Request: 7 Frequency: 0.068 requests/second\n",
      "Request: 8 Frequency: 0.066 requests/second\n",
      "Request: 9 Frequency: 0.066 requests/second\n",
      "Request: 10 Frequency: 0.065 requests/second\n",
      "Request: 11 Frequency: 0.064 requests/second\n",
      "Request: 12 Frequency: 0.064 requests/second\n",
      "Request: 13 Frequency: 0.064 requests/second\n",
      "Request: 14 Frequency: 0.064 requests/second\n",
      "Request: 15 Frequency: 0.064 requests/second\n",
      "Request: 16 Frequency: 0.065 requests/second\n",
      "Request: 17 Frequency: 0.066 requests/second\n",
      "Request: 18 Frequency: 0.065 requests/second\n",
      "Request: 19 Frequency: 0.065 requests/second\n",
      "Request: 20 Frequency: 0.065 requests/second\n",
      "Request: 21 Frequency: 0.065 requests/second\n",
      "Request: 22 Frequency: 0.066 requests/second\n",
      "Request: 23 Frequency: 0.066 requests/second\n",
      "Request: 24 Frequency: 0.066 requests/second\n",
      "Request: 25 Frequency: 0.066 requests/second\n",
      "Request: 26 Frequency: 0.067 requests/second\n",
      "Request: 27 Frequency: 0.066 requests/second\n",
      "Request: 28 Frequency: 0.066 requests/second\n",
      "Request: 29 Frequency: 0.067 requests/second\n",
      "Request: 30 Frequency: 0.066 requests/second\n",
      "Request: 31 Frequency: 0.067 requests/second\n",
      "Request: 32 Frequency: 0.067 requests/second\n",
      "Request: 33 Frequency: 0.067 requests/second\n",
      "Request: 34 Frequency: 0.067 requests/second\n",
      "Request: 35 Frequency: 0.067 requests/second\n",
      "Request: 36 Frequency: 0.067 requests/second\n",
      "Request: 37 Frequency: 0.066 requests/second\n",
      "Request: 38 Frequency: 0.067 requests/second\n",
      "Request: 39 Frequency: 0.066 requests/second\n",
      "Request: 40 Frequency: 0.067 requests/second\n",
      "Request: 41 Frequency: 0.067 requests/second\n"
     ]
    }
   ],
   "source": [
    "# reset lists\n",
    "\n",
    "years = []\n",
    "movie_titles = []\n",
    "test_scores = []\n",
    "pass_or_no_pass = []\n",
    "imdb_ids = []\n",
    "imdb_links = []\n",
    "\n",
    "start = time()\n",
    "requests = 0\n",
    "\n",
    "# first page will execute outside of loop due to different urls\n",
    "\n",
    "base_url = 'https://bechdeltest.com/'\n",
    "response = get(base_url)\n",
    "\n",
    "# I swear I am not a robot beep boop beep\n",
    "sleep(randint(8,15))\n",
    "\n",
    "requests += 1\n",
    "elapsed = time() - start\n",
    "print(f'Request: {requests} Frequency: {round(requests/elapsed, 3)} requests/second')\n",
    "\n",
    "# warning for non-200 status codes\n",
    "if response.status_code != 200:\n",
    "    warn(f'Request: {requests} Status code: {response.status_code}')\n",
    "    \n",
    "soup = BeautifulSoup(response.text, 'html.parser')\n",
    "movies = soup.findAll('div', {'class': 'movie'})\n",
    "\n",
    "for movie in movies:\n",
    "    \n",
    "    year = movie.find_previous('h3').a['id'].split('-')[1]\n",
    "    years.append(int(year))\n",
    "    \n",
    "    title = movie.contents[2].text.strip()\n",
    "    movie_titles.append(title)\n",
    "    \n",
    "    test_score = movie.a.img['alt'][2]\n",
    "    test_scores.append(int(test_score))\n",
    "    \n",
    "    passing = movie.a.img['src'].split('/')[2].split('.')[0]\n",
    "    pass_or_no_pass.append(passing)\n",
    "    \n",
    "    imdb_id = movie.a['href'].split('/')[4]\n",
    "    imdb_ids.append(imdb_id)\n",
    "    \n",
    "    imdb_link = movie.a['href']\n",
    "    imdb_links.append(imdb_link)\n",
    "    \n",
    "# now start with page 1\n",
    "pages = [str(i) for i in range(1,41)]\n",
    "\n",
    "for page in pages:\n",
    "    \n",
    "    response = get(base_url + '?page=' + page)\n",
    "    \n",
    "    # repeat sleeping, print statements, and warnings\n",
    "    sleep(randint(8,15))\n",
    "\n",
    "    requests += 1\n",
    "    elapsed = time() - start\n",
    "    print(f'Request: {requests} Frequency: {round(requests/elapsed, 3)} requests/second')\n",
    "\n",
    "    \n",
    "    if response.status_code != 200:\n",
    "        warn(f'Request: {requests} Status code: {response.status_code}')\n",
    "        \n",
    "    if requests > 42:\n",
    "        warn('Number of requests greater than expected.')\n",
    "        break\n",
    "    \n",
    "    soup = BeautifulSoup(response.text, 'html.parser')\n",
    "    movies = soup.findAll('div', {'class': 'movie'})\n",
    "    \n",
    "    for movie in movies:\n",
    "        \n",
    "        year = movie.find_previous('h3').a['id'].split('-')[1]\n",
    "        years.append(int(year))\n",
    "    \n",
    "        title = movie.contents[2].text.strip()\n",
    "        movie_titles.append(title)\n",
    "    \n",
    "        test_score = movie.a.img['alt'][2]\n",
    "        test_scores.append(int(test_score))\n",
    "    \n",
    "        passing = movie.a.img['src'].split('/')[2].split('.')[0]\n",
    "        pass_or_no_pass.append(passing)\n",
    "    \n",
    "        imdb_id = movie.a['href'].split('/')[4]\n",
    "        imdb_ids.append(imdb_id)\n",
    "    \n",
    "        imdb_link = movie.a['href']\n",
    "        imdb_links.append(imdb_link)"
   ]
  },
  {
   "cell_type": "code",
   "execution_count": null,
   "metadata": {},
   "outputs": [],
   "source": [
    "# add total elapsed time for next site"
   ]
  },
  {
   "cell_type": "markdown",
   "metadata": {},
   "source": [
    "#### C. Store in pandas DataFrame"
   ]
  },
  {
   "cell_type": "code",
   "execution_count": 84,
   "metadata": {},
   "outputs": [],
   "source": [
    "bechdel_df = pd.DataFrame({'year': years, \n",
    "                           'title': movie_titles,\n",
    "                           'score': test_scores,\n",
    "                           'passing': pass_or_no_pass,\n",
    "                           'imdb_id': imdb_ids,\n",
    "                           'imdb_link': imdb_links})"
   ]
  },
  {
   "cell_type": "code",
   "execution_count": 85,
   "metadata": {},
   "outputs": [
    {
     "data": {
      "text/html": [
       "<div>\n",
       "<style scoped>\n",
       "    .dataframe tbody tr th:only-of-type {\n",
       "        vertical-align: middle;\n",
       "    }\n",
       "\n",
       "    .dataframe tbody tr th {\n",
       "        vertical-align: top;\n",
       "    }\n",
       "\n",
       "    .dataframe thead th {\n",
       "        text-align: right;\n",
       "    }\n",
       "</style>\n",
       "<table border=\"1\" class=\"dataframe\">\n",
       "  <thead>\n",
       "    <tr style=\"text-align: right;\">\n",
       "      <th></th>\n",
       "      <th>year</th>\n",
       "      <th>title</th>\n",
       "      <th>score</th>\n",
       "      <th>passing</th>\n",
       "      <th>imdb_id</th>\n",
       "      <th>imdb_link</th>\n",
       "    </tr>\n",
       "  </thead>\n",
       "  <tbody>\n",
       "    <tr>\n",
       "      <th>0</th>\n",
       "      <td>2019</td>\n",
       "      <td>Alita: Battle Angel</td>\n",
       "      <td>3</td>\n",
       "      <td>pass</td>\n",
       "      <td>tt0437086</td>\n",
       "      <td>http://us.imdb.com/title/tt0437086/</td>\n",
       "    </tr>\n",
       "    <tr>\n",
       "      <th>1</th>\n",
       "      <td>2019</td>\n",
       "      <td>American Woman</td>\n",
       "      <td>3</td>\n",
       "      <td>pass</td>\n",
       "      <td>tt9109492</td>\n",
       "      <td>http://us.imdb.com/title/tt9109492/</td>\n",
       "    </tr>\n",
       "    <tr>\n",
       "      <th>2</th>\n",
       "      <td>2019</td>\n",
       "      <td>Close</td>\n",
       "      <td>3</td>\n",
       "      <td>pass</td>\n",
       "      <td>tt5316540</td>\n",
       "      <td>http://us.imdb.com/title/tt5316540/</td>\n",
       "    </tr>\n",
       "    <tr>\n",
       "      <th>3</th>\n",
       "      <td>2019</td>\n",
       "      <td>Cold Pursuit</td>\n",
       "      <td>1</td>\n",
       "      <td>nopass</td>\n",
       "      <td>tt5719748</td>\n",
       "      <td>http://us.imdb.com/title/tt5719748/</td>\n",
       "    </tr>\n",
       "    <tr>\n",
       "      <th>4</th>\n",
       "      <td>2019</td>\n",
       "      <td>How to Train Your Dragon: The Hidden World</td>\n",
       "      <td>2</td>\n",
       "      <td>nopass</td>\n",
       "      <td>tt2386490</td>\n",
       "      <td>http://us.imdb.com/title/tt2386490/</td>\n",
       "    </tr>\n",
       "    <tr>\n",
       "      <th>5</th>\n",
       "      <td>2019</td>\n",
       "      <td>The Kid Who Would Be King</td>\n",
       "      <td>1</td>\n",
       "      <td>nopass</td>\n",
       "      <td>tt6811018</td>\n",
       "      <td>http://us.imdb.com/title/tt6811018/</td>\n",
       "    </tr>\n",
       "    <tr>\n",
       "      <th>6</th>\n",
       "      <td>2019</td>\n",
       "      <td>The Lego Movie 2: The Second Part</td>\n",
       "      <td>3</td>\n",
       "      <td>pass</td>\n",
       "      <td>tt3513498</td>\n",
       "      <td>http://us.imdb.com/title/tt3513498/</td>\n",
       "    </tr>\n",
       "    <tr>\n",
       "      <th>7</th>\n",
       "      <td>2019</td>\n",
       "      <td>Polar</td>\n",
       "      <td>2</td>\n",
       "      <td>nopass</td>\n",
       "      <td>tt4139588</td>\n",
       "      <td>http://us.imdb.com/title/tt4139588/</td>\n",
       "    </tr>\n",
       "    <tr>\n",
       "      <th>8</th>\n",
       "      <td>2019</td>\n",
       "      <td>Serenity</td>\n",
       "      <td>1</td>\n",
       "      <td>nopass</td>\n",
       "      <td>tt6476140</td>\n",
       "      <td>http://us.imdb.com/title/tt6476140/</td>\n",
       "    </tr>\n",
       "    <tr>\n",
       "      <th>9</th>\n",
       "      <td>2019</td>\n",
       "      <td>Soni</td>\n",
       "      <td>3</td>\n",
       "      <td>pass</td>\n",
       "      <td>tt6078866</td>\n",
       "      <td>http://us.imdb.com/title/tt6078866/</td>\n",
       "    </tr>\n",
       "    <tr>\n",
       "      <th>10</th>\n",
       "      <td>2019</td>\n",
       "      <td>The Wandering Earth (Liu Lang Di Qiu)</td>\n",
       "      <td>3</td>\n",
       "      <td>pass</td>\n",
       "      <td>tt7605074</td>\n",
       "      <td>http://us.imdb.com/title/tt7605074/</td>\n",
       "    </tr>\n",
       "    <tr>\n",
       "      <th>11</th>\n",
       "      <td>2019</td>\n",
       "      <td>We Are Little Zombies</td>\n",
       "      <td>2</td>\n",
       "      <td>nopass</td>\n",
       "      <td>tt9358120</td>\n",
       "      <td>http://us.imdb.com/title/tt9358120/</td>\n",
       "    </tr>\n",
       "    <tr>\n",
       "      <th>12</th>\n",
       "      <td>2018</td>\n",
       "      <td>6 Balloons</td>\n",
       "      <td>3</td>\n",
       "      <td>pass</td>\n",
       "      <td>tt6142496</td>\n",
       "      <td>http://us.imdb.com/title/tt6142496/</td>\n",
       "    </tr>\n",
       "    <tr>\n",
       "      <th>13</th>\n",
       "      <td>2018</td>\n",
       "      <td>A private war</td>\n",
       "      <td>1</td>\n",
       "      <td>nopass</td>\n",
       "      <td>tt2368254</td>\n",
       "      <td>http://us.imdb.com/title/tt2368254/</td>\n",
       "    </tr>\n",
       "    <tr>\n",
       "      <th>14</th>\n",
       "      <td>2018</td>\n",
       "      <td>A Quiet Place</td>\n",
       "      <td>1</td>\n",
       "      <td>nopass</td>\n",
       "      <td>tt6644200</td>\n",
       "      <td>http://us.imdb.com/title/tt6644200/</td>\n",
       "    </tr>\n",
       "  </tbody>\n",
       "</table>\n",
       "</div>"
      ],
      "text/plain": [
       "    year                                       title  score passing  \\\n",
       "0   2019                         Alita: Battle Angel      3    pass   \n",
       "1   2019                              American Woman      3    pass   \n",
       "2   2019                                       Close      3    pass   \n",
       "3   2019                                Cold Pursuit      1  nopass   \n",
       "4   2019  How to Train Your Dragon: The Hidden World      2  nopass   \n",
       "5   2019                   The Kid Who Would Be King      1  nopass   \n",
       "6   2019           The Lego Movie 2: The Second Part      3    pass   \n",
       "7   2019                                       Polar      2  nopass   \n",
       "8   2019                                    Serenity      1  nopass   \n",
       "9   2019                                        Soni      3    pass   \n",
       "10  2019       The Wandering Earth (Liu Lang Di Qiu)      3    pass   \n",
       "11  2019                       We Are Little Zombies      2  nopass   \n",
       "12  2018                                  6 Balloons      3    pass   \n",
       "13  2018                               A private war      1  nopass   \n",
       "14  2018                               A Quiet Place      1  nopass   \n",
       "\n",
       "      imdb_id                            imdb_link  \n",
       "0   tt0437086  http://us.imdb.com/title/tt0437086/  \n",
       "1   tt9109492  http://us.imdb.com/title/tt9109492/  \n",
       "2   tt5316540  http://us.imdb.com/title/tt5316540/  \n",
       "3   tt5719748  http://us.imdb.com/title/tt5719748/  \n",
       "4   tt2386490  http://us.imdb.com/title/tt2386490/  \n",
       "5   tt6811018  http://us.imdb.com/title/tt6811018/  \n",
       "6   tt3513498  http://us.imdb.com/title/tt3513498/  \n",
       "7   tt4139588  http://us.imdb.com/title/tt4139588/  \n",
       "8   tt6476140  http://us.imdb.com/title/tt6476140/  \n",
       "9   tt6078866  http://us.imdb.com/title/tt6078866/  \n",
       "10  tt7605074  http://us.imdb.com/title/tt7605074/  \n",
       "11  tt9358120  http://us.imdb.com/title/tt9358120/  \n",
       "12  tt6142496  http://us.imdb.com/title/tt6142496/  \n",
       "13  tt2368254  http://us.imdb.com/title/tt2368254/  \n",
       "14  tt6644200  http://us.imdb.com/title/tt6644200/  "
      ]
     },
     "execution_count": 85,
     "metadata": {},
     "output_type": "execute_result"
    }
   ],
   "source": [
    "bechdel_df.head(15)"
   ]
  },
  {
   "cell_type": "code",
   "execution_count": 86,
   "metadata": {},
   "outputs": [
    {
     "data": {
      "text/html": [
       "<div>\n",
       "<style scoped>\n",
       "    .dataframe tbody tr th:only-of-type {\n",
       "        vertical-align: middle;\n",
       "    }\n",
       "\n",
       "    .dataframe tbody tr th {\n",
       "        vertical-align: top;\n",
       "    }\n",
       "\n",
       "    .dataframe thead th {\n",
       "        text-align: right;\n",
       "    }\n",
       "</style>\n",
       "<table border=\"1\" class=\"dataframe\">\n",
       "  <thead>\n",
       "    <tr style=\"text-align: right;\">\n",
       "      <th></th>\n",
       "      <th>year</th>\n",
       "      <th>title</th>\n",
       "      <th>score</th>\n",
       "      <th>passing</th>\n",
       "      <th>imdb_id</th>\n",
       "      <th>imdb_link</th>\n",
       "    </tr>\n",
       "  </thead>\n",
       "  <tbody>\n",
       "    <tr>\n",
       "      <th>8047</th>\n",
       "      <td>1896</td>\n",
       "      <td>Une nuit terrible</td>\n",
       "      <td>0</td>\n",
       "      <td>nopass</td>\n",
       "      <td>tt0000131</td>\n",
       "      <td>http://us.imdb.com/title/tt0000131/</td>\n",
       "    </tr>\n",
       "    <tr>\n",
       "      <th>8048</th>\n",
       "      <td>1895</td>\n",
       "      <td>The Execution of Mary, Queen of Scots</td>\n",
       "      <td>0</td>\n",
       "      <td>nopass</td>\n",
       "      <td>tt0132134</td>\n",
       "      <td>http://us.imdb.com/title/tt0132134/</td>\n",
       "    </tr>\n",
       "    <tr>\n",
       "      <th>8049</th>\n",
       "      <td>1895</td>\n",
       "      <td>Tables Turned on the Gardener</td>\n",
       "      <td>0</td>\n",
       "      <td>nopass</td>\n",
       "      <td>tt0000014</td>\n",
       "      <td>http://us.imdb.com/title/tt0000014/</td>\n",
       "    </tr>\n",
       "    <tr>\n",
       "      <th>8050</th>\n",
       "      <td>1892</td>\n",
       "      <td>Pauvre Pierrot</td>\n",
       "      <td>0</td>\n",
       "      <td>nopass</td>\n",
       "      <td>tt0000003</td>\n",
       "      <td>http://us.imdb.com/title/tt0000003/</td>\n",
       "    </tr>\n",
       "    <tr>\n",
       "      <th>8051</th>\n",
       "      <td>1888</td>\n",
       "      <td>Roundhay Garden Scene</td>\n",
       "      <td>0</td>\n",
       "      <td>nopass</td>\n",
       "      <td>tt0392728</td>\n",
       "      <td>http://us.imdb.com/title/tt0392728/</td>\n",
       "    </tr>\n",
       "  </tbody>\n",
       "</table>\n",
       "</div>"
      ],
      "text/plain": [
       "      year                                  title  score passing    imdb_id  \\\n",
       "8047  1896                      Une nuit terrible      0  nopass  tt0000131   \n",
       "8048  1895  The Execution of Mary, Queen of Scots      0  nopass  tt0132134   \n",
       "8049  1895          Tables Turned on the Gardener      0  nopass  tt0000014   \n",
       "8050  1892                         Pauvre Pierrot      0  nopass  tt0000003   \n",
       "8051  1888                  Roundhay Garden Scene      0  nopass  tt0392728   \n",
       "\n",
       "                                imdb_link  \n",
       "8047  http://us.imdb.com/title/tt0000131/  \n",
       "8048  http://us.imdb.com/title/tt0132134/  \n",
       "8049  http://us.imdb.com/title/tt0000014/  \n",
       "8050  http://us.imdb.com/title/tt0000003/  \n",
       "8051  http://us.imdb.com/title/tt0392728/  "
      ]
     },
     "execution_count": 86,
     "metadata": {},
     "output_type": "execute_result"
    }
   ],
   "source": [
    "bechdel_df.tail()"
   ]
  },
  {
   "cell_type": "code",
   "execution_count": 87,
   "metadata": {},
   "outputs": [
    {
     "data": {
      "text/plain": [
       "(8052, 6)"
      ]
     },
     "execution_count": 87,
     "metadata": {},
     "output_type": "execute_result"
    }
   ],
   "source": [
    "bechdel_df.shape"
   ]
  },
  {
   "cell_type": "code",
   "execution_count": 88,
   "metadata": {},
   "outputs": [],
   "source": [
    "bechdel_df.to_csv('my_data/bechdel_movies.csv', index=False)"
   ]
  },
  {
   "cell_type": "code",
   "execution_count": null,
   "metadata": {},
   "outputs": [],
   "source": [
    "# aw man I forgot to change the passing column to binary"
   ]
  },
  {
   "cell_type": "markdown",
   "metadata": {},
   "source": [
    "#### D. Convert `passing` values to binary"
   ]
  },
  {
   "cell_type": "code",
   "execution_count": 89,
   "metadata": {},
   "outputs": [],
   "source": [
    "bechdel_df.passing.replace({'nopass': 0, 'pass': 1}, inplace=True)"
   ]
  },
  {
   "cell_type": "code",
   "execution_count": 90,
   "metadata": {},
   "outputs": [
    {
     "data": {
      "text/html": [
       "<div>\n",
       "<style scoped>\n",
       "    .dataframe tbody tr th:only-of-type {\n",
       "        vertical-align: middle;\n",
       "    }\n",
       "\n",
       "    .dataframe tbody tr th {\n",
       "        vertical-align: top;\n",
       "    }\n",
       "\n",
       "    .dataframe thead th {\n",
       "        text-align: right;\n",
       "    }\n",
       "</style>\n",
       "<table border=\"1\" class=\"dataframe\">\n",
       "  <thead>\n",
       "    <tr style=\"text-align: right;\">\n",
       "      <th></th>\n",
       "      <th>year</th>\n",
       "      <th>title</th>\n",
       "      <th>score</th>\n",
       "      <th>passing</th>\n",
       "      <th>imdb_id</th>\n",
       "      <th>imdb_link</th>\n",
       "    </tr>\n",
       "  </thead>\n",
       "  <tbody>\n",
       "    <tr>\n",
       "      <th>0</th>\n",
       "      <td>2019</td>\n",
       "      <td>Alita: Battle Angel</td>\n",
       "      <td>3</td>\n",
       "      <td>1</td>\n",
       "      <td>tt0437086</td>\n",
       "      <td>http://us.imdb.com/title/tt0437086/</td>\n",
       "    </tr>\n",
       "    <tr>\n",
       "      <th>1</th>\n",
       "      <td>2019</td>\n",
       "      <td>American Woman</td>\n",
       "      <td>3</td>\n",
       "      <td>1</td>\n",
       "      <td>tt9109492</td>\n",
       "      <td>http://us.imdb.com/title/tt9109492/</td>\n",
       "    </tr>\n",
       "    <tr>\n",
       "      <th>2</th>\n",
       "      <td>2019</td>\n",
       "      <td>Close</td>\n",
       "      <td>3</td>\n",
       "      <td>1</td>\n",
       "      <td>tt5316540</td>\n",
       "      <td>http://us.imdb.com/title/tt5316540/</td>\n",
       "    </tr>\n",
       "    <tr>\n",
       "      <th>3</th>\n",
       "      <td>2019</td>\n",
       "      <td>Cold Pursuit</td>\n",
       "      <td>1</td>\n",
       "      <td>0</td>\n",
       "      <td>tt5719748</td>\n",
       "      <td>http://us.imdb.com/title/tt5719748/</td>\n",
       "    </tr>\n",
       "    <tr>\n",
       "      <th>4</th>\n",
       "      <td>2019</td>\n",
       "      <td>How to Train Your Dragon: The Hidden World</td>\n",
       "      <td>2</td>\n",
       "      <td>0</td>\n",
       "      <td>tt2386490</td>\n",
       "      <td>http://us.imdb.com/title/tt2386490/</td>\n",
       "    </tr>\n",
       "  </tbody>\n",
       "</table>\n",
       "</div>"
      ],
      "text/plain": [
       "   year                                       title  score  passing  \\\n",
       "0  2019                         Alita: Battle Angel      3        1   \n",
       "1  2019                              American Woman      3        1   \n",
       "2  2019                                       Close      3        1   \n",
       "3  2019                                Cold Pursuit      1        0   \n",
       "4  2019  How to Train Your Dragon: The Hidden World      2        0   \n",
       "\n",
       "     imdb_id                            imdb_link  \n",
       "0  tt0437086  http://us.imdb.com/title/tt0437086/  \n",
       "1  tt9109492  http://us.imdb.com/title/tt9109492/  \n",
       "2  tt5316540  http://us.imdb.com/title/tt5316540/  \n",
       "3  tt5719748  http://us.imdb.com/title/tt5719748/  \n",
       "4  tt2386490  http://us.imdb.com/title/tt2386490/  "
      ]
     },
     "execution_count": 90,
     "metadata": {},
     "output_type": "execute_result"
    }
   ],
   "source": [
    "bechdel_df.head()"
   ]
  },
  {
   "cell_type": "markdown",
   "metadata": {},
   "source": [
    "#### E. Find and Drop Duplicate Entries"
   ]
  },
  {
   "cell_type": "code",
   "execution_count": 95,
   "metadata": {},
   "outputs": [],
   "source": [
    "dupes = bechdel_df.duplicated()"
   ]
  },
  {
   "cell_type": "code",
   "execution_count": 99,
   "metadata": {},
   "outputs": [
    {
     "name": "stdout",
     "output_type": "stream",
     "text": [
      "2316\n",
      "5220\n"
     ]
    }
   ],
   "source": [
    "for idx, status in enumerate(dupes):\n",
    "    if status == True:\n",
    "        print(idx)"
   ]
  },
  {
   "cell_type": "code",
   "execution_count": 101,
   "metadata": {},
   "outputs": [
    {
     "data": {
      "text/plain": [
       "year                                        2011\n",
       "title                     Last Call at the Oasis\n",
       "score                                          3\n",
       "passing                                        1\n",
       "imdb_id                                tt2043900\n",
       "imdb_link    http://us.imdb.com/title/tt2043900/\n",
       "Name: 2316, dtype: object"
      ]
     },
     "execution_count": 101,
     "metadata": {},
     "output_type": "execute_result"
    }
   ],
   "source": [
    "bechdel_df.iloc[2316]"
   ]
  },
  {
   "cell_type": "code",
   "execution_count": 102,
   "metadata": {},
   "outputs": [
    {
     "data": {
      "text/plain": [
       "year                                        1997\n",
       "title                                      Ayneh\n",
       "score                                          3\n",
       "passing                                        1\n",
       "imdb_id                                tt0117056\n",
       "imdb_link    http://us.imdb.com/title/tt0117056/\n",
       "Name: 5220, dtype: object"
      ]
     },
     "execution_count": 102,
     "metadata": {},
     "output_type": "execute_result"
    }
   ],
   "source": [
    "bechdel_df.iloc[5220]"
   ]
  },
  {
   "cell_type": "code",
   "execution_count": 103,
   "metadata": {},
   "outputs": [
    {
     "data": {
      "text/html": [
       "<div>\n",
       "<style scoped>\n",
       "    .dataframe tbody tr th:only-of-type {\n",
       "        vertical-align: middle;\n",
       "    }\n",
       "\n",
       "    .dataframe tbody tr th {\n",
       "        vertical-align: top;\n",
       "    }\n",
       "\n",
       "    .dataframe thead th {\n",
       "        text-align: right;\n",
       "    }\n",
       "</style>\n",
       "<table border=\"1\" class=\"dataframe\">\n",
       "  <thead>\n",
       "    <tr style=\"text-align: right;\">\n",
       "      <th></th>\n",
       "      <th>year</th>\n",
       "      <th>title</th>\n",
       "      <th>score</th>\n",
       "      <th>passing</th>\n",
       "      <th>imdb_id</th>\n",
       "      <th>imdb_link</th>\n",
       "    </tr>\n",
       "  </thead>\n",
       "  <tbody>\n",
       "    <tr>\n",
       "      <th>2315</th>\n",
       "      <td>2011</td>\n",
       "      <td>Last Call at the Oasis</td>\n",
       "      <td>3</td>\n",
       "      <td>1</td>\n",
       "      <td>tt2043900</td>\n",
       "      <td>http://us.imdb.com/title/tt2043900/</td>\n",
       "    </tr>\n",
       "    <tr>\n",
       "      <th>2316</th>\n",
       "      <td>2011</td>\n",
       "      <td>Last Call at the Oasis</td>\n",
       "      <td>3</td>\n",
       "      <td>1</td>\n",
       "      <td>tt2043900</td>\n",
       "      <td>http://us.imdb.com/title/tt2043900/</td>\n",
       "    </tr>\n",
       "  </tbody>\n",
       "</table>\n",
       "</div>"
      ],
      "text/plain": [
       "      year                   title  score  passing    imdb_id  \\\n",
       "2315  2011  Last Call at the Oasis      3        1  tt2043900   \n",
       "2316  2011  Last Call at the Oasis      3        1  tt2043900   \n",
       "\n",
       "                                imdb_link  \n",
       "2315  http://us.imdb.com/title/tt2043900/  \n",
       "2316  http://us.imdb.com/title/tt2043900/  "
      ]
     },
     "execution_count": 103,
     "metadata": {},
     "output_type": "execute_result"
    }
   ],
   "source": [
    "bechdel_df.loc[bechdel_df.imdb_id == 'tt2043900']"
   ]
  },
  {
   "cell_type": "code",
   "execution_count": 104,
   "metadata": {},
   "outputs": [
    {
     "data": {
      "text/html": [
       "<div>\n",
       "<style scoped>\n",
       "    .dataframe tbody tr th:only-of-type {\n",
       "        vertical-align: middle;\n",
       "    }\n",
       "\n",
       "    .dataframe tbody tr th {\n",
       "        vertical-align: top;\n",
       "    }\n",
       "\n",
       "    .dataframe thead th {\n",
       "        text-align: right;\n",
       "    }\n",
       "</style>\n",
       "<table border=\"1\" class=\"dataframe\">\n",
       "  <thead>\n",
       "    <tr style=\"text-align: right;\">\n",
       "      <th></th>\n",
       "      <th>year</th>\n",
       "      <th>title</th>\n",
       "      <th>score</th>\n",
       "      <th>passing</th>\n",
       "      <th>imdb_id</th>\n",
       "      <th>imdb_link</th>\n",
       "    </tr>\n",
       "  </thead>\n",
       "  <tbody>\n",
       "    <tr>\n",
       "      <th>5219</th>\n",
       "      <td>1997</td>\n",
       "      <td>Ayneh</td>\n",
       "      <td>3</td>\n",
       "      <td>1</td>\n",
       "      <td>tt0117056</td>\n",
       "      <td>http://us.imdb.com/title/tt0117056/</td>\n",
       "    </tr>\n",
       "    <tr>\n",
       "      <th>5220</th>\n",
       "      <td>1997</td>\n",
       "      <td>Ayneh</td>\n",
       "      <td>3</td>\n",
       "      <td>1</td>\n",
       "      <td>tt0117056</td>\n",
       "      <td>http://us.imdb.com/title/tt0117056/</td>\n",
       "    </tr>\n",
       "  </tbody>\n",
       "</table>\n",
       "</div>"
      ],
      "text/plain": [
       "      year  title  score  passing    imdb_id  \\\n",
       "5219  1997  Ayneh      3        1  tt0117056   \n",
       "5220  1997  Ayneh      3        1  tt0117056   \n",
       "\n",
       "                                imdb_link  \n",
       "5219  http://us.imdb.com/title/tt0117056/  \n",
       "5220  http://us.imdb.com/title/tt0117056/  "
      ]
     },
     "execution_count": 104,
     "metadata": {},
     "output_type": "execute_result"
    }
   ],
   "source": [
    "bechdel_df.loc[bechdel_df.imdb_id == 'tt0117056']"
   ]
  },
  {
   "cell_type": "code",
   "execution_count": 105,
   "metadata": {},
   "outputs": [],
   "source": [
    "bechdel_df.drop_duplicates(inplace=True)"
   ]
  },
  {
   "cell_type": "code",
   "execution_count": 106,
   "metadata": {},
   "outputs": [
    {
     "data": {
      "text/plain": [
       "(8050, 6)"
      ]
     },
     "execution_count": 106,
     "metadata": {},
     "output_type": "execute_result"
    }
   ],
   "source": [
    "bechdel_df.shape"
   ]
  },
  {
   "cell_type": "code",
   "execution_count": 107,
   "metadata": {},
   "outputs": [
    {
     "data": {
      "text/plain": [
       "0"
      ]
     },
     "execution_count": 107,
     "metadata": {},
     "output_type": "execute_result"
    }
   ],
   "source": [
    "bechdel_df.duplicated().sum()"
   ]
  },
  {
   "cell_type": "markdown",
   "metadata": {},
   "source": [
    "#### F. Save to `.csv` file"
   ]
  },
  {
   "cell_type": "code",
   "execution_count": 108,
   "metadata": {},
   "outputs": [],
   "source": [
    "bechdel_df.to_csv('my_data/bechdel_test_movies.csv', index=False)"
   ]
  },
  {
   "cell_type": "markdown",
   "metadata": {},
   "source": [
    "## II. IMDB "
   ]
  },
  {
   "cell_type": "code",
   "execution_count": 2,
   "metadata": {},
   "outputs": [
    {
     "data": {
      "text/html": [
       "<div>\n",
       "<style scoped>\n",
       "    .dataframe tbody tr th:only-of-type {\n",
       "        vertical-align: middle;\n",
       "    }\n",
       "\n",
       "    .dataframe tbody tr th {\n",
       "        vertical-align: top;\n",
       "    }\n",
       "\n",
       "    .dataframe thead th {\n",
       "        text-align: right;\n",
       "    }\n",
       "</style>\n",
       "<table border=\"1\" class=\"dataframe\">\n",
       "  <thead>\n",
       "    <tr style=\"text-align: right;\">\n",
       "      <th></th>\n",
       "      <th>year</th>\n",
       "      <th>title</th>\n",
       "      <th>score</th>\n",
       "      <th>passing</th>\n",
       "      <th>imdb_id</th>\n",
       "      <th>imdb_link</th>\n",
       "    </tr>\n",
       "  </thead>\n",
       "  <tbody>\n",
       "    <tr>\n",
       "      <th>0</th>\n",
       "      <td>2019</td>\n",
       "      <td>Alita: Battle Angel</td>\n",
       "      <td>3</td>\n",
       "      <td>1</td>\n",
       "      <td>tt0437086</td>\n",
       "      <td>http://us.imdb.com/title/tt0437086/</td>\n",
       "    </tr>\n",
       "    <tr>\n",
       "      <th>1</th>\n",
       "      <td>2019</td>\n",
       "      <td>American Woman</td>\n",
       "      <td>3</td>\n",
       "      <td>1</td>\n",
       "      <td>tt9109492</td>\n",
       "      <td>http://us.imdb.com/title/tt9109492/</td>\n",
       "    </tr>\n",
       "    <tr>\n",
       "      <th>2</th>\n",
       "      <td>2019</td>\n",
       "      <td>Close</td>\n",
       "      <td>3</td>\n",
       "      <td>1</td>\n",
       "      <td>tt5316540</td>\n",
       "      <td>http://us.imdb.com/title/tt5316540/</td>\n",
       "    </tr>\n",
       "    <tr>\n",
       "      <th>3</th>\n",
       "      <td>2019</td>\n",
       "      <td>Cold Pursuit</td>\n",
       "      <td>1</td>\n",
       "      <td>0</td>\n",
       "      <td>tt5719748</td>\n",
       "      <td>http://us.imdb.com/title/tt5719748/</td>\n",
       "    </tr>\n",
       "    <tr>\n",
       "      <th>4</th>\n",
       "      <td>2019</td>\n",
       "      <td>How to Train Your Dragon: The Hidden World</td>\n",
       "      <td>2</td>\n",
       "      <td>0</td>\n",
       "      <td>tt2386490</td>\n",
       "      <td>http://us.imdb.com/title/tt2386490/</td>\n",
       "    </tr>\n",
       "  </tbody>\n",
       "</table>\n",
       "</div>"
      ],
      "text/plain": [
       "   year                                       title  score  passing  \\\n",
       "0  2019                         Alita: Battle Angel      3        1   \n",
       "1  2019                              American Woman      3        1   \n",
       "2  2019                                       Close      3        1   \n",
       "3  2019                                Cold Pursuit      1        0   \n",
       "4  2019  How to Train Your Dragon: The Hidden World      2        0   \n",
       "\n",
       "     imdb_id                            imdb_link  \n",
       "0  tt0437086  http://us.imdb.com/title/tt0437086/  \n",
       "1  tt9109492  http://us.imdb.com/title/tt9109492/  \n",
       "2  tt5316540  http://us.imdb.com/title/tt5316540/  \n",
       "3  tt5719748  http://us.imdb.com/title/tt5719748/  \n",
       "4  tt2386490  http://us.imdb.com/title/tt2386490/  "
      ]
     },
     "execution_count": 2,
     "metadata": {},
     "output_type": "execute_result"
    }
   ],
   "source": [
    "df = pd.read_csv('my_data/bechdel_test_movies.csv')\n",
    "df.head()"
   ]
  },
  {
   "cell_type": "markdown",
   "metadata": {},
   "source": [
    "#### A. Grab attributes from one movie: Hurt Locker"
   ]
  },
  {
   "cell_type": "code",
   "execution_count": 5,
   "metadata": {},
   "outputs": [
    {
     "data": {
      "text/html": [
       "<div>\n",
       "<style scoped>\n",
       "    .dataframe tbody tr th:only-of-type {\n",
       "        vertical-align: middle;\n",
       "    }\n",
       "\n",
       "    .dataframe tbody tr th {\n",
       "        vertical-align: top;\n",
       "    }\n",
       "\n",
       "    .dataframe thead th {\n",
       "        text-align: right;\n",
       "    }\n",
       "</style>\n",
       "<table border=\"1\" class=\"dataframe\">\n",
       "  <thead>\n",
       "    <tr style=\"text-align: right;\">\n",
       "      <th></th>\n",
       "      <th>year</th>\n",
       "      <th>title</th>\n",
       "      <th>score</th>\n",
       "      <th>passing</th>\n",
       "      <th>imdb_id</th>\n",
       "      <th>imdb_link</th>\n",
       "    </tr>\n",
       "  </thead>\n",
       "  <tbody>\n",
       "    <tr>\n",
       "      <th>3275</th>\n",
       "      <td>2008</td>\n",
       "      <td>The Hurt Locker</td>\n",
       "      <td>1</td>\n",
       "      <td>0</td>\n",
       "      <td>tt0887912</td>\n",
       "      <td>http://us.imdb.com/title/tt0887912/</td>\n",
       "    </tr>\n",
       "  </tbody>\n",
       "</table>\n",
       "</div>"
      ],
      "text/plain": [
       "      year            title  score  passing    imdb_id  \\\n",
       "3275  2008  The Hurt Locker      1        0  tt0887912   \n",
       "\n",
       "                                imdb_link  \n",
       "3275  http://us.imdb.com/title/tt0887912/  "
      ]
     },
     "execution_count": 5,
     "metadata": {},
     "output_type": "execute_result"
    }
   ],
   "source": [
    "df.loc[df.title == 'The Hurt Locker']"
   ]
  },
  {
   "cell_type": "code",
   "execution_count": 6,
   "metadata": {},
   "outputs": [],
   "source": [
    "from datetime import datetime"
   ]
  },
  {
   "cell_type": "code",
   "execution_count": 8,
   "metadata": {},
   "outputs": [
    {
     "name": "stdout",
     "output_type": "stream",
     "text": [
      "0:00:05.002150\n"
     ]
    }
   ],
   "source": [
    "start = datetime.now()\n",
    "sleep(5)\n",
    "elapsed = datetime.now() - start\n",
    "print(elapsed)"
   ]
  },
  {
   "cell_type": "code",
   "execution_count": 10,
   "metadata": {},
   "outputs": [],
   "source": [
    "test_url = df.imdb_link.iloc[3275]\n",
    "response = get(test_url)\n",
    "soup = BeautifulSoup(response.text, 'html.parser')    "
   ]
  },
  {
   "cell_type": "code",
   "execution_count": 39,
   "metadata": {},
   "outputs": [],
   "source": [
    "# soup.findAll('div', {'class': 'main', 'id': 'main_top'})"
   ]
  },
  {
   "cell_type": "code",
   "execution_count": null,
   "metadata": {},
   "outputs": [],
   "source": [
    "# imdb is not going to like 8000+ requests from me. . . I think wikipedia might be a better bet and seems to\n",
    "# contain the same information"
   ]
  },
  {
   "cell_type": "markdown",
   "metadata": {},
   "source": [
    "## III. Wikipedia"
   ]
  },
  {
   "cell_type": "code",
   "execution_count": 12,
   "metadata": {},
   "outputs": [
    {
     "data": {
      "text/html": [
       "<div>\n",
       "<style scoped>\n",
       "    .dataframe tbody tr th:only-of-type {\n",
       "        vertical-align: middle;\n",
       "    }\n",
       "\n",
       "    .dataframe tbody tr th {\n",
       "        vertical-align: top;\n",
       "    }\n",
       "\n",
       "    .dataframe thead th {\n",
       "        text-align: right;\n",
       "    }\n",
       "</style>\n",
       "<table border=\"1\" class=\"dataframe\">\n",
       "  <thead>\n",
       "    <tr style=\"text-align: right;\">\n",
       "      <th></th>\n",
       "      <th>year</th>\n",
       "      <th>title</th>\n",
       "      <th>score</th>\n",
       "      <th>passing</th>\n",
       "      <th>imdb_id</th>\n",
       "      <th>imdb_link</th>\n",
       "    </tr>\n",
       "  </thead>\n",
       "  <tbody>\n",
       "    <tr>\n",
       "      <th>3275</th>\n",
       "      <td>2008</td>\n",
       "      <td>The Hurt Locker</td>\n",
       "      <td>1</td>\n",
       "      <td>0</td>\n",
       "      <td>tt0887912</td>\n",
       "      <td>http://us.imdb.com/title/tt0887912/</td>\n",
       "    </tr>\n",
       "  </tbody>\n",
       "</table>\n",
       "</div>"
      ],
      "text/plain": [
       "      year            title  score  passing    imdb_id  \\\n",
       "3275  2008  The Hurt Locker      1        0  tt0887912   \n",
       "\n",
       "                                imdb_link  \n",
       "3275  http://us.imdb.com/title/tt0887912/  "
      ]
     },
     "execution_count": 12,
     "metadata": {},
     "output_type": "execute_result"
    }
   ],
   "source": [
    "df.loc[df.title == 'The Hurt Locker']"
   ]
  },
  {
   "cell_type": "code",
   "execution_count": 13,
   "metadata": {},
   "outputs": [],
   "source": [
    "test_url = 'https://en.wikipedia.org/wiki/The_Hurt_Locker'\n",
    "response = get(test_url)\n",
    "soup = BeautifulSoup(response.text, 'html.parser')  "
   ]
  },
  {
   "cell_type": "code",
   "execution_count": 16,
   "metadata": {},
   "outputs": [
    {
     "data": {
      "text/plain": [
       "[<table class=\"infobox vevent\" style=\"width:22em;font-size:90%;\"><tbody><tr><th class=\"summary\" colspan=\"2\" style=\"text-align:center;font-size:125%;font-weight:bold;font-size:110%;font-style:italic;\">The Hurt Locker</th></tr><tr><td colspan=\"2\" style=\"text-align:center\"><a class=\"image\" href=\"/wiki/File:HLposterUSA2.jpg\" title=\"From above a flat. and dry desert floor, a person in a green military uniform with heavy padding holds red wires attached to seven pill-shaped bomb canisters scattered around him. At the top of the poster are three critics' favorable opinions: &quot;A near-perfect movie&quot;, &quot;A full-tilt action picture&quot;, and &quot;Ferociously suspenseful&quot;. Below the quotes is the title &quot;THE HURT LOCKER&quot; and the tagline, &quot;You don't have to be a hero to do this job. But it helps.&quot;\"><img alt=\"From above a flat. and dry desert floor, a person in a green military uniform with heavy padding holds red wires attached to seven pill-shaped bomb canisters scattered around him. At the top of the poster are three critics' favorable opinions: &quot;A near-perfect movie&quot;, &quot;A full-tilt action picture&quot;, and &quot;Ferociously suspenseful&quot;. Below the quotes is the title &quot;THE HURT LOCKER&quot; and the tagline, &quot;You don't have to be a hero to do this job. But it helps.&quot;\" class=\"thumbborder\" data-file-height=\"389\" data-file-width=\"250\" decoding=\"async\" height=\"342\" src=\"//upload.wikimedia.org/wikipedia/en/thumb/6/6c/HLposterUSA2.jpg/220px-HLposterUSA2.jpg\" srcset=\"//upload.wikimedia.org/wikipedia/en/6/6c/HLposterUSA2.jpg 1.5x\" width=\"220\"/></a><div style=\"font-size:95%;padding:0.35em 0.35em 0.25em;line-height:1.25em;\">Theatrical release poster</div></td></tr><tr><th scope=\"row\" style=\"white-space:nowrap;padding-right:0.65em;\">Directed by</th><td><a href=\"/wiki/Kathryn_Bigelow\" title=\"Kathryn Bigelow\">Kathryn Bigelow</a></td></tr><tr><th scope=\"row\" style=\"white-space:nowrap;padding-right:0.65em;\">Produced by</th><td><div class=\"plainlist\">\n",
       " <ul><li>Kathryn Bigelow</li>\n",
       " <li><a href=\"/wiki/Mark_Boal\" title=\"Mark Boal\">Mark Boal</a></li>\n",
       " <li><a href=\"/wiki/Nicolas_Chartier\" title=\"Nicolas Chartier\">Nicolas Chartier</a></li>\n",
       " <li>Greg Shapiro</li></ul>\n",
       " </div></td></tr><tr><th scope=\"row\" style=\"white-space:nowrap;padding-right:0.65em;\">Written by</th><td>Mark Boal</td></tr><tr><th scope=\"row\" style=\"white-space:nowrap;padding-right:0.65em;\">Starring</th><td><div class=\"plainlist\">\n",
       " <ul><li><a href=\"/wiki/Jeremy_Renner\" title=\"Jeremy Renner\">Jeremy Renner</a></li>\n",
       " <li><a href=\"/wiki/Anthony_Mackie\" title=\"Anthony Mackie\">Anthony Mackie</a></li>\n",
       " <li><a href=\"/wiki/Brian_Geraghty\" title=\"Brian Geraghty\">Brian Geraghty</a></li>\n",
       " <li><a href=\"/wiki/Evangeline_Lilly\" title=\"Evangeline Lilly\">Evangeline Lilly</a></li>\n",
       " <li><a href=\"/wiki/Ralph_Fiennes\" title=\"Ralph Fiennes\">Ralph Fiennes</a></li>\n",
       " <li><a href=\"/wiki/David_Morse_(actor)\" title=\"David Morse (actor)\">David Morse</a></li>\n",
       " <li><a href=\"/wiki/Guy_Pearce\" title=\"Guy Pearce\">Guy Pearce</a></li></ul>\n",
       " </div></td></tr><tr><th scope=\"row\" style=\"white-space:nowrap;padding-right:0.65em;\">Music by</th><td><div class=\"plainlist\"><ul><li><a href=\"/wiki/Marco_Beltrami\" title=\"Marco Beltrami\">Marco Beltrami</a></li><li>Buck Sanders</li></ul></div></td></tr><tr><th scope=\"row\" style=\"white-space:nowrap;padding-right:0.65em;\">Cinematography</th><td><a href=\"/wiki/Barry_Ackroyd\" title=\"Barry Ackroyd\">Barry Ackroyd</a></td></tr><tr><th scope=\"row\" style=\"white-space:nowrap;padding-right:0.65em;\">Edited by</th><td><div class=\"plainlist\">\n",
       " <ul><li><a href=\"/wiki/Chris_Innis\" title=\"Chris Innis\">Chris Innis</a></li>\n",
       " <li><a href=\"/wiki/Bob_Murawski\" title=\"Bob Murawski\">Bob Murawski</a></li></ul>\n",
       " </div></td></tr><tr><th scope=\"row\" style=\"white-space:nowrap;padding-right:0.65em;\"><div style=\"padding:0.1em 0;line-height:1.2em;\">Production<br/>company </div></th><td><div style=\"vertical-align:middle;\"><div class=\"plainlist\">\n",
       " <ul><li><a href=\"/wiki/Voltage_Pictures\" title=\"Voltage Pictures\">Voltage Pictures</a></li>\n",
       " <li><a href=\"/wiki/Grosvenor_Park_Productions\" title=\"Grosvenor Park Productions\">Grosvenor Park Media</a></li>\n",
       " <li>Film Capital Europe Funds</li>\n",
       " <li>First Light Productions</li>\n",
       " <li>Kingsgate Films</li></ul>\n",
       " </div> </div></td></tr><tr><th scope=\"row\" style=\"white-space:nowrap;padding-right:0.65em;\">Distributed by</th><td><a href=\"/wiki/Summit_Entertainment\" title=\"Summit Entertainment\">Summit Entertainment</a></td></tr><tr><th scope=\"row\" style=\"white-space:nowrap;padding-right:0.65em;\"><div style=\"padding:0.1em 0;line-height:1.2em;white-space:normal;\">Release date</div></th><td><div class=\"plainlist\">\n",
       " <ul><li>September 4, 2008<span style=\"display:none\"> (<span class=\"bday dtstart published updated\">2008-09-04</span>)</span> (<a href=\"/wiki/65th_Venice_International_Film_Festival\" title=\"65th Venice International Film Festival\">Venice</a>)</li>\n",
       " <li>June 26, 2009<span style=\"display:none\"> (<span class=\"bday dtstart published updated\">2009-06-26</span>)</span> (United States)</li>\n",
       " <li class=\"mw-empty-elt\"></li>\n",
       " <li class=\"mw-empty-elt\"></li>\n",
       " <li class=\"mw-empty-elt\"></li></ul>\n",
       " </div></td></tr><tr><th scope=\"row\" style=\"white-space:nowrap;padding-right:0.65em;\"><div style=\"padding:0.1em 0;line-height:1.2em;white-space:normal;\">Running time</div></th><td>131 minutes</td></tr><tr><th scope=\"row\" style=\"white-space:nowrap;padding-right:0.65em;\">Country</th><td>United States</td></tr><tr><th scope=\"row\" style=\"white-space:nowrap;padding-right:0.65em;\">Language</th><td>English</td></tr><tr><th scope=\"row\" style=\"white-space:nowrap;padding-right:0.65em;\">Budget</th><td>$15 million<sup class=\"reference\" id=\"cite_ref-bom_1-0\"><a href=\"#cite_note-bom-1\">[1]</a></sup></td></tr><tr><th scope=\"row\" style=\"white-space:nowrap;padding-right:0.65em;\">Box office</th><td>$49.2 million<sup class=\"reference\" id=\"cite_ref-bom_1-1\"><a href=\"#cite_note-bom-1\">[1]</a></sup></td></tr></tbody></table>]"
      ]
     },
     "execution_count": 16,
     "metadata": {},
     "output_type": "execute_result"
    }
   ],
   "source": [
    "info_box = soup.findAll('table', {'class': 'infobox vevent'})\n",
    "info_box"
   ]
  },
  {
   "cell_type": "code",
   "execution_count": 52,
   "metadata": {},
   "outputs": [
    {
     "data": {
      "text/plain": [
       "[]"
      ]
     },
     "execution_count": 52,
     "metadata": {},
     "output_type": "execute_result"
    }
   ],
   "source": [
    "info_box[0].findAll('tr', {'class': 'thumbborder'})"
   ]
  },
  {
   "cell_type": "code",
   "execution_count": 54,
   "metadata": {},
   "outputs": [],
   "source": [
    "import wptools"
   ]
  },
  {
   "cell_type": "code",
   "execution_count": 57,
   "metadata": {},
   "outputs": [
    {
     "name": "stderr",
     "output_type": "stream",
     "text": [
      "en.wikipedia.org (parse) The Hurt Locker\n",
      "en.wikipedia.org (imageinfo) File:HLposterUSA2.jpg\n",
      "The Hurt Locker (en) data\n",
      "{\n",
      "  image: <list(1)> {'kind': 'parse-image', 'file': 'File:HLposterU...\n",
      "  infobox: <dict(18)> name, image, alt, caption, director, produce...\n",
      "  iwlinks: <list(2)> https://en.wikiquote.org/wiki/Special:Search/...\n",
      "  pageid: 16733548\n",
      "  parsetree: <str(93950)> <root><template><title>Use mdy dates</ti...\n",
      "  requests: <list(2)> parse, imageinfo\n",
      "  title: The Hurt Locker\n",
      "  wikibase: Q183066\n",
      "  wikidata_url: https://www.wikidata.org/wiki/Q183066\n",
      "  wikitext: <str(76614)> {{Use mdy dates|date=August 2017}}{{Infob...\n",
      "}\n"
     ]
    }
   ],
   "source": [
    "p = wptools.page('The Hurt Locker').get_parse()"
   ]
  },
  {
   "cell_type": "code",
   "execution_count": 72,
   "metadata": {},
   "outputs": [
    {
     "data": {
      "text/plain": [
       "{'name': 'The Hurt Locker',\n",
       " 'image': 'HLposterUSA2.jpg',\n",
       " 'alt': 'From above a flat. and dry desert floor, a person in a green military uniform with heavy padding holds red wires attached to seven pill-shaped bomb canisters scattered around him. At the top of the poster are three critics\\' favorable opinions: \"A near-perfect movie\", \"A full-tilt action picture\", and \"Ferociously suspenseful\". Below the quotes is the title \"THE HURT LOCKER\" and the tagline, \"You don\\'t have to be a hero to do this job. But it helps.\"',\n",
       " 'caption': 'Theatrical release poster',\n",
       " 'director': '[[Kathryn Bigelow]]',\n",
       " 'producer': '{{plainlist|\\n* Kathryn Bigelow\\n* [[Mark Boal]]\\n* [[Nicolas Chartier]]\\n* Greg Shapiro}}',\n",
       " 'writer': 'Mark Boal',\n",
       " 'starring': '{{plainlist|\\n* [[Jeremy Renner]]\\n* [[Anthony Mackie]]\\n* [[Brian Geraghty]]\\n* [[Evangeline Lilly]]\\n* [[Ralph Fiennes]]\\n* [[David Morse (actor)|David Morse]]\\n* [[Guy Pearce]]}}',\n",
       " 'cinematography': '[[Barry Ackroyd]]',\n",
       " 'editing': '{{plainlist|\\n* [[Chris Innis]]\\n* [[Bob Murawski]]}}',\n",
       " 'studio': '{{plainlist|\\n* [[Voltage Pictures]]\\n* [[Grosvenor Park Productions|Grosvenor Park Media]]\\n* Film Capital Europe Funds\\n* First Light Productions\\n* Kingsgate Films}}',\n",
       " 'distributor': '[[Summit Entertainment]]',\n",
       " 'released': '{{Film date|2008|9|4|[[65th Venice International Film Festival|Venice]]|2009|6|26|United States}}',\n",
       " 'runtime': '131 minutes',\n",
       " 'country': 'United States',\n",
       " 'language': 'English',\n",
       " 'budget': '$15 million',\n",
       " 'gross': '$49.2 million'}"
      ]
     },
     "execution_count": 72,
     "metadata": {},
     "output_type": "execute_result"
    }
   ],
   "source": [
    "p.data['infobox']"
   ]
  },
  {
   "cell_type": "code",
   "execution_count": 74,
   "metadata": {},
   "outputs": [
    {
     "name": "stderr",
     "output_type": "stream",
     "text": [
      "www.wikidata.org (wikidata) Q183066\n",
      "www.wikidata.org (labels) P345|P3107|P373|Q369747|Q1860|Q34816|P1...\n",
      "www.wikidata.org (labels) Q465754|Q20644797|Q22006653|P31|P840|P4...\n",
      "www.wikidata.org (labels) Q1077361|P3808|P344|Q3990883|P1552|P452...\n",
      "en.wikipedia.org (imageinfo) File:The hurt locker.svg\n",
      "The Hurt Locker (en) data\n",
      "{\n",
      "  aliases: <list(1)> Hurt Locker\n",
      "  claims: <dict(83)> P905, P57, P31, P345, P480, P373, P161, P58, ...\n",
      "  description: 2008 American war film directed by Kathryn Bigelow\n",
      "  image: <list(2)> {'kind': 'parse-image', 'file': 'File:HLposterU...\n",
      "  infobox: <dict(18)> name, image, alt, caption, director, produce...\n",
      "  iwlinks: <list(2)> https://en.wikiquote.org/wiki/Special:Search/...\n",
      "  label: The Hurt Locker\n",
      "  labels: <dict(127)> P345, P3107, P373, Q369747, Q1860, Q34816, P...\n",
      "  modified: <dict(1)> wikidata\n",
      "  pageid: 16733548\n",
      "  parsetree: <str(93950)> <root><template><title>Use mdy dates</ti...\n",
      "  requests: <list(7)> parse, imageinfo, wikidata, labels, labels, ...\n",
      "  title: The_Hurt_Locker\n",
      "  what: film\n",
      "  wikibase: Q183066\n",
      "  wikidata: <dict(83)> PORT film ID (P905), director (P57), instan...\n",
      "  wikidata_pageid: 182122\n",
      "  wikidata_url: https://www.wikidata.org/wiki/Q183066\n",
      "  wikitext: <str(76614)> {{Use mdy dates|date=August 2017}}{{Infob...\n",
      "}\n"
     ]
    },
    {
     "data": {
      "text/plain": [
       "<wptools.page.WPToolsPage at 0x11c889208>"
      ]
     },
     "execution_count": 74,
     "metadata": {},
     "output_type": "execute_result"
    }
   ],
   "source": [
    "p.get_wikidata()"
   ]
  },
  {
   "cell_type": "code",
   "execution_count": 75,
   "metadata": {},
   "outputs": [
    {
     "data": {
      "text/plain": [
       "{'PORT film ID (P905)': '96796',\n",
       " 'director (P57)': 'Kathryn Bigelow (Q34816)',\n",
       " 'instance of (P31)': 'film (Q11424)',\n",
       " 'IMDb ID (P345)': 'tt0887912',\n",
       " 'FilmAffinity ID (P480)': '588031',\n",
       " 'Commons category (P373)': 'The Hurt Locker',\n",
       " 'cast member (P161)': ['Jeremy Renner (Q23365)',\n",
       "  'Anthony Mackie (Q511554)',\n",
       "  'Brian Geraghty (Q460563)',\n",
       "  'Christian Camargo (Q456291)',\n",
       "  'Evangeline Lilly (Q160392)',\n",
       "  'Ralph Fiennes (Q28493)',\n",
       "  'Guy Pearce (Q223745)',\n",
       "  'David Morse (Q296370)',\n",
       "  'Malcolm Barrett (Q3330735)'],\n",
       " 'screenwriter (P58)': 'Mark Boal (Q370765)',\n",
       " 'producer (P162)': ['Kathryn Bigelow (Q34816)',\n",
       "  'Mark Boal (Q370765)',\n",
       "  'Nicolas Chartier (Q7029566)'],\n",
       " 'production company (P272)': ['Summit Entertainment (Q632323)',\n",
       "  'Grosvenor Park Productions (Q5610650)'],\n",
       " 'director of photography (P344)': 'Barry Ackroyd (Q790767)',\n",
       " 'original language of film or TV show (P364)': 'English (Q1860)',\n",
       " 'genre (P136)': ['action thriller (Q3990883)',\n",
       "  'war film (Q369747)',\n",
       "  'independent film (Q459290)',\n",
       "  'drama film (Q130232)'],\n",
       " 'official website (P856)': 'http://www.thehurtlocker-movie.com',\n",
       " 'Freebase ID (P646)': '/m/0404j37',\n",
       " 'award received (P166)': ['Academy Award for Best Picture (Q102427)',\n",
       "  'Academy Award for Best Director (Q103360)',\n",
       "  'Academy Award for Best Sound Editing (Q488645)',\n",
       "  'Academy Award for Best Film Editing (Q281939)',\n",
       "  'Academy Award for Best Writing, Original Screenplay (Q41417)',\n",
       "  'Academy Award for Best Sound Mixing (Q830079)',\n",
       "  'BAFTA Award for Best Film (Q139184)'],\n",
       " 'AlloCiné film ID (P1265)': '123021',\n",
       " 'Rotten Tomatoes ID (P1258)': 'm/hurt_locker',\n",
       " 'image (P18)': 'The hurt locker.svg',\n",
       " 'publication date (P577)': ['+2008-09-04T00:00:00Z', '+2010-02-18T00:00:00Z'],\n",
       " 'Box Office Mojo film ID (P1237)': 'hurtlocker',\n",
       " 'country of origin (P495)': 'United States of America (Q30)',\n",
       " 'AllMovie movie ID (P1562)': 'v408490',\n",
       " 'main subject (P921)': 'Iraq War (Q545449)',\n",
       " 'MovieMeter Movie ID (P1970)': '43612',\n",
       " 'DNF film ID (P1804)': '62441',\n",
       " 'Metacritic ID (P1712)': 'movie/the-hurt-locker',\n",
       " 'title (P1476)': 'The Hurt Locker',\n",
       " 'composer (P86)': 'Marco Beltrami (Q465754)',\n",
       " 'nominated for (P1411)': ['Academy Award for Best Actor (Q103916)',\n",
       "  'Academy Award for Best Director (Q103360)',\n",
       "  'Academy Award for Best Cinematography (Q131520)',\n",
       "  'Academy Award for Best Sound Editing (Q488645)',\n",
       "  'Academy Award for Best Film Editing (Q281939)',\n",
       "  'Academy Award for Best Writing, Original Screenplay (Q41417)',\n",
       "  'Academy Award for Best Picture (Q102427)',\n",
       "  'Academy Award for Best Original Score (Q488651)',\n",
       "  'Academy Award for Best Sound Mixing (Q830079)'],\n",
       " 'color (P462)': 'color (Q22006653)',\n",
       " 'ČSFD film ID (P2529)': '234493',\n",
       " 'FSK film rating (P1981)': 'FSK 16 (Q20644797)',\n",
       " 'KINENOTE film ID (P2508)': '40763',\n",
       " 'Allcinema film ID (P2465)': '335594',\n",
       " 'Netflix ID (P1874)': '70105601',\n",
       " 'Filmiroda rating (P2747)': 'Category III (Q23830578)',\n",
       " 'duration (P2047)': {'amount': '+131',\n",
       "  'unit': 'http://www.wikidata.org/entity/Q7727'},\n",
       " 'distributor (P750)': ['Summit Entertainment (Q632323)',\n",
       "  'Budapest Film (Q29577693)'],\n",
       " 'Kinopoisk film ID (P2603)': '281040',\n",
       " 'Elonet movie ID (P2346)': '1487362',\n",
       " 'ISzDb film ID (P3110)': '7980',\n",
       " 'cine.gr film ID (P3129)': '711392',\n",
       " 'LdiF ID (P3107)': '533849',\n",
       " 'Open Media Database film ID (P3302)': '12162',\n",
       " 'filming location (P915)': 'British Columbia (Q1974)',\n",
       " 'OFDb ID (P3138)': '156512',\n",
       " 'EDb film ID (P3141)': 't0013091',\n",
       " 'Sratim ID (P3145)': 'tt160093',\n",
       " 'TCM Movie Database film ID (P2631)': '665471',\n",
       " 'elFilm film ID (P3143)': '828653',\n",
       " 'Swedish Film Database film ID (P2334)': '68986',\n",
       " 'Scope.dk film ID (P2518)': '6176',\n",
       " 'aspect ratio (P2061)': '1.85:1 (Q21037379)',\n",
       " 'Museum of Modern Art work ID (P2014)': '158578',\n",
       " 'Cinema ID (P3933)': '3740523',\n",
       " 'Deutsche Synchronkartei film ID (P3844)': '14986',\n",
       " 'TV.com ID (P2638)': 'movies/the-hurt-locker',\n",
       " 'TV Guide show ID (P3804)': '298054',\n",
       " 'Movie Walker ID (P2509)': 'mv45927',\n",
       " 'The Numbers movie ID (P3808)': 'Hurt-Locker-The',\n",
       " 'elCinema film ID (P3135)': '1192246',\n",
       " 'EIDR identifier (P2704)': '10.5240/F67B-F7C1-F340-433D-4E34-Y',\n",
       " 'AFI Catalog of Feature Films ID (P3593)': '55793',\n",
       " 'ISAN identifier (P3212)': '0000-0002-308B-0000-H-0000-0000-N',\n",
       " 'Cinémathèque québécoise work identifier (P4276)': '91279',\n",
       " 'Encyclopædia Britannica Online ID (P1417)': 'topic/The-Hurt-Locker',\n",
       " 'has quality (P1552)': 'fails the Bechdel Test (Q45172088)',\n",
       " 'Bechdel Test Movie List ID (P4632)': '495',\n",
       " 'Filmweb.pl film ID (P5032)': '416984',\n",
       " 'Il mondo dei doppiatori ID (P5099)': 'film1/thehurtlocker',\n",
       " 'TMDb movie ID (P4947)': '12162',\n",
       " 'Douban film ID (P4529)': '2028645',\n",
       " 'film editor (P1040)': 'Chris Innis (Q1077361)',\n",
       " 'collection (P195)': 'Museum of Modern Art (Q188740)',\n",
       " 'Kino-teatr.ua film ID (P5311)': '5371',\n",
       " 'Hoopla ID (P5680)': '11531042',\n",
       " 'Moviepilot.de film ID (P5786)': 'the-hurt-locker-2',\n",
       " 'Academy Awards Database film ID (P6145)': '4354',\n",
       " 'Letterboxd film ID (P6127)': 'the-hurt-locker',\n",
       " 'narrative location (P840)': 'Iraq (Q796)',\n",
       " 'TV Spielfilm film ID (P6383)': '3740523',\n",
       " 'Hulu movie ID (P6466)': '7c8cd6ab-4d64-4401-8a5d-732551c250b2'}"
      ]
     },
     "execution_count": 75,
     "metadata": {},
     "output_type": "execute_result"
    }
   ],
   "source": [
    "p.data['wikidata']"
   ]
  },
  {
   "cell_type": "code",
   "execution_count": 79,
   "metadata": {},
   "outputs": [
    {
     "name": "stderr",
     "output_type": "stream",
     "text": [
      "en.wikipedia.org (parse) Cold Pursuit\n",
      "en.wikipedia.org (imageinfo) File:Cold Pursuit poster.jpg\n",
      "Cold Pursuit (en) data\n",
      "{\n",
      "  image: <list(1)> {'kind': 'parse-image', 'file': 'File:Cold Purs...\n",
      "  infobox: <dict(20)> name, image, border, caption, director, prod...\n",
      "  pageid: 58169961\n",
      "  parsetree: <str(28152)> <root><template><title>Infobox film</tit...\n",
      "  requests: <list(2)> parse, imageinfo\n",
      "  title: Cold Pursuit\n",
      "  wikibase: Q28912877\n",
      "  wikidata_url: https://www.wikidata.org/wiki/Q28912877\n",
      "  wikitext: <str(22790)> {{Infobox film| name           = Cold Pur...\n",
      "}\n"
     ]
    }
   ],
   "source": [
    "c_p = wptools.page('Cold Pursuit').get_parse()"
   ]
  },
  {
   "cell_type": "code",
   "execution_count": 81,
   "metadata": {},
   "outputs": [
    {
     "data": {
      "text/plain": [
       "{'name': 'Cold Pursuit',\n",
       " 'image': 'Cold Pursuit poster.jpg',\n",
       " 'border': 'no',\n",
       " 'caption': 'Theatrical release poster',\n",
       " 'director': '[[Hans Petter Moland]]',\n",
       " 'producer': '{{Plainlist|\\n* Finn Gjerdrum\\n* Stein B. Kvae\\n* [[Michael Shamberg]]\\n* Ameet Shukla}}',\n",
       " 'writer': 'Frank Baldwin',\n",
       " 'based on': \"{{Based on|''[[In Order of Disappearance]]''|[[Kim Fupz Aakeson]]}}\",\n",
       " 'starring': '{{Plainlist|\\n* [[Liam Neeson]] \\n* [[Tom Bateman (actor)|Tom Bateman]]\\n* [[Tom Jackson (actor)|Tom Jackson]]\\n* [[Emmy Rossum]]\\n* [[Domenick Lombardozzi]] \\n* [[Julia Jones]]\\n* [[John Doman]]\\n* [[Laura Dern]]|<!--PER BILLING ORDER-->|}}',\n",
       " 'music': '[[George Fenton]]',\n",
       " 'cinematography': '[[Philip Øgaard]]',\n",
       " 'editing': 'Nicolaj Monberg',\n",
       " 'production companies': '{{Plainlist|\\n* [[StudioCanal]]\\n* [[Summit Entertainment]]}}',\n",
       " 'distributor': 'Summit Entertainment',\n",
       " 'released': '{{Film date|2019|2|8|United States}}',\n",
       " 'runtime': '118 minutes',\n",
       " 'country': 'United States',\n",
       " 'language': 'English',\n",
       " 'budget': '$60 million',\n",
       " 'gross': '$46.3 million'}"
      ]
     },
     "execution_count": 81,
     "metadata": {},
     "output_type": "execute_result"
    }
   ],
   "source": [
    "c_p.data['infobox']"
   ]
  },
  {
   "cell_type": "code",
   "execution_count": 83,
   "metadata": {},
   "outputs": [],
   "source": [
    "cp_actors = c_p.data['infobox']['starring']"
   ]
  },
  {
   "cell_type": "code",
   "execution_count": 84,
   "metadata": {},
   "outputs": [
    {
     "data": {
      "text/plain": [
       "'{{Plainlist|\\n* [[Liam Neeson]] \\n* [[Tom Bateman (actor)|Tom Bateman]]\\n* [[Tom Jackson (actor)|Tom Jackson]]\\n* [[Emmy Rossum]]\\n* [[Domenick Lombardozzi]] \\n* [[Julia Jones]]\\n* [[John Doman]]\\n* [[Laura Dern]]|<!--PER BILLING ORDER-->|}}'"
      ]
     },
     "execution_count": 84,
     "metadata": {},
     "output_type": "execute_result"
    }
   ],
   "source": [
    "cp_actors"
   ]
  },
  {
   "cell_type": "code",
   "execution_count": 85,
   "metadata": {},
   "outputs": [
    {
     "data": {
      "text/plain": [
       "['{{Plainlist|',\n",
       " ' [[Liam Neeson]] ',\n",
       " ' [[Tom Bateman (actor)|Tom Bateman]]',\n",
       " ' [[Tom Jackson (actor)|Tom Jackson]]',\n",
       " ' [[Emmy Rossum]]',\n",
       " ' [[Domenick Lombardozzi]] ',\n",
       " ' [[Julia Jones]]',\n",
       " ' [[John Doman]]',\n",
       " ' [[Laura Dern]]|<!--PER BILLING ORDER-->|}}']"
      ]
     },
     "execution_count": 85,
     "metadata": {},
     "output_type": "execute_result"
    }
   ],
   "source": [
    "cp_actors.split('\\n*')"
   ]
  },
  {
   "cell_type": "code",
   "execution_count": 88,
   "metadata": {},
   "outputs": [
    {
     "ename": "AttributeError",
     "evalue": "'list' object has no attribute 'split'",
     "output_type": "error",
     "traceback": [
      "\u001b[0;31m---------------------------------------------------------------------------\u001b[0m",
      "\u001b[0;31mAttributeError\u001b[0m                            Traceback (most recent call last)",
      "\u001b[0;32m<ipython-input-88-3e24f2622e3c>\u001b[0m in \u001b[0;36m<module>\u001b[0;34m()\u001b[0m\n\u001b[0;32m----> 1\u001b[0;31m \u001b[0mcp_actors\u001b[0m\u001b[0;34m.\u001b[0m\u001b[0msplit\u001b[0m\u001b[0;34m(\u001b[0m\u001b[0;34m','\u001b[0m\u001b[0;34m)\u001b[0m\u001b[0;34m.\u001b[0m\u001b[0msplit\u001b[0m\u001b[0;34m(\u001b[0m\u001b[0;34m'\\n*'\u001b[0m\u001b[0;34m)\u001b[0m\u001b[0;34m\u001b[0m\u001b[0m\n\u001b[0m",
      "\u001b[0;31mAttributeError\u001b[0m: 'list' object has no attribute 'split'"
     ]
    }
   ],
   "source": [
    "cp_actors.split(',').split('\\n*')"
   ]
  },
  {
   "cell_type": "code",
   "execution_count": null,
   "metadata": {},
   "outputs": [],
   "source": []
  }
 ],
 "metadata": {
  "kernelspec": {
   "display_name": "Python [conda env:learn-env]",
   "language": "python",
   "name": "conda-env-learn-env-py"
  },
  "language_info": {
   "codemirror_mode": {
    "name": "ipython",
    "version": 3
   },
   "file_extension": ".py",
   "mimetype": "text/x-python",
   "name": "python",
   "nbconvert_exporter": "python",
   "pygments_lexer": "ipython3",
   "version": "3.6.6"
  },
  "toc": {
   "base_numbering": 1,
   "nav_menu": {},
   "number_sections": false,
   "sideBar": true,
   "skip_h1_title": false,
   "title_cell": "Table of Contents",
   "title_sidebar": "Contents",
   "toc_cell": false,
   "toc_position": {},
   "toc_section_display": true,
   "toc_window_display": true
  }
 },
 "nbformat": 4,
 "nbformat_minor": 2
}
