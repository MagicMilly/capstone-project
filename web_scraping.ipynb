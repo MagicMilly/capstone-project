{
 "cells": [
  {
   "cell_type": "markdown",
   "metadata": {},
   "source": [
    "## Web Scraping with Beautiful Soup"
   ]
  },
  {
   "cell_type": "code",
   "execution_count": 2,
   "metadata": {},
   "outputs": [],
   "source": [
    "import pandas as pd\n",
    "\n",
    "from bs4 import BeautifulSoup\n",
    "from urllib.request import urlopen"
   ]
  },
  {
   "cell_type": "markdown",
   "metadata": {},
   "source": [
    "## I. Bechdel Test website"
   ]
  },
  {
   "cell_type": "code",
   "execution_count": 3,
   "metadata": {},
   "outputs": [],
   "source": [
    "base_url = 'https://bechdeltest.com/'\n",
    "\n",
    "# open connection, grab page\n",
    "client = urlopen(base_url)\n",
    "\n",
    "# store html in variable\n",
    "base_html = client.read()\n",
    "\n",
    "# close connection\n",
    "client.close()"
   ]
  },
  {
   "cell_type": "code",
   "execution_count": 4,
   "metadata": {},
   "outputs": [],
   "source": [
    "# parse html\n",
    "soup = BeautifulSoup(base_html, 'html.parser')"
   ]
  },
  {
   "cell_type": "code",
   "execution_count": 5,
   "metadata": {},
   "outputs": [
    {
     "data": {
      "text/plain": [
       "<h1 style=\"margin-bottom: 5px\"><a href=\"/\" style=\"text-decoration:none;\">Bechdel Test Movie List</a></h1>"
      ]
     },
     "execution_count": 5,
     "metadata": {},
     "output_type": "execute_result"
    }
   ],
   "source": [
    "soup.h1"
   ]
  },
  {
   "cell_type": "code",
   "execution_count": 6,
   "metadata": {},
   "outputs": [
    {
     "data": {
      "text/plain": [
       "<p>The <b>Bechdel Test</b>, sometimes called the <i>Mo Movie Measure</i> or <i>Bechdel Rule</i> is a simple test which names the following three criteria: (1) it has to have at least two women in it, who (2) who talk to each other, about (3) something besides a man. The test was popularized by <b>Alison Bechdel</b>'s comic <b>Dykes to Watch Out For</b>, in a 1985 strip called <a href=\"http://alisonbechdel.blogspot.com/2005/08/rule.html\"><i>The Rule</i></a>. For a nice video introduction to the subject please check out <a href=\"http://www.feministfrequency.com/2009/12/the-bechdel-test-for-women-in-movies/\">The Bechdel Test for Women in Movies</a> on <a href=\"http://www.feministfrequency.com/\">feministfrequency.com</a>.</p>"
      ]
     },
     "execution_count": 6,
     "metadata": {},
     "output_type": "execute_result"
    }
   ],
   "source": [
    "soup.p"
   ]
  },
  {
   "cell_type": "code",
   "execution_count": 7,
   "metadata": {},
   "outputs": [],
   "source": [
    "# grab each movie\n",
    "movies = soup.findAll('div', {'class': 'movie'})"
   ]
  },
  {
   "cell_type": "code",
   "execution_count": 8,
   "metadata": {},
   "outputs": [
    {
     "data": {
      "text/plain": [
       "200"
      ]
     },
     "execution_count": 8,
     "metadata": {},
     "output_type": "execute_result"
    }
   ],
   "source": [
    "len(movies)"
   ]
  },
  {
   "cell_type": "code",
   "execution_count": 9,
   "metadata": {},
   "outputs": [
    {
     "data": {
      "text/plain": [
       "<div class=\"movie\"><a href=\"http://us.imdb.com/title/tt0437086/\"><img alt=\"[[3]]\" src=\"/static/pass.png\" title=\"[There are two or more women in this movie and they talk to each other about something other than a man]\"/></a>\n",
       "<a href=\"/view/8642/alita:_battle_angel/\" id=\"movie-8642\">Alita: Battle Angel</a> <a href=\"/view/8642/alita:_battle_angel/\" onclick=\"showComments('8642'); return false;\"><img alt=\"[1 comment(s) available]\" id=\"comment-img-8642\" src=\"/static/comments.png\" style=\"height: 10px; width: 10px;\" title=\"1 comment\"/></a> </div>"
      ]
     },
     "execution_count": 9,
     "metadata": {},
     "output_type": "execute_result"
    }
   ],
   "source": [
    "movies[0]"
   ]
  },
  {
   "cell_type": "code",
   "execution_count": 10,
   "metadata": {},
   "outputs": [],
   "source": [
    "# movies object contains imdb id (within imdb link), Bechdel Test score, 'pass' or 'nopass', movie title in 3 \n",
    "# different formats, and number of comments\n",
    "movie = movies[0]"
   ]
  },
  {
   "cell_type": "code",
   "execution_count": 34,
   "metadata": {},
   "outputs": [
    {
     "data": {
      "text/plain": [
       "6"
      ]
     },
     "execution_count": 34,
     "metadata": {},
     "output_type": "execute_result"
    }
   ],
   "source": [
    "len(movie.contents)"
   ]
  },
  {
   "cell_type": "code",
   "execution_count": 35,
   "metadata": {},
   "outputs": [
    {
     "data": {
      "text/plain": [
       "[<a href=\"http://us.imdb.com/title/tt0437086/\"><img alt=\"[[3]]\" src=\"/static/pass.png\" title=\"[There are two or more women in this movie and they talk to each other about something other than a man]\"/></a>,\n",
       " '\\n',\n",
       " <a href=\"/view/8642/alita:_battle_angel/\" id=\"movie-8642\">Alita: Battle Angel</a>,\n",
       " ' ',\n",
       " <a href=\"/view/8642/alita:_battle_angel/\" onclick=\"showComments('8642'); return false;\"><img alt=\"[1 comment(s) available]\" id=\"comment-img-8642\" src=\"/static/comments.png\" style=\"height: 10px; width: 10px;\" title=\"1 comment\"/></a>,\n",
       " ' ']"
      ]
     },
     "execution_count": 35,
     "metadata": {},
     "output_type": "execute_result"
    }
   ],
   "source": [
    "movie.contents"
   ]
  },
  {
   "cell_type": "code",
   "execution_count": 47,
   "metadata": {},
   "outputs": [
    {
     "data": {
      "text/plain": [
       "'2019'"
      ]
     },
     "execution_count": 47,
     "metadata": {},
     "output_type": "execute_result"
    }
   ],
   "source": [
    "movie.parent.h3.a['id'].split('-')[1]"
   ]
  },
  {
   "cell_type": "code",
   "execution_count": 39,
   "metadata": {},
   "outputs": [
    {
     "data": {
      "text/plain": [
       "'American Woman'"
      ]
     },
     "execution_count": 39,
     "metadata": {},
     "output_type": "execute_result"
    }
   ],
   "source": [
    "movies[1].contents[2].text"
   ]
  },
  {
   "cell_type": "code",
   "execution_count": 41,
   "metadata": {},
   "outputs": [
    {
     "data": {
      "text/plain": [
       "'Hold the Dark'"
      ]
     },
     "execution_count": 41,
     "metadata": {},
     "output_type": "execute_result"
    }
   ],
   "source": [
    "movies[75].contents[2].text.strip()"
   ]
  },
  {
   "cell_type": "code",
   "execution_count": 11,
   "metadata": {},
   "outputs": [
    {
     "data": {
      "text/plain": [
       "<a href=\"http://us.imdb.com/title/tt0437086/\"><img alt=\"[[3]]\" src=\"/static/pass.png\" title=\"[There are two or more women in this movie and they talk to each other about something other than a man]\"/></a>"
      ]
     },
     "execution_count": 11,
     "metadata": {},
     "output_type": "execute_result"
    }
   ],
   "source": [
    "movie.a"
   ]
  },
  {
   "cell_type": "code",
   "execution_count": 16,
   "metadata": {},
   "outputs": [
    {
     "data": {
      "text/plain": [
       "<img alt=\"[[3]]\" src=\"/static/pass.png\" title=\"[There are two or more women in this movie and they talk to each other about something other than a man]\"/>"
      ]
     },
     "execution_count": 16,
     "metadata": {},
     "output_type": "execute_result"
    }
   ],
   "source": [
    "movie.a.img"
   ]
  },
  {
   "cell_type": "code",
   "execution_count": 18,
   "metadata": {},
   "outputs": [
    {
     "data": {
      "text/plain": [
       "'[[3]]'"
      ]
     },
     "execution_count": 18,
     "metadata": {},
     "output_type": "execute_result"
    }
   ],
   "source": [
    "movie.a.img['alt']"
   ]
  },
  {
   "cell_type": "code",
   "execution_count": 19,
   "metadata": {},
   "outputs": [
    {
     "data": {
      "text/plain": [
       "'3'"
      ]
     },
     "execution_count": 19,
     "metadata": {},
     "output_type": "execute_result"
    }
   ],
   "source": [
    "# yessss! the score!!! \n",
    "movie.a.img['alt'][2]"
   ]
  },
  {
   "cell_type": "code",
   "execution_count": 20,
   "metadata": {},
   "outputs": [
    {
     "data": {
      "text/plain": [
       "'http://us.imdb.com/title/tt0437086/'"
      ]
     },
     "execution_count": 20,
     "metadata": {},
     "output_type": "execute_result"
    }
   ],
   "source": [
    "movie.a['href']"
   ]
  },
  {
   "cell_type": "code",
   "execution_count": 21,
   "metadata": {},
   "outputs": [
    {
     "data": {
      "text/plain": [
       "['http:', '', 'us.imdb.com', 'title', 'tt0437086', '']"
      ]
     },
     "execution_count": 21,
     "metadata": {},
     "output_type": "execute_result"
    }
   ],
   "source": [
    "movie.a['href'].split('/')"
   ]
  },
  {
   "cell_type": "code",
   "execution_count": 22,
   "metadata": {},
   "outputs": [
    {
     "data": {
      "text/plain": [
       "'tt0437086'"
      ]
     },
     "execution_count": 22,
     "metadata": {},
     "output_type": "execute_result"
    }
   ],
   "source": [
    "movie.a['href'].split('/')[4]"
   ]
  },
  {
   "cell_type": "code",
   "execution_count": 28,
   "metadata": {},
   "outputs": [
    {
     "data": {
      "text/plain": [
       "'pass'"
      ]
     },
     "execution_count": 28,
     "metadata": {},
     "output_type": "execute_result"
    }
   ],
   "source": [
    "movie.a.img['src'].split('/')[2].split('.')[0]"
   ]
  },
  {
   "cell_type": "code",
   "execution_count": 17,
   "metadata": {},
   "outputs": [
    {
     "data": {
      "text/plain": [
       "<div class=\"movie\"><a href=\"http://us.imdb.com/title/tt5719748/\"><img alt=\"[[1]]\" src=\"/static/nopass.png\" title=\"[There are two or more women in this movie, but they don't talk to each other]\"/></a>\n",
       "<a href=\"/view/8639/cold_pursuit/\" id=\"movie-8639\">Cold Pursuit</a> <a href=\"/view/8639/cold_pursuit/\" onclick=\"showComments('8639'); return false;\"><img alt=\"[1 comment(s) available]\" id=\"comment-img-8639\" src=\"/static/comments.png\" style=\"height: 10px; width: 10px;\" title=\"1 comment\"/></a> </div>"
      ]
     },
     "execution_count": 17,
     "metadata": {},
     "output_type": "execute_result"
    }
   ],
   "source": [
    "movies[3]"
   ]
  },
  {
   "cell_type": "code",
   "execution_count": 29,
   "metadata": {},
   "outputs": [
    {
     "data": {
      "text/plain": [
       "'nopass'"
      ]
     },
     "execution_count": 29,
     "metadata": {},
     "output_type": "execute_result"
    }
   ],
   "source": [
    "movies[3].a.img['src'].split('/')[2].split('.')[0]"
   ]
  },
  {
   "cell_type": "code",
   "execution_count": 48,
   "metadata": {},
   "outputs": [
    {
     "data": {
      "text/plain": [
       "'2019'"
      ]
     },
     "execution_count": 48,
     "metadata": {},
     "output_type": "execute_result"
    }
   ],
   "source": [
    "movies[100].parent.h3.a['id'].split('-')[1]"
   ]
  },
  {
   "cell_type": "code",
   "execution_count": 66,
   "metadata": {},
   "outputs": [
    {
     "data": {
      "text/plain": [
       "'2018'"
      ]
     },
     "execution_count": 66,
     "metadata": {},
     "output_type": "execute_result"
    }
   ],
   "source": [
    "movies[100].find_previous('h3').a['id'].split('-')[1]"
   ]
  },
  {
   "cell_type": "code",
   "execution_count": 67,
   "metadata": {},
   "outputs": [
    {
     "data": {
      "text/plain": [
       "'2017'"
      ]
     },
     "execution_count": 67,
     "metadata": {},
     "output_type": "execute_result"
    }
   ],
   "source": [
    "movies[199].find_previous('h3').a['id'].split('-')[1]"
   ]
  },
  {
   "cell_type": "code",
   "execution_count": 58,
   "metadata": {},
   "outputs": [
    {
     "data": {
      "text/plain": [
       "3"
      ]
     },
     "execution_count": 58,
     "metadata": {},
     "output_type": "execute_result"
    }
   ],
   "source": [
    "int(movies[10].a.img['alt'][2])"
   ]
  },
  {
   "cell_type": "code",
   "execution_count": 49,
   "metadata": {},
   "outputs": [
    {
     "data": {
      "text/plain": [
       "'The Miseducation of Cameron Post'"
      ]
     },
     "execution_count": 49,
     "metadata": {},
     "output_type": "execute_result"
    }
   ],
   "source": [
    "movies[100].contents[2].text.strip()"
   ]
  },
  {
   "cell_type": "code",
   "execution_count": null,
   "metadata": {},
   "outputs": [],
   "source": [
    "# could write directly to csv, but I'm not going to\n",
    "# filename = 'bechdel_test_movies.csv'\n",
    "# f = open(filename, 'w')\n",
    "# headers = 'imdb_id, imdb_link, test_score, passing, title\\n'\n",
    "# f.write(headers)\n",
    "\n",
    "# build loop\n",
    "# if writing to pandas df, change year and test_score to integers\n",
    "\n",
    "# for movie in movies:\n",
    "#     year = movie.find_previous('h3').a['id'].split('-')[1]\n",
    "#     title = movies.contents[2].text.strip()\n",
    "#     test_score = movie.a.img['alt'][2]\n",
    "#     passing = movie.a.img['src'].split('/')[2].split('.')[0]\n",
    "#     imdb_id = movie.a['href'].split('/')[4]\n",
    "#     imdb_link = movie.a['href']\n",
    "    \n",
    "    # f.write(imdb_id + ',' + imdb_link + ',' + test_score + ',' + passing.replace(',','|') + ',' + 'title' + '\\n')\n",
    "    # if a title has any punctuation. . . this may not work, should probably go into a dataframe\n",
    "# f.close()"
   ]
  },
  {
   "cell_type": "code",
   "execution_count": 69,
   "metadata": {},
   "outputs": [],
   "source": [
    "# test run on page one (sorting by year)\n",
    "\n",
    "years = []\n",
    "movie_titles = []\n",
    "test_scores = []\n",
    "pass_or_no_pass = []\n",
    "imdb_ids = []\n",
    "imdb_links = []\n",
    "\n",
    "for movie in movies:\n",
    "    \n",
    "    year = movie.find_previous('h3').a['id'].split('-')[1]\n",
    "    years.append(int(year))\n",
    "    \n",
    "    title = movie.contents[2].text.strip()\n",
    "    movie_titles.append(title)\n",
    "    \n",
    "    test_score = movie.a.img['alt'][2]\n",
    "    test_scores.append(int(test_score))\n",
    "    \n",
    "    passing = movie.a.img['src'].split('/')[2].split('.')[0]\n",
    "    pass_or_no_pass.append(passing)\n",
    "    \n",
    "    imdb_id = movie.a['href'].split('/')[4]\n",
    "    imdb_ids.append(imdb_id)\n",
    "    \n",
    "    imdb_link = movie.a['href']\n",
    "    imdb_links.append(imdb_link)"
   ]
  },
  {
   "cell_type": "code",
   "execution_count": 71,
   "metadata": {},
   "outputs": [],
   "source": [
    "test_df = pd.DataFrame({'year': years,\n",
    "                       'title': movie_titles,\n",
    "                       'score': test_scores,\n",
    "                       'passing': pass_or_no_pass,\n",
    "                       'imdb_id': imdb_ids,\n",
    "                       'imdb_link': imdb_links})"
   ]
  },
  {
   "cell_type": "code",
   "execution_count": 72,
   "metadata": {},
   "outputs": [
    {
     "data": {
      "text/html": [
       "<div>\n",
       "<style scoped>\n",
       "    .dataframe tbody tr th:only-of-type {\n",
       "        vertical-align: middle;\n",
       "    }\n",
       "\n",
       "    .dataframe tbody tr th {\n",
       "        vertical-align: top;\n",
       "    }\n",
       "\n",
       "    .dataframe thead th {\n",
       "        text-align: right;\n",
       "    }\n",
       "</style>\n",
       "<table border=\"1\" class=\"dataframe\">\n",
       "  <thead>\n",
       "    <tr style=\"text-align: right;\">\n",
       "      <th></th>\n",
       "      <th>year</th>\n",
       "      <th>title</th>\n",
       "      <th>score</th>\n",
       "      <th>passing</th>\n",
       "      <th>imdb_id</th>\n",
       "      <th>imdb_link</th>\n",
       "    </tr>\n",
       "  </thead>\n",
       "  <tbody>\n",
       "    <tr>\n",
       "      <th>0</th>\n",
       "      <td>2019</td>\n",
       "      <td>Alita: Battle Angel</td>\n",
       "      <td>3</td>\n",
       "      <td>pass</td>\n",
       "      <td>tt0437086</td>\n",
       "      <td>http://us.imdb.com/title/tt0437086/</td>\n",
       "    </tr>\n",
       "    <tr>\n",
       "      <th>1</th>\n",
       "      <td>2019</td>\n",
       "      <td>American Woman</td>\n",
       "      <td>3</td>\n",
       "      <td>pass</td>\n",
       "      <td>tt9109492</td>\n",
       "      <td>http://us.imdb.com/title/tt9109492/</td>\n",
       "    </tr>\n",
       "    <tr>\n",
       "      <th>2</th>\n",
       "      <td>2019</td>\n",
       "      <td>Close</td>\n",
       "      <td>3</td>\n",
       "      <td>pass</td>\n",
       "      <td>tt5316540</td>\n",
       "      <td>http://us.imdb.com/title/tt5316540/</td>\n",
       "    </tr>\n",
       "    <tr>\n",
       "      <th>3</th>\n",
       "      <td>2019</td>\n",
       "      <td>Cold Pursuit</td>\n",
       "      <td>1</td>\n",
       "      <td>nopass</td>\n",
       "      <td>tt5719748</td>\n",
       "      <td>http://us.imdb.com/title/tt5719748/</td>\n",
       "    </tr>\n",
       "    <tr>\n",
       "      <th>4</th>\n",
       "      <td>2019</td>\n",
       "      <td>How to Train Your Dragon: The Hidden World</td>\n",
       "      <td>2</td>\n",
       "      <td>nopass</td>\n",
       "      <td>tt2386490</td>\n",
       "      <td>http://us.imdb.com/title/tt2386490/</td>\n",
       "    </tr>\n",
       "  </tbody>\n",
       "</table>\n",
       "</div>"
      ],
      "text/plain": [
       "   year                                       title  score passing    imdb_id  \\\n",
       "0  2019                         Alita: Battle Angel      3    pass  tt0437086   \n",
       "1  2019                              American Woman      3    pass  tt9109492   \n",
       "2  2019                                       Close      3    pass  tt5316540   \n",
       "3  2019                                Cold Pursuit      1  nopass  tt5719748   \n",
       "4  2019  How to Train Your Dragon: The Hidden World      2  nopass  tt2386490   \n",
       "\n",
       "                             imdb_link  \n",
       "0  http://us.imdb.com/title/tt0437086/  \n",
       "1  http://us.imdb.com/title/tt9109492/  \n",
       "2  http://us.imdb.com/title/tt5316540/  \n",
       "3  http://us.imdb.com/title/tt5719748/  \n",
       "4  http://us.imdb.com/title/tt2386490/  "
      ]
     },
     "execution_count": 72,
     "metadata": {},
     "output_type": "execute_result"
    }
   ],
   "source": [
    "test_df.head()"
   ]
  },
  {
   "cell_type": "code",
   "execution_count": null,
   "metadata": {},
   "outputs": [],
   "source": []
  }
 ],
 "metadata": {
  "kernelspec": {
   "display_name": "Python [conda env:learn-env]",
   "language": "python",
   "name": "conda-env-learn-env-py"
  },
  "language_info": {
   "codemirror_mode": {
    "name": "ipython",
    "version": 3
   },
   "file_extension": ".py",
   "mimetype": "text/x-python",
   "name": "python",
   "nbconvert_exporter": "python",
   "pygments_lexer": "ipython3",
   "version": "3.6.6"
  },
  "toc": {
   "base_numbering": 1,
   "nav_menu": {},
   "number_sections": false,
   "sideBar": true,
   "skip_h1_title": false,
   "title_cell": "Table of Contents",
   "title_sidebar": "Contents",
   "toc_cell": false,
   "toc_position": {},
   "toc_section_display": true,
   "toc_window_display": true
  }
 },
 "nbformat": 4,
 "nbformat_minor": 2
}
