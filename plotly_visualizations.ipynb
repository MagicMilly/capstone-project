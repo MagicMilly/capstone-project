{
 "cells": [
  {
   "cell_type": "code",
   "execution_count": 1,
   "metadata": {},
   "outputs": [
    {
     "data": {
      "text/html": [
       "<script type=\"text/javascript\">window.PlotlyConfig = {MathJaxConfig: 'local'};</script><script type=\"text/javascript\">if (window.MathJax) {MathJax.Hub.Config({SVG: {font: \"STIX-Web\"}});}</script><script>requirejs.config({paths: { 'plotly': ['https://cdn.plot.ly/plotly-latest.min']},});if(!window._Plotly) {require(['plotly'],function(plotly) {window._Plotly=plotly;});}</script>"
      ],
      "text/vnd.plotly.v1+html": [
       "<script type=\"text/javascript\">window.PlotlyConfig = {MathJaxConfig: 'local'};</script><script type=\"text/javascript\">if (window.MathJax) {MathJax.Hub.Config({SVG: {font: \"STIX-Web\"}});}</script><script>requirejs.config({paths: { 'plotly': ['https://cdn.plot.ly/plotly-latest.min']},});if(!window._Plotly) {require(['plotly'],function(plotly) {window._Plotly=plotly;});}</script>"
      ]
     },
     "metadata": {},
     "output_type": "display_data"
    }
   ],
   "source": [
    "import matplotlib.pyplot as plt\n",
    "import pandas as pd\n",
    "import plotly.graph_objs as go\n",
    "\n",
    "from plotly.offline import download_plotlyjs, init_notebook_mode, plot, iplot\n",
    "\n",
    "%matplotlib inline\n",
    "init_notebook_mode(connected=True)"
   ]
  },
  {
   "cell_type": "code",
   "execution_count": 2,
   "metadata": {},
   "outputs": [
    {
     "data": {
      "text/html": [
       "<div>\n",
       "<style scoped>\n",
       "    .dataframe tbody tr th:only-of-type {\n",
       "        vertical-align: middle;\n",
       "    }\n",
       "\n",
       "    .dataframe tbody tr th {\n",
       "        vertical-align: top;\n",
       "    }\n",
       "\n",
       "    .dataframe thead th {\n",
       "        text-align: right;\n",
       "    }\n",
       "</style>\n",
       "<table border=\"1\" class=\"dataframe\">\n",
       "  <thead>\n",
       "    <tr style=\"text-align: right;\">\n",
       "      <th></th>\n",
       "      <th>year</th>\n",
       "      <th>title</th>\n",
       "      <th>score</th>\n",
       "      <th>passing</th>\n",
       "      <th>imdb_id</th>\n",
       "      <th>director_gender</th>\n",
       "      <th>writer_gender</th>\n",
       "      <th>exec_gender</th>\n",
       "      <th>producer_gender</th>\n",
       "      <th>overall_gender</th>\n",
       "      <th>budget</th>\n",
       "      <th>revenue</th>\n",
       "    </tr>\n",
       "  </thead>\n",
       "  <tbody>\n",
       "    <tr>\n",
       "      <th>0</th>\n",
       "      <td>2019.0</td>\n",
       "      <td>Alita: Battle Angel</td>\n",
       "      <td>3.0</td>\n",
       "      <td>1.0</td>\n",
       "      <td>tt0437086</td>\n",
       "      <td>0.0</td>\n",
       "      <td>1.0</td>\n",
       "      <td>0.0</td>\n",
       "      <td>0.0</td>\n",
       "      <td>1.0</td>\n",
       "      <td>170000000.0</td>\n",
       "      <td>359700000.0</td>\n",
       "    </tr>\n",
       "    <tr>\n",
       "      <th>1</th>\n",
       "      <td>2019.0</td>\n",
       "      <td>Close</td>\n",
       "      <td>3.0</td>\n",
       "      <td>1.0</td>\n",
       "      <td>tt5316540</td>\n",
       "      <td>1.0</td>\n",
       "      <td>1.0</td>\n",
       "      <td>0.0</td>\n",
       "      <td>0.0</td>\n",
       "      <td>2.0</td>\n",
       "      <td>0.0</td>\n",
       "      <td>0.0</td>\n",
       "    </tr>\n",
       "    <tr>\n",
       "      <th>2</th>\n",
       "      <td>2019.0</td>\n",
       "      <td>Cold Pursuit</td>\n",
       "      <td>1.0</td>\n",
       "      <td>0.0</td>\n",
       "      <td>tt5719748</td>\n",
       "      <td>0.0</td>\n",
       "      <td>0.0</td>\n",
       "      <td>0.0</td>\n",
       "      <td>0.0</td>\n",
       "      <td>0.0</td>\n",
       "      <td>0.0</td>\n",
       "      <td>0.0</td>\n",
       "    </tr>\n",
       "    <tr>\n",
       "      <th>3</th>\n",
       "      <td>2019.0</td>\n",
       "      <td>The Kid Who Would Be King</td>\n",
       "      <td>1.0</td>\n",
       "      <td>0.0</td>\n",
       "      <td>tt6811018</td>\n",
       "      <td>0.0</td>\n",
       "      <td>0.0</td>\n",
       "      <td>0.0</td>\n",
       "      <td>1.0</td>\n",
       "      <td>1.0</td>\n",
       "      <td>0.0</td>\n",
       "      <td>0.0</td>\n",
       "    </tr>\n",
       "    <tr>\n",
       "      <th>4</th>\n",
       "      <td>2019.0</td>\n",
       "      <td>Polar</td>\n",
       "      <td>2.0</td>\n",
       "      <td>0.0</td>\n",
       "      <td>tt4139588</td>\n",
       "      <td>0.0</td>\n",
       "      <td>0.0</td>\n",
       "      <td>0.0</td>\n",
       "      <td>0.0</td>\n",
       "      <td>0.0</td>\n",
       "      <td>0.0</td>\n",
       "      <td>0.0</td>\n",
       "    </tr>\n",
       "  </tbody>\n",
       "</table>\n",
       "</div>"
      ],
      "text/plain": [
       "     year                      title  score  passing    imdb_id  \\\n",
       "0  2019.0        Alita: Battle Angel    3.0      1.0  tt0437086   \n",
       "1  2019.0                      Close    3.0      1.0  tt5316540   \n",
       "2  2019.0               Cold Pursuit    1.0      0.0  tt5719748   \n",
       "3  2019.0  The Kid Who Would Be King    1.0      0.0  tt6811018   \n",
       "4  2019.0                      Polar    2.0      0.0  tt4139588   \n",
       "\n",
       "   director_gender  writer_gender  exec_gender  producer_gender  \\\n",
       "0              0.0            1.0          0.0              0.0   \n",
       "1              1.0            1.0          0.0              0.0   \n",
       "2              0.0            0.0          0.0              0.0   \n",
       "3              0.0            0.0          0.0              1.0   \n",
       "4              0.0            0.0          0.0              0.0   \n",
       "\n",
       "   overall_gender       budget      revenue  \n",
       "0             1.0  170000000.0  359700000.0  \n",
       "1             2.0          0.0          0.0  \n",
       "2             0.0          0.0          0.0  \n",
       "3             1.0          0.0          0.0  \n",
       "4             0.0          0.0          0.0  "
      ]
     },
     "execution_count": 2,
     "metadata": {},
     "output_type": "execute_result"
    }
   ],
   "source": [
    "bechdel_df = pd.read_csv('my_data/updated_bechdel_4.csv')\n",
    "bechdel_df.head()"
   ]
  },
  {
   "cell_type": "markdown",
   "metadata": {},
   "source": [
    "## I. Explore overall comparisons of passing vs non-passing movies"
   ]
  },
  {
   "cell_type": "markdown",
   "metadata": {},
   "source": [
    "### A. Budget & Revenue"
   ]
  },
  {
   "cell_type": "code",
   "execution_count": 13,
   "metadata": {},
   "outputs": [
    {
     "data": {
      "text/html": [
       "<div>\n",
       "<style scoped>\n",
       "    .dataframe tbody tr th:only-of-type {\n",
       "        vertical-align: middle;\n",
       "    }\n",
       "\n",
       "    .dataframe tbody tr th {\n",
       "        vertical-align: top;\n",
       "    }\n",
       "\n",
       "    .dataframe thead th {\n",
       "        text-align: right;\n",
       "    }\n",
       "</style>\n",
       "<table border=\"1\" class=\"dataframe\">\n",
       "  <thead>\n",
       "    <tr style=\"text-align: right;\">\n",
       "      <th></th>\n",
       "      <th>year</th>\n",
       "      <th>score</th>\n",
       "      <th>director_gender</th>\n",
       "      <th>writer_gender</th>\n",
       "      <th>exec_gender</th>\n",
       "      <th>producer_gender</th>\n",
       "      <th>overall_gender</th>\n",
       "      <th>budget</th>\n",
       "      <th>revenue</th>\n",
       "    </tr>\n",
       "    <tr>\n",
       "      <th>passing</th>\n",
       "      <th></th>\n",
       "      <th></th>\n",
       "      <th></th>\n",
       "      <th></th>\n",
       "      <th></th>\n",
       "      <th></th>\n",
       "      <th></th>\n",
       "      <th></th>\n",
       "      <th></th>\n",
       "    </tr>\n",
       "  </thead>\n",
       "  <tbody>\n",
       "    <tr>\n",
       "      <th>0.0</th>\n",
       "      <td>1991.026761</td>\n",
       "      <td>1.000615</td>\n",
       "      <td>0.035681</td>\n",
       "      <td>0.083359</td>\n",
       "      <td>0.015995</td>\n",
       "      <td>0.123962</td>\n",
       "      <td>0.258997</td>\n",
       "      <td>2.116392e+07</td>\n",
       "      <td>6.638363e+07</td>\n",
       "    </tr>\n",
       "    <tr>\n",
       "      <th>1.0</th>\n",
       "      <td>1998.382940</td>\n",
       "      <td>3.000000</td>\n",
       "      <td>0.141252</td>\n",
       "      <td>0.224719</td>\n",
       "      <td>0.026141</td>\n",
       "      <td>0.174272</td>\n",
       "      <td>0.566155</td>\n",
       "      <td>1.657806e+07</td>\n",
       "      <td>5.787114e+07</td>\n",
       "    </tr>\n",
       "  </tbody>\n",
       "</table>\n",
       "</div>"
      ],
      "text/plain": [
       "                year     score  ...        budget       revenue\n",
       "passing                         ...                            \n",
       "0.0      1991.026761  1.000615  ...  2.116392e+07  6.638363e+07\n",
       "1.0      1998.382940  3.000000  ...  1.657806e+07  5.787114e+07\n",
       "\n",
       "[2 rows x 9 columns]"
      ]
     },
     "execution_count": 13,
     "metadata": {},
     "output_type": "execute_result"
    }
   ],
   "source": [
    "bechdel_df.groupby('passing').mean()"
   ]
  },
  {
   "cell_type": "markdown",
   "metadata": {},
   "source": [
    "Observation: budget and revenue are not easily interpretable as such large numbers. Scaling and using only non-zero values to determine the mean would help."
   ]
  },
  {
   "cell_type": "markdown",
   "metadata": {},
   "source": [
    "#### Non-zero values only"
   ]
  },
  {
   "cell_type": "code",
   "execution_count": 14,
   "metadata": {},
   "outputs": [
    {
     "data": {
      "text/html": [
       "<div>\n",
       "<style scoped>\n",
       "    .dataframe tbody tr th:only-of-type {\n",
       "        vertical-align: middle;\n",
       "    }\n",
       "\n",
       "    .dataframe tbody tr th {\n",
       "        vertical-align: top;\n",
       "    }\n",
       "\n",
       "    .dataframe thead th {\n",
       "        text-align: right;\n",
       "    }\n",
       "</style>\n",
       "<table border=\"1\" class=\"dataframe\">\n",
       "  <thead>\n",
       "    <tr style=\"text-align: right;\">\n",
       "      <th></th>\n",
       "      <th>year</th>\n",
       "      <th>title</th>\n",
       "      <th>score</th>\n",
       "      <th>passing</th>\n",
       "      <th>imdb_id</th>\n",
       "      <th>director_gender</th>\n",
       "      <th>writer_gender</th>\n",
       "      <th>exec_gender</th>\n",
       "      <th>producer_gender</th>\n",
       "      <th>overall_gender</th>\n",
       "      <th>budget</th>\n",
       "      <th>revenue</th>\n",
       "    </tr>\n",
       "  </thead>\n",
       "  <tbody>\n",
       "    <tr>\n",
       "      <th>0</th>\n",
       "      <td>2019.0</td>\n",
       "      <td>Alita: Battle Angel</td>\n",
       "      <td>3.0</td>\n",
       "      <td>1.0</td>\n",
       "      <td>tt0437086</td>\n",
       "      <td>0.0</td>\n",
       "      <td>1.0</td>\n",
       "      <td>0.0</td>\n",
       "      <td>0.0</td>\n",
       "      <td>1.0</td>\n",
       "      <td>170000000.0</td>\n",
       "      <td>359700000.0</td>\n",
       "    </tr>\n",
       "    <tr>\n",
       "      <th>8</th>\n",
       "      <td>2018.0</td>\n",
       "      <td>A Quiet Place</td>\n",
       "      <td>1.0</td>\n",
       "      <td>0.0</td>\n",
       "      <td>tt6644200</td>\n",
       "      <td>0.0</td>\n",
       "      <td>0.0</td>\n",
       "      <td>0.0</td>\n",
       "      <td>0.0</td>\n",
       "      <td>0.0</td>\n",
       "      <td>17000000.0</td>\n",
       "      <td>259168321.0</td>\n",
       "    </tr>\n",
       "    <tr>\n",
       "      <th>9</th>\n",
       "      <td>2018.0</td>\n",
       "      <td>A Quiet Place</td>\n",
       "      <td>1.0</td>\n",
       "      <td>0.0</td>\n",
       "      <td>tt6644200</td>\n",
       "      <td>0.0</td>\n",
       "      <td>0.0</td>\n",
       "      <td>0.0</td>\n",
       "      <td>0.0</td>\n",
       "      <td>0.0</td>\n",
       "      <td>17000000.0</td>\n",
       "      <td>340939361.0</td>\n",
       "    </tr>\n",
       "    <tr>\n",
       "      <th>10</th>\n",
       "      <td>2018.0</td>\n",
       "      <td>A Simple Favor</td>\n",
       "      <td>3.0</td>\n",
       "      <td>1.0</td>\n",
       "      <td>tt7040874</td>\n",
       "      <td>0.0</td>\n",
       "      <td>1.0</td>\n",
       "      <td>0.0</td>\n",
       "      <td>1.0</td>\n",
       "      <td>2.0</td>\n",
       "      <td>20000000.0</td>\n",
       "      <td>42600000.0</td>\n",
       "    </tr>\n",
       "    <tr>\n",
       "      <th>11</th>\n",
       "      <td>2018.0</td>\n",
       "      <td>A Star Is Born</td>\n",
       "      <td>3.0</td>\n",
       "      <td>1.0</td>\n",
       "      <td>tt1517451</td>\n",
       "      <td>0.0</td>\n",
       "      <td>1.0</td>\n",
       "      <td>0.0</td>\n",
       "      <td>0.0</td>\n",
       "      <td>1.0</td>\n",
       "      <td>36000000.0</td>\n",
       "      <td>403588149.0</td>\n",
       "    </tr>\n",
       "  </tbody>\n",
       "</table>\n",
       "</div>"
      ],
      "text/plain": [
       "      year                title  ...       budget      revenue\n",
       "0   2019.0  Alita: Battle Angel  ...  170000000.0  359700000.0\n",
       "8   2018.0        A Quiet Place  ...   17000000.0  259168321.0\n",
       "9   2018.0        A Quiet Place  ...   17000000.0  340939361.0\n",
       "10  2018.0       A Simple Favor  ...   20000000.0   42600000.0\n",
       "11  2018.0       A Star Is Born  ...   36000000.0  403588149.0\n",
       "\n",
       "[5 rows x 12 columns]"
      ]
     },
     "execution_count": 14,
     "metadata": {},
     "output_type": "execute_result"
    }
   ],
   "source": [
    "budget_and_revenue_df = bechdel_df[(bechdel_df.budget != 0) & (bechdel_df.revenue != 0)]\n",
    "budget_and_revenue_df.head()"
   ]
  },
  {
   "cell_type": "markdown",
   "metadata": {},
   "source": [
    "#### Scale budget and revenue values to millions"
   ]
  },
  {
   "cell_type": "code",
   "execution_count": 15,
   "metadata": {},
   "outputs": [
    {
     "data": {
      "text/html": [
       "<div>\n",
       "<style scoped>\n",
       "    .dataframe tbody tr th:only-of-type {\n",
       "        vertical-align: middle;\n",
       "    }\n",
       "\n",
       "    .dataframe tbody tr th {\n",
       "        vertical-align: top;\n",
       "    }\n",
       "\n",
       "    .dataframe thead th {\n",
       "        text-align: right;\n",
       "    }\n",
       "</style>\n",
       "<table border=\"1\" class=\"dataframe\">\n",
       "  <thead>\n",
       "    <tr style=\"text-align: right;\">\n",
       "      <th></th>\n",
       "      <th>year</th>\n",
       "      <th>title</th>\n",
       "      <th>score</th>\n",
       "      <th>passing</th>\n",
       "      <th>imdb_id</th>\n",
       "      <th>director_gender</th>\n",
       "      <th>writer_gender</th>\n",
       "      <th>exec_gender</th>\n",
       "      <th>producer_gender</th>\n",
       "      <th>overall_gender</th>\n",
       "      <th>budget</th>\n",
       "      <th>revenue</th>\n",
       "    </tr>\n",
       "  </thead>\n",
       "  <tbody>\n",
       "    <tr>\n",
       "      <th>0</th>\n",
       "      <td>2019.0</td>\n",
       "      <td>Alita: Battle Angel</td>\n",
       "      <td>3.0</td>\n",
       "      <td>1.0</td>\n",
       "      <td>tt0437086</td>\n",
       "      <td>0.0</td>\n",
       "      <td>1.0</td>\n",
       "      <td>0.0</td>\n",
       "      <td>0.0</td>\n",
       "      <td>1.0</td>\n",
       "      <td>170.0</td>\n",
       "      <td>359700000.0</td>\n",
       "    </tr>\n",
       "    <tr>\n",
       "      <th>8</th>\n",
       "      <td>2018.0</td>\n",
       "      <td>A Quiet Place</td>\n",
       "      <td>1.0</td>\n",
       "      <td>0.0</td>\n",
       "      <td>tt6644200</td>\n",
       "      <td>0.0</td>\n",
       "      <td>0.0</td>\n",
       "      <td>0.0</td>\n",
       "      <td>0.0</td>\n",
       "      <td>0.0</td>\n",
       "      <td>17.0</td>\n",
       "      <td>259168321.0</td>\n",
       "    </tr>\n",
       "    <tr>\n",
       "      <th>9</th>\n",
       "      <td>2018.0</td>\n",
       "      <td>A Quiet Place</td>\n",
       "      <td>1.0</td>\n",
       "      <td>0.0</td>\n",
       "      <td>tt6644200</td>\n",
       "      <td>0.0</td>\n",
       "      <td>0.0</td>\n",
       "      <td>0.0</td>\n",
       "      <td>0.0</td>\n",
       "      <td>0.0</td>\n",
       "      <td>17.0</td>\n",
       "      <td>340939361.0</td>\n",
       "    </tr>\n",
       "    <tr>\n",
       "      <th>10</th>\n",
       "      <td>2018.0</td>\n",
       "      <td>A Simple Favor</td>\n",
       "      <td>3.0</td>\n",
       "      <td>1.0</td>\n",
       "      <td>tt7040874</td>\n",
       "      <td>0.0</td>\n",
       "      <td>1.0</td>\n",
       "      <td>0.0</td>\n",
       "      <td>1.0</td>\n",
       "      <td>2.0</td>\n",
       "      <td>20.0</td>\n",
       "      <td>42600000.0</td>\n",
       "    </tr>\n",
       "    <tr>\n",
       "      <th>11</th>\n",
       "      <td>2018.0</td>\n",
       "      <td>A Star Is Born</td>\n",
       "      <td>3.0</td>\n",
       "      <td>1.0</td>\n",
       "      <td>tt1517451</td>\n",
       "      <td>0.0</td>\n",
       "      <td>1.0</td>\n",
       "      <td>0.0</td>\n",
       "      <td>0.0</td>\n",
       "      <td>1.0</td>\n",
       "      <td>36.0</td>\n",
       "      <td>403588149.0</td>\n",
       "    </tr>\n",
       "  </tbody>\n",
       "</table>\n",
       "</div>"
      ],
      "text/plain": [
       "      year                title  score  ...  overall_gender budget      revenue\n",
       "0   2019.0  Alita: Battle Angel    3.0  ...             1.0  170.0  359700000.0\n",
       "8   2018.0        A Quiet Place    1.0  ...             0.0   17.0  259168321.0\n",
       "9   2018.0        A Quiet Place    1.0  ...             0.0   17.0  340939361.0\n",
       "10  2018.0       A Simple Favor    3.0  ...             2.0   20.0   42600000.0\n",
       "11  2018.0       A Star Is Born    3.0  ...             1.0   36.0  403588149.0\n",
       "\n",
       "[5 rows x 12 columns]"
      ]
     },
     "execution_count": 15,
     "metadata": {},
     "output_type": "execute_result"
    }
   ],
   "source": [
    "budget_and_revenue_df.budget = budget_and_revenue_df.budget / 1e6\n",
    "budget_and_revenue_df.head()"
   ]
  },
  {
   "cell_type": "code",
   "execution_count": 16,
   "metadata": {},
   "outputs": [],
   "source": [
    "budget_and_revenue_df.revenue = budget_and_revenue_df.revenue / 1e6\n",
    "budget_and_revenue_df.rename(index=str, columns={'budget': 'budget_millions', 'revenue': 'revenue_millions'}, inplace=True)"
   ]
  },
  {
   "cell_type": "code",
   "execution_count": 17,
   "metadata": {},
   "outputs": [
    {
     "data": {
      "text/html": [
       "<div>\n",
       "<style scoped>\n",
       "    .dataframe tbody tr th:only-of-type {\n",
       "        vertical-align: middle;\n",
       "    }\n",
       "\n",
       "    .dataframe tbody tr th {\n",
       "        vertical-align: top;\n",
       "    }\n",
       "\n",
       "    .dataframe thead th {\n",
       "        text-align: right;\n",
       "    }\n",
       "</style>\n",
       "<table border=\"1\" class=\"dataframe\">\n",
       "  <thead>\n",
       "    <tr style=\"text-align: right;\">\n",
       "      <th></th>\n",
       "      <th>year</th>\n",
       "      <th>title</th>\n",
       "      <th>score</th>\n",
       "      <th>passing</th>\n",
       "      <th>imdb_id</th>\n",
       "      <th>director_gender</th>\n",
       "      <th>writer_gender</th>\n",
       "      <th>exec_gender</th>\n",
       "      <th>producer_gender</th>\n",
       "      <th>overall_gender</th>\n",
       "      <th>budget_millions</th>\n",
       "      <th>revenue_millions</th>\n",
       "    </tr>\n",
       "  </thead>\n",
       "  <tbody>\n",
       "    <tr>\n",
       "      <th>7570</th>\n",
       "      <td>1959.0</td>\n",
       "      <td>Sleeping Beauty</td>\n",
       "      <td>3.0</td>\n",
       "      <td>1.0</td>\n",
       "      <td>tt0053285</td>\n",
       "      <td>0.0</td>\n",
       "      <td>0.0</td>\n",
       "      <td>0.0</td>\n",
       "      <td>0.0</td>\n",
       "      <td>0.0</td>\n",
       "      <td>6.0</td>\n",
       "      <td>51.6</td>\n",
       "    </tr>\n",
       "    <tr>\n",
       "      <th>7588</th>\n",
       "      <td>2008.0</td>\n",
       "      <td>The Tale of Despereaux</td>\n",
       "      <td>3.0</td>\n",
       "      <td>1.0</td>\n",
       "      <td>tt0420238</td>\n",
       "      <td>0.0</td>\n",
       "      <td>0.0</td>\n",
       "      <td>0.0</td>\n",
       "      <td>1.0</td>\n",
       "      <td>1.0</td>\n",
       "      <td>60.0</td>\n",
       "      <td>86.9</td>\n",
       "    </tr>\n",
       "    <tr>\n",
       "      <th>7589</th>\n",
       "      <td>2007.0</td>\n",
       "      <td>Rush Hour 3</td>\n",
       "      <td>1.0</td>\n",
       "      <td>0.0</td>\n",
       "      <td>tt00293564</td>\n",
       "      <td>0.0</td>\n",
       "      <td>0.0</td>\n",
       "      <td>0.0</td>\n",
       "      <td>0.0</td>\n",
       "      <td>0.0</td>\n",
       "      <td>140.0</td>\n",
       "      <td>258.0</td>\n",
       "    </tr>\n",
       "    <tr>\n",
       "      <th>7592</th>\n",
       "      <td>1999.0</td>\n",
       "      <td>Pokemon: The Movie 2000</td>\n",
       "      <td>3.0</td>\n",
       "      <td>1.0</td>\n",
       "      <td>tt0210234</td>\n",
       "      <td>0.0</td>\n",
       "      <td>0.0</td>\n",
       "      <td>0.0</td>\n",
       "      <td>1.0</td>\n",
       "      <td>1.0</td>\n",
       "      <td>30.0</td>\n",
       "      <td>133.9</td>\n",
       "    </tr>\n",
       "    <tr>\n",
       "      <th>7609</th>\n",
       "      <td>2013.0</td>\n",
       "      <td>The Immigrant</td>\n",
       "      <td>3.0</td>\n",
       "      <td>1.0</td>\n",
       "      <td>tt1951181</td>\n",
       "      <td>0.0</td>\n",
       "      <td>0.0</td>\n",
       "      <td>0.0</td>\n",
       "      <td>0.0</td>\n",
       "      <td>0.0</td>\n",
       "      <td>16.0</td>\n",
       "      <td>5.9</td>\n",
       "    </tr>\n",
       "  </tbody>\n",
       "</table>\n",
       "</div>"
      ],
      "text/plain": [
       "        year                    title  ...  budget_millions  revenue_millions\n",
       "7570  1959.0          Sleeping Beauty  ...              6.0              51.6\n",
       "7588  2008.0   The Tale of Despereaux  ...             60.0              86.9\n",
       "7589  2007.0              Rush Hour 3  ...            140.0             258.0\n",
       "7592  1999.0  Pokemon: The Movie 2000  ...             30.0             133.9\n",
       "7609  2013.0            The Immigrant  ...             16.0               5.9\n",
       "\n",
       "[5 rows x 12 columns]"
      ]
     },
     "execution_count": 17,
     "metadata": {},
     "output_type": "execute_result"
    }
   ],
   "source": [
    "budget_and_revenue_df.tail()"
   ]
  },
  {
   "cell_type": "code",
   "execution_count": 18,
   "metadata": {},
   "outputs": [],
   "source": [
    "# budget_and_revenue_df.to_csv('my_data/non_zero_scaled_budgets_revenues.csv', index=False)"
   ]
  },
  {
   "cell_type": "code",
   "execution_count": 3,
   "metadata": {},
   "outputs": [
    {
     "data": {
      "text/html": [
       "<div>\n",
       "<style scoped>\n",
       "    .dataframe tbody tr th:only-of-type {\n",
       "        vertical-align: middle;\n",
       "    }\n",
       "\n",
       "    .dataframe tbody tr th {\n",
       "        vertical-align: top;\n",
       "    }\n",
       "\n",
       "    .dataframe thead th {\n",
       "        text-align: right;\n",
       "    }\n",
       "</style>\n",
       "<table border=\"1\" class=\"dataframe\">\n",
       "  <thead>\n",
       "    <tr style=\"text-align: right;\">\n",
       "      <th></th>\n",
       "      <th>year</th>\n",
       "      <th>title</th>\n",
       "      <th>score</th>\n",
       "      <th>passing</th>\n",
       "      <th>imdb_id</th>\n",
       "      <th>director_gender</th>\n",
       "      <th>writer_gender</th>\n",
       "      <th>exec_gender</th>\n",
       "      <th>producer_gender</th>\n",
       "      <th>overall_gender</th>\n",
       "      <th>budget_millions</th>\n",
       "      <th>revenue_millions</th>\n",
       "    </tr>\n",
       "  </thead>\n",
       "  <tbody>\n",
       "    <tr>\n",
       "      <th>0</th>\n",
       "      <td>2019.0</td>\n",
       "      <td>Alita: Battle Angel</td>\n",
       "      <td>3.0</td>\n",
       "      <td>1.0</td>\n",
       "      <td>tt0437086</td>\n",
       "      <td>0.0</td>\n",
       "      <td>1.0</td>\n",
       "      <td>0.0</td>\n",
       "      <td>0.0</td>\n",
       "      <td>1.0</td>\n",
       "      <td>170.0</td>\n",
       "      <td>359.700000</td>\n",
       "    </tr>\n",
       "    <tr>\n",
       "      <th>1</th>\n",
       "      <td>2018.0</td>\n",
       "      <td>A Quiet Place</td>\n",
       "      <td>1.0</td>\n",
       "      <td>0.0</td>\n",
       "      <td>tt6644200</td>\n",
       "      <td>0.0</td>\n",
       "      <td>0.0</td>\n",
       "      <td>0.0</td>\n",
       "      <td>0.0</td>\n",
       "      <td>0.0</td>\n",
       "      <td>17.0</td>\n",
       "      <td>259.168321</td>\n",
       "    </tr>\n",
       "    <tr>\n",
       "      <th>2</th>\n",
       "      <td>2018.0</td>\n",
       "      <td>A Quiet Place</td>\n",
       "      <td>1.0</td>\n",
       "      <td>0.0</td>\n",
       "      <td>tt6644200</td>\n",
       "      <td>0.0</td>\n",
       "      <td>0.0</td>\n",
       "      <td>0.0</td>\n",
       "      <td>0.0</td>\n",
       "      <td>0.0</td>\n",
       "      <td>17.0</td>\n",
       "      <td>340.939361</td>\n",
       "    </tr>\n",
       "    <tr>\n",
       "      <th>3</th>\n",
       "      <td>2018.0</td>\n",
       "      <td>A Simple Favor</td>\n",
       "      <td>3.0</td>\n",
       "      <td>1.0</td>\n",
       "      <td>tt7040874</td>\n",
       "      <td>0.0</td>\n",
       "      <td>1.0</td>\n",
       "      <td>0.0</td>\n",
       "      <td>1.0</td>\n",
       "      <td>2.0</td>\n",
       "      <td>20.0</td>\n",
       "      <td>42.600000</td>\n",
       "    </tr>\n",
       "    <tr>\n",
       "      <th>4</th>\n",
       "      <td>2018.0</td>\n",
       "      <td>A Star Is Born</td>\n",
       "      <td>3.0</td>\n",
       "      <td>1.0</td>\n",
       "      <td>tt1517451</td>\n",
       "      <td>0.0</td>\n",
       "      <td>1.0</td>\n",
       "      <td>0.0</td>\n",
       "      <td>0.0</td>\n",
       "      <td>1.0</td>\n",
       "      <td>36.0</td>\n",
       "      <td>403.588149</td>\n",
       "    </tr>\n",
       "  </tbody>\n",
       "</table>\n",
       "</div>"
      ],
      "text/plain": [
       "     year                title  score  passing    imdb_id  director_gender  \\\n",
       "0  2019.0  Alita: Battle Angel    3.0      1.0  tt0437086              0.0   \n",
       "1  2018.0        A Quiet Place    1.0      0.0  tt6644200              0.0   \n",
       "2  2018.0        A Quiet Place    1.0      0.0  tt6644200              0.0   \n",
       "3  2018.0       A Simple Favor    3.0      1.0  tt7040874              0.0   \n",
       "4  2018.0       A Star Is Born    3.0      1.0  tt1517451              0.0   \n",
       "\n",
       "   writer_gender  exec_gender  producer_gender  overall_gender  \\\n",
       "0            1.0          0.0              0.0             1.0   \n",
       "1            0.0          0.0              0.0             0.0   \n",
       "2            0.0          0.0              0.0             0.0   \n",
       "3            1.0          0.0              1.0             2.0   \n",
       "4            1.0          0.0              0.0             1.0   \n",
       "\n",
       "   budget_millions  revenue_millions  \n",
       "0            170.0        359.700000  \n",
       "1             17.0        259.168321  \n",
       "2             17.0        340.939361  \n",
       "3             20.0         42.600000  \n",
       "4             36.0        403.588149  "
      ]
     },
     "execution_count": 3,
     "metadata": {},
     "output_type": "execute_result"
    }
   ],
   "source": [
    "budget_and_revenue_df = pd.read_csv('my_data/non_zero_scaled_budgets_revenues.csv')\n",
    "budget_and_revenue_df.head()"
   ]
  },
  {
   "cell_type": "code",
   "execution_count": 21,
   "metadata": {},
   "outputs": [
    {
     "data": {
      "text/html": [
       "<div>\n",
       "<style scoped>\n",
       "    .dataframe tbody tr th:only-of-type {\n",
       "        vertical-align: middle;\n",
       "    }\n",
       "\n",
       "    .dataframe tbody tr th {\n",
       "        vertical-align: top;\n",
       "    }\n",
       "\n",
       "    .dataframe thead th {\n",
       "        text-align: right;\n",
       "    }\n",
       "</style>\n",
       "<table border=\"1\" class=\"dataframe\">\n",
       "  <thead>\n",
       "    <tr style=\"text-align: right;\">\n",
       "      <th></th>\n",
       "      <th>min</th>\n",
       "      <th>max</th>\n",
       "      <th>sum</th>\n",
       "      <th>mean</th>\n",
       "      <th>median</th>\n",
       "    </tr>\n",
       "    <tr>\n",
       "      <th>passing</th>\n",
       "      <th></th>\n",
       "      <th></th>\n",
       "      <th></th>\n",
       "      <th></th>\n",
       "      <th></th>\n",
       "    </tr>\n",
       "  </thead>\n",
       "  <tbody>\n",
       "    <tr>\n",
       "      <th>0.0</th>\n",
       "      <td>0.000001</td>\n",
       "      <td>350.0</td>\n",
       "      <td>66011.138628</td>\n",
       "      <td>41.386294</td>\n",
       "      <td>25.0</td>\n",
       "    </tr>\n",
       "    <tr>\n",
       "      <th>1.0</th>\n",
       "      <td>0.000003</td>\n",
       "      <td>400.0</td>\n",
       "      <td>69031.694579</td>\n",
       "      <td>36.275194</td>\n",
       "      <td>20.0</td>\n",
       "    </tr>\n",
       "  </tbody>\n",
       "</table>\n",
       "</div>"
      ],
      "text/plain": [
       "              min    max           sum       mean  median\n",
       "passing                                                  \n",
       "0.0      0.000001  350.0  66011.138628  41.386294    25.0\n",
       "1.0      0.000003  400.0  69031.694579  36.275194    20.0"
      ]
     },
     "execution_count": 21,
     "metadata": {},
     "output_type": "execute_result"
    }
   ],
   "source": [
    "budget_and_revenue_df.groupby('passing').budget_millions.agg(['min', 'max', 'sum', 'mean', 'median'])"
   ]
  },
  {
   "cell_type": "code",
   "execution_count": 16,
   "metadata": {},
   "outputs": [
    {
     "data": {
      "text/html": [
       "<div>\n",
       "<style scoped>\n",
       "    .dataframe tbody tr th:only-of-type {\n",
       "        vertical-align: middle;\n",
       "    }\n",
       "\n",
       "    .dataframe tbody tr th {\n",
       "        vertical-align: top;\n",
       "    }\n",
       "\n",
       "    .dataframe thead th {\n",
       "        text-align: right;\n",
       "    }\n",
       "</style>\n",
       "<table border=\"1\" class=\"dataframe\">\n",
       "  <thead>\n",
       "    <tr style=\"text-align: right;\">\n",
       "      <th></th>\n",
       "      <th>min</th>\n",
       "      <th>max</th>\n",
       "      <th>sum</th>\n",
       "      <th>mean</th>\n",
       "      <th>median</th>\n",
       "    </tr>\n",
       "    <tr>\n",
       "      <th>passing</th>\n",
       "      <th></th>\n",
       "      <th></th>\n",
       "      <th></th>\n",
       "      <th></th>\n",
       "      <th></th>\n",
       "    </tr>\n",
       "  </thead>\n",
       "  <tbody>\n",
       "    <tr>\n",
       "      <th>0.0</th>\n",
       "      <td>0.000001</td>\n",
       "      <td>3920.000000</td>\n",
       "      <td>211961.741212</td>\n",
       "      <td>132.891374</td>\n",
       "      <td>59.600000</td>\n",
       "    </tr>\n",
       "    <tr>\n",
       "      <th>1.0</th>\n",
       "      <td>0.000005</td>\n",
       "      <td>2187.463944</td>\n",
       "      <td>247542.412182</td>\n",
       "      <td>130.080090</td>\n",
       "      <td>52.304001</td>\n",
       "    </tr>\n",
       "  </tbody>\n",
       "</table>\n",
       "</div>"
      ],
      "text/plain": [
       "              min          max            sum        mean     median\n",
       "passing                                                             \n",
       "0.0      0.000001  3920.000000  211961.741212  132.891374  59.600000\n",
       "1.0      0.000005  2187.463944  247542.412182  130.080090  52.304001"
      ]
     },
     "execution_count": 16,
     "metadata": {},
     "output_type": "execute_result"
    }
   ],
   "source": [
    "budget_and_revenue_df.groupby('passing').revenue_millions.agg(['min', 'max', 'sum', 'mean', 'median'])"
   ]
  },
  {
   "cell_type": "markdown",
   "metadata": {},
   "source": [
    "#### Movies with minimum and maximum budgets"
   ]
  },
  {
   "cell_type": "code",
   "execution_count": 29,
   "metadata": {},
   "outputs": [
    {
     "data": {
      "text/html": [
       "<div>\n",
       "<style scoped>\n",
       "    .dataframe tbody tr th:only-of-type {\n",
       "        vertical-align: middle;\n",
       "    }\n",
       "\n",
       "    .dataframe tbody tr th {\n",
       "        vertical-align: top;\n",
       "    }\n",
       "\n",
       "    .dataframe thead th {\n",
       "        text-align: right;\n",
       "    }\n",
       "</style>\n",
       "<table border=\"1\" class=\"dataframe\">\n",
       "  <thead>\n",
       "    <tr style=\"text-align: right;\">\n",
       "      <th></th>\n",
       "      <th>year</th>\n",
       "      <th>title</th>\n",
       "      <th>score</th>\n",
       "      <th>passing</th>\n",
       "      <th>imdb_id</th>\n",
       "      <th>director_gender</th>\n",
       "      <th>writer_gender</th>\n",
       "      <th>exec_gender</th>\n",
       "      <th>producer_gender</th>\n",
       "      <th>overall_gender</th>\n",
       "      <th>budget_millions</th>\n",
       "      <th>revenue_millions</th>\n",
       "    </tr>\n",
       "  </thead>\n",
       "  <tbody>\n",
       "    <tr>\n",
       "      <th>7309</th>\n",
       "      <td>1935.0</td>\n",
       "      <td>A Night At The Opera</td>\n",
       "      <td>1.0</td>\n",
       "      <td>0.0</td>\n",
       "      <td>tt0026778</td>\n",
       "      <td>0.0</td>\n",
       "      <td>0.0</td>\n",
       "      <td>0.0</td>\n",
       "      <td>0.0</td>\n",
       "      <td>0.0</td>\n",
       "      <td>0.000001</td>\n",
       "      <td>0.000001</td>\n",
       "    </tr>\n",
       "  </tbody>\n",
       "</table>\n",
       "</div>"
      ],
      "text/plain": [
       "        year                 title  ...  budget_millions  revenue_millions\n",
       "7309  1935.0  A Night At The Opera  ...         0.000001          0.000001\n",
       "\n",
       "[1 rows x 12 columns]"
      ]
     },
     "execution_count": 29,
     "metadata": {},
     "output_type": "execute_result"
    }
   ],
   "source": [
    "budget_and_revenue_df.loc[budget_and_revenue_df.budget_millions == budget_and_revenue_df.budget_millions.min()]"
   ]
  },
  {
   "cell_type": "code",
   "execution_count": 30,
   "metadata": {},
   "outputs": [
    {
     "data": {
      "text/html": [
       "<div>\n",
       "<style scoped>\n",
       "    .dataframe tbody tr th:only-of-type {\n",
       "        vertical-align: middle;\n",
       "    }\n",
       "\n",
       "    .dataframe tbody tr th {\n",
       "        vertical-align: top;\n",
       "    }\n",
       "\n",
       "    .dataframe thead th {\n",
       "        text-align: right;\n",
       "    }\n",
       "</style>\n",
       "<table border=\"1\" class=\"dataframe\">\n",
       "  <thead>\n",
       "    <tr style=\"text-align: right;\">\n",
       "      <th></th>\n",
       "      <th>year</th>\n",
       "      <th>title</th>\n",
       "      <th>score</th>\n",
       "      <th>passing</th>\n",
       "      <th>imdb_id</th>\n",
       "      <th>director_gender</th>\n",
       "      <th>writer_gender</th>\n",
       "      <th>exec_gender</th>\n",
       "      <th>producer_gender</th>\n",
       "      <th>overall_gender</th>\n",
       "      <th>budget_millions</th>\n",
       "      <th>revenue_millions</th>\n",
       "    </tr>\n",
       "  </thead>\n",
       "  <tbody>\n",
       "    <tr>\n",
       "      <th>21</th>\n",
       "      <td>2018.0</td>\n",
       "      <td>Avengers: Infinity War</td>\n",
       "      <td>3.0</td>\n",
       "      <td>1.0</td>\n",
       "      <td>tt4154756</td>\n",
       "      <td>0.0</td>\n",
       "      <td>0.0</td>\n",
       "      <td>1.0</td>\n",
       "      <td>0.0</td>\n",
       "      <td>1.0</td>\n",
       "      <td>400.0</td>\n",
       "      <td>678.815482</td>\n",
       "    </tr>\n",
       "  </tbody>\n",
       "</table>\n",
       "</div>"
      ],
      "text/plain": [
       "      year                   title  ...  budget_millions  revenue_millions\n",
       "21  2018.0  Avengers: Infinity War  ...            400.0        678.815482\n",
       "\n",
       "[1 rows x 12 columns]"
      ]
     },
     "execution_count": 30,
     "metadata": {},
     "output_type": "execute_result"
    }
   ],
   "source": [
    "budget_and_revenue_df.loc[budget_and_revenue_df.budget_millions == budget_and_revenue_df.budget_millions.max()]"
   ]
  },
  {
   "cell_type": "markdown",
   "metadata": {},
   "source": [
    "#### Movies with minimum and maximum revenues"
   ]
  },
  {
   "cell_type": "code",
   "execution_count": 31,
   "metadata": {},
   "outputs": [
    {
     "data": {
      "text/html": [
       "<div>\n",
       "<style scoped>\n",
       "    .dataframe tbody tr th:only-of-type {\n",
       "        vertical-align: middle;\n",
       "    }\n",
       "\n",
       "    .dataframe tbody tr th {\n",
       "        vertical-align: top;\n",
       "    }\n",
       "\n",
       "    .dataframe thead th {\n",
       "        text-align: right;\n",
       "    }\n",
       "</style>\n",
       "<table border=\"1\" class=\"dataframe\">\n",
       "  <thead>\n",
       "    <tr style=\"text-align: right;\">\n",
       "      <th></th>\n",
       "      <th>year</th>\n",
       "      <th>title</th>\n",
       "      <th>score</th>\n",
       "      <th>passing</th>\n",
       "      <th>imdb_id</th>\n",
       "      <th>director_gender</th>\n",
       "      <th>writer_gender</th>\n",
       "      <th>exec_gender</th>\n",
       "      <th>producer_gender</th>\n",
       "      <th>overall_gender</th>\n",
       "      <th>budget_millions</th>\n",
       "      <th>revenue_millions</th>\n",
       "    </tr>\n",
       "  </thead>\n",
       "  <tbody>\n",
       "    <tr>\n",
       "      <th>7309</th>\n",
       "      <td>1935.0</td>\n",
       "      <td>A Night At The Opera</td>\n",
       "      <td>1.0</td>\n",
       "      <td>0.0</td>\n",
       "      <td>tt0026778</td>\n",
       "      <td>0.0</td>\n",
       "      <td>0.0</td>\n",
       "      <td>0.0</td>\n",
       "      <td>0.0</td>\n",
       "      <td>0.0</td>\n",
       "      <td>0.000001</td>\n",
       "      <td>0.000001</td>\n",
       "    </tr>\n",
       "  </tbody>\n",
       "</table>\n",
       "</div>"
      ],
      "text/plain": [
       "        year                 title  ...  budget_millions  revenue_millions\n",
       "7309  1935.0  A Night At The Opera  ...         0.000001          0.000001\n",
       "\n",
       "[1 rows x 12 columns]"
      ]
     },
     "execution_count": 31,
     "metadata": {},
     "output_type": "execute_result"
    }
   ],
   "source": [
    "budget_and_revenue_df.loc[budget_and_revenue_df.revenue_millions == budget_and_revenue_df.revenue_millions.min()]"
   ]
  },
  {
   "cell_type": "code",
   "execution_count": 32,
   "metadata": {},
   "outputs": [
    {
     "data": {
      "text/html": [
       "<div>\n",
       "<style scoped>\n",
       "    .dataframe tbody tr th:only-of-type {\n",
       "        vertical-align: middle;\n",
       "    }\n",
       "\n",
       "    .dataframe tbody tr th {\n",
       "        vertical-align: top;\n",
       "    }\n",
       "\n",
       "    .dataframe thead th {\n",
       "        text-align: right;\n",
       "    }\n",
       "</style>\n",
       "<table border=\"1\" class=\"dataframe\">\n",
       "  <thead>\n",
       "    <tr style=\"text-align: right;\">\n",
       "      <th></th>\n",
       "      <th>year</th>\n",
       "      <th>title</th>\n",
       "      <th>score</th>\n",
       "      <th>passing</th>\n",
       "      <th>imdb_id</th>\n",
       "      <th>director_gender</th>\n",
       "      <th>writer_gender</th>\n",
       "      <th>exec_gender</th>\n",
       "      <th>producer_gender</th>\n",
       "      <th>overall_gender</th>\n",
       "      <th>budget_millions</th>\n",
       "      <th>revenue_millions</th>\n",
       "    </tr>\n",
       "  </thead>\n",
       "  <tbody>\n",
       "    <tr>\n",
       "      <th>2556</th>\n",
       "      <td>2009.0</td>\n",
       "      <td>3 Idiots</td>\n",
       "      <td>1.0</td>\n",
       "      <td>0.0</td>\n",
       "      <td>tt1187043</td>\n",
       "      <td>0.0</td>\n",
       "      <td>0.0</td>\n",
       "      <td>0.0</td>\n",
       "      <td>0.0</td>\n",
       "      <td>0.0</td>\n",
       "      <td>350.0</td>\n",
       "      <td>3920.0</td>\n",
       "    </tr>\n",
       "  </tbody>\n",
       "</table>\n",
       "</div>"
      ],
      "text/plain": [
       "        year     title  ...  budget_millions  revenue_millions\n",
       "2556  2009.0  3 Idiots  ...            350.0            3920.0\n",
       "\n",
       "[1 rows x 12 columns]"
      ]
     },
     "execution_count": 32,
     "metadata": {},
     "output_type": "execute_result"
    }
   ],
   "source": [
    "budget_and_revenue_df.loc[budget_and_revenue_df.revenue_millions == budget_and_revenue_df.revenue_millions.max()]"
   ]
  },
  {
   "cell_type": "markdown",
   "metadata": {},
   "source": [
    "Observation: the min and max movies above demonstrate a problem with movie data, where there is not really one source for \"ground truth\" information. User submitted information can have errors, some websites may list revenue just in the US or revenue globally, financial data for international films may not be in US Dollars, older financial information may or may not be adjusted for inflation, and missing data may be represented in different ways. The budget and revenue for A Night at the Opera, for example, were probably not $1, and it is well known that Infinity War broke several box office records, with revenue in the billions - not millions.  "
   ]
  },
  {
   "cell_type": "markdown",
   "metadata": {},
   "source": [
    "### B. Plotting with Plotly"
   ]
  },
  {
   "cell_type": "code",
   "execution_count": 34,
   "metadata": {},
   "outputs": [
    {
     "data": {
      "text/plain": [
       "1.0    4361\n",
       "0.0    3251\n",
       "Name: passing, dtype: int64"
      ]
     },
     "execution_count": 34,
     "metadata": {},
     "output_type": "execute_result"
    }
   ],
   "source": [
    "bechdel_df.passing.value_counts()"
   ]
  },
  {
   "cell_type": "code",
   "execution_count": 35,
   "metadata": {},
   "outputs": [
    {
     "data": {
      "text/plain": [
       "1.0    1903\n",
       "0.0    1595\n",
       "Name: passing, dtype: int64"
      ]
     },
     "execution_count": 35,
     "metadata": {},
     "output_type": "execute_result"
    }
   ],
   "source": [
    "budget_and_revenue_df.passing.value_counts()"
   ]
  },
  {
   "cell_type": "code",
   "execution_count": 9,
   "metadata": {},
   "outputs": [
    {
     "data": {
      "text/plain": [
       "4361"
      ]
     },
     "execution_count": 9,
     "metadata": {},
     "output_type": "execute_result"
    }
   ],
   "source": [
    "bechdel_df.passing.value_counts()[1]"
   ]
  },
  {
   "cell_type": "code",
   "execution_count": 9,
   "metadata": {},
   "outputs": [
    {
     "data": {
      "application/vnd.plotly.v1+json": {
       "config": {
        "linkText": "Export to plot.ly",
        "plotlyServerURL": "https://plot.ly",
        "showLink": false
       },
       "data": [
        {
         "type": "bar",
         "uid": "1a9dea20-52f1-4abe-9e0b-fc31d4744f0f",
         "x": [
          "passing",
          "non-passing"
         ],
         "y": [
          4361,
          3251
         ]
        }
       ],
       "layout": {
        "autosize": true,
        "title": {
         "text": "Total Bechdel Test Movies"
        },
        "xaxis": {
         "autorange": true,
         "range": [
          -0.5,
          1.5
         ],
         "title": {
          "text": "Passing & Non-Passing Movies"
         },
         "type": "category"
        },
        "yaxis": {
         "autorange": true,
         "range": [
          0,
          4590.526315789473
         ],
         "title": {
          "text": "Number of Movies"
         },
         "type": "linear"
        }
       }
      },
      "image/png": "[encoded data removed]",
      "text/html": [
       "<div id=\"4910cd7b-be59-4df0-8c3e-9fe94c4e3a2a\" style=\"height: 525px; width: 100%;\" class=\"plotly-graph-div\"></div><script type=\"text/javascript\">require([\"plotly\"], function(Plotly) { window.PLOTLYENV=window.PLOTLYENV || {};window.PLOTLYENV.BASE_URL=\"https://plot.ly\";\n",
       "if (document.getElementById(\"4910cd7b-be59-4df0-8c3e-9fe94c4e3a2a\")) {\n",
       "    Plotly.newPlot(\"4910cd7b-be59-4df0-8c3e-9fe94c4e3a2a\", [{\"x\": [\"passing\", \"non-passing\"], \"y\": [4361, 3251], \"type\": \"bar\", \"uid\": \"1a9dea20-52f1-4abe-9e0b-fc31d4744f0f\"}], {\"title\": {\"text\": \"Total Bechdel Test Movies\"}, \"xaxis\": {\"title\": {\"text\": \"Passing & Non-Passing Movies\"}}, \"yaxis\": {\"title\": {\"text\": \"Number of Movies\"}}}, {\"showLink\": false, \"linkText\": \"Export to plot.ly\", \"plotlyServerURL\": \"https://plot.ly\"}); \n",
       "}\n",
       "});</script><script type=\"text/javascript\">window.addEventListener(\"resize\", function(){if (document.getElementById(\"4910cd7b-be59-4df0-8c3e-9fe94c4e3a2a\")) {window._Plotly.Plots.resize(document.getElementById(\"4910cd7b-be59-4df0-8c3e-9fe94c4e3a2a\"));};})</script>"
      ],
      "text/vnd.plotly.v1+html": [
       "<div id=\"4910cd7b-be59-4df0-8c3e-9fe94c4e3a2a\" style=\"height: 525px; width: 100%;\" class=\"plotly-graph-div\"></div><script type=\"text/javascript\">require([\"plotly\"], function(Plotly) { window.PLOTLYENV=window.PLOTLYENV || {};window.PLOTLYENV.BASE_URL=\"https://plot.ly\";\n",
       "if (document.getElementById(\"4910cd7b-be59-4df0-8c3e-9fe94c4e3a2a\")) {\n",
       "    Plotly.newPlot(\"4910cd7b-be59-4df0-8c3e-9fe94c4e3a2a\", [{\"x\": [\"passing\", \"non-passing\"], \"y\": [4361, 3251], \"type\": \"bar\", \"uid\": \"1a9dea20-52f1-4abe-9e0b-fc31d4744f0f\"}], {\"title\": {\"text\": \"Total Bechdel Test Movies\"}, \"xaxis\": {\"title\": {\"text\": \"Passing & Non-Passing Movies\"}}, \"yaxis\": {\"title\": {\"text\": \"Number of Movies\"}}}, {\"showLink\": false, \"linkText\": \"Export to plot.ly\", \"plotlyServerURL\": \"https://plot.ly\"}); \n",
       "}\n",
       "});</script><script type=\"text/javascript\">window.addEventListener(\"resize\", function(){if (document.getElementById(\"4910cd7b-be59-4df0-8c3e-9fe94c4e3a2a\")) {window._Plotly.Plots.resize(document.getElementById(\"4910cd7b-be59-4df0-8c3e-9fe94c4e3a2a\"));};})</script>"
      ]
     },
     "metadata": {},
     "output_type": "display_data"
    }
   ],
   "source": [
    "trace = go.Bar(\n",
    "            x=[\"passing\", \"non-passing\"],\n",
    "            y=[bechdel_df.passing.value_counts()[1], bechdel_df.passing.value_counts()[0]]\n",
    ")\n",
    "data = [trace]    \n",
    "layout = go.Layout(title=\"Total Bechdel Test Movies\", xaxis=dict(title=\"Passing & Non-Passing Movies\"), \n",
    "                   yaxis=dict(title=\"Number of Movies\"))\n",
    "\n",
    "fig = go.Figure(data=data, layout=layout)\n",
    "iplot(fig)"
   ]
  },
  {
   "cell_type": "code",
   "execution_count": 34,
   "metadata": {},
   "outputs": [],
   "source": [
    "year_counts = bechdel_df.groupby(['year']).size()"
   ]
  },
  {
   "cell_type": "code",
   "execution_count": 44,
   "metadata": {},
   "outputs": [
    {
     "data": {
      "application/vnd.plotly.v1+json": {
       "config": {
        "linkText": "Export to plot.ly",
        "plotlyServerURL": "https://plot.ly",
        "showLink": false
       },
       "data": [
        {
         "type": "bar",
         "uid": "d4863c26-2e93-4941-9a37-f9e8c8c55871",
         "x": [
          1888,
          1892,
          1895,
          1896,
          1898,
          1899,
          1900,
          1901,
          1902,
          1903,
          1904,
          1905,
          1906,
          1907,
          1908,
          1909,
          1910,
          1912,
          1913,
          1914,
          1915,
          1916,
          1917,
          1918,
          1919,
          1920,
          1921,
          1922,
          1923,
          1924,
          1925,
          1926,
          1927,
          1928,
          1929,
          1930,
          1931,
          1932,
          1933,
          1934,
          1935,
          1936,
          1937,
          1938,
          1939,
          1940,
          1941,
          1942,
          1943,
          1944,
          1945,
          1946,
          1947,
          1948,
          1949,
          1950,
          1951,
          1952,
          1953,
          1954,
          1955,
          1956,
          1957,
          1958,
          1959,
          1960,
          1961,
          1962,
          1963,
          1964,
          1965,
          1966,
          1967,
          1968,
          1969,
          1970,
          1971,
          1972,
          1973,
          1974,
          1975,
          1976,
          1977,
          1978,
          1979,
          1980,
          1981,
          1982,
          1983,
          1984,
          1985,
          1986,
          1987,
          1988,
          1989,
          1990,
          1991,
          1992,
          1993,
          1994,
          1995,
          1996,
          1997,
          1998,
          1999,
          2000,
          2001,
          2002,
          2003,
          2004,
          2005,
          2006,
          2007,
          2008,
          2009,
          2010,
          2011,
          2012,
          2013,
          2014,
          2015,
          2016,
          2017,
          2018,
          2019
         ],
         "y": [
          1,
          1,
          2,
          4,
          3,
          1,
          11,
          3,
          4,
          5,
          4,
          2,
          7,
          2,
          1,
          3,
          2,
          3,
          2,
          1,
          1,
          5,
          5,
          4,
          2,
          3,
          4,
          9,
          5,
          10,
          9,
          6,
          11,
          14,
          9,
          11,
          21,
          23,
          17,
          16,
          12,
          25,
          19,
          15,
          27,
          29,
          22,
          20,
          22,
          18,
          21,
          22,
          15,
          20,
          18,
          17,
          17,
          13,
          31,
          26,
          31,
          29,
          32,
          25,
          27,
          29,
          28,
          30,
          33,
          40,
          24,
          38,
          34,
          33,
          26,
          29,
          44,
          35,
          38,
          34,
          30,
          27,
          36,
          31,
          36,
          37,
          47,
          53,
          40,
          60,
          72,
          61,
          68,
          67,
          64,
          67,
          74,
          75,
          92,
          96,
          103,
          115,
          104,
          129,
          123,
          139,
          158,
          169,
          142,
          184,
          199,
          231,
          241,
          247,
          321,
          326,
          337,
          317,
          370,
          355,
          294,
          265,
          198,
          111,
          6
         ]
        }
       ],
       "layout": {
        "autosize": true,
        "title": {
         "text": "Total Movies in Dataset by Year"
        },
        "xaxis": {
         "autorange": true,
         "range": [
          1887.5,
          2019.5
         ],
         "title": {
          "text": "Year"
         },
         "type": "linear"
        },
        "yaxis": {
         "autorange": true,
         "range": [
          0,
          389.4736842105263
         ],
         "title": {
          "text": "Number of Movies"
         },
         "type": "linear"
        }
       }
      },
      "image/png": "[encoded data removed]",
      "text/html": [
       "<div id=\"c33a33b3-02bf-41c2-8dd6-c4129f09f10f\" style=\"height: 525px; width: 100%;\" class=\"plotly-graph-div\"></div><script type=\"text/javascript\">require([\"plotly\"], function(Plotly) { window.PLOTLYENV=window.PLOTLYENV || {};window.PLOTLYENV.BASE_URL=\"https://plot.ly\";\n",
       "if (document.getElementById(\"c33a33b3-02bf-41c2-8dd6-c4129f09f10f\")) {\n",
       "    Plotly.newPlot(\"c33a33b3-02bf-41c2-8dd6-c4129f09f10f\", [{\"x\": [1888.0, 1892.0, 1895.0, 1896.0, 1898.0, 1899.0, 1900.0, 1901.0, 1902.0, 1903.0, 1904.0, 1905.0, 1906.0, 1907.0, 1908.0, 1909.0, 1910.0, 1912.0, 1913.0, 1914.0, 1915.0, 1916.0, 1917.0, 1918.0, 1919.0, 1920.0, 1921.0, 1922.0, 1923.0, 1924.0, 1925.0, 1926.0, 1927.0, 1928.0, 1929.0, 1930.0, 1931.0, 1932.0, 1933.0, 1934.0, 1935.0, 1936.0, 1937.0, 1938.0, 1939.0, 1940.0, 1941.0, 1942.0, 1943.0, 1944.0, 1945.0, 1946.0, 1947.0, 1948.0, 1949.0, 1950.0, 1951.0, 1952.0, 1953.0, 1954.0, 1955.0, 1956.0, 1957.0, 1958.0, 1959.0, 1960.0, 1961.0, 1962.0, 1963.0, 1964.0, 1965.0, 1966.0, 1967.0, 1968.0, 1969.0, 1970.0, 1971.0, 1972.0, 1973.0, 1974.0, 1975.0, 1976.0, 1977.0, 1978.0, 1979.0, 1980.0, 1981.0, 1982.0, 1983.0, 1984.0, 1985.0, 1986.0, 1987.0, 1988.0, 1989.0, 1990.0, 1991.0, 1992.0, 1993.0, 1994.0, 1995.0, 1996.0, 1997.0, 1998.0, 1999.0, 2000.0, 2001.0, 2002.0, 2003.0, 2004.0, 2005.0, 2006.0, 2007.0, 2008.0, 2009.0, 2010.0, 2011.0, 2012.0, 2013.0, 2014.0, 2015.0, 2016.0, 2017.0, 2018.0, 2019.0], \"y\": [1, 1, 2, 4, 3, 1, 11, 3, 4, 5, 4, 2, 7, 2, 1, 3, 2, 3, 2, 1, 1, 5, 5, 4, 2, 3, 4, 9, 5, 10, 9, 6, 11, 14, 9, 11, 21, 23, 17, 16, 12, 25, 19, 15, 27, 29, 22, 20, 22, 18, 21, 22, 15, 20, 18, 17, 17, 13, 31, 26, 31, 29, 32, 25, 27, 29, 28, 30, 33, 40, 24, 38, 34, 33, 26, 29, 44, 35, 38, 34, 30, 27, 36, 31, 36, 37, 47, 53, 40, 60, 72, 61, 68, 67, 64, 67, 74, 75, 92, 96, 103, 115, 104, 129, 123, 139, 158, 169, 142, 184, 199, 231, 241, 247, 321, 326, 337, 317, 370, 355, 294, 265, 198, 111, 6], \"type\": \"bar\", \"uid\": \"d4863c26-2e93-4941-9a37-f9e8c8c55871\"}], {\"title\": {\"text\": \"Total Movies in Dataset by Year\"}, \"xaxis\": {\"title\": {\"text\": \"Year\"}}, \"yaxis\": {\"title\": {\"text\": \"Number of Movies\"}}}, {\"showLink\": false, \"linkText\": \"Export to plot.ly\", \"plotlyServerURL\": \"https://plot.ly\"}); \n",
       "}\n",
       "});</script><script type=\"text/javascript\">window.addEventListener(\"resize\", function(){if (document.getElementById(\"c33a33b3-02bf-41c2-8dd6-c4129f09f10f\")) {window._Plotly.Plots.resize(document.getElementById(\"c33a33b3-02bf-41c2-8dd6-c4129f09f10f\"));};})</script>"
      ],
      "text/vnd.plotly.v1+html": [
       "<div id=\"c33a33b3-02bf-41c2-8dd6-c4129f09f10f\" style=\"height: 525px; width: 100%;\" class=\"plotly-graph-div\"></div><script type=\"text/javascript\">require([\"plotly\"], function(Plotly) { window.PLOTLYENV=window.PLOTLYENV || {};window.PLOTLYENV.BASE_URL=\"https://plot.ly\";\n",
       "if (document.getElementById(\"c33a33b3-02bf-41c2-8dd6-c4129f09f10f\")) {\n",
       "    Plotly.newPlot(\"c33a33b3-02bf-41c2-8dd6-c4129f09f10f\", [{\"x\": [1888.0, 1892.0, 1895.0, 1896.0, 1898.0, 1899.0, 1900.0, 1901.0, 1902.0, 1903.0, 1904.0, 1905.0, 1906.0, 1907.0, 1908.0, 1909.0, 1910.0, 1912.0, 1913.0, 1914.0, 1915.0, 1916.0, 1917.0, 1918.0, 1919.0, 1920.0, 1921.0, 1922.0, 1923.0, 1924.0, 1925.0, 1926.0, 1927.0, 1928.0, 1929.0, 1930.0, 1931.0, 1932.0, 1933.0, 1934.0, 1935.0, 1936.0, 1937.0, 1938.0, 1939.0, 1940.0, 1941.0, 1942.0, 1943.0, 1944.0, 1945.0, 1946.0, 1947.0, 1948.0, 1949.0, 1950.0, 1951.0, 1952.0, 1953.0, 1954.0, 1955.0, 1956.0, 1957.0, 1958.0, 1959.0, 1960.0, 1961.0, 1962.0, 1963.0, 1964.0, 1965.0, 1966.0, 1967.0, 1968.0, 1969.0, 1970.0, 1971.0, 1972.0, 1973.0, 1974.0, 1975.0, 1976.0, 1977.0, 1978.0, 1979.0, 1980.0, 1981.0, 1982.0, 1983.0, 1984.0, 1985.0, 1986.0, 1987.0, 1988.0, 1989.0, 1990.0, 1991.0, 1992.0, 1993.0, 1994.0, 1995.0, 1996.0, 1997.0, 1998.0, 1999.0, 2000.0, 2001.0, 2002.0, 2003.0, 2004.0, 2005.0, 2006.0, 2007.0, 2008.0, 2009.0, 2010.0, 2011.0, 2012.0, 2013.0, 2014.0, 2015.0, 2016.0, 2017.0, 2018.0, 2019.0], \"y\": [1, 1, 2, 4, 3, 1, 11, 3, 4, 5, 4, 2, 7, 2, 1, 3, 2, 3, 2, 1, 1, 5, 5, 4, 2, 3, 4, 9, 5, 10, 9, 6, 11, 14, 9, 11, 21, 23, 17, 16, 12, 25, 19, 15, 27, 29, 22, 20, 22, 18, 21, 22, 15, 20, 18, 17, 17, 13, 31, 26, 31, 29, 32, 25, 27, 29, 28, 30, 33, 40, 24, 38, 34, 33, 26, 29, 44, 35, 38, 34, 30, 27, 36, 31, 36, 37, 47, 53, 40, 60, 72, 61, 68, 67, 64, 67, 74, 75, 92, 96, 103, 115, 104, 129, 123, 139, 158, 169, 142, 184, 199, 231, 241, 247, 321, 326, 337, 317, 370, 355, 294, 265, 198, 111, 6], \"type\": \"bar\", \"uid\": \"d4863c26-2e93-4941-9a37-f9e8c8c55871\"}], {\"title\": {\"text\": \"Total Movies in Dataset by Year\"}, \"xaxis\": {\"title\": {\"text\": \"Year\"}}, \"yaxis\": {\"title\": {\"text\": \"Number of Movies\"}}}, {\"showLink\": false, \"linkText\": \"Export to plot.ly\", \"plotlyServerURL\": \"https://plot.ly\"}); \n",
       "}\n",
       "});</script><script type=\"text/javascript\">window.addEventListener(\"resize\", function(){if (document.getElementById(\"c33a33b3-02bf-41c2-8dd6-c4129f09f10f\")) {window._Plotly.Plots.resize(document.getElementById(\"c33a33b3-02bf-41c2-8dd6-c4129f09f10f\"));};})</script>"
      ]
     },
     "metadata": {},
     "output_type": "display_data"
    }
   ],
   "source": [
    "trace = go.Bar(\n",
    "            x=[year for year in year_counts.index],\n",
    "            y=[count for count in year_counts.values]\n",
    ")\n",
    "data = [trace]    \n",
    "layout = go.Layout(title=\"Total Movies in Dataset by Year\", xaxis=dict(title=\"Year\"), \n",
    "                   yaxis=dict(title=\"Number of Movies\"))\n",
    "\n",
    "fig = go.Figure(data=data, layout=layout)\n",
    "iplot(fig)"
   ]
  },
  {
   "cell_type": "code",
   "execution_count": 50,
   "metadata": {},
   "outputs": [],
   "source": [
    "passing_gender_counts = bechdel_df[bechdel_df['passing'] == 1]\n",
    "non_passing_gender_counts = bechdel_df[bechdel_df['passing'] == 0]"
   ]
  },
  {
   "cell_type": "code",
   "execution_count": 58,
   "metadata": {},
   "outputs": [],
   "source": [
    "gender_columns = bechdel_df.columns[5:10]"
   ]
  },
  {
   "cell_type": "code",
   "execution_count": 59,
   "metadata": {},
   "outputs": [
    {
     "data": {
      "text/html": [
       "<div>\n",
       "<style scoped>\n",
       "    .dataframe tbody tr th:only-of-type {\n",
       "        vertical-align: middle;\n",
       "    }\n",
       "\n",
       "    .dataframe tbody tr th {\n",
       "        vertical-align: top;\n",
       "    }\n",
       "\n",
       "    .dataframe thead th {\n",
       "        text-align: right;\n",
       "    }\n",
       "</style>\n",
       "<table border=\"1\" class=\"dataframe\">\n",
       "  <thead>\n",
       "    <tr style=\"text-align: right;\">\n",
       "      <th></th>\n",
       "      <th>director_gender</th>\n",
       "      <th>writer_gender</th>\n",
       "      <th>exec_gender</th>\n",
       "      <th>producer_gender</th>\n",
       "      <th>overall_gender</th>\n",
       "    </tr>\n",
       "    <tr>\n",
       "      <th>passing</th>\n",
       "      <th></th>\n",
       "      <th></th>\n",
       "      <th></th>\n",
       "      <th></th>\n",
       "      <th></th>\n",
       "    </tr>\n",
       "  </thead>\n",
       "  <tbody>\n",
       "    <tr>\n",
       "      <th>0.0</th>\n",
       "      <td>116.0</td>\n",
       "      <td>271.0</td>\n",
       "      <td>52.0</td>\n",
       "      <td>403.0</td>\n",
       "      <td>842.0</td>\n",
       "    </tr>\n",
       "    <tr>\n",
       "      <th>1.0</th>\n",
       "      <td>616.0</td>\n",
       "      <td>980.0</td>\n",
       "      <td>114.0</td>\n",
       "      <td>760.0</td>\n",
       "      <td>2469.0</td>\n",
       "    </tr>\n",
       "  </tbody>\n",
       "</table>\n",
       "</div>"
      ],
      "text/plain": [
       "         director_gender  writer_gender  exec_gender  producer_gender  \\\n",
       "passing                                                                 \n",
       "0.0                116.0          271.0         52.0            403.0   \n",
       "1.0                616.0          980.0        114.0            760.0   \n",
       "\n",
       "         overall_gender  \n",
       "passing                  \n",
       "0.0               842.0  \n",
       "1.0              2469.0  "
      ]
     },
     "execution_count": 59,
     "metadata": {},
     "output_type": "execute_result"
    }
   ],
   "source": [
    "bechdel_df.groupby('passing')[gender_columns].sum()"
   ]
  },
  {
   "cell_type": "code",
   "execution_count": 64,
   "metadata": {},
   "outputs": [
    {
     "data": {
      "application/vnd.plotly.v1+json": {
       "config": {
        "linkText": "Export to plot.ly",
        "plotlyServerURL": "https://plot.ly",
        "showLink": false
       },
       "data": [
        {
         "name": "Non-passing Movies",
         "type": "bar",
         "uid": "dc528f99-8853-422a-9c85-1c2d9050e55f",
         "x": [
          "director_gender",
          "writer_gender",
          "exec_gender",
          "producer_gender",
          "overall_gender"
         ],
         "y": [
          116,
          271,
          52,
          403,
          842
         ]
        },
        {
         "name": "Passing Movies",
         "type": "bar",
         "uid": "f9a7f999-32f5-4e9d-958a-b316efc63ba8",
         "x": [
          "director_gender",
          "writer_gender",
          "exec_gender",
          "producer_gender",
          "overall_gender"
         ],
         "y": [
          616,
          980,
          114,
          760,
          2469
         ]
        }
       ],
       "layout": {
        "autosize": true,
        "barmode": "group",
        "title": {
         "text": "Gender Counts for Passing vs. Non-Passing Movies"
        },
        "xaxis": {
         "autorange": true,
         "range": [
          -0.5,
          4.5
         ],
         "type": "category"
        },
        "yaxis": {
         "autorange": true,
         "range": [
          0,
          2598.9473684210525
         ],
         "type": "linear"
        }
       }
      },
      "image/png": "[encoded data removed]",
      "text/html": [
       "<div id=\"44c5dcf8-0e29-49f0-ab3b-e3745c3f5d01\" style=\"height: 525px; width: 100%;\" class=\"plotly-graph-div\"></div><script type=\"text/javascript\">require([\"plotly\"], function(Plotly) { window.PLOTLYENV=window.PLOTLYENV || {};window.PLOTLYENV.BASE_URL=\"https://plot.ly\";\n",
       "if (document.getElementById(\"44c5dcf8-0e29-49f0-ab3b-e3745c3f5d01\")) {\n",
       "    Plotly.newPlot(\"44c5dcf8-0e29-49f0-ab3b-e3745c3f5d01\", [{\"name\": \"Non-passing Movies\", \"x\": [\"director_gender\", \"writer_gender\", \"exec_gender\", \"producer_gender\", \"overall_gender\"], \"y\": [116.0, 271.0, 52.0, 403.0, 842.0], \"type\": \"bar\", \"uid\": \"dc528f99-8853-422a-9c85-1c2d9050e55f\"}, {\"name\": \"Passing Movies\", \"x\": [\"director_gender\", \"writer_gender\", \"exec_gender\", \"producer_gender\", \"overall_gender\"], \"y\": [616.0, 980.0, 114.0, 760.0, 2469.0], \"type\": \"bar\", \"uid\": \"f9a7f999-32f5-4e9d-958a-b316efc63ba8\"}], {\"barmode\": \"group\", \"title\": {\"text\": \"Gender Counts for Passing vs. Non-Passing Movies\"}}, {\"showLink\": false, \"linkText\": \"Export to plot.ly\", \"plotlyServerURL\": \"https://plot.ly\"}); \n",
       "}\n",
       "});</script><script type=\"text/javascript\">window.addEventListener(\"resize\", function(){if (document.getElementById(\"44c5dcf8-0e29-49f0-ab3b-e3745c3f5d01\")) {window._Plotly.Plots.resize(document.getElementById(\"44c5dcf8-0e29-49f0-ab3b-e3745c3f5d01\"));};})</script>"
      ],
      "text/vnd.plotly.v1+html": [
       "<div id=\"44c5dcf8-0e29-49f0-ab3b-e3745c3f5d01\" style=\"height: 525px; width: 100%;\" class=\"plotly-graph-div\"></div><script type=\"text/javascript\">require([\"plotly\"], function(Plotly) { window.PLOTLYENV=window.PLOTLYENV || {};window.PLOTLYENV.BASE_URL=\"https://plot.ly\";\n",
       "if (document.getElementById(\"44c5dcf8-0e29-49f0-ab3b-e3745c3f5d01\")) {\n",
       "    Plotly.newPlot(\"44c5dcf8-0e29-49f0-ab3b-e3745c3f5d01\", [{\"name\": \"Non-passing Movies\", \"x\": [\"director_gender\", \"writer_gender\", \"exec_gender\", \"producer_gender\", \"overall_gender\"], \"y\": [116.0, 271.0, 52.0, 403.0, 842.0], \"type\": \"bar\", \"uid\": \"dc528f99-8853-422a-9c85-1c2d9050e55f\"}, {\"name\": \"Passing Movies\", \"x\": [\"director_gender\", \"writer_gender\", \"exec_gender\", \"producer_gender\", \"overall_gender\"], \"y\": [616.0, 980.0, 114.0, 760.0, 2469.0], \"type\": \"bar\", \"uid\": \"f9a7f999-32f5-4e9d-958a-b316efc63ba8\"}], {\"barmode\": \"group\", \"title\": {\"text\": \"Gender Counts for Passing vs. Non-Passing Movies\"}}, {\"showLink\": false, \"linkText\": \"Export to plot.ly\", \"plotlyServerURL\": \"https://plot.ly\"}); \n",
       "}\n",
       "});</script><script type=\"text/javascript\">window.addEventListener(\"resize\", function(){if (document.getElementById(\"44c5dcf8-0e29-49f0-ab3b-e3745c3f5d01\")) {window._Plotly.Plots.resize(document.getElementById(\"44c5dcf8-0e29-49f0-ab3b-e3745c3f5d01\"));};})</script>"
      ]
     },
     "metadata": {},
     "output_type": "display_data"
    }
   ],
   "source": [
    "trace0 = go.Bar(\n",
    "    x=[col for col in gender_columns],\n",
    "    y=[val for val in bechdel_df.groupby('passing')[gender_columns].sum().values[0]],\n",
    "    name='Non-passing Movies'\n",
    ")\n",
    "\n",
    "trace1 = go.Bar(\n",
    "    x=[col for col in gender_columns],\n",
    "    y=[val for val in bechdel_df.groupby('passing')[gender_columns].sum().values[1]],\n",
    "    name='Passing Movies'\n",
    ")\n",
    "data = [trace0, trace1]    \n",
    "\n",
    "layout = go.Layout(\n",
    "    title=\"Gender Counts for Passing vs. Non-Passing Movies\",\n",
    "    barmode=('group')\n",
    ")\n",
    "\n",
    "fig = go.Figure(data=data, layout=layout)\n",
    "iplot(fig)"
   ]
  },
  {
   "cell_type": "code",
   "execution_count": null,
   "metadata": {},
   "outputs": [],
   "source": []
  },
  {
   "cell_type": "code",
   "execution_count": null,
   "metadata": {},
   "outputs": [],
   "source": []
  },
  {
   "cell_type": "code",
   "execution_count": null,
   "metadata": {},
   "outputs": [],
   "source": []
  },
  {
   "cell_type": "markdown",
   "metadata": {},
   "source": [
    "### C. Plot Budget and Revenue Values"
   ]
  },
  {
   "cell_type": "code",
   "execution_count": 15,
   "metadata": {},
   "outputs": [
    {
     "data": {
      "text/html": [
       "<div>\n",
       "<style scoped>\n",
       "    .dataframe tbody tr th:only-of-type {\n",
       "        vertical-align: middle;\n",
       "    }\n",
       "\n",
       "    .dataframe tbody tr th {\n",
       "        vertical-align: top;\n",
       "    }\n",
       "\n",
       "    .dataframe thead th {\n",
       "        text-align: right;\n",
       "    }\n",
       "</style>\n",
       "<table border=\"1\" class=\"dataframe\">\n",
       "  <thead>\n",
       "    <tr style=\"text-align: right;\">\n",
       "      <th></th>\n",
       "      <th>min</th>\n",
       "      <th>max</th>\n",
       "      <th>sum</th>\n",
       "      <th>mean</th>\n",
       "      <th>median</th>\n",
       "    </tr>\n",
       "    <tr>\n",
       "      <th>passing</th>\n",
       "      <th></th>\n",
       "      <th></th>\n",
       "      <th></th>\n",
       "      <th></th>\n",
       "      <th></th>\n",
       "    </tr>\n",
       "  </thead>\n",
       "  <tbody>\n",
       "    <tr>\n",
       "      <th>0.0</th>\n",
       "      <td>0.000001</td>\n",
       "      <td>350.0</td>\n",
       "      <td>66011.138628</td>\n",
       "      <td>41.386294</td>\n",
       "      <td>25.0</td>\n",
       "    </tr>\n",
       "    <tr>\n",
       "      <th>1.0</th>\n",
       "      <td>0.000003</td>\n",
       "      <td>400.0</td>\n",
       "      <td>69031.694579</td>\n",
       "      <td>36.275194</td>\n",
       "      <td>20.0</td>\n",
       "    </tr>\n",
       "  </tbody>\n",
       "</table>\n",
       "</div>"
      ],
      "text/plain": [
       "              min    max           sum       mean  median\n",
       "passing                                                  \n",
       "0.0      0.000001  350.0  66011.138628  41.386294    25.0\n",
       "1.0      0.000003  400.0  69031.694579  36.275194    20.0"
      ]
     },
     "execution_count": 15,
     "metadata": {},
     "output_type": "execute_result"
    }
   ],
   "source": [
    "budget_revenue_grouped = budget_and_revenue_df.groupby('passing').budget_millions.agg(['min', 'max', 'sum', 'mean', 'median'])"
   ]
  },
  {
   "cell_type": "code",
   "execution_count": null,
   "metadata": {},
   "outputs": [],
   "source": []
  },
  {
   "cell_type": "code",
   "execution_count": null,
   "metadata": {},
   "outputs": [],
   "source": []
  },
  {
   "cell_type": "code",
   "execution_count": null,
   "metadata": {},
   "outputs": [],
   "source": []
  },
  {
   "cell_type": "code",
   "execution_count": null,
   "metadata": {},
   "outputs": [],
   "source": []
  },
  {
   "cell_type": "code",
   "execution_count": null,
   "metadata": {},
   "outputs": [],
   "source": []
  },
  {
   "cell_type": "code",
   "execution_count": null,
   "metadata": {},
   "outputs": [],
   "source": []
  },
  {
   "cell_type": "code",
   "execution_count": null,
   "metadata": {},
   "outputs": [],
   "source": []
  },
  {
   "cell_type": "code",
   "execution_count": null,
   "metadata": {},
   "outputs": [],
   "source": []
  },
  {
   "cell_type": "code",
   "execution_count": 15,
   "metadata": {},
   "outputs": [
    {
     "data": {
      "text/html": [
       "<div>\n",
       "<style scoped>\n",
       "    .dataframe tbody tr th:only-of-type {\n",
       "        vertical-align: middle;\n",
       "    }\n",
       "\n",
       "    .dataframe tbody tr th {\n",
       "        vertical-align: top;\n",
       "    }\n",
       "\n",
       "    .dataframe thead th {\n",
       "        text-align: right;\n",
       "    }\n",
       "</style>\n",
       "<table border=\"1\" class=\"dataframe\">\n",
       "  <thead>\n",
       "    <tr style=\"text-align: right;\">\n",
       "      <th></th>\n",
       "      <th>year</th>\n",
       "      <th>score</th>\n",
       "      <th>director_gender</th>\n",
       "      <th>writer_gender</th>\n",
       "      <th>exec_gender</th>\n",
       "      <th>producer_gender</th>\n",
       "      <th>overall_gender</th>\n",
       "      <th>budget</th>\n",
       "      <th>revenue</th>\n",
       "    </tr>\n",
       "    <tr>\n",
       "      <th>passing</th>\n",
       "      <th></th>\n",
       "      <th></th>\n",
       "      <th></th>\n",
       "      <th></th>\n",
       "      <th></th>\n",
       "      <th></th>\n",
       "      <th></th>\n",
       "      <th></th>\n",
       "      <th></th>\n",
       "    </tr>\n",
       "  </thead>\n",
       "  <tbody>\n",
       "    <tr>\n",
       "      <th>0.0</th>\n",
       "      <td>6472828.0</td>\n",
       "      <td>3253.0</td>\n",
       "      <td>116.0</td>\n",
       "      <td>271.0</td>\n",
       "      <td>52.0</td>\n",
       "      <td>403.0</td>\n",
       "      <td>842.0</td>\n",
       "      <td>6.880390e+10</td>\n",
       "      <td>2.158132e+11</td>\n",
       "    </tr>\n",
       "    <tr>\n",
       "      <th>1.0</th>\n",
       "      <td>8714948.0</td>\n",
       "      <td>13083.0</td>\n",
       "      <td>616.0</td>\n",
       "      <td>980.0</td>\n",
       "      <td>114.0</td>\n",
       "      <td>760.0</td>\n",
       "      <td>2469.0</td>\n",
       "      <td>7.229692e+10</td>\n",
       "      <td>2.523760e+11</td>\n",
       "    </tr>\n",
       "  </tbody>\n",
       "</table>\n",
       "</div>"
      ],
      "text/plain": [
       "              year    score  director_gender  writer_gender  exec_gender  \\\n",
       "passing                                                                    \n",
       "0.0      6472828.0   3253.0            116.0          271.0         52.0   \n",
       "1.0      8714948.0  13083.0            616.0          980.0        114.0   \n",
       "\n",
       "         producer_gender  overall_gender        budget       revenue  \n",
       "passing                                                               \n",
       "0.0                403.0           842.0  6.880390e+10  2.158132e+11  \n",
       "1.0                760.0          2469.0  7.229692e+10  2.523760e+11  "
      ]
     },
     "execution_count": 15,
     "metadata": {},
     "output_type": "execute_result"
    }
   ],
   "source": [
    "bechdel_df.groupby('passing').sum()"
   ]
  },
  {
   "cell_type": "code",
   "execution_count": null,
   "metadata": {},
   "outputs": [],
   "source": []
  }
 ],
 "metadata": {
  "kernelspec": {
   "display_name": "Python (learn-env)",
   "language": "python",
   "name": "learn-env"
  },
  "language_info": {
   "codemirror_mode": {
    "name": "ipython",
    "version": 3
   },
   "file_extension": ".py",
   "mimetype": "text/x-python",
   "name": "python",
   "nbconvert_exporter": "python",
   "pygments_lexer": "ipython3",
   "version": "3.7.2"
  }
 },
 "nbformat": 4,
 "nbformat_minor": 2
}
