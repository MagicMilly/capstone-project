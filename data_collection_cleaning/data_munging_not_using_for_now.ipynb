{
 "cells": [
  {
   "cell_type": "markdown",
   "metadata": {
    "heading_collapsed": true
   },
   "source": [
    "## I. First Names Dataset"
   ]
  },
  {
   "cell_type": "code",
   "execution_count": 1,
   "metadata": {
    "hidden": true
   },
   "outputs": [],
   "source": [
    "import pandas as pd\n",
    "# import numpy as np"
   ]
  },
  {
   "cell_type": "code",
   "execution_count": 41,
   "metadata": {
    "hidden": true,
    "scrolled": true
   },
   "outputs": [
    {
     "data": {
      "text/html": [
       "<div>\n",
       "<style scoped>\n",
       "    .dataframe tbody tr th:only-of-type {\n",
       "        vertical-align: middle;\n",
       "    }\n",
       "\n",
       "    .dataframe tbody tr th {\n",
       "        vertical-align: top;\n",
       "    }\n",
       "\n",
       "    .dataframe thead th {\n",
       "        text-align: right;\n",
       "    }\n",
       "</style>\n",
       "<table border=\"1\" class=\"dataframe\">\n",
       "  <thead>\n",
       "    <tr style=\"text-align: right;\">\n",
       "      <th></th>\n",
       "      <th>Name</th>\n",
       "      <th>Gender</th>\n",
       "      <th>Frequency</th>\n",
       "      <th>Include?</th>\n",
       "    </tr>\n",
       "  </thead>\n",
       "  <tbody>\n",
       "    <tr>\n",
       "      <th>0</th>\n",
       "      <td>Emma</td>\n",
       "      <td>F</td>\n",
       "      <td>20355</td>\n",
       "      <td>Yes</td>\n",
       "    </tr>\n",
       "    <tr>\n",
       "      <th>1</th>\n",
       "      <td>Olivia</td>\n",
       "      <td>F</td>\n",
       "      <td>19553</td>\n",
       "      <td>Yes</td>\n",
       "    </tr>\n",
       "    <tr>\n",
       "      <th>2</th>\n",
       "      <td>Noah</td>\n",
       "      <td>M</td>\n",
       "      <td>19511</td>\n",
       "      <td>Yes</td>\n",
       "    </tr>\n",
       "    <tr>\n",
       "      <th>3</th>\n",
       "      <td>Liam</td>\n",
       "      <td>M</td>\n",
       "      <td>18281</td>\n",
       "      <td>Yes</td>\n",
       "    </tr>\n",
       "    <tr>\n",
       "      <th>4</th>\n",
       "      <td>Sophia</td>\n",
       "      <td>F</td>\n",
       "      <td>17327</td>\n",
       "      <td>Yes</td>\n",
       "    </tr>\n",
       "  </tbody>\n",
       "</table>\n",
       "</div>"
      ],
      "text/plain": [
       "     Name Gender  Frequency Include?\n",
       "0    Emma      F      20355      Yes\n",
       "1  Olivia      F      19553      Yes\n",
       "2    Noah      M      19511      Yes\n",
       "3    Liam      M      18281      Yes\n",
       "4  Sophia      F      17327      Yes"
      ]
     },
     "execution_count": 41,
     "metadata": {},
     "output_type": "execute_result"
    }
   ],
   "source": [
    "name_df = pd.read_excel('SSA_Names_DB.xlsx')\n",
    "name_df.head()"
   ]
  },
  {
   "cell_type": "markdown",
   "metadata": {
    "hidden": true
   },
   "source": [
    "### Clean name dataset\n",
    "* Drop `Frequency` and `Include?` columns\n",
    "* Change genders to numerical values\n",
    "    * `M` $\\rightarrow$ `0`\n",
    "    * `F` $\\rightarrow$ `1`\n",
    "    * Gender neutral names included in both categories $\\rightarrow$ `2`\n",
    "* Drop duplicated gender neutral names"
   ]
  },
  {
   "cell_type": "code",
   "execution_count": 93,
   "metadata": {
    "hidden": true
   },
   "outputs": [
    {
     "data": {
      "text/plain": [
       "F    18993\n",
       "M    13959\n",
       "Name: Gender, dtype: int64"
      ]
     },
     "execution_count": 93,
     "metadata": {},
     "output_type": "execute_result"
    }
   ],
   "source": [
    "name_df.Gender.value_counts()"
   ]
  },
  {
   "cell_type": "code",
   "execution_count": 94,
   "metadata": {
    "hidden": true
   },
   "outputs": [
    {
     "data": {
      "text/plain": [
       "No     27252\n",
       "Yes     5700\n",
       "Name: Include?, dtype: int64"
      ]
     },
     "execution_count": 94,
     "metadata": {},
     "output_type": "execute_result"
    }
   ],
   "source": [
    "name_df['Include?'].value_counts()"
   ]
  },
  {
   "cell_type": "code",
   "execution_count": 42,
   "metadata": {
    "hidden": true
   },
   "outputs": [],
   "source": [
    "# change gender values to binary\n",
    "name_df.Gender.replace({'M': 0, 'F': 1}, inplace=True)"
   ]
  },
  {
   "cell_type": "code",
   "execution_count": 17,
   "metadata": {
    "hidden": true
   },
   "outputs": [
    {
     "data": {
      "text/html": [
       "<div>\n",
       "<style scoped>\n",
       "    .dataframe tbody tr th:only-of-type {\n",
       "        vertical-align: middle;\n",
       "    }\n",
       "\n",
       "    .dataframe tbody tr th {\n",
       "        vertical-align: top;\n",
       "    }\n",
       "\n",
       "    .dataframe thead th {\n",
       "        text-align: right;\n",
       "    }\n",
       "</style>\n",
       "<table border=\"1\" class=\"dataframe\">\n",
       "  <thead>\n",
       "    <tr style=\"text-align: right;\">\n",
       "      <th></th>\n",
       "      <th>Name</th>\n",
       "      <th>Gender</th>\n",
       "      <th>Frequency</th>\n",
       "      <th>Include?</th>\n",
       "    </tr>\n",
       "  </thead>\n",
       "  <tbody>\n",
       "    <tr>\n",
       "      <th>0</th>\n",
       "      <td>Emma</td>\n",
       "      <td>1</td>\n",
       "      <td>20355</td>\n",
       "      <td>Yes</td>\n",
       "    </tr>\n",
       "    <tr>\n",
       "      <th>1</th>\n",
       "      <td>Olivia</td>\n",
       "      <td>1</td>\n",
       "      <td>19553</td>\n",
       "      <td>Yes</td>\n",
       "    </tr>\n",
       "    <tr>\n",
       "      <th>2</th>\n",
       "      <td>Noah</td>\n",
       "      <td>0</td>\n",
       "      <td>19511</td>\n",
       "      <td>Yes</td>\n",
       "    </tr>\n",
       "    <tr>\n",
       "      <th>3</th>\n",
       "      <td>Liam</td>\n",
       "      <td>0</td>\n",
       "      <td>18281</td>\n",
       "      <td>Yes</td>\n",
       "    </tr>\n",
       "    <tr>\n",
       "      <th>4</th>\n",
       "      <td>Sophia</td>\n",
       "      <td>1</td>\n",
       "      <td>17327</td>\n",
       "      <td>Yes</td>\n",
       "    </tr>\n",
       "  </tbody>\n",
       "</table>\n",
       "</div>"
      ],
      "text/plain": [
       "     Name  Gender  Frequency Include?\n",
       "0    Emma       1      20355      Yes\n",
       "1  Olivia       1      19553      Yes\n",
       "2    Noah       0      19511      Yes\n",
       "3    Liam       0      18281      Yes\n",
       "4  Sophia       1      17327      Yes"
      ]
     },
     "execution_count": 17,
     "metadata": {},
     "output_type": "execute_result"
    }
   ],
   "source": [
    "name_df.head()"
   ]
  },
  {
   "cell_type": "code",
   "execution_count": 5,
   "metadata": {
    "hidden": true
   },
   "outputs": [],
   "source": [
    "# according to the data dictionary, the Include? column has to do with number of social security applications and\n",
    "# is not needed for this project"
   ]
  },
  {
   "cell_type": "code",
   "execution_count": 43,
   "metadata": {
    "hidden": true
   },
   "outputs": [],
   "source": [
    "name_df.drop('Include?', axis=1, inplace=True)"
   ]
  },
  {
   "cell_type": "code",
   "execution_count": 44,
   "metadata": {
    "hidden": true
   },
   "outputs": [
    {
     "data": {
      "text/html": [
       "<div>\n",
       "<style scoped>\n",
       "    .dataframe tbody tr th:only-of-type {\n",
       "        vertical-align: middle;\n",
       "    }\n",
       "\n",
       "    .dataframe tbody tr th {\n",
       "        vertical-align: top;\n",
       "    }\n",
       "\n",
       "    .dataframe thead th {\n",
       "        text-align: right;\n",
       "    }\n",
       "</style>\n",
       "<table border=\"1\" class=\"dataframe\">\n",
       "  <thead>\n",
       "    <tr style=\"text-align: right;\">\n",
       "      <th></th>\n",
       "      <th>Name</th>\n",
       "      <th>Gender</th>\n",
       "      <th>Frequency</th>\n",
       "    </tr>\n",
       "  </thead>\n",
       "  <tbody>\n",
       "    <tr>\n",
       "      <th>0</th>\n",
       "      <td>Emma</td>\n",
       "      <td>1</td>\n",
       "      <td>20355</td>\n",
       "    </tr>\n",
       "    <tr>\n",
       "      <th>1</th>\n",
       "      <td>Olivia</td>\n",
       "      <td>1</td>\n",
       "      <td>19553</td>\n",
       "    </tr>\n",
       "    <tr>\n",
       "      <th>2</th>\n",
       "      <td>Noah</td>\n",
       "      <td>0</td>\n",
       "      <td>19511</td>\n",
       "    </tr>\n",
       "    <tr>\n",
       "      <th>3</th>\n",
       "      <td>Liam</td>\n",
       "      <td>0</td>\n",
       "      <td>18281</td>\n",
       "    </tr>\n",
       "    <tr>\n",
       "      <th>4</th>\n",
       "      <td>Sophia</td>\n",
       "      <td>1</td>\n",
       "      <td>17327</td>\n",
       "    </tr>\n",
       "  </tbody>\n",
       "</table>\n",
       "</div>"
      ],
      "text/plain": [
       "     Name  Gender  Frequency\n",
       "0    Emma       1      20355\n",
       "1  Olivia       1      19553\n",
       "2    Noah       0      19511\n",
       "3    Liam       0      18281\n",
       "4  Sophia       1      17327"
      ]
     },
     "execution_count": 44,
     "metadata": {},
     "output_type": "execute_result"
    }
   ],
   "source": [
    "name_df.head()"
   ]
  },
  {
   "cell_type": "code",
   "execution_count": 80,
   "metadata": {
    "hidden": true
   },
   "outputs": [
    {
     "data": {
      "text/plain": [
       "array(['Emma', 1, 20355], dtype=object)"
      ]
     },
     "execution_count": 80,
     "metadata": {},
     "output_type": "execute_result"
    }
   ],
   "source": [
    "name_df.values[0]"
   ]
  },
  {
   "cell_type": "code",
   "execution_count": 99,
   "metadata": {
    "hidden": true
   },
   "outputs": [],
   "source": [
    "female_names = []\n",
    "male_names = []\n",
    "\n",
    "for x in name_df.values:\n",
    "    if x[1] == 1:\n",
    "        female_names.append(x[0])\n",
    "    if x[1] == 0:\n",
    "        male_names.append(x[0])"
   ]
  },
  {
   "cell_type": "code",
   "execution_count": 100,
   "metadata": {
    "hidden": true
   },
   "outputs": [
    {
     "data": {
      "text/plain": [
       "True"
      ]
     },
     "execution_count": 100,
     "metadata": {},
     "output_type": "execute_result"
    }
   ],
   "source": [
    "any(i in female_names for i in male_names)"
   ]
  },
  {
   "cell_type": "code",
   "execution_count": 101,
   "metadata": {
    "hidden": true
   },
   "outputs": [],
   "source": [
    "neutral = set(female_names).intersection(set(male_names))"
   ]
  },
  {
   "cell_type": "code",
   "execution_count": 102,
   "metadata": {
    "hidden": true
   },
   "outputs": [
    {
     "data": {
      "text/plain": [
       "2492"
      ]
     },
     "execution_count": 102,
     "metadata": {},
     "output_type": "execute_result"
    }
   ],
   "source": [
    "len(neutral)"
   ]
  },
  {
   "cell_type": "code",
   "execution_count": 86,
   "metadata": {
    "hidden": true
   },
   "outputs": [
    {
     "data": {
      "text/plain": [
       "[True,\n",
       " 'Zyair',\n",
       " 'Amour',\n",
       " 'Kentley',\n",
       " 'Jermiah',\n",
       " 'Yichen',\n",
       " 'Truett',\n",
       " 'Channing',\n",
       " 'Brody',\n",
       " 'Christian']"
      ]
     },
     "execution_count": 86,
     "metadata": {},
     "output_type": "execute_result"
    }
   ],
   "source": [
    "list(neutral)[:10]"
   ]
  },
  {
   "cell_type": "code",
   "execution_count": 8,
   "metadata": {
    "hidden": true
   },
   "outputs": [
    {
     "data": {
      "text/html": [
       "<div>\n",
       "<style scoped>\n",
       "    .dataframe tbody tr th:only-of-type {\n",
       "        vertical-align: middle;\n",
       "    }\n",
       "\n",
       "    .dataframe tbody tr th {\n",
       "        vertical-align: top;\n",
       "    }\n",
       "\n",
       "    .dataframe thead th {\n",
       "        text-align: right;\n",
       "    }\n",
       "</style>\n",
       "<table border=\"1\" class=\"dataframe\">\n",
       "  <thead>\n",
       "    <tr style=\"text-align: right;\">\n",
       "      <th></th>\n",
       "      <th>Name</th>\n",
       "      <th>Gender</th>\n",
       "      <th>Frequency</th>\n",
       "    </tr>\n",
       "  </thead>\n",
       "  <tbody>\n",
       "    <tr>\n",
       "      <th>1</th>\n",
       "      <td>Olivia</td>\n",
       "      <td>1</td>\n",
       "      <td>19553</td>\n",
       "    </tr>\n",
       "    <tr>\n",
       "      <th>22217</th>\n",
       "      <td>Olivia</td>\n",
       "      <td>0</td>\n",
       "      <td>8</td>\n",
       "    </tr>\n",
       "  </tbody>\n",
       "</table>\n",
       "</div>"
      ],
      "text/plain": [
       "         Name  Gender  Frequency\n",
       "1      Olivia       1      19553\n",
       "22217  Olivia       0          8"
      ]
     },
     "execution_count": 8,
     "metadata": {},
     "output_type": "execute_result"
    }
   ],
   "source": [
    "name_df.loc[name_df.Name == 'Olivia']"
   ]
  },
  {
   "cell_type": "code",
   "execution_count": 19,
   "metadata": {
    "hidden": true
   },
   "outputs": [
    {
     "data": {
      "text/html": [
       "<div>\n",
       "<style scoped>\n",
       "    .dataframe tbody tr th:only-of-type {\n",
       "        vertical-align: middle;\n",
       "    }\n",
       "\n",
       "    .dataframe tbody tr th {\n",
       "        vertical-align: top;\n",
       "    }\n",
       "\n",
       "    .dataframe thead th {\n",
       "        text-align: right;\n",
       "    }\n",
       "</style>\n",
       "<table border=\"1\" class=\"dataframe\">\n",
       "  <thead>\n",
       "    <tr style=\"text-align: right;\">\n",
       "      <th></th>\n",
       "      <th>Name</th>\n",
       "      <th>Gender</th>\n",
       "      <th>Frequency</th>\n",
       "    </tr>\n",
       "  </thead>\n",
       "  <tbody>\n",
       "    <tr>\n",
       "      <th>0</th>\n",
       "      <td>Emma</td>\n",
       "      <td>1</td>\n",
       "      <td>20355</td>\n",
       "    </tr>\n",
       "    <tr>\n",
       "      <th>18390</th>\n",
       "      <td>Emma</td>\n",
       "      <td>0</td>\n",
       "      <td>10</td>\n",
       "    </tr>\n",
       "  </tbody>\n",
       "</table>\n",
       "</div>"
      ],
      "text/plain": [
       "       Name  Gender  Frequency\n",
       "0      Emma       1      20355\n",
       "18390  Emma       0         10"
      ]
     },
     "execution_count": 19,
     "metadata": {},
     "output_type": "execute_result"
    }
   ],
   "source": [
    "name_df.loc[name_df.Name == 'Emma']"
   ]
  },
  {
   "cell_type": "code",
   "execution_count": 109,
   "metadata": {
    "hidden": true
   },
   "outputs": [
    {
     "data": {
      "text/plain": [
       "21698"
      ]
     },
     "execution_count": 109,
     "metadata": {},
     "output_type": "execute_result"
    }
   ],
   "source": [
    "len(name_df.loc[name_df.Frequency < 20])"
   ]
  },
  {
   "cell_type": "code",
   "execution_count": 112,
   "metadata": {
    "hidden": true
   },
   "outputs": [
    {
     "data": {
      "text/plain": [
       "19037"
      ]
     },
     "execution_count": 112,
     "metadata": {},
     "output_type": "execute_result"
    }
   ],
   "source": [
    "len(name_df.loc[name_df.Frequency < 15])"
   ]
  },
  {
   "cell_type": "code",
   "execution_count": 45,
   "metadata": {
    "hidden": true
   },
   "outputs": [],
   "source": [
    "# try names that appear more than 30 times, because using 15 as the threshold still included some males with the name\n",
    "# of 'Emily'\n",
    "common_names = name_df.loc[name_df.Frequency > 30]"
   ]
  },
  {
   "cell_type": "code",
   "execution_count": 46,
   "metadata": {
    "hidden": true
   },
   "outputs": [
    {
     "data": {
      "text/plain": [
       "(8128, 3)"
      ]
     },
     "execution_count": 46,
     "metadata": {},
     "output_type": "execute_result"
    }
   ],
   "source": [
    "common_names.shape"
   ]
  },
  {
   "cell_type": "code",
   "execution_count": 47,
   "metadata": {
    "hidden": true
   },
   "outputs": [],
   "source": [
    "female_names = []\n",
    "male_names = []\n",
    "\n",
    "for x in common_names.values:\n",
    "    if x[1] == 1:\n",
    "        female_names.append(x[0])\n",
    "    if x[1] == 0:\n",
    "        male_names.append(x[0])\n",
    "\n",
    "neutral = set(female_names).intersection(set(male_names))"
   ]
  },
  {
   "cell_type": "code",
   "execution_count": 48,
   "metadata": {
    "hidden": true
   },
   "outputs": [
    {
     "data": {
      "text/plain": [
       "469"
      ]
     },
     "execution_count": 48,
     "metadata": {},
     "output_type": "execute_result"
    }
   ],
   "source": [
    "len(neutral)"
   ]
  },
  {
   "cell_type": "code",
   "execution_count": 49,
   "metadata": {
    "hidden": true
   },
   "outputs": [
    {
     "data": {
      "text/plain": [
       "[True,\n",
       " 'Jai',\n",
       " 'Noor',\n",
       " 'Monroe',\n",
       " 'Chase',\n",
       " 'Porter',\n",
       " 'Kyler',\n",
       " 'Landry',\n",
       " 'Cypress',\n",
       " 'Kyree',\n",
       " 'Jayce',\n",
       " 'Jordan',\n",
       " 'Kingsley',\n",
       " 'Bryar',\n",
       " 'Cassidy',\n",
       " 'Cooper',\n",
       " 'Easton',\n",
       " 'Brooklyn',\n",
       " 'Austin',\n",
       " 'Fallon',\n",
       " 'Parker',\n",
       " 'Tory',\n",
       " 'Sunny',\n",
       " 'Teagan',\n",
       " 'Harper',\n",
       " 'Lennon',\n",
       " 'Tatum',\n",
       " 'Daylin',\n",
       " 'Maddox',\n",
       " 'Lane',\n",
       " 'Arrow',\n",
       " 'Hudson',\n",
       " 'Jamison',\n",
       " 'Wisdom',\n",
       " 'Henley',\n",
       " 'Jessy',\n",
       " 'Leighton',\n",
       " 'Charley',\n",
       " 'Micaiah',\n",
       " 'Adrian',\n",
       " 'Yuri',\n",
       " 'Ira',\n",
       " 'London',\n",
       " 'Rylee',\n",
       " 'Hendrix',\n",
       " 'Jesse',\n",
       " 'Devon',\n",
       " 'Tenzin',\n",
       " 'Clarke',\n",
       " 'Tristyn']"
      ]
     },
     "execution_count": 49,
     "metadata": {},
     "output_type": "execute_result"
    }
   ],
   "source": [
    "list(neutral)[:50]"
   ]
  },
  {
   "cell_type": "code",
   "execution_count": 59,
   "metadata": {
    "hidden": true,
    "scrolled": true
   },
   "outputs": [],
   "source": [
    "# for x in list(neutral):\n",
    "#     common_names.loc[common_names.Name == x, 'Gender'] = 2"
   ]
  },
  {
   "cell_type": "code",
   "execution_count": 51,
   "metadata": {
    "hidden": true
   },
   "outputs": [
    {
     "data": {
      "text/html": [
       "<div>\n",
       "<style scoped>\n",
       "    .dataframe tbody tr th:only-of-type {\n",
       "        vertical-align: middle;\n",
       "    }\n",
       "\n",
       "    .dataframe tbody tr th {\n",
       "        vertical-align: top;\n",
       "    }\n",
       "\n",
       "    .dataframe thead th {\n",
       "        text-align: right;\n",
       "    }\n",
       "</style>\n",
       "<table border=\"1\" class=\"dataframe\">\n",
       "  <thead>\n",
       "    <tr style=\"text-align: right;\">\n",
       "      <th></th>\n",
       "      <th>Name</th>\n",
       "      <th>Gender</th>\n",
       "      <th>Frequency</th>\n",
       "    </tr>\n",
       "  </thead>\n",
       "  <tbody>\n",
       "    <tr>\n",
       "      <th>0</th>\n",
       "      <td>Emma</td>\n",
       "      <td>1</td>\n",
       "      <td>20355</td>\n",
       "    </tr>\n",
       "    <tr>\n",
       "      <th>1</th>\n",
       "      <td>Olivia</td>\n",
       "      <td>1</td>\n",
       "      <td>19553</td>\n",
       "    </tr>\n",
       "    <tr>\n",
       "      <th>2</th>\n",
       "      <td>Noah</td>\n",
       "      <td>2</td>\n",
       "      <td>19511</td>\n",
       "    </tr>\n",
       "    <tr>\n",
       "      <th>3</th>\n",
       "      <td>Liam</td>\n",
       "      <td>0</td>\n",
       "      <td>18281</td>\n",
       "    </tr>\n",
       "    <tr>\n",
       "      <th>4</th>\n",
       "      <td>Sophia</td>\n",
       "      <td>1</td>\n",
       "      <td>17327</td>\n",
       "    </tr>\n",
       "  </tbody>\n",
       "</table>\n",
       "</div>"
      ],
      "text/plain": [
       "     Name  Gender  Frequency\n",
       "0    Emma       1      20355\n",
       "1  Olivia       1      19553\n",
       "2    Noah       2      19511\n",
       "3    Liam       0      18281\n",
       "4  Sophia       1      17327"
      ]
     },
     "execution_count": 51,
     "metadata": {},
     "output_type": "execute_result"
    }
   ],
   "source": [
    "common_names.head()"
   ]
  },
  {
   "cell_type": "code",
   "execution_count": 52,
   "metadata": {
    "hidden": true
   },
   "outputs": [
    {
     "data": {
      "text/plain": [
       "1    4089\n",
       "0    3101\n",
       "2     938\n",
       "Name: Gender, dtype: int64"
      ]
     },
     "execution_count": 52,
     "metadata": {},
     "output_type": "execute_result"
    }
   ],
   "source": [
    "common_names.Gender.value_counts()"
   ]
  },
  {
   "cell_type": "code",
   "execution_count": 54,
   "metadata": {
    "hidden": true
   },
   "outputs": [
    {
     "data": {
      "text/html": [
       "<div>\n",
       "<style scoped>\n",
       "    .dataframe tbody tr th:only-of-type {\n",
       "        vertical-align: middle;\n",
       "    }\n",
       "\n",
       "    .dataframe tbody tr th {\n",
       "        vertical-align: top;\n",
       "    }\n",
       "\n",
       "    .dataframe thead th {\n",
       "        text-align: right;\n",
       "    }\n",
       "</style>\n",
       "<table border=\"1\" class=\"dataframe\">\n",
       "  <thead>\n",
       "    <tr style=\"text-align: right;\">\n",
       "      <th></th>\n",
       "      <th>Name</th>\n",
       "      <th>Gender</th>\n",
       "      <th>Frequency</th>\n",
       "    </tr>\n",
       "  </thead>\n",
       "  <tbody>\n",
       "    <tr>\n",
       "      <th>0</th>\n",
       "      <td>Emma</td>\n",
       "      <td>1</td>\n",
       "      <td>20355</td>\n",
       "    </tr>\n",
       "    <tr>\n",
       "      <th>1</th>\n",
       "      <td>Olivia</td>\n",
       "      <td>1</td>\n",
       "      <td>19553</td>\n",
       "    </tr>\n",
       "    <tr>\n",
       "      <th>2</th>\n",
       "      <td>Noah</td>\n",
       "      <td>2</td>\n",
       "      <td>19511</td>\n",
       "    </tr>\n",
       "    <tr>\n",
       "      <th>3</th>\n",
       "      <td>Liam</td>\n",
       "      <td>0</td>\n",
       "      <td>18281</td>\n",
       "    </tr>\n",
       "    <tr>\n",
       "      <th>4</th>\n",
       "      <td>Sophia</td>\n",
       "      <td>1</td>\n",
       "      <td>17327</td>\n",
       "    </tr>\n",
       "    <tr>\n",
       "      <th>5</th>\n",
       "      <td>Mason</td>\n",
       "      <td>2</td>\n",
       "      <td>16535</td>\n",
       "    </tr>\n",
       "    <tr>\n",
       "      <th>6</th>\n",
       "      <td>Ava</td>\n",
       "      <td>1</td>\n",
       "      <td>16286</td>\n",
       "    </tr>\n",
       "    <tr>\n",
       "      <th>7</th>\n",
       "      <td>Jacob</td>\n",
       "      <td>0</td>\n",
       "      <td>15816</td>\n",
       "    </tr>\n",
       "    <tr>\n",
       "      <th>8</th>\n",
       "      <td>William</td>\n",
       "      <td>0</td>\n",
       "      <td>15809</td>\n",
       "    </tr>\n",
       "    <tr>\n",
       "      <th>9</th>\n",
       "      <td>Isabella</td>\n",
       "      <td>1</td>\n",
       "      <td>15504</td>\n",
       "    </tr>\n",
       "    <tr>\n",
       "      <th>10</th>\n",
       "      <td>Ethan</td>\n",
       "      <td>0</td>\n",
       "      <td>14991</td>\n",
       "    </tr>\n",
       "    <tr>\n",
       "      <th>11</th>\n",
       "      <td>Mia</td>\n",
       "      <td>1</td>\n",
       "      <td>14820</td>\n",
       "    </tr>\n",
       "    <tr>\n",
       "      <th>12</th>\n",
       "      <td>James</td>\n",
       "      <td>2</td>\n",
       "      <td>14705</td>\n",
       "    </tr>\n",
       "    <tr>\n",
       "      <th>13</th>\n",
       "      <td>Alexander</td>\n",
       "      <td>0</td>\n",
       "      <td>14460</td>\n",
       "    </tr>\n",
       "    <tr>\n",
       "      <th>14</th>\n",
       "      <td>Michael</td>\n",
       "      <td>2</td>\n",
       "      <td>14321</td>\n",
       "    </tr>\n",
       "    <tr>\n",
       "      <th>15</th>\n",
       "      <td>Benjamin</td>\n",
       "      <td>0</td>\n",
       "      <td>13608</td>\n",
       "    </tr>\n",
       "    <tr>\n",
       "      <th>16</th>\n",
       "      <td>Elijah</td>\n",
       "      <td>0</td>\n",
       "      <td>13511</td>\n",
       "    </tr>\n",
       "    <tr>\n",
       "      <th>17</th>\n",
       "      <td>Daniel</td>\n",
       "      <td>0</td>\n",
       "      <td>13408</td>\n",
       "    </tr>\n",
       "    <tr>\n",
       "      <th>18</th>\n",
       "      <td>Aiden</td>\n",
       "      <td>2</td>\n",
       "      <td>13378</td>\n",
       "    </tr>\n",
       "    <tr>\n",
       "      <th>19</th>\n",
       "      <td>Logan</td>\n",
       "      <td>2</td>\n",
       "      <td>12862</td>\n",
       "    </tr>\n",
       "    <tr>\n",
       "      <th>20</th>\n",
       "      <td>Matthew</td>\n",
       "      <td>0</td>\n",
       "      <td>12648</td>\n",
       "    </tr>\n",
       "    <tr>\n",
       "      <th>21</th>\n",
       "      <td>Abigail</td>\n",
       "      <td>1</td>\n",
       "      <td>12311</td>\n",
       "    </tr>\n",
       "    <tr>\n",
       "      <th>22</th>\n",
       "      <td>Lucas</td>\n",
       "      <td>0</td>\n",
       "      <td>12246</td>\n",
       "    </tr>\n",
       "    <tr>\n",
       "      <th>23</th>\n",
       "      <td>Jackson</td>\n",
       "      <td>0</td>\n",
       "      <td>12182</td>\n",
       "    </tr>\n",
       "    <tr>\n",
       "      <th>24</th>\n",
       "      <td>Emily</td>\n",
       "      <td>1</td>\n",
       "      <td>11727</td>\n",
       "    </tr>\n",
       "  </tbody>\n",
       "</table>\n",
       "</div>"
      ],
      "text/plain": [
       "         Name  Gender  Frequency\n",
       "0        Emma       1      20355\n",
       "1      Olivia       1      19553\n",
       "2        Noah       2      19511\n",
       "3        Liam       0      18281\n",
       "4      Sophia       1      17327\n",
       "5       Mason       2      16535\n",
       "6         Ava       1      16286\n",
       "7       Jacob       0      15816\n",
       "8     William       0      15809\n",
       "9    Isabella       1      15504\n",
       "10      Ethan       0      14991\n",
       "11        Mia       1      14820\n",
       "12      James       2      14705\n",
       "13  Alexander       0      14460\n",
       "14    Michael       2      14321\n",
       "15   Benjamin       0      13608\n",
       "16     Elijah       0      13511\n",
       "17     Daniel       0      13408\n",
       "18      Aiden       2      13378\n",
       "19      Logan       2      12862\n",
       "20    Matthew       0      12648\n",
       "21    Abigail       1      12311\n",
       "22      Lucas       0      12246\n",
       "23    Jackson       0      12182\n",
       "24      Emily       1      11727"
      ]
     },
     "execution_count": 54,
     "metadata": {},
     "output_type": "execute_result"
    }
   ],
   "source": [
    "common_names[:25]"
   ]
  },
  {
   "cell_type": "code",
   "execution_count": 58,
   "metadata": {
    "hidden": true
   },
   "outputs": [],
   "source": [
    "# common_names.drop('Frequency', axis=1, inplace=True)\n",
    "# common_names.drop_duplicates(inplace=True)"
   ]
  },
  {
   "cell_type": "code",
   "execution_count": 56,
   "metadata": {
    "hidden": true
   },
   "outputs": [
    {
     "data": {
      "text/html": [
       "<div>\n",
       "<style scoped>\n",
       "    .dataframe tbody tr th:only-of-type {\n",
       "        vertical-align: middle;\n",
       "    }\n",
       "\n",
       "    .dataframe tbody tr th {\n",
       "        vertical-align: top;\n",
       "    }\n",
       "\n",
       "    .dataframe thead th {\n",
       "        text-align: right;\n",
       "    }\n",
       "</style>\n",
       "<table border=\"1\" class=\"dataframe\">\n",
       "  <thead>\n",
       "    <tr style=\"text-align: right;\">\n",
       "      <th></th>\n",
       "      <th>Name</th>\n",
       "      <th>Gender</th>\n",
       "    </tr>\n",
       "  </thead>\n",
       "  <tbody>\n",
       "    <tr>\n",
       "      <th>0</th>\n",
       "      <td>Emma</td>\n",
       "      <td>1</td>\n",
       "    </tr>\n",
       "    <tr>\n",
       "      <th>1</th>\n",
       "      <td>Olivia</td>\n",
       "      <td>1</td>\n",
       "    </tr>\n",
       "    <tr>\n",
       "      <th>2</th>\n",
       "      <td>Noah</td>\n",
       "      <td>2</td>\n",
       "    </tr>\n",
       "    <tr>\n",
       "      <th>3</th>\n",
       "      <td>Liam</td>\n",
       "      <td>0</td>\n",
       "    </tr>\n",
       "    <tr>\n",
       "      <th>4</th>\n",
       "      <td>Sophia</td>\n",
       "      <td>1</td>\n",
       "    </tr>\n",
       "  </tbody>\n",
       "</table>\n",
       "</div>"
      ],
      "text/plain": [
       "     Name  Gender\n",
       "0    Emma       1\n",
       "1  Olivia       1\n",
       "2    Noah       2\n",
       "3    Liam       0\n",
       "4  Sophia       1"
      ]
     },
     "execution_count": 56,
     "metadata": {},
     "output_type": "execute_result"
    }
   ],
   "source": [
    "common_names.head()"
   ]
  },
  {
   "cell_type": "code",
   "execution_count": 57,
   "metadata": {
    "hidden": true
   },
   "outputs": [
    {
     "data": {
      "text/plain": [
       "1    4089\n",
       "0    3101\n",
       "2     469\n",
       "Name: Gender, dtype: int64"
      ]
     },
     "execution_count": 57,
     "metadata": {},
     "output_type": "execute_result"
    }
   ],
   "source": [
    "common_names.Gender.value_counts()"
   ]
  },
  {
   "cell_type": "markdown",
   "metadata": {
    "hidden": true
   },
   "source": [
    "#### Function to reassign gender neutral names to value 2 and to drop duplicates"
   ]
  },
  {
   "cell_type": "code",
   "execution_count": 45,
   "metadata": {
    "hidden": true
   },
   "outputs": [],
   "source": [
    "# function to reassign gender value 2 to gender neutral names and drop duplicates from single dataframe\n",
    "# for this dataset, would need to drop Include? and Frequency columns before using this function\n",
    "\n",
    "# def reassign_gender_neutral_drop_duplicates(df):\n",
    "    \n",
    "#     girl_names = []\n",
    "#     boy_names = []\n",
    "\n",
    "#     for x in df.values:\n",
    "#         if x[1] == 1:\n",
    "#             girl_names.append(x[0])\n",
    "#         if x[1] == 0:\n",
    "#             boy_names.append(x[0])\n",
    "    \n",
    "#     neutral = set(girl_names).intersection(set(boy_names))\n",
    "    \n",
    "#     for x in list(neutral):\n",
    "#         df.loc[df.name == x, 'gender'] = 2\n",
    "        \n",
    "#     df.drop_duplicates(inplace=True)"
   ]
  },
  {
   "cell_type": "markdown",
   "metadata": {
    "heading_collapsed": true,
    "hidden": true
   },
   "source": [
    "### Split dataframe into three series\n",
    "* Female names\n",
    "* Male names\n",
    "* Gender-neutral names"
   ]
  },
  {
   "cell_type": "code",
   "execution_count": 60,
   "metadata": {
    "hidden": true
   },
   "outputs": [],
   "source": [
    "male_names = common_names.loc[common_names.Gender == 0]\n",
    "female_names = common_names.loc[common_names.Gender == 1]\n",
    "neutral_names = common_names.loc[common_names.Gender == 2]"
   ]
  },
  {
   "cell_type": "code",
   "execution_count": 62,
   "metadata": {
    "hidden": true
   },
   "outputs": [
    {
     "data": {
      "text/html": [
       "<div>\n",
       "<style scoped>\n",
       "    .dataframe tbody tr th:only-of-type {\n",
       "        vertical-align: middle;\n",
       "    }\n",
       "\n",
       "    .dataframe tbody tr th {\n",
       "        vertical-align: top;\n",
       "    }\n",
       "\n",
       "    .dataframe thead th {\n",
       "        text-align: right;\n",
       "    }\n",
       "</style>\n",
       "<table border=\"1\" class=\"dataframe\">\n",
       "  <thead>\n",
       "    <tr style=\"text-align: right;\">\n",
       "      <th></th>\n",
       "      <th>Name</th>\n",
       "      <th>Gender</th>\n",
       "    </tr>\n",
       "  </thead>\n",
       "  <tbody>\n",
       "    <tr>\n",
       "      <th>3</th>\n",
       "      <td>Liam</td>\n",
       "      <td>0</td>\n",
       "    </tr>\n",
       "    <tr>\n",
       "      <th>7</th>\n",
       "      <td>Jacob</td>\n",
       "      <td>0</td>\n",
       "    </tr>\n",
       "    <tr>\n",
       "      <th>8</th>\n",
       "      <td>William</td>\n",
       "      <td>0</td>\n",
       "    </tr>\n",
       "    <tr>\n",
       "      <th>10</th>\n",
       "      <td>Ethan</td>\n",
       "      <td>0</td>\n",
       "    </tr>\n",
       "    <tr>\n",
       "      <th>13</th>\n",
       "      <td>Alexander</td>\n",
       "      <td>0</td>\n",
       "    </tr>\n",
       "  </tbody>\n",
       "</table>\n",
       "</div>"
      ],
      "text/plain": [
       "         Name  Gender\n",
       "3        Liam       0\n",
       "7       Jacob       0\n",
       "8     William       0\n",
       "10      Ethan       0\n",
       "13  Alexander       0"
      ]
     },
     "execution_count": 62,
     "metadata": {},
     "output_type": "execute_result"
    }
   ],
   "source": [
    "male_names.head()"
   ]
  },
  {
   "cell_type": "code",
   "execution_count": 63,
   "metadata": {
    "hidden": true
   },
   "outputs": [
    {
     "data": {
      "text/html": [
       "<div>\n",
       "<style scoped>\n",
       "    .dataframe tbody tr th:only-of-type {\n",
       "        vertical-align: middle;\n",
       "    }\n",
       "\n",
       "    .dataframe tbody tr th {\n",
       "        vertical-align: top;\n",
       "    }\n",
       "\n",
       "    .dataframe thead th {\n",
       "        text-align: right;\n",
       "    }\n",
       "</style>\n",
       "<table border=\"1\" class=\"dataframe\">\n",
       "  <thead>\n",
       "    <tr style=\"text-align: right;\">\n",
       "      <th></th>\n",
       "      <th>Name</th>\n",
       "      <th>Gender</th>\n",
       "    </tr>\n",
       "  </thead>\n",
       "  <tbody>\n",
       "    <tr>\n",
       "      <th>0</th>\n",
       "      <td>Emma</td>\n",
       "      <td>1</td>\n",
       "    </tr>\n",
       "    <tr>\n",
       "      <th>1</th>\n",
       "      <td>Olivia</td>\n",
       "      <td>1</td>\n",
       "    </tr>\n",
       "    <tr>\n",
       "      <th>4</th>\n",
       "      <td>Sophia</td>\n",
       "      <td>1</td>\n",
       "    </tr>\n",
       "    <tr>\n",
       "      <th>6</th>\n",
       "      <td>Ava</td>\n",
       "      <td>1</td>\n",
       "    </tr>\n",
       "    <tr>\n",
       "      <th>9</th>\n",
       "      <td>Isabella</td>\n",
       "      <td>1</td>\n",
       "    </tr>\n",
       "  </tbody>\n",
       "</table>\n",
       "</div>"
      ],
      "text/plain": [
       "       Name  Gender\n",
       "0      Emma       1\n",
       "1    Olivia       1\n",
       "4    Sophia       1\n",
       "6       Ava       1\n",
       "9  Isabella       1"
      ]
     },
     "execution_count": 63,
     "metadata": {},
     "output_type": "execute_result"
    }
   ],
   "source": [
    "female_names.head()"
   ]
  },
  {
   "cell_type": "code",
   "execution_count": 64,
   "metadata": {
    "hidden": true
   },
   "outputs": [
    {
     "data": {
      "text/html": [
       "<div>\n",
       "<style scoped>\n",
       "    .dataframe tbody tr th:only-of-type {\n",
       "        vertical-align: middle;\n",
       "    }\n",
       "\n",
       "    .dataframe tbody tr th {\n",
       "        vertical-align: top;\n",
       "    }\n",
       "\n",
       "    .dataframe thead th {\n",
       "        text-align: right;\n",
       "    }\n",
       "</style>\n",
       "<table border=\"1\" class=\"dataframe\">\n",
       "  <thead>\n",
       "    <tr style=\"text-align: right;\">\n",
       "      <th></th>\n",
       "      <th>Name</th>\n",
       "      <th>Gender</th>\n",
       "    </tr>\n",
       "  </thead>\n",
       "  <tbody>\n",
       "    <tr>\n",
       "      <th>2</th>\n",
       "      <td>Noah</td>\n",
       "      <td>2</td>\n",
       "    </tr>\n",
       "    <tr>\n",
       "      <th>5</th>\n",
       "      <td>Mason</td>\n",
       "      <td>2</td>\n",
       "    </tr>\n",
       "    <tr>\n",
       "      <th>12</th>\n",
       "      <td>James</td>\n",
       "      <td>2</td>\n",
       "    </tr>\n",
       "    <tr>\n",
       "      <th>14</th>\n",
       "      <td>Michael</td>\n",
       "      <td>2</td>\n",
       "    </tr>\n",
       "    <tr>\n",
       "      <th>18</th>\n",
       "      <td>Aiden</td>\n",
       "      <td>2</td>\n",
       "    </tr>\n",
       "  </tbody>\n",
       "</table>\n",
       "</div>"
      ],
      "text/plain": [
       "       Name  Gender\n",
       "2      Noah       2\n",
       "5     Mason       2\n",
       "12    James       2\n",
       "14  Michael       2\n",
       "18    Aiden       2"
      ]
     },
     "execution_count": 64,
     "metadata": {},
     "output_type": "execute_result"
    }
   ],
   "source": [
    "neutral_names.head()"
   ]
  },
  {
   "cell_type": "markdown",
   "metadata": {
    "hidden": true
   },
   "source": [
    "#### Drop gender from each new DataFrame"
   ]
  },
  {
   "cell_type": "code",
   "execution_count": 66,
   "metadata": {
    "hidden": true
   },
   "outputs": [],
   "source": [
    "# for df in male_names, female_names, neutral_names:\n",
    "#     df.drop('Gender', axis=1, inplace=True)"
   ]
  },
  {
   "cell_type": "markdown",
   "metadata": {
    "hidden": true
   },
   "source": [
    "### Create new .csv files from each Series"
   ]
  },
  {
   "cell_type": "code",
   "execution_count": 68,
   "metadata": {
    "hidden": true
   },
   "outputs": [],
   "source": [
    "male_names.to_csv('male_names.csv', index=False)"
   ]
  },
  {
   "cell_type": "code",
   "execution_count": 69,
   "metadata": {
    "hidden": true
   },
   "outputs": [
    {
     "data": {
      "text/html": [
       "<div>\n",
       "<style scoped>\n",
       "    .dataframe tbody tr th:only-of-type {\n",
       "        vertical-align: middle;\n",
       "    }\n",
       "\n",
       "    .dataframe tbody tr th {\n",
       "        vertical-align: top;\n",
       "    }\n",
       "\n",
       "    .dataframe thead th {\n",
       "        text-align: right;\n",
       "    }\n",
       "</style>\n",
       "<table border=\"1\" class=\"dataframe\">\n",
       "  <thead>\n",
       "    <tr style=\"text-align: right;\">\n",
       "      <th></th>\n",
       "      <th>Name</th>\n",
       "    </tr>\n",
       "  </thead>\n",
       "  <tbody>\n",
       "    <tr>\n",
       "      <th>0</th>\n",
       "      <td>Liam</td>\n",
       "    </tr>\n",
       "    <tr>\n",
       "      <th>1</th>\n",
       "      <td>Jacob</td>\n",
       "    </tr>\n",
       "    <tr>\n",
       "      <th>2</th>\n",
       "      <td>William</td>\n",
       "    </tr>\n",
       "    <tr>\n",
       "      <th>3</th>\n",
       "      <td>Ethan</td>\n",
       "    </tr>\n",
       "    <tr>\n",
       "      <th>4</th>\n",
       "      <td>Alexander</td>\n",
       "    </tr>\n",
       "  </tbody>\n",
       "</table>\n",
       "</div>"
      ],
      "text/plain": [
       "        Name\n",
       "0       Liam\n",
       "1      Jacob\n",
       "2    William\n",
       "3      Ethan\n",
       "4  Alexander"
      ]
     },
     "execution_count": 69,
     "metadata": {},
     "output_type": "execute_result"
    }
   ],
   "source": [
    "# check to see if that worked\n",
    "males = pd.read_csv('male_names.csv')\n",
    "males.head()"
   ]
  },
  {
   "cell_type": "code",
   "execution_count": 70,
   "metadata": {
    "hidden": true
   },
   "outputs": [],
   "source": [
    "female_names.to_csv('female_names.csv', index=False)\n",
    "neutral_names.to_csv('neutral_names.csv', index=False)"
   ]
  },
  {
   "cell_type": "markdown",
   "metadata": {},
   "source": [
    "## II. Movie Datasets\n",
    "* Wishlist for one dataset containing\n",
    "    * Title\n",
    "    * Year\n",
    "    * Genre\n",
    "    * Different ratings (Rotten Tomatoes, IMDB, critic rating, user ratings)\n",
    "    * Director(s) name\n",
    "    * Director(s) gender\n",
    "    * Writer(s) name\n",
    "    * Writer(s) gender\n",
    "    * Producer(s) name\n",
    "    * Producer(s) gender\n",
    "    * Lead actor(s) name\n",
    "    * Lead actor(s) gender\n",
    "    * Budget\n",
    "    * Box office revenue\n",
    "    * Bechdel points (0,1,2, or 3)\n",
    "    * Bechdel binary pass or fail\n",
    "    * Magical wish: production company and information on company"
   ]
  },
  {
   "cell_type": "markdown",
   "metadata": {},
   "source": [
    "### A. Hydra Movies Dataset\n",
    "* Note: rating may be user rating from Hydra Movies website, which I can't seem to find. . . \n",
    "* IMDB ID included"
   ]
  },
  {
   "cell_type": "code",
   "execution_count": 73,
   "metadata": {},
   "outputs": [
    {
     "data": {
      "text/html": [
       "<div>\n",
       "<style scoped>\n",
       "    .dataframe tbody tr th:only-of-type {\n",
       "        vertical-align: middle;\n",
       "    }\n",
       "\n",
       "    .dataframe tbody tr th {\n",
       "        vertical-align: top;\n",
       "    }\n",
       "\n",
       "    .dataframe thead th {\n",
       "        text-align: right;\n",
       "    }\n",
       "</style>\n",
       "<table border=\"1\" class=\"dataframe\">\n",
       "  <thead>\n",
       "    <tr style=\"text-align: right;\">\n",
       "      <th></th>\n",
       "      <th>Title</th>\n",
       "      <th>Year</th>\n",
       "      <th>Summary</th>\n",
       "      <th>Short Summary</th>\n",
       "      <th>Genres</th>\n",
       "      <th>IMDB ID</th>\n",
       "      <th>Runtime</th>\n",
       "      <th>YouTube Trailer</th>\n",
       "      <th>Rating</th>\n",
       "      <th>Movie Poster</th>\n",
       "      <th>Director</th>\n",
       "      <th>Writers</th>\n",
       "      <th>Cast</th>\n",
       "    </tr>\n",
       "  </thead>\n",
       "  <tbody>\n",
       "    <tr>\n",
       "      <th>0</th>\n",
       "      <td>Patton Oswalt: Annihilation</td>\n",
       "      <td>2017</td>\n",
       "      <td>Patton Oswald, despite a personal tragedy, pro...</td>\n",
       "      <td>Patton Oswalt, despite a personal tragedy, pro...</td>\n",
       "      <td>Uncategorized</td>\n",
       "      <td>tt7026230</td>\n",
       "      <td>66</td>\n",
       "      <td>4hZi5QaMBFc</td>\n",
       "      <td>7.4</td>\n",
       "      <td>https://hydramovies.com/wp-content/uploads/201...</td>\n",
       "      <td>Bobcat Goldthwait</td>\n",
       "      <td>Patton Oswalt</td>\n",
       "      <td>Patton Oswalt</td>\n",
       "    </tr>\n",
       "    <tr>\n",
       "      <th>1</th>\n",
       "      <td>New York Doll</td>\n",
       "      <td>2005</td>\n",
       "      <td>A recovering alcoholic and recently converted ...</td>\n",
       "      <td>A recovering alcoholic and recently converted ...</td>\n",
       "      <td>Documentary|Music</td>\n",
       "      <td>tt0436629</td>\n",
       "      <td>75</td>\n",
       "      <td>jwD04NsnLLg</td>\n",
       "      <td>7.9</td>\n",
       "      <td>https://hydramovies.com/wp-content/uploads/201...</td>\n",
       "      <td>Greg Whiteley</td>\n",
       "      <td>Arthur Kane</td>\n",
       "      <td>Sylvain Sylvain</td>\n",
       "    </tr>\n",
       "    <tr>\n",
       "      <th>2</th>\n",
       "      <td>Mickey's Magical Christmas: Snowed in at the H...</td>\n",
       "      <td>2001</td>\n",
       "      <td>After everyone is snowed in at the House of Mo...</td>\n",
       "      <td>Mickey and all his friends hold their own Chri...</td>\n",
       "      <td>Adventure|Animation|Comedy|Family|Fantasy</td>\n",
       "      <td>tt0300195</td>\n",
       "      <td>65</td>\n",
       "      <td>uCKwHHftrU4</td>\n",
       "      <td>6.8</td>\n",
       "      <td>https://hydramovies.com/wp-content/uploads/201...</td>\n",
       "      <td>Tony Craig</td>\n",
       "      <td>Thomas Hart</td>\n",
       "      <td>Carlos Alazraqui|Wayne Allwine</td>\n",
       "    </tr>\n",
       "    <tr>\n",
       "      <th>3</th>\n",
       "      <td>Mickey's House of Villains</td>\n",
       "      <td>2001</td>\n",
       "      <td>The villains from the popular animated Disney ...</td>\n",
       "      <td>The villains from the popular animated Disney ...</td>\n",
       "      <td>Animation|Comedy|Family|Fantasy|Horror</td>\n",
       "      <td>tt0329374</td>\n",
       "      <td>0</td>\n",
       "      <td>JA03ciYt-Ek</td>\n",
       "      <td>6.6</td>\n",
       "      <td>https://hydramovies.com/wp-content/uploads/201...</td>\n",
       "      <td>Jamie Mitchell</td>\n",
       "      <td>Thomas Hart</td>\n",
       "      <td>Tony Anselmo|Wayne Allwine</td>\n",
       "    </tr>\n",
       "    <tr>\n",
       "      <th>4</th>\n",
       "      <td>And Then I Go</td>\n",
       "      <td>2017</td>\n",
       "      <td>In the cruel world of junior high, Edwin suffe...</td>\n",
       "      <td>In the cruel world of junior high, Edwin suffe...</td>\n",
       "      <td>Drama</td>\n",
       "      <td>tt2018111</td>\n",
       "      <td>99</td>\n",
       "      <td>8CdIiD6-iF0</td>\n",
       "      <td>7.6</td>\n",
       "      <td>https://hydramovies.com/wp-content/uploads/201...</td>\n",
       "      <td>Vincent Grashaw</td>\n",
       "      <td>Brett Haley</td>\n",
       "      <td>Arman Darbo|Sawyer Barth</td>\n",
       "    </tr>\n",
       "  </tbody>\n",
       "</table>\n",
       "</div>"
      ],
      "text/plain": [
       "                                               Title  Year  \\\n",
       "0                        Patton Oswalt: Annihilation  2017   \n",
       "1                                      New York Doll  2005   \n",
       "2  Mickey's Magical Christmas: Snowed in at the H...  2001   \n",
       "3                         Mickey's House of Villains  2001   \n",
       "4                                      And Then I Go  2017   \n",
       "\n",
       "                                             Summary  \\\n",
       "0  Patton Oswald, despite a personal tragedy, pro...   \n",
       "1  A recovering alcoholic and recently converted ...   \n",
       "2  After everyone is snowed in at the House of Mo...   \n",
       "3  The villains from the popular animated Disney ...   \n",
       "4  In the cruel world of junior high, Edwin suffe...   \n",
       "\n",
       "                                       Short Summary  \\\n",
       "0  Patton Oswalt, despite a personal tragedy, pro...   \n",
       "1  A recovering alcoholic and recently converted ...   \n",
       "2  Mickey and all his friends hold their own Chri...   \n",
       "3  The villains from the popular animated Disney ...   \n",
       "4  In the cruel world of junior high, Edwin suffe...   \n",
       "\n",
       "                                      Genres    IMDB ID  Runtime  \\\n",
       "0                              Uncategorized  tt7026230       66   \n",
       "1                          Documentary|Music  tt0436629       75   \n",
       "2  Adventure|Animation|Comedy|Family|Fantasy  tt0300195       65   \n",
       "3     Animation|Comedy|Family|Fantasy|Horror  tt0329374        0   \n",
       "4                                      Drama  tt2018111       99   \n",
       "\n",
       "  YouTube Trailer  Rating                                       Movie Poster  \\\n",
       "0     4hZi5QaMBFc     7.4  https://hydramovies.com/wp-content/uploads/201...   \n",
       "1     jwD04NsnLLg     7.9  https://hydramovies.com/wp-content/uploads/201...   \n",
       "2     uCKwHHftrU4     6.8  https://hydramovies.com/wp-content/uploads/201...   \n",
       "3     JA03ciYt-Ek     6.6  https://hydramovies.com/wp-content/uploads/201...   \n",
       "4     8CdIiD6-iF0     7.6  https://hydramovies.com/wp-content/uploads/201...   \n",
       "\n",
       "            Director        Writers                            Cast  \n",
       "0  Bobcat Goldthwait  Patton Oswalt                   Patton Oswalt  \n",
       "1      Greg Whiteley    Arthur Kane                 Sylvain Sylvain  \n",
       "2         Tony Craig    Thomas Hart  Carlos Alazraqui|Wayne Allwine  \n",
       "3     Jamie Mitchell    Thomas Hart      Tony Anselmo|Wayne Allwine  \n",
       "4    Vincent Grashaw    Brett Haley        Arman Darbo|Sawyer Barth  "
      ]
     },
     "execution_count": 73,
     "metadata": {},
     "output_type": "execute_result"
    }
   ],
   "source": [
    "hydra_df = pd.read_csv('original_data/Hydra-Movie-Scrape.csv')\n",
    "hydra_df.head()"
   ]
  },
  {
   "cell_type": "code",
   "execution_count": 77,
   "metadata": {},
   "outputs": [
    {
     "data": {
      "text/plain": [
       "(3940, 13)"
      ]
     },
     "execution_count": 77,
     "metadata": {},
     "output_type": "execute_result"
    }
   ],
   "source": [
    "hydra_df.shape"
   ]
  },
  {
   "cell_type": "code",
   "execution_count": 84,
   "metadata": {},
   "outputs": [],
   "source": [
    "hydra_movies = []\n",
    "for movie in hydra_df.Title:\n",
    "    hydra_movies.append(movie.lower().strip())"
   ]
  },
  {
   "cell_type": "code",
   "execution_count": 90,
   "metadata": {},
   "outputs": [],
   "source": [
    "# hydra_movies[:50]"
   ]
  },
  {
   "cell_type": "markdown",
   "metadata": {},
   "source": [
    "### B. IMDB Movies Dataset\n",
    "* Note: not sure what num_critic_for_reviews represents\n",
    "* IMDB ID is included, in an annoying way"
   ]
  },
  {
   "cell_type": "code",
   "execution_count": 75,
   "metadata": {},
   "outputs": [
    {
     "data": {
      "text/html": [
       "<div>\n",
       "<style scoped>\n",
       "    .dataframe tbody tr th:only-of-type {\n",
       "        vertical-align: middle;\n",
       "    }\n",
       "\n",
       "    .dataframe tbody tr th {\n",
       "        vertical-align: top;\n",
       "    }\n",
       "\n",
       "    .dataframe thead th {\n",
       "        text-align: right;\n",
       "    }\n",
       "</style>\n",
       "<table border=\"1\" class=\"dataframe\">\n",
       "  <thead>\n",
       "    <tr style=\"text-align: right;\">\n",
       "      <th></th>\n",
       "      <th>color</th>\n",
       "      <th>director_name</th>\n",
       "      <th>num_critic_for_reviews</th>\n",
       "      <th>duration</th>\n",
       "      <th>director_facebook_likes</th>\n",
       "      <th>actor_3_facebook_likes</th>\n",
       "      <th>actor_2_name</th>\n",
       "      <th>actor_1_facebook_likes</th>\n",
       "      <th>gross</th>\n",
       "      <th>genres</th>\n",
       "      <th>...</th>\n",
       "      <th>num_user_for_reviews</th>\n",
       "      <th>language</th>\n",
       "      <th>country</th>\n",
       "      <th>content_rating</th>\n",
       "      <th>budget</th>\n",
       "      <th>title_year</th>\n",
       "      <th>actor_2_facebook_likes</th>\n",
       "      <th>imdb_score</th>\n",
       "      <th>aspect_ratio</th>\n",
       "      <th>movie_facebook_likes</th>\n",
       "    </tr>\n",
       "  </thead>\n",
       "  <tbody>\n",
       "    <tr>\n",
       "      <th>0</th>\n",
       "      <td>Color</td>\n",
       "      <td>James Cameron</td>\n",
       "      <td>723.0</td>\n",
       "      <td>178.0</td>\n",
       "      <td>0.0</td>\n",
       "      <td>855.0</td>\n",
       "      <td>Joel David Moore</td>\n",
       "      <td>1000.0</td>\n",
       "      <td>760505847.0</td>\n",
       "      <td>Action|Adventure|Fantasy|Sci-Fi</td>\n",
       "      <td>...</td>\n",
       "      <td>3054.0</td>\n",
       "      <td>English</td>\n",
       "      <td>USA</td>\n",
       "      <td>PG-13</td>\n",
       "      <td>237000000.0</td>\n",
       "      <td>2009.0</td>\n",
       "      <td>936.0</td>\n",
       "      <td>7.9</td>\n",
       "      <td>1.78</td>\n",
       "      <td>33000</td>\n",
       "    </tr>\n",
       "    <tr>\n",
       "      <th>1</th>\n",
       "      <td>Color</td>\n",
       "      <td>Gore Verbinski</td>\n",
       "      <td>302.0</td>\n",
       "      <td>169.0</td>\n",
       "      <td>563.0</td>\n",
       "      <td>1000.0</td>\n",
       "      <td>Orlando Bloom</td>\n",
       "      <td>40000.0</td>\n",
       "      <td>309404152.0</td>\n",
       "      <td>Action|Adventure|Fantasy</td>\n",
       "      <td>...</td>\n",
       "      <td>1238.0</td>\n",
       "      <td>English</td>\n",
       "      <td>USA</td>\n",
       "      <td>PG-13</td>\n",
       "      <td>300000000.0</td>\n",
       "      <td>2007.0</td>\n",
       "      <td>5000.0</td>\n",
       "      <td>7.1</td>\n",
       "      <td>2.35</td>\n",
       "      <td>0</td>\n",
       "    </tr>\n",
       "    <tr>\n",
       "      <th>2</th>\n",
       "      <td>Color</td>\n",
       "      <td>Sam Mendes</td>\n",
       "      <td>602.0</td>\n",
       "      <td>148.0</td>\n",
       "      <td>0.0</td>\n",
       "      <td>161.0</td>\n",
       "      <td>Rory Kinnear</td>\n",
       "      <td>11000.0</td>\n",
       "      <td>200074175.0</td>\n",
       "      <td>Action|Adventure|Thriller</td>\n",
       "      <td>...</td>\n",
       "      <td>994.0</td>\n",
       "      <td>English</td>\n",
       "      <td>UK</td>\n",
       "      <td>PG-13</td>\n",
       "      <td>245000000.0</td>\n",
       "      <td>2015.0</td>\n",
       "      <td>393.0</td>\n",
       "      <td>6.8</td>\n",
       "      <td>2.35</td>\n",
       "      <td>85000</td>\n",
       "    </tr>\n",
       "    <tr>\n",
       "      <th>3</th>\n",
       "      <td>Color</td>\n",
       "      <td>Christopher Nolan</td>\n",
       "      <td>813.0</td>\n",
       "      <td>164.0</td>\n",
       "      <td>22000.0</td>\n",
       "      <td>23000.0</td>\n",
       "      <td>Christian Bale</td>\n",
       "      <td>27000.0</td>\n",
       "      <td>448130642.0</td>\n",
       "      <td>Action|Thriller</td>\n",
       "      <td>...</td>\n",
       "      <td>2701.0</td>\n",
       "      <td>English</td>\n",
       "      <td>USA</td>\n",
       "      <td>PG-13</td>\n",
       "      <td>250000000.0</td>\n",
       "      <td>2012.0</td>\n",
       "      <td>23000.0</td>\n",
       "      <td>8.5</td>\n",
       "      <td>2.35</td>\n",
       "      <td>164000</td>\n",
       "    </tr>\n",
       "    <tr>\n",
       "      <th>4</th>\n",
       "      <td>NaN</td>\n",
       "      <td>Doug Walker</td>\n",
       "      <td>NaN</td>\n",
       "      <td>NaN</td>\n",
       "      <td>131.0</td>\n",
       "      <td>NaN</td>\n",
       "      <td>Rob Walker</td>\n",
       "      <td>131.0</td>\n",
       "      <td>NaN</td>\n",
       "      <td>Documentary</td>\n",
       "      <td>...</td>\n",
       "      <td>NaN</td>\n",
       "      <td>NaN</td>\n",
       "      <td>NaN</td>\n",
       "      <td>NaN</td>\n",
       "      <td>NaN</td>\n",
       "      <td>NaN</td>\n",
       "      <td>12.0</td>\n",
       "      <td>7.1</td>\n",
       "      <td>NaN</td>\n",
       "      <td>0</td>\n",
       "    </tr>\n",
       "  </tbody>\n",
       "</table>\n",
       "<p>5 rows × 28 columns</p>\n",
       "</div>"
      ],
      "text/plain": [
       "   color      director_name  num_critic_for_reviews  duration  \\\n",
       "0  Color      James Cameron                   723.0     178.0   \n",
       "1  Color     Gore Verbinski                   302.0     169.0   \n",
       "2  Color         Sam Mendes                   602.0     148.0   \n",
       "3  Color  Christopher Nolan                   813.0     164.0   \n",
       "4    NaN        Doug Walker                     NaN       NaN   \n",
       "\n",
       "   director_facebook_likes  actor_3_facebook_likes      actor_2_name  \\\n",
       "0                      0.0                   855.0  Joel David Moore   \n",
       "1                    563.0                  1000.0     Orlando Bloom   \n",
       "2                      0.0                   161.0      Rory Kinnear   \n",
       "3                  22000.0                 23000.0    Christian Bale   \n",
       "4                    131.0                     NaN        Rob Walker   \n",
       "\n",
       "   actor_1_facebook_likes        gross                           genres  \\\n",
       "0                  1000.0  760505847.0  Action|Adventure|Fantasy|Sci-Fi   \n",
       "1                 40000.0  309404152.0         Action|Adventure|Fantasy   \n",
       "2                 11000.0  200074175.0        Action|Adventure|Thriller   \n",
       "3                 27000.0  448130642.0                  Action|Thriller   \n",
       "4                   131.0          NaN                      Documentary   \n",
       "\n",
       "          ...          num_user_for_reviews language  country  content_rating  \\\n",
       "0         ...                        3054.0  English      USA           PG-13   \n",
       "1         ...                        1238.0  English      USA           PG-13   \n",
       "2         ...                         994.0  English       UK           PG-13   \n",
       "3         ...                        2701.0  English      USA           PG-13   \n",
       "4         ...                           NaN      NaN      NaN             NaN   \n",
       "\n",
       "        budget  title_year actor_2_facebook_likes imdb_score  aspect_ratio  \\\n",
       "0  237000000.0      2009.0                  936.0        7.9          1.78   \n",
       "1  300000000.0      2007.0                 5000.0        7.1          2.35   \n",
       "2  245000000.0      2015.0                  393.0        6.8          2.35   \n",
       "3  250000000.0      2012.0                23000.0        8.5          2.35   \n",
       "4          NaN         NaN                   12.0        7.1           NaN   \n",
       "\n",
       "  movie_facebook_likes  \n",
       "0                33000  \n",
       "1                    0  \n",
       "2                85000  \n",
       "3               164000  \n",
       "4                    0  \n",
       "\n",
       "[5 rows x 28 columns]"
      ]
     },
     "execution_count": 75,
     "metadata": {},
     "output_type": "execute_result"
    }
   ],
   "source": [
    "imdb_df = pd.read_csv('original_data/movie_metadata.csv')\n",
    "imdb_df.head()"
   ]
  },
  {
   "cell_type": "code",
   "execution_count": 78,
   "metadata": {},
   "outputs": [
    {
     "data": {
      "text/plain": [
       "(5043, 28)"
      ]
     },
     "execution_count": 78,
     "metadata": {},
     "output_type": "execute_result"
    }
   ],
   "source": [
    "imdb_df.shape"
   ]
  },
  {
   "cell_type": "code",
   "execution_count": 79,
   "metadata": {},
   "outputs": [
    {
     "data": {
      "text/plain": [
       "Index(['color', 'director_name', 'num_critic_for_reviews', 'duration',\n",
       "       'director_facebook_likes', 'actor_3_facebook_likes', 'actor_2_name',\n",
       "       'actor_1_facebook_likes', 'gross', 'genres', 'actor_1_name',\n",
       "       'movie_title', 'num_voted_users', 'cast_total_facebook_likes',\n",
       "       'actor_3_name', 'facenumber_in_poster', 'plot_keywords',\n",
       "       'movie_imdb_link', 'num_user_for_reviews', 'language', 'country',\n",
       "       'content_rating', 'budget', 'title_year', 'actor_2_facebook_likes',\n",
       "       'imdb_score', 'aspect_ratio', 'movie_facebook_likes'],\n",
       "      dtype='object')"
      ]
     },
     "execution_count": 79,
     "metadata": {},
     "output_type": "execute_result"
    }
   ],
   "source": [
    "imdb_df.columns"
   ]
  },
  {
   "cell_type": "code",
   "execution_count": 80,
   "metadata": {},
   "outputs": [
    {
     "data": {
      "text/plain": [
       "0    http://www.imdb.com/title/tt0499549/?ref_=fn_t...\n",
       "1    http://www.imdb.com/title/tt0449088/?ref_=fn_t...\n",
       "2    http://www.imdb.com/title/tt2379713/?ref_=fn_t...\n",
       "3    http://www.imdb.com/title/tt1345836/?ref_=fn_t...\n",
       "4    http://www.imdb.com/title/tt5289954/?ref_=fn_t...\n",
       "Name: movie_imdb_link, dtype: object"
      ]
     },
     "execution_count": 80,
     "metadata": {},
     "output_type": "execute_result"
    }
   ],
   "source": [
    "imdb_df.movie_imdb_link.head()"
   ]
  },
  {
   "cell_type": "markdown",
   "metadata": {},
   "source": [
    "IMDB id contained in IMDB link"
   ]
  },
  {
   "cell_type": "code",
   "execution_count": 86,
   "metadata": {},
   "outputs": [],
   "source": [
    "imdb_movies = []\n",
    "for movie in imdb_df.movie_title:\n",
    "    imdb_movies.append(movie.lower().strip())"
   ]
  },
  {
   "cell_type": "code",
   "execution_count": 89,
   "metadata": {},
   "outputs": [],
   "source": [
    "# imdb_movies[:50]"
   ]
  },
  {
   "cell_type": "markdown",
   "metadata": {},
   "source": [
    "### C. TMDB Movies Dataset\n",
    "* Note: vote average and vote count specific to TMDB website\n",
    "* IMDB ID not included, but could possibly be found in API if joining on titles doesn't work well"
   ]
  },
  {
   "cell_type": "code",
   "execution_count": 76,
   "metadata": {},
   "outputs": [
    {
     "data": {
      "text/html": [
       "<div>\n",
       "<style scoped>\n",
       "    .dataframe tbody tr th:only-of-type {\n",
       "        vertical-align: middle;\n",
       "    }\n",
       "\n",
       "    .dataframe tbody tr th {\n",
       "        vertical-align: top;\n",
       "    }\n",
       "\n",
       "    .dataframe thead th {\n",
       "        text-align: right;\n",
       "    }\n",
       "</style>\n",
       "<table border=\"1\" class=\"dataframe\">\n",
       "  <thead>\n",
       "    <tr style=\"text-align: right;\">\n",
       "      <th></th>\n",
       "      <th>revenue</th>\n",
       "      <th>vote_average</th>\n",
       "      <th>vote_count</th>\n",
       "      <th>title</th>\n",
       "      <th>original_language</th>\n",
       "      <th>release_date</th>\n",
       "      <th>production_companies</th>\n",
       "      <th>production_countries</th>\n",
       "      <th>genres</th>\n",
       "      <th>director</th>\n",
       "      <th>producer</th>\n",
       "      <th>cast</th>\n",
       "      <th>runtimes</th>\n",
       "      <th>writer</th>\n",
       "    </tr>\n",
       "  </thead>\n",
       "  <tbody>\n",
       "    <tr>\n",
       "      <th>0</th>\n",
       "      <td>4300000</td>\n",
       "      <td>6.6</td>\n",
       "      <td>714</td>\n",
       "      <td>Four Rooms</td>\n",
       "      <td>en</td>\n",
       "      <td>1995-12-09</td>\n",
       "      <td>Miramax Films,A Band Apart</td>\n",
       "      <td>United States of America</td>\n",
       "      <td>Crime,Comedy</td>\n",
       "      <td>Allison Anders,Alexandre Rockwell,Robert Rodri...</td>\n",
       "      <td>Lawrence Bender,Paul Hellerman,Scott Lambert,</td>\n",
       "      <td>Sammi Davis,Amanda De Cadenet,Valeria Golino,</td>\n",
       "      <td>98.0</td>\n",
       "      <td>Allison Anders,Alexandre Rockwell,Robert Rodri...</td>\n",
       "    </tr>\n",
       "    <tr>\n",
       "      <th>1</th>\n",
       "      <td>12</td>\n",
       "      <td>6.4</td>\n",
       "      <td>96</td>\n",
       "      <td>Judgment Night</td>\n",
       "      <td>en</td>\n",
       "      <td>1993-10-15</td>\n",
       "      <td>Universal Pictures,Largo Entertainment,JVC Ent...</td>\n",
       "      <td>Japan,United States of America</td>\n",
       "      <td>Action,Thriller,Crime</td>\n",
       "      <td>Stephen Hopkins</td>\n",
       "      <td>Gene Levy,Christopher Mollo,Lloyd Segan,</td>\n",
       "      <td>Emilio Estevez,Cuba Gooding Jr.,Denis Leary,</td>\n",
       "      <td>110.0</td>\n",
       "      <td>Lewis Colick,Jere Cunningham,Lewis Colick</td>\n",
       "    </tr>\n",
       "    <tr>\n",
       "      <th>2</th>\n",
       "      <td>775398007</td>\n",
       "      <td>8.1</td>\n",
       "      <td>8550</td>\n",
       "      <td>Star Wars</td>\n",
       "      <td>en</td>\n",
       "      <td>1977-05-25</td>\n",
       "      <td>Lucasfilm,20th Century Fox</td>\n",
       "      <td>United States of America</td>\n",
       "      <td>Adventure,Action,Science Fiction</td>\n",
       "      <td>George Lucas</td>\n",
       "      <td>Gary Kurtz,George Lucas,Rick McCallum</td>\n",
       "      <td>Mark Hamill,Harrison Ford,Carrie Fisher,</td>\n",
       "      <td>121.0</td>\n",
       "      <td>George Lucas</td>\n",
       "    </tr>\n",
       "    <tr>\n",
       "      <th>3</th>\n",
       "      <td>940335536</td>\n",
       "      <td>7.7</td>\n",
       "      <td>8085</td>\n",
       "      <td>Finding Nemo</td>\n",
       "      <td>en</td>\n",
       "      <td>2003-05-30</td>\n",
       "      <td>Pixar</td>\n",
       "      <td>United States of America</td>\n",
       "      <td>Animation,Family</td>\n",
       "      <td>Andrew Stanton,Lee Unkrich</td>\n",
       "      <td>Jinko Gotoh,John Lasseter,Graham Walters</td>\n",
       "      <td>Albert Brooks,Ellen DeGeneres,Alexander Gould,</td>\n",
       "      <td>100.0</td>\n",
       "      <td>Andrew Stanton,Andrew Stanton,Bob Peterson,</td>\n",
       "    </tr>\n",
       "    <tr>\n",
       "      <th>4</th>\n",
       "      <td>677945399</td>\n",
       "      <td>8.3</td>\n",
       "      <td>10346</td>\n",
       "      <td>Forrest Gump</td>\n",
       "      <td>en</td>\n",
       "      <td>1994-07-06</td>\n",
       "      <td>Paramount</td>\n",
       "      <td>United States of America</td>\n",
       "      <td>Comedy,Drama,Romance</td>\n",
       "      <td>Robert Zemeckis</td>\n",
       "      <td>Wendy Finerman,Charles Newirth,Steve Starkey,</td>\n",
       "      <td>Tom Hanks,Rebecca Williams,Sally Field,</td>\n",
       "      <td>142.0</td>\n",
       "      <td>Winston Groom,Eric Roth</td>\n",
       "    </tr>\n",
       "  </tbody>\n",
       "</table>\n",
       "</div>"
      ],
      "text/plain": [
       "     revenue  vote_average  vote_count           title original_language  \\\n",
       "0    4300000           6.6         714      Four Rooms                en   \n",
       "1         12           6.4          96  Judgment Night                en   \n",
       "2  775398007           8.1        8550       Star Wars                en   \n",
       "3  940335536           7.7        8085    Finding Nemo                en   \n",
       "4  677945399           8.3       10346    Forrest Gump                en   \n",
       "\n",
       "  release_date                               production_companies  \\\n",
       "0   1995-12-09                         Miramax Films,A Band Apart   \n",
       "1   1993-10-15  Universal Pictures,Largo Entertainment,JVC Ent...   \n",
       "2   1977-05-25                         Lucasfilm,20th Century Fox   \n",
       "3   2003-05-30                                              Pixar   \n",
       "4   1994-07-06                                          Paramount   \n",
       "\n",
       "             production_countries                            genres  \\\n",
       "0        United States of America                      Crime,Comedy   \n",
       "1  Japan,United States of America             Action,Thriller,Crime   \n",
       "2        United States of America  Adventure,Action,Science Fiction   \n",
       "3        United States of America                  Animation,Family   \n",
       "4        United States of America              Comedy,Drama,Romance   \n",
       "\n",
       "                                            director  \\\n",
       "0  Allison Anders,Alexandre Rockwell,Robert Rodri...   \n",
       "1                                    Stephen Hopkins   \n",
       "2                                       George Lucas   \n",
       "3                         Andrew Stanton,Lee Unkrich   \n",
       "4                                    Robert Zemeckis   \n",
       "\n",
       "                                        producer  \\\n",
       "0  Lawrence Bender,Paul Hellerman,Scott Lambert,   \n",
       "1       Gene Levy,Christopher Mollo,Lloyd Segan,   \n",
       "2          Gary Kurtz,George Lucas,Rick McCallum   \n",
       "3       Jinko Gotoh,John Lasseter,Graham Walters   \n",
       "4  Wendy Finerman,Charles Newirth,Steve Starkey,   \n",
       "\n",
       "                                             cast  runtimes  \\\n",
       "0   Sammi Davis,Amanda De Cadenet,Valeria Golino,      98.0   \n",
       "1    Emilio Estevez,Cuba Gooding Jr.,Denis Leary,     110.0   \n",
       "2        Mark Hamill,Harrison Ford,Carrie Fisher,     121.0   \n",
       "3  Albert Brooks,Ellen DeGeneres,Alexander Gould,     100.0   \n",
       "4         Tom Hanks,Rebecca Williams,Sally Field,     142.0   \n",
       "\n",
       "                                              writer  \n",
       "0  Allison Anders,Alexandre Rockwell,Robert Rodri...  \n",
       "1          Lewis Colick,Jere Cunningham,Lewis Colick  \n",
       "2                                       George Lucas  \n",
       "3        Andrew Stanton,Andrew Stanton,Bob Peterson,  \n",
       "4                            Winston Groom,Eric Roth  "
      ]
     },
     "execution_count": 76,
     "metadata": {},
     "output_type": "execute_result"
    }
   ],
   "source": [
    "tmdb_df = pd.read_csv('original_data/Movies.csv')\n",
    "tmdb_df.head()"
   ]
  },
  {
   "cell_type": "code",
   "execution_count": 81,
   "metadata": {},
   "outputs": [
    {
     "data": {
      "text/plain": [
       "(10000, 14)"
      ]
     },
     "execution_count": 81,
     "metadata": {},
     "output_type": "execute_result"
    }
   ],
   "source": [
    "tmdb_df.shape"
   ]
  },
  {
   "cell_type": "code",
   "execution_count": 88,
   "metadata": {},
   "outputs": [],
   "source": [
    "tmdb_movies = []\n",
    "for movie in tmdb_df.title:\n",
    "    tmdb_movies.append(movie.lower().strip())"
   ]
  },
  {
   "cell_type": "markdown",
   "metadata": {},
   "source": [
    "### Check for movies shared between all 3 datasets"
   ]
  },
  {
   "cell_type": "code",
   "execution_count": 94,
   "metadata": {},
   "outputs": [],
   "source": [
    "# movies_in_three = set(hydra_movies).intersection(set(imdb_movies)).intersection(set(tmdb_movies))\n",
    "movies_in_three = set(hydra_movies) & set(imdb_movies) & set(tmdb_movies)"
   ]
  },
  {
   "cell_type": "code",
   "execution_count": 95,
   "metadata": {},
   "outputs": [
    {
     "name": "stdout",
     "output_type": "stream",
     "text": [
      "There are 772 movies in all three datasets\n"
     ]
    }
   ],
   "source": [
    "movies_in_three = list(movies_in_three)\n",
    "print(f'There are {len(movies_in_three)} movies in all three datasets')"
   ]
  },
  {
   "cell_type": "code",
   "execution_count": 93,
   "metadata": {},
   "outputs": [],
   "source": [
    "# oh no lol"
   ]
  },
  {
   "cell_type": "code",
   "execution_count": 97,
   "metadata": {},
   "outputs": [
    {
     "name": "stdout",
     "output_type": "stream",
     "text": [
      "There are 1607 movies in both the hydra and imdb datasets.\n",
      "There are 972 movies in both the hydra and tmdb datasets.\n",
      "There are 2660 movies in both the imdb and tmdb datasets.\n"
     ]
    }
   ],
   "source": [
    "hydra_imdb_shared = set(hydra_movies) & set(imdb_movies)\n",
    "hydra_tmdb_shared = set(hydra_movies) & set(tmdb_movies)\n",
    "imdb_tmdb_shared = set(imdb_movies) & set(tmdb_movies)\n",
    "\n",
    "print(f'There are {len(list(hydra_imdb_shared))} movies in both the hydra and imdb datasets.')\n",
    "print(f'There are {len(list(hydra_tmdb_shared))} movies in both the hydra and tmdb datasets.')\n",
    "print(f'There are {len(list(imdb_tmdb_shared))} movies in both the imdb and tmdb datasets.')"
   ]
  },
  {
   "cell_type": "markdown",
   "metadata": {},
   "source": [
    "### Confirm shared movies in hydra and imdb datasets with IMDB id"
   ]
  },
  {
   "cell_type": "code",
   "execution_count": 98,
   "metadata": {},
   "outputs": [
    {
     "data": {
      "text/plain": [
       "'http://www.imdb.com/title/tt0499549/?ref_=fn_tt_tt_1'"
      ]
     },
     "execution_count": 98,
     "metadata": {},
     "output_type": "execute_result"
    }
   ],
   "source": [
    "imdb_df.movie_imdb_link[0]"
   ]
  },
  {
   "cell_type": "code",
   "execution_count": 99,
   "metadata": {},
   "outputs": [
    {
     "data": {
      "text/plain": [
       "['http:', '', 'www.imdb.com', 'title', 'tt0499549', '?ref_=fn_tt_tt_1']"
      ]
     },
     "execution_count": 99,
     "metadata": {},
     "output_type": "execute_result"
    }
   ],
   "source": [
    "link_bits = imdb_df.movie_imdb_link[0].split('/')\n",
    "link_bits"
   ]
  },
  {
   "cell_type": "code",
   "execution_count": 113,
   "metadata": {},
   "outputs": [],
   "source": [
    "imdb_ids = []\n",
    "movie_links = imdb_df.movie_imdb_link.values\n",
    "for link in movie_links:\n",
    "    bits = link.split('/')\n",
    "    imdb_ids.append(bits[4])"
   ]
  },
  {
   "cell_type": "code",
   "execution_count": 115,
   "metadata": {},
   "outputs": [
    {
     "data": {
      "text/plain": [
       "5043"
      ]
     },
     "execution_count": 115,
     "metadata": {},
     "output_type": "execute_result"
    }
   ],
   "source": [
    "len(imdb_ids)"
   ]
  },
  {
   "cell_type": "code",
   "execution_count": 116,
   "metadata": {},
   "outputs": [
    {
     "data": {
      "text/plain": [
       "(5043, 28)"
      ]
     },
     "execution_count": 116,
     "metadata": {},
     "output_type": "execute_result"
    }
   ],
   "source": [
    "imdb_df.shape"
   ]
  },
  {
   "cell_type": "code",
   "execution_count": 117,
   "metadata": {},
   "outputs": [
    {
     "data": {
      "text/plain": [
       "['tt0499549',\n",
       " 'tt0449088',\n",
       " 'tt2379713',\n",
       " 'tt1345836',\n",
       " 'tt5289954',\n",
       " 'tt0401729',\n",
       " 'tt0413300',\n",
       " 'tt0398286',\n",
       " 'tt2395427',\n",
       " 'tt0417741']"
      ]
     },
     "execution_count": 117,
     "metadata": {},
     "output_type": "execute_result"
    }
   ],
   "source": [
    "imdb_ids[:10]"
   ]
  },
  {
   "cell_type": "code",
   "execution_count": 118,
   "metadata": {},
   "outputs": [],
   "source": [
    "imdb_df['imdb_id'] = imdb_ids"
   ]
  },
  {
   "cell_type": "code",
   "execution_count": 119,
   "metadata": {},
   "outputs": [
    {
     "data": {
      "text/html": [
       "<div>\n",
       "<style scoped>\n",
       "    .dataframe tbody tr th:only-of-type {\n",
       "        vertical-align: middle;\n",
       "    }\n",
       "\n",
       "    .dataframe tbody tr th {\n",
       "        vertical-align: top;\n",
       "    }\n",
       "\n",
       "    .dataframe thead th {\n",
       "        text-align: right;\n",
       "    }\n",
       "</style>\n",
       "<table border=\"1\" class=\"dataframe\">\n",
       "  <thead>\n",
       "    <tr style=\"text-align: right;\">\n",
       "      <th></th>\n",
       "      <th>color</th>\n",
       "      <th>director_name</th>\n",
       "      <th>num_critic_for_reviews</th>\n",
       "      <th>duration</th>\n",
       "      <th>director_facebook_likes</th>\n",
       "      <th>actor_3_facebook_likes</th>\n",
       "      <th>actor_2_name</th>\n",
       "      <th>actor_1_facebook_likes</th>\n",
       "      <th>gross</th>\n",
       "      <th>genres</th>\n",
       "      <th>...</th>\n",
       "      <th>language</th>\n",
       "      <th>country</th>\n",
       "      <th>content_rating</th>\n",
       "      <th>budget</th>\n",
       "      <th>title_year</th>\n",
       "      <th>actor_2_facebook_likes</th>\n",
       "      <th>imdb_score</th>\n",
       "      <th>aspect_ratio</th>\n",
       "      <th>movie_facebook_likes</th>\n",
       "      <th>imdb_id</th>\n",
       "    </tr>\n",
       "  </thead>\n",
       "  <tbody>\n",
       "    <tr>\n",
       "      <th>0</th>\n",
       "      <td>Color</td>\n",
       "      <td>James Cameron</td>\n",
       "      <td>723.0</td>\n",
       "      <td>178.0</td>\n",
       "      <td>0.0</td>\n",
       "      <td>855.0</td>\n",
       "      <td>Joel David Moore</td>\n",
       "      <td>1000.0</td>\n",
       "      <td>760505847.0</td>\n",
       "      <td>Action|Adventure|Fantasy|Sci-Fi</td>\n",
       "      <td>...</td>\n",
       "      <td>English</td>\n",
       "      <td>USA</td>\n",
       "      <td>PG-13</td>\n",
       "      <td>237000000.0</td>\n",
       "      <td>2009.0</td>\n",
       "      <td>936.0</td>\n",
       "      <td>7.9</td>\n",
       "      <td>1.78</td>\n",
       "      <td>33000</td>\n",
       "      <td>tt0499549</td>\n",
       "    </tr>\n",
       "    <tr>\n",
       "      <th>1</th>\n",
       "      <td>Color</td>\n",
       "      <td>Gore Verbinski</td>\n",
       "      <td>302.0</td>\n",
       "      <td>169.0</td>\n",
       "      <td>563.0</td>\n",
       "      <td>1000.0</td>\n",
       "      <td>Orlando Bloom</td>\n",
       "      <td>40000.0</td>\n",
       "      <td>309404152.0</td>\n",
       "      <td>Action|Adventure|Fantasy</td>\n",
       "      <td>...</td>\n",
       "      <td>English</td>\n",
       "      <td>USA</td>\n",
       "      <td>PG-13</td>\n",
       "      <td>300000000.0</td>\n",
       "      <td>2007.0</td>\n",
       "      <td>5000.0</td>\n",
       "      <td>7.1</td>\n",
       "      <td>2.35</td>\n",
       "      <td>0</td>\n",
       "      <td>tt0449088</td>\n",
       "    </tr>\n",
       "    <tr>\n",
       "      <th>2</th>\n",
       "      <td>Color</td>\n",
       "      <td>Sam Mendes</td>\n",
       "      <td>602.0</td>\n",
       "      <td>148.0</td>\n",
       "      <td>0.0</td>\n",
       "      <td>161.0</td>\n",
       "      <td>Rory Kinnear</td>\n",
       "      <td>11000.0</td>\n",
       "      <td>200074175.0</td>\n",
       "      <td>Action|Adventure|Thriller</td>\n",
       "      <td>...</td>\n",
       "      <td>English</td>\n",
       "      <td>UK</td>\n",
       "      <td>PG-13</td>\n",
       "      <td>245000000.0</td>\n",
       "      <td>2015.0</td>\n",
       "      <td>393.0</td>\n",
       "      <td>6.8</td>\n",
       "      <td>2.35</td>\n",
       "      <td>85000</td>\n",
       "      <td>tt2379713</td>\n",
       "    </tr>\n",
       "    <tr>\n",
       "      <th>3</th>\n",
       "      <td>Color</td>\n",
       "      <td>Christopher Nolan</td>\n",
       "      <td>813.0</td>\n",
       "      <td>164.0</td>\n",
       "      <td>22000.0</td>\n",
       "      <td>23000.0</td>\n",
       "      <td>Christian Bale</td>\n",
       "      <td>27000.0</td>\n",
       "      <td>448130642.0</td>\n",
       "      <td>Action|Thriller</td>\n",
       "      <td>...</td>\n",
       "      <td>English</td>\n",
       "      <td>USA</td>\n",
       "      <td>PG-13</td>\n",
       "      <td>250000000.0</td>\n",
       "      <td>2012.0</td>\n",
       "      <td>23000.0</td>\n",
       "      <td>8.5</td>\n",
       "      <td>2.35</td>\n",
       "      <td>164000</td>\n",
       "      <td>tt1345836</td>\n",
       "    </tr>\n",
       "    <tr>\n",
       "      <th>4</th>\n",
       "      <td>NaN</td>\n",
       "      <td>Doug Walker</td>\n",
       "      <td>NaN</td>\n",
       "      <td>NaN</td>\n",
       "      <td>131.0</td>\n",
       "      <td>NaN</td>\n",
       "      <td>Rob Walker</td>\n",
       "      <td>131.0</td>\n",
       "      <td>NaN</td>\n",
       "      <td>Documentary</td>\n",
       "      <td>...</td>\n",
       "      <td>NaN</td>\n",
       "      <td>NaN</td>\n",
       "      <td>NaN</td>\n",
       "      <td>NaN</td>\n",
       "      <td>NaN</td>\n",
       "      <td>12.0</td>\n",
       "      <td>7.1</td>\n",
       "      <td>NaN</td>\n",
       "      <td>0</td>\n",
       "      <td>tt5289954</td>\n",
       "    </tr>\n",
       "  </tbody>\n",
       "</table>\n",
       "<p>5 rows × 29 columns</p>\n",
       "</div>"
      ],
      "text/plain": [
       "   color      director_name  num_critic_for_reviews  duration  \\\n",
       "0  Color      James Cameron                   723.0     178.0   \n",
       "1  Color     Gore Verbinski                   302.0     169.0   \n",
       "2  Color         Sam Mendes                   602.0     148.0   \n",
       "3  Color  Christopher Nolan                   813.0     164.0   \n",
       "4    NaN        Doug Walker                     NaN       NaN   \n",
       "\n",
       "   director_facebook_likes  actor_3_facebook_likes      actor_2_name  \\\n",
       "0                      0.0                   855.0  Joel David Moore   \n",
       "1                    563.0                  1000.0     Orlando Bloom   \n",
       "2                      0.0                   161.0      Rory Kinnear   \n",
       "3                  22000.0                 23000.0    Christian Bale   \n",
       "4                    131.0                     NaN        Rob Walker   \n",
       "\n",
       "   actor_1_facebook_likes        gross                           genres  \\\n",
       "0                  1000.0  760505847.0  Action|Adventure|Fantasy|Sci-Fi   \n",
       "1                 40000.0  309404152.0         Action|Adventure|Fantasy   \n",
       "2                 11000.0  200074175.0        Action|Adventure|Thriller   \n",
       "3                 27000.0  448130642.0                  Action|Thriller   \n",
       "4                   131.0          NaN                      Documentary   \n",
       "\n",
       "     ...     language country  content_rating       budget title_year  \\\n",
       "0    ...      English     USA           PG-13  237000000.0     2009.0   \n",
       "1    ...      English     USA           PG-13  300000000.0     2007.0   \n",
       "2    ...      English      UK           PG-13  245000000.0     2015.0   \n",
       "3    ...      English     USA           PG-13  250000000.0     2012.0   \n",
       "4    ...          NaN     NaN             NaN          NaN        NaN   \n",
       "\n",
       "   actor_2_facebook_likes imdb_score aspect_ratio  movie_facebook_likes  \\\n",
       "0                   936.0        7.9         1.78                 33000   \n",
       "1                  5000.0        7.1         2.35                     0   \n",
       "2                   393.0        6.8         2.35                 85000   \n",
       "3                 23000.0        8.5         2.35                164000   \n",
       "4                    12.0        7.1          NaN                     0   \n",
       "\n",
       "     imdb_id  \n",
       "0  tt0499549  \n",
       "1  tt0449088  \n",
       "2  tt2379713  \n",
       "3  tt1345836  \n",
       "4  tt5289954  \n",
       "\n",
       "[5 rows x 29 columns]"
      ]
     },
     "execution_count": 119,
     "metadata": {},
     "output_type": "execute_result"
    }
   ],
   "source": [
    "imdb_df.head()"
   ]
  },
  {
   "cell_type": "code",
   "execution_count": 120,
   "metadata": {},
   "outputs": [],
   "source": [
    "hydra_ids = []\n",
    "for imdb_id in hydra_df['IMDB ID']:\n",
    "    hydra_ids.append(imdb_id)"
   ]
  },
  {
   "cell_type": "code",
   "execution_count": 121,
   "metadata": {},
   "outputs": [],
   "source": [
    "# the letters i and d are starting to look less and less like real letters\n",
    "imdb_df_ids = []\n",
    "for i_id in imdb_df.imdb_id:\n",
    "    imdb_df_ids.append(i_id)"
   ]
  },
  {
   "cell_type": "code",
   "execution_count": 124,
   "metadata": {},
   "outputs": [
    {
     "name": "stdout",
     "output_type": "stream",
     "text": [
      "There are 1580 total shared ids in the hydra and imdb datasets, and I hope this is the same number I got before, which was. . . 1607.\n"
     ]
    }
   ],
   "source": [
    "hydra_imdb_ids_shared = set(hydra_ids) & set(imdb_df_ids)\n",
    "print(f'There are {len(list(hydra_imdb_ids_shared))} total shared ids in the hydra and imdb datasets, and \\\n",
    "I hope this is the same number I got before, which was. . . 1607.')"
   ]
  },
  {
   "cell_type": "code",
   "execution_count": 125,
   "metadata": {},
   "outputs": [],
   "source": [
    "# noooooooo!"
   ]
  },
  {
   "cell_type": "code",
   "execution_count": 126,
   "metadata": {},
   "outputs": [
    {
     "data": {
      "text/plain": [
       "Title               0\n",
       "Year                0\n",
       "Summary             5\n",
       "Short Summary       1\n",
       "Genres              0\n",
       "IMDB ID             0\n",
       "Runtime             0\n",
       "YouTube Trailer    47\n",
       "Rating              0\n",
       "Movie Poster        0\n",
       "Director            0\n",
       "Writers            18\n",
       "Cast               24\n",
       "dtype: int64"
      ]
     },
     "execution_count": 126,
     "metadata": {},
     "output_type": "execute_result"
    }
   ],
   "source": [
    "hydra_df.isnull().sum()"
   ]
  },
  {
   "cell_type": "markdown",
   "metadata": {
    "heading_collapsed": true
   },
   "source": [
    "## III. Clean Hydra Movies Dataset - To Do\n",
    "The hydra movies seem more obscure than the movies in the other datasets, making them less likely to have Bechdel Test scores. So I'll deal with these later. "
   ]
  },
  {
   "cell_type": "code",
   "execution_count": 127,
   "metadata": {
    "hidden": true
   },
   "outputs": [
    {
     "data": {
      "text/plain": [
       "Title               0\n",
       "Year                0\n",
       "Summary             5\n",
       "Short Summary       1\n",
       "Genres              0\n",
       "IMDB ID             0\n",
       "Runtime             0\n",
       "YouTube Trailer    47\n",
       "Rating              0\n",
       "Movie Poster        0\n",
       "Director            0\n",
       "Writers            18\n",
       "Cast               24\n",
       "dtype: int64"
      ]
     },
     "execution_count": 127,
     "metadata": {},
     "output_type": "execute_result"
    }
   ],
   "source": [
    "hydra_df.isnull().sum()"
   ]
  },
  {
   "cell_type": "markdown",
   "metadata": {
    "hidden": true
   },
   "source": [
    "### A. Drop extraneous columns\n",
    "Columns that could prettify dashboard, but are not needed for analysis\n",
    "* YouTube Trailer\n",
    "* Movie Poster\n",
    "Columns that could be useful later"
   ]
  },
  {
   "cell_type": "markdown",
   "metadata": {},
   "source": [
    "## IV. Clean IMDB Movies Dataset"
   ]
  },
  {
   "cell_type": "code",
   "execution_count": 128,
   "metadata": {},
   "outputs": [
    {
     "data": {
      "text/plain": [
       "color                         19\n",
       "director_name                104\n",
       "num_critic_for_reviews        50\n",
       "duration                      15\n",
       "director_facebook_likes      104\n",
       "actor_3_facebook_likes        23\n",
       "actor_2_name                  13\n",
       "actor_1_facebook_likes         7\n",
       "gross                        884\n",
       "genres                         0\n",
       "actor_1_name                   7\n",
       "movie_title                    0\n",
       "num_voted_users                0\n",
       "cast_total_facebook_likes      0\n",
       "actor_3_name                  23\n",
       "facenumber_in_poster          13\n",
       "plot_keywords                153\n",
       "movie_imdb_link                0\n",
       "num_user_for_reviews          21\n",
       "language                      12\n",
       "country                        5\n",
       "content_rating               303\n",
       "budget                       492\n",
       "title_year                   108\n",
       "actor_2_facebook_likes        13\n",
       "imdb_score                     0\n",
       "aspect_ratio                 329\n",
       "movie_facebook_likes           0\n",
       "imdb_id                        0\n",
       "dtype: int64"
      ]
     },
     "execution_count": 128,
     "metadata": {},
     "output_type": "execute_result"
    }
   ],
   "source": [
    "imdb_df.isnull().sum()"
   ]
  },
  {
   "cell_type": "markdown",
   "metadata": {},
   "source": [
    "### A. Drop extraneous columns\n",
    "Columns that are unique to this dataset, that I may use later for extra analyses. The facebook likes columns could probably be used as their own dataset later for analysis.\n",
    "* color\n",
    "* number of critics for reviews\n",
    "* duration\n",
    "* director facebook likes \n",
    "* actor 3 facebook likes\n",
    "* actor 1 facebook likes\n",
    "* number voted users\n",
    "* total facebook likes for cast (?)\n",
    "* face number in poster\n",
    "* plot keywords\n",
    "* movie imdb link\n",
    "* number of users for reviews\n",
    "* language\n",
    "* country\n",
    "* content rating\n",
    "* actor 2 facebook likes\n",
    "* aspect ratio\n",
    "* movie facebook likes"
   ]
  },
  {
   "cell_type": "code",
   "execution_count": 130,
   "metadata": {},
   "outputs": [
    {
     "data": {
      "text/plain": [
       "Index(['color', 'director_name', 'num_critic_for_reviews', 'duration',\n",
       "       'director_facebook_likes', 'actor_3_facebook_likes', 'actor_2_name',\n",
       "       'actor_1_facebook_likes', 'gross', 'genres', 'actor_1_name',\n",
       "       'movie_title', 'num_voted_users', 'cast_total_facebook_likes',\n",
       "       'actor_3_name', 'facenumber_in_poster', 'plot_keywords',\n",
       "       'movie_imdb_link', 'num_user_for_reviews', 'language', 'country',\n",
       "       'content_rating', 'budget', 'title_year', 'actor_2_facebook_likes',\n",
       "       'imdb_score', 'aspect_ratio', 'movie_facebook_likes', 'imdb_id'],\n",
       "      dtype='object')"
      ]
     },
     "execution_count": 130,
     "metadata": {},
     "output_type": "execute_result"
    }
   ],
   "source": [
    "imdb_df.columns"
   ]
  },
  {
   "cell_type": "code",
   "execution_count": 133,
   "metadata": {},
   "outputs": [],
   "source": [
    "cols_to_drop = ['color', 'num_critic_for_reviews', 'duration', 'director_facebook_likes', 'actor_3_facebook_likes', \\\n",
    "               'actor_1_facebook_likes', 'num_voted_users', 'cast_total_facebook_likes', 'facenumber_in_poster', \\\n",
    "               'plot_keywords', 'movie_imdb_link', 'num_user_for_reviews', 'language', 'country', 'content_rating', \\\n",
    "               'actor_2_facebook_likes', 'aspect_ratio', 'movie_facebook_likes']"
   ]
  },
  {
   "cell_type": "code",
   "execution_count": 134,
   "metadata": {},
   "outputs": [],
   "source": [
    "imdb_df.drop(columns=cols_to_drop, axis=1, inplace=True)"
   ]
  },
  {
   "cell_type": "code",
   "execution_count": 135,
   "metadata": {
    "scrolled": true
   },
   "outputs": [
    {
     "data": {
      "text/html": [
       "<div>\n",
       "<style scoped>\n",
       "    .dataframe tbody tr th:only-of-type {\n",
       "        vertical-align: middle;\n",
       "    }\n",
       "\n",
       "    .dataframe tbody tr th {\n",
       "        vertical-align: top;\n",
       "    }\n",
       "\n",
       "    .dataframe thead th {\n",
       "        text-align: right;\n",
       "    }\n",
       "</style>\n",
       "<table border=\"1\" class=\"dataframe\">\n",
       "  <thead>\n",
       "    <tr style=\"text-align: right;\">\n",
       "      <th></th>\n",
       "      <th>director_name</th>\n",
       "      <th>actor_2_name</th>\n",
       "      <th>gross</th>\n",
       "      <th>genres</th>\n",
       "      <th>actor_1_name</th>\n",
       "      <th>movie_title</th>\n",
       "      <th>actor_3_name</th>\n",
       "      <th>budget</th>\n",
       "      <th>title_year</th>\n",
       "      <th>imdb_score</th>\n",
       "      <th>imdb_id</th>\n",
       "    </tr>\n",
       "  </thead>\n",
       "  <tbody>\n",
       "    <tr>\n",
       "      <th>0</th>\n",
       "      <td>James Cameron</td>\n",
       "      <td>Joel David Moore</td>\n",
       "      <td>760505847.0</td>\n",
       "      <td>Action|Adventure|Fantasy|Sci-Fi</td>\n",
       "      <td>CCH Pounder</td>\n",
       "      <td>Avatar</td>\n",
       "      <td>Wes Studi</td>\n",
       "      <td>237000000.0</td>\n",
       "      <td>2009.0</td>\n",
       "      <td>7.9</td>\n",
       "      <td>tt0499549</td>\n",
       "    </tr>\n",
       "    <tr>\n",
       "      <th>1</th>\n",
       "      <td>Gore Verbinski</td>\n",
       "      <td>Orlando Bloom</td>\n",
       "      <td>309404152.0</td>\n",
       "      <td>Action|Adventure|Fantasy</td>\n",
       "      <td>Johnny Depp</td>\n",
       "      <td>Pirates of the Caribbean: At World's End</td>\n",
       "      <td>Jack Davenport</td>\n",
       "      <td>300000000.0</td>\n",
       "      <td>2007.0</td>\n",
       "      <td>7.1</td>\n",
       "      <td>tt0449088</td>\n",
       "    </tr>\n",
       "    <tr>\n",
       "      <th>2</th>\n",
       "      <td>Sam Mendes</td>\n",
       "      <td>Rory Kinnear</td>\n",
       "      <td>200074175.0</td>\n",
       "      <td>Action|Adventure|Thriller</td>\n",
       "      <td>Christoph Waltz</td>\n",
       "      <td>Spectre</td>\n",
       "      <td>Stephanie Sigman</td>\n",
       "      <td>245000000.0</td>\n",
       "      <td>2015.0</td>\n",
       "      <td>6.8</td>\n",
       "      <td>tt2379713</td>\n",
       "    </tr>\n",
       "    <tr>\n",
       "      <th>3</th>\n",
       "      <td>Christopher Nolan</td>\n",
       "      <td>Christian Bale</td>\n",
       "      <td>448130642.0</td>\n",
       "      <td>Action|Thriller</td>\n",
       "      <td>Tom Hardy</td>\n",
       "      <td>The Dark Knight Rises</td>\n",
       "      <td>Joseph Gordon-Levitt</td>\n",
       "      <td>250000000.0</td>\n",
       "      <td>2012.0</td>\n",
       "      <td>8.5</td>\n",
       "      <td>tt1345836</td>\n",
       "    </tr>\n",
       "    <tr>\n",
       "      <th>4</th>\n",
       "      <td>Doug Walker</td>\n",
       "      <td>Rob Walker</td>\n",
       "      <td>NaN</td>\n",
       "      <td>Documentary</td>\n",
       "      <td>Doug Walker</td>\n",
       "      <td>Star Wars: Episode VII - The Force Awakens    ...</td>\n",
       "      <td>NaN</td>\n",
       "      <td>NaN</td>\n",
       "      <td>NaN</td>\n",
       "      <td>7.1</td>\n",
       "      <td>tt5289954</td>\n",
       "    </tr>\n",
       "  </tbody>\n",
       "</table>\n",
       "</div>"
      ],
      "text/plain": [
       "       director_name      actor_2_name        gross  \\\n",
       "0      James Cameron  Joel David Moore  760505847.0   \n",
       "1     Gore Verbinski     Orlando Bloom  309404152.0   \n",
       "2         Sam Mendes      Rory Kinnear  200074175.0   \n",
       "3  Christopher Nolan    Christian Bale  448130642.0   \n",
       "4        Doug Walker        Rob Walker          NaN   \n",
       "\n",
       "                            genres     actor_1_name  \\\n",
       "0  Action|Adventure|Fantasy|Sci-Fi      CCH Pounder   \n",
       "1         Action|Adventure|Fantasy      Johnny Depp   \n",
       "2        Action|Adventure|Thriller  Christoph Waltz   \n",
       "3                  Action|Thriller        Tom Hardy   \n",
       "4                      Documentary      Doug Walker   \n",
       "\n",
       "                                         movie_title          actor_3_name  \\\n",
       "0                                            Avatar              Wes Studi   \n",
       "1          Pirates of the Caribbean: At World's End         Jack Davenport   \n",
       "2                                           Spectre       Stephanie Sigman   \n",
       "3                             The Dark Knight Rises   Joseph Gordon-Levitt   \n",
       "4  Star Wars: Episode VII - The Force Awakens    ...                   NaN   \n",
       "\n",
       "        budget  title_year  imdb_score    imdb_id  \n",
       "0  237000000.0      2009.0         7.9  tt0499549  \n",
       "1  300000000.0      2007.0         7.1  tt0449088  \n",
       "2  245000000.0      2015.0         6.8  tt2379713  \n",
       "3  250000000.0      2012.0         8.5  tt1345836  \n",
       "4          NaN         NaN         7.1  tt5289954  "
      ]
     },
     "execution_count": 135,
     "metadata": {},
     "output_type": "execute_result"
    }
   ],
   "source": [
    "imdb_df.head()"
   ]
  },
  {
   "cell_type": "code",
   "execution_count": null,
   "metadata": {},
   "outputs": [],
   "source": [
    "# wait. . . Daniel Craig - who playes JAMES BOND IN A JAMES BOND FILM - is not listed as actor 1, 2, OR 3???\n",
    "# uggghhhhhhhhh\n",
    "# uggghhhhghghghghgh\n",
    "# not sure if I can trust this dataset"
   ]
  },
  {
   "cell_type": "code",
   "execution_count": 136,
   "metadata": {},
   "outputs": [
    {
     "data": {
      "text/plain": [
       "director_name    104\n",
       "actor_2_name      13\n",
       "gross            884\n",
       "genres             0\n",
       "actor_1_name       7\n",
       "movie_title        0\n",
       "actor_3_name      23\n",
       "budget           492\n",
       "title_year       108\n",
       "imdb_score         0\n",
       "imdb_id            0\n",
       "dtype: int64"
      ]
     },
     "execution_count": 136,
     "metadata": {},
     "output_type": "execute_result"
    }
   ],
   "source": [
    "imdb_df.isnull().sum()"
   ]
  },
  {
   "cell_type": "code",
   "execution_count": 137,
   "metadata": {},
   "outputs": [],
   "source": [
    "# could probably use IMDbPY to fill in missing values"
   ]
  },
  {
   "cell_type": "markdown",
   "metadata": {},
   "source": [
    "## V. Clean the TMDB Movies Dataset"
   ]
  },
  {
   "cell_type": "code",
   "execution_count": 2,
   "metadata": {},
   "outputs": [],
   "source": [
    "tmdb_df = pd.read_csv('other_data_that_is_not_to_be_trusted/movies.csv')"
   ]
  },
  {
   "cell_type": "code",
   "execution_count": 3,
   "metadata": {},
   "outputs": [
    {
     "data": {
      "text/html": [
       "<div>\n",
       "<style scoped>\n",
       "    .dataframe tbody tr th:only-of-type {\n",
       "        vertical-align: middle;\n",
       "    }\n",
       "\n",
       "    .dataframe tbody tr th {\n",
       "        vertical-align: top;\n",
       "    }\n",
       "\n",
       "    .dataframe thead th {\n",
       "        text-align: right;\n",
       "    }\n",
       "</style>\n",
       "<table border=\"1\" class=\"dataframe\">\n",
       "  <thead>\n",
       "    <tr style=\"text-align: right;\">\n",
       "      <th></th>\n",
       "      <th>revenue</th>\n",
       "      <th>vote_average</th>\n",
       "      <th>vote_count</th>\n",
       "      <th>title</th>\n",
       "      <th>original_language</th>\n",
       "      <th>release_date</th>\n",
       "      <th>production_companies</th>\n",
       "      <th>production_countries</th>\n",
       "      <th>genres</th>\n",
       "      <th>director</th>\n",
       "      <th>producer</th>\n",
       "      <th>cast</th>\n",
       "      <th>runtimes</th>\n",
       "      <th>writer</th>\n",
       "    </tr>\n",
       "  </thead>\n",
       "  <tbody>\n",
       "    <tr>\n",
       "      <th>0</th>\n",
       "      <td>4300000</td>\n",
       "      <td>6.6</td>\n",
       "      <td>714</td>\n",
       "      <td>Four Rooms</td>\n",
       "      <td>en</td>\n",
       "      <td>1995-12-09</td>\n",
       "      <td>Miramax Films,A Band Apart</td>\n",
       "      <td>United States of America</td>\n",
       "      <td>Crime,Comedy</td>\n",
       "      <td>Allison Anders,Alexandre Rockwell,Robert Rodri...</td>\n",
       "      <td>Lawrence Bender,Paul Hellerman,Scott Lambert,</td>\n",
       "      <td>Sammi Davis,Amanda De Cadenet,Valeria Golino,</td>\n",
       "      <td>98.0</td>\n",
       "      <td>Allison Anders,Alexandre Rockwell,Robert Rodri...</td>\n",
       "    </tr>\n",
       "    <tr>\n",
       "      <th>1</th>\n",
       "      <td>12</td>\n",
       "      <td>6.4</td>\n",
       "      <td>96</td>\n",
       "      <td>Judgment Night</td>\n",
       "      <td>en</td>\n",
       "      <td>1993-10-15</td>\n",
       "      <td>Universal Pictures,Largo Entertainment,JVC Ent...</td>\n",
       "      <td>Japan,United States of America</td>\n",
       "      <td>Action,Thriller,Crime</td>\n",
       "      <td>Stephen Hopkins</td>\n",
       "      <td>Gene Levy,Christopher Mollo,Lloyd Segan,</td>\n",
       "      <td>Emilio Estevez,Cuba Gooding Jr.,Denis Leary,</td>\n",
       "      <td>110.0</td>\n",
       "      <td>Lewis Colick,Jere Cunningham,Lewis Colick</td>\n",
       "    </tr>\n",
       "    <tr>\n",
       "      <th>2</th>\n",
       "      <td>775398007</td>\n",
       "      <td>8.1</td>\n",
       "      <td>8550</td>\n",
       "      <td>Star Wars</td>\n",
       "      <td>en</td>\n",
       "      <td>1977-05-25</td>\n",
       "      <td>Lucasfilm,20th Century Fox</td>\n",
       "      <td>United States of America</td>\n",
       "      <td>Adventure,Action,Science Fiction</td>\n",
       "      <td>George Lucas</td>\n",
       "      <td>Gary Kurtz,George Lucas,Rick McCallum</td>\n",
       "      <td>Mark Hamill,Harrison Ford,Carrie Fisher,</td>\n",
       "      <td>121.0</td>\n",
       "      <td>George Lucas</td>\n",
       "    </tr>\n",
       "    <tr>\n",
       "      <th>3</th>\n",
       "      <td>940335536</td>\n",
       "      <td>7.7</td>\n",
       "      <td>8085</td>\n",
       "      <td>Finding Nemo</td>\n",
       "      <td>en</td>\n",
       "      <td>2003-05-30</td>\n",
       "      <td>Pixar</td>\n",
       "      <td>United States of America</td>\n",
       "      <td>Animation,Family</td>\n",
       "      <td>Andrew Stanton,Lee Unkrich</td>\n",
       "      <td>Jinko Gotoh,John Lasseter,Graham Walters</td>\n",
       "      <td>Albert Brooks,Ellen DeGeneres,Alexander Gould,</td>\n",
       "      <td>100.0</td>\n",
       "      <td>Andrew Stanton,Andrew Stanton,Bob Peterson,</td>\n",
       "    </tr>\n",
       "    <tr>\n",
       "      <th>4</th>\n",
       "      <td>677945399</td>\n",
       "      <td>8.3</td>\n",
       "      <td>10346</td>\n",
       "      <td>Forrest Gump</td>\n",
       "      <td>en</td>\n",
       "      <td>1994-07-06</td>\n",
       "      <td>Paramount</td>\n",
       "      <td>United States of America</td>\n",
       "      <td>Comedy,Drama,Romance</td>\n",
       "      <td>Robert Zemeckis</td>\n",
       "      <td>Wendy Finerman,Charles Newirth,Steve Starkey,</td>\n",
       "      <td>Tom Hanks,Rebecca Williams,Sally Field,</td>\n",
       "      <td>142.0</td>\n",
       "      <td>Winston Groom,Eric Roth</td>\n",
       "    </tr>\n",
       "  </tbody>\n",
       "</table>\n",
       "</div>"
      ],
      "text/plain": [
       "     revenue  vote_average  vote_count           title original_language  \\\n",
       "0    4300000           6.6         714      Four Rooms                en   \n",
       "1         12           6.4          96  Judgment Night                en   \n",
       "2  775398007           8.1        8550       Star Wars                en   \n",
       "3  940335536           7.7        8085    Finding Nemo                en   \n",
       "4  677945399           8.3       10346    Forrest Gump                en   \n",
       "\n",
       "  release_date                               production_companies  \\\n",
       "0   1995-12-09                         Miramax Films,A Band Apart   \n",
       "1   1993-10-15  Universal Pictures,Largo Entertainment,JVC Ent...   \n",
       "2   1977-05-25                         Lucasfilm,20th Century Fox   \n",
       "3   2003-05-30                                              Pixar   \n",
       "4   1994-07-06                                          Paramount   \n",
       "\n",
       "             production_countries                            genres  \\\n",
       "0        United States of America                      Crime,Comedy   \n",
       "1  Japan,United States of America             Action,Thriller,Crime   \n",
       "2        United States of America  Adventure,Action,Science Fiction   \n",
       "3        United States of America                  Animation,Family   \n",
       "4        United States of America              Comedy,Drama,Romance   \n",
       "\n",
       "                                            director  \\\n",
       "0  Allison Anders,Alexandre Rockwell,Robert Rodri...   \n",
       "1                                    Stephen Hopkins   \n",
       "2                                       George Lucas   \n",
       "3                         Andrew Stanton,Lee Unkrich   \n",
       "4                                    Robert Zemeckis   \n",
       "\n",
       "                                        producer  \\\n",
       "0  Lawrence Bender,Paul Hellerman,Scott Lambert,   \n",
       "1       Gene Levy,Christopher Mollo,Lloyd Segan,   \n",
       "2          Gary Kurtz,George Lucas,Rick McCallum   \n",
       "3       Jinko Gotoh,John Lasseter,Graham Walters   \n",
       "4  Wendy Finerman,Charles Newirth,Steve Starkey,   \n",
       "\n",
       "                                             cast  runtimes  \\\n",
       "0   Sammi Davis,Amanda De Cadenet,Valeria Golino,      98.0   \n",
       "1    Emilio Estevez,Cuba Gooding Jr.,Denis Leary,     110.0   \n",
       "2        Mark Hamill,Harrison Ford,Carrie Fisher,     121.0   \n",
       "3  Albert Brooks,Ellen DeGeneres,Alexander Gould,     100.0   \n",
       "4         Tom Hanks,Rebecca Williams,Sally Field,     142.0   \n",
       "\n",
       "                                              writer  \n",
       "0  Allison Anders,Alexandre Rockwell,Robert Rodri...  \n",
       "1          Lewis Colick,Jere Cunningham,Lewis Colick  \n",
       "2                                       George Lucas  \n",
       "3        Andrew Stanton,Andrew Stanton,Bob Peterson,  \n",
       "4                            Winston Groom,Eric Roth  "
      ]
     },
     "execution_count": 3,
     "metadata": {},
     "output_type": "execute_result"
    }
   ],
   "source": [
    "tmdb_df.head()"
   ]
  },
  {
   "cell_type": "code",
   "execution_count": 140,
   "metadata": {},
   "outputs": [
    {
     "data": {
      "text/plain": [
       "revenue                    0\n",
       "vote_average               0\n",
       "vote_count                 0\n",
       "title                      0\n",
       "original_language          0\n",
       "release_date               8\n",
       "production_companies    1485\n",
       "production_countries       0\n",
       "genres                   243\n",
       "director                  69\n",
       "producer                 115\n",
       "cast                      32\n",
       "runtimes                 120\n",
       "writer                   290\n",
       "dtype: int64"
      ]
     },
     "execution_count": 140,
     "metadata": {},
     "output_type": "execute_result"
    }
   ],
   "source": [
    "tmdb_df.isnull().sum()"
   ]
  },
  {
   "cell_type": "code",
   "execution_count": 141,
   "metadata": {},
   "outputs": [
    {
     "data": {
      "text/plain": [
       "(10000, 14)"
      ]
     },
     "execution_count": 141,
     "metadata": {},
     "output_type": "execute_result"
    }
   ],
   "source": [
    "tmdb_df.shape"
   ]
  },
  {
   "cell_type": "code",
   "execution_count": 4,
   "metadata": {},
   "outputs": [],
   "source": [
    "tmdb_sample = tmdb_df.sample(n=10)"
   ]
  },
  {
   "cell_type": "code",
   "execution_count": 5,
   "metadata": {},
   "outputs": [
    {
     "data": {
      "text/html": [
       "<div>\n",
       "<style scoped>\n",
       "    .dataframe tbody tr th:only-of-type {\n",
       "        vertical-align: middle;\n",
       "    }\n",
       "\n",
       "    .dataframe tbody tr th {\n",
       "        vertical-align: top;\n",
       "    }\n",
       "\n",
       "    .dataframe thead th {\n",
       "        text-align: right;\n",
       "    }\n",
       "</style>\n",
       "<table border=\"1\" class=\"dataframe\">\n",
       "  <thead>\n",
       "    <tr style=\"text-align: right;\">\n",
       "      <th></th>\n",
       "      <th>revenue</th>\n",
       "      <th>vote_average</th>\n",
       "      <th>vote_count</th>\n",
       "      <th>title</th>\n",
       "      <th>original_language</th>\n",
       "      <th>release_date</th>\n",
       "      <th>production_companies</th>\n",
       "      <th>production_countries</th>\n",
       "      <th>genres</th>\n",
       "      <th>director</th>\n",
       "      <th>producer</th>\n",
       "      <th>cast</th>\n",
       "      <th>runtimes</th>\n",
       "      <th>writer</th>\n",
       "    </tr>\n",
       "  </thead>\n",
       "  <tbody>\n",
       "    <tr>\n",
       "      <th>6159</th>\n",
       "      <td>0</td>\n",
       "      <td>6.2</td>\n",
       "      <td>6</td>\n",
       "      <td>It Happened in Brooklyn</td>\n",
       "      <td>en</td>\n",
       "      <td>1947-04-07</td>\n",
       "      <td>Metro-Goldwyn-Mayer</td>\n",
       "      <td>United States of America</td>\n",
       "      <td>Comedy,Music,Romance</td>\n",
       "      <td>Richard Whorf</td>\n",
       "      <td>Jack Cummings</td>\n",
       "      <td>Frank Sinatra,Kathryn Grayson,Peter Lawford,</td>\n",
       "      <td>104.0</td>\n",
       "      <td>Isobel Lennart,Jack McGowan</td>\n",
       "    </tr>\n",
       "    <tr>\n",
       "      <th>9078</th>\n",
       "      <td>0</td>\n",
       "      <td>6.4</td>\n",
       "      <td>45</td>\n",
       "      <td>The Pope of Greenwich Village</td>\n",
       "      <td>en</td>\n",
       "      <td>1984-06-22</td>\n",
       "      <td>United Artists</td>\n",
       "      <td>United States of America</td>\n",
       "      <td>Drama,Action,Comedy,Crime</td>\n",
       "      <td>Stuart Rosenberg</td>\n",
       "      <td>Gene Kirkwood,Hawk Koch,Benjamin Rosenberg</td>\n",
       "      <td>Eric Roberts,Mickey Rourke,Daryl Hannah,</td>\n",
       "      <td>121.0</td>\n",
       "      <td>Vincent Patrick,Vincent Patrick</td>\n",
       "    </tr>\n",
       "    <tr>\n",
       "      <th>3403</th>\n",
       "      <td>30626182</td>\n",
       "      <td>5.3</td>\n",
       "      <td>108</td>\n",
       "      <td>Major League II</td>\n",
       "      <td>en</td>\n",
       "      <td>1994-03-30</td>\n",
       "      <td>Morgan Creek Productions,Warner Bros. Pictures</td>\n",
       "      <td>United States of America</td>\n",
       "      <td>Comedy</td>\n",
       "      <td>David S. Ward</td>\n",
       "      <td>Gary Barber,Edward D. Markley,Julia Miller,</td>\n",
       "      <td>Charlie Sheen,Tom Berenger,Corbin Bernsen,</td>\n",
       "      <td>105.0</td>\n",
       "      <td>David S. Ward,R.J. Stewart,Tom S. Parker,</td>\n",
       "    </tr>\n",
       "    <tr>\n",
       "      <th>2878</th>\n",
       "      <td>15360553</td>\n",
       "      <td>6.6</td>\n",
       "      <td>289</td>\n",
       "      <td>The Witches</td>\n",
       "      <td>en</td>\n",
       "      <td>1990-05-25</td>\n",
       "      <td>Lorimar Film Entertainment,Jim Henson Productions</td>\n",
       "      <td>United Kingdom,United States of America</td>\n",
       "      <td>Adventure,Fantasy,Horror</td>\n",
       "      <td>Nicolas Roeg</td>\n",
       "      <td>Jim Henson,Mark Shivas,Dusty Symonds</td>\n",
       "      <td>Anjelica Huston,Mai Zetterling,Jasen Fisher,</td>\n",
       "      <td>91.0</td>\n",
       "      <td>Roald Dahl,Allan Scott</td>\n",
       "    </tr>\n",
       "    <tr>\n",
       "      <th>3038</th>\n",
       "      <td>11285588</td>\n",
       "      <td>7.2</td>\n",
       "      <td>228</td>\n",
       "      <td>Manhattan Murder Mystery</td>\n",
       "      <td>en</td>\n",
       "      <td>1993-08-18</td>\n",
       "      <td>TriStar Pictures</td>\n",
       "      <td>United States of America</td>\n",
       "      <td>Comedy,Mystery</td>\n",
       "      <td>Woody Allen</td>\n",
       "      <td>Robert Greenhut,Joseph Hartwick,Charles H. Joffe,</td>\n",
       "      <td>Woody Allen,Diane Keaton,Jerry Adler,</td>\n",
       "      <td>104.0</td>\n",
       "      <td>Woody Allen,Marshall Brickman</td>\n",
       "    </tr>\n",
       "    <tr>\n",
       "      <th>7461</th>\n",
       "      <td>0</td>\n",
       "      <td>6.7</td>\n",
       "      <td>48</td>\n",
       "      <td>The Naked Kiss</td>\n",
       "      <td>en</td>\n",
       "      <td>1964-10-29</td>\n",
       "      <td>The Criterion Collection,Leon Fromkess-Sam Fir...</td>\n",
       "      <td>United States of America</td>\n",
       "      <td>Crime,Drama</td>\n",
       "      <td>Samuel Fuller</td>\n",
       "      <td>Samuel Fuller,Sam Firks,Leon Fromkess</td>\n",
       "      <td>Karen Conrad,Marie Devereux,Betty Bronson,</td>\n",
       "      <td>90.0</td>\n",
       "      <td>Samuel Fuller</td>\n",
       "    </tr>\n",
       "    <tr>\n",
       "      <th>4692</th>\n",
       "      <td>3</td>\n",
       "      <td>6.0</td>\n",
       "      <td>74</td>\n",
       "      <td>Feast of Love</td>\n",
       "      <td>en</td>\n",
       "      <td>2007-09-28</td>\n",
       "      <td>Revelations Entertainment,Greenestreet Films,L...</td>\n",
       "      <td>United States of America</td>\n",
       "      <td>Comedy,Drama,Romance</td>\n",
       "      <td>Robert Benton</td>\n",
       "      <td>Marisa Forzano,Ted Gidlow,Gary Lucchesi,</td>\n",
       "      <td>Morgan Freeman,Greg Kinnear,Radha Mitchell,</td>\n",
       "      <td>97.0</td>\n",
       "      <td>Allison Burnett,Charles Baxter</td>\n",
       "    </tr>\n",
       "    <tr>\n",
       "      <th>3934</th>\n",
       "      <td>17900000</td>\n",
       "      <td>6.8</td>\n",
       "      <td>343</td>\n",
       "      <td>Bedknobs and Broomsticks</td>\n",
       "      <td>en</td>\n",
       "      <td>1971-10-07</td>\n",
       "      <td>Walt Disney Productions</td>\n",
       "      <td>United States of America</td>\n",
       "      <td>Adventure,Fantasy,Animation,Comedy,Family,Music</td>\n",
       "      <td>Robert Stevenson</td>\n",
       "      <td>Bill Walsh</td>\n",
       "      <td>Angela Lansbury,David Tomlinson,Roddy McDowall,</td>\n",
       "      <td>117.0</td>\n",
       "      <td>Ralph Wright,Ted Berman,Bill Walsh,</td>\n",
       "    </tr>\n",
       "    <tr>\n",
       "      <th>2240</th>\n",
       "      <td>16478900</td>\n",
       "      <td>5.1</td>\n",
       "      <td>101</td>\n",
       "      <td>Terminal Velocity</td>\n",
       "      <td>en</td>\n",
       "      <td>1994-09-23</td>\n",
       "      <td>Hollywood Pictures,Interscope Communications,P...</td>\n",
       "      <td>United States of America</td>\n",
       "      <td>Action,Thriller</td>\n",
       "      <td>Deran Sarafian</td>\n",
       "      <td>Ron Booth,Joan Bradshaw,Robert W. Cort,</td>\n",
       "      <td>Charlie Sheen,Nastassja Kinski,James Gandolfini,</td>\n",
       "      <td>102.0</td>\n",
       "      <td>David Twohy</td>\n",
       "    </tr>\n",
       "    <tr>\n",
       "      <th>8983</th>\n",
       "      <td>0</td>\n",
       "      <td>5.8</td>\n",
       "      <td>5</td>\n",
       "      <td>Barbra Streisand: One Voice</td>\n",
       "      <td>en</td>\n",
       "      <td>1986-12-27</td>\n",
       "      <td>HBO</td>\n",
       "      <td>United States of America</td>\n",
       "      <td>Music,TV Movie</td>\n",
       "      <td>Jack Arnold</td>\n",
       "      <td>Albert Zugsmith</td>\n",
       "      <td>Grant Williams,Randy Stuart,April Kent,</td>\n",
       "      <td>81.0</td>\n",
       "      <td>Richard Matheson,Richard Matheson,Richard Alan...</td>\n",
       "    </tr>\n",
       "  </tbody>\n",
       "</table>\n",
       "</div>"
      ],
      "text/plain": [
       "       revenue  vote_average  vote_count                          title  \\\n",
       "6159         0           6.2           6        It Happened in Brooklyn   \n",
       "9078         0           6.4          45  The Pope of Greenwich Village   \n",
       "3403  30626182           5.3         108                Major League II   \n",
       "2878  15360553           6.6         289                    The Witches   \n",
       "3038  11285588           7.2         228       Manhattan Murder Mystery   \n",
       "7461         0           6.7          48                 The Naked Kiss   \n",
       "4692         3           6.0          74                  Feast of Love   \n",
       "3934  17900000           6.8         343       Bedknobs and Broomsticks   \n",
       "2240  16478900           5.1         101              Terminal Velocity   \n",
       "8983         0           5.8           5    Barbra Streisand: One Voice   \n",
       "\n",
       "     original_language release_date  \\\n",
       "6159                en   1947-04-07   \n",
       "9078                en   1984-06-22   \n",
       "3403                en   1994-03-30   \n",
       "2878                en   1990-05-25   \n",
       "3038                en   1993-08-18   \n",
       "7461                en   1964-10-29   \n",
       "4692                en   2007-09-28   \n",
       "3934                en   1971-10-07   \n",
       "2240                en   1994-09-23   \n",
       "8983                en   1986-12-27   \n",
       "\n",
       "                                   production_companies  \\\n",
       "6159                                Metro-Goldwyn-Mayer   \n",
       "9078                                     United Artists   \n",
       "3403     Morgan Creek Productions,Warner Bros. Pictures   \n",
       "2878  Lorimar Film Entertainment,Jim Henson Productions   \n",
       "3038                                   TriStar Pictures   \n",
       "7461  The Criterion Collection,Leon Fromkess-Sam Fir...   \n",
       "4692  Revelations Entertainment,Greenestreet Films,L...   \n",
       "3934                            Walt Disney Productions   \n",
       "2240  Hollywood Pictures,Interscope Communications,P...   \n",
       "8983                                                HBO   \n",
       "\n",
       "                         production_countries  \\\n",
       "6159                 United States of America   \n",
       "9078                 United States of America   \n",
       "3403                 United States of America   \n",
       "2878  United Kingdom,United States of America   \n",
       "3038                 United States of America   \n",
       "7461                 United States of America   \n",
       "4692                 United States of America   \n",
       "3934                 United States of America   \n",
       "2240                 United States of America   \n",
       "8983                 United States of America   \n",
       "\n",
       "                                               genres          director  \\\n",
       "6159                             Comedy,Music,Romance     Richard Whorf   \n",
       "9078                        Drama,Action,Comedy,Crime  Stuart Rosenberg   \n",
       "3403                                           Comedy     David S. Ward   \n",
       "2878                         Adventure,Fantasy,Horror      Nicolas Roeg   \n",
       "3038                                   Comedy,Mystery       Woody Allen   \n",
       "7461                                      Crime,Drama     Samuel Fuller   \n",
       "4692                             Comedy,Drama,Romance     Robert Benton   \n",
       "3934  Adventure,Fantasy,Animation,Comedy,Family,Music  Robert Stevenson   \n",
       "2240                                  Action,Thriller    Deran Sarafian   \n",
       "8983                                   Music,TV Movie       Jack Arnold   \n",
       "\n",
       "                                               producer  \\\n",
       "6159                                      Jack Cummings   \n",
       "9078         Gene Kirkwood,Hawk Koch,Benjamin Rosenberg   \n",
       "3403        Gary Barber,Edward D. Markley,Julia Miller,   \n",
       "2878               Jim Henson,Mark Shivas,Dusty Symonds   \n",
       "3038  Robert Greenhut,Joseph Hartwick,Charles H. Joffe,   \n",
       "7461              Samuel Fuller,Sam Firks,Leon Fromkess   \n",
       "4692           Marisa Forzano,Ted Gidlow,Gary Lucchesi,   \n",
       "3934                                         Bill Walsh   \n",
       "2240            Ron Booth,Joan Bradshaw,Robert W. Cort,   \n",
       "8983                                    Albert Zugsmith   \n",
       "\n",
       "                                                  cast  runtimes  \\\n",
       "6159      Frank Sinatra,Kathryn Grayson,Peter Lawford,     104.0   \n",
       "9078          Eric Roberts,Mickey Rourke,Daryl Hannah,     121.0   \n",
       "3403        Charlie Sheen,Tom Berenger,Corbin Bernsen,     105.0   \n",
       "2878      Anjelica Huston,Mai Zetterling,Jasen Fisher,      91.0   \n",
       "3038             Woody Allen,Diane Keaton,Jerry Adler,     104.0   \n",
       "7461        Karen Conrad,Marie Devereux,Betty Bronson,      90.0   \n",
       "4692       Morgan Freeman,Greg Kinnear,Radha Mitchell,      97.0   \n",
       "3934   Angela Lansbury,David Tomlinson,Roddy McDowall,     117.0   \n",
       "2240  Charlie Sheen,Nastassja Kinski,James Gandolfini,     102.0   \n",
       "8983           Grant Williams,Randy Stuart,April Kent,      81.0   \n",
       "\n",
       "                                                 writer  \n",
       "6159                        Isobel Lennart,Jack McGowan  \n",
       "9078                    Vincent Patrick,Vincent Patrick  \n",
       "3403          David S. Ward,R.J. Stewart,Tom S. Parker,  \n",
       "2878                             Roald Dahl,Allan Scott  \n",
       "3038                      Woody Allen,Marshall Brickman  \n",
       "7461                                      Samuel Fuller  \n",
       "4692                     Allison Burnett,Charles Baxter  \n",
       "3934                Ralph Wright,Ted Berman,Bill Walsh,  \n",
       "2240                                        David Twohy  \n",
       "8983  Richard Matheson,Richard Matheson,Richard Alan...  "
      ]
     },
     "execution_count": 5,
     "metadata": {},
     "output_type": "execute_result"
    }
   ],
   "source": [
    "tmdb_sample"
   ]
  },
  {
   "cell_type": "code",
   "execution_count": 6,
   "metadata": {},
   "outputs": [],
   "source": [
    "# it happened in brooklyn - verified\n",
    "# the pope of greenwich village - info verified, though missing box office which is on wikipedia\n",
    "# ok all this stuff looks accurate - I think we can trust this dataset"
   ]
  },
  {
   "cell_type": "code",
   "execution_count": 7,
   "metadata": {},
   "outputs": [
    {
     "data": {
      "text/html": [
       "<div>\n",
       "<style scoped>\n",
       "    .dataframe tbody tr th:only-of-type {\n",
       "        vertical-align: middle;\n",
       "    }\n",
       "\n",
       "    .dataframe tbody tr th {\n",
       "        vertical-align: top;\n",
       "    }\n",
       "\n",
       "    .dataframe thead th {\n",
       "        text-align: right;\n",
       "    }\n",
       "</style>\n",
       "<table border=\"1\" class=\"dataframe\">\n",
       "  <thead>\n",
       "    <tr style=\"text-align: right;\">\n",
       "      <th></th>\n",
       "      <th>year</th>\n",
       "      <th>title</th>\n",
       "      <th>score</th>\n",
       "      <th>passing</th>\n",
       "      <th>imdb_id</th>\n",
       "      <th>imdb_link</th>\n",
       "    </tr>\n",
       "  </thead>\n",
       "  <tbody>\n",
       "    <tr>\n",
       "      <th>0</th>\n",
       "      <td>2019</td>\n",
       "      <td>Alita: Battle Angel</td>\n",
       "      <td>3</td>\n",
       "      <td>1</td>\n",
       "      <td>tt0437086</td>\n",
       "      <td>http://us.imdb.com/title/tt0437086/</td>\n",
       "    </tr>\n",
       "    <tr>\n",
       "      <th>1</th>\n",
       "      <td>2019</td>\n",
       "      <td>American Woman</td>\n",
       "      <td>3</td>\n",
       "      <td>1</td>\n",
       "      <td>tt9109492</td>\n",
       "      <td>http://us.imdb.com/title/tt9109492/</td>\n",
       "    </tr>\n",
       "    <tr>\n",
       "      <th>2</th>\n",
       "      <td>2019</td>\n",
       "      <td>Close</td>\n",
       "      <td>3</td>\n",
       "      <td>1</td>\n",
       "      <td>tt5316540</td>\n",
       "      <td>http://us.imdb.com/title/tt5316540/</td>\n",
       "    </tr>\n",
       "    <tr>\n",
       "      <th>3</th>\n",
       "      <td>2019</td>\n",
       "      <td>Cold Pursuit</td>\n",
       "      <td>1</td>\n",
       "      <td>0</td>\n",
       "      <td>tt5719748</td>\n",
       "      <td>http://us.imdb.com/title/tt5719748/</td>\n",
       "    </tr>\n",
       "    <tr>\n",
       "      <th>4</th>\n",
       "      <td>2019</td>\n",
       "      <td>How to Train Your Dragon: The Hidden World</td>\n",
       "      <td>2</td>\n",
       "      <td>0</td>\n",
       "      <td>tt2386490</td>\n",
       "      <td>http://us.imdb.com/title/tt2386490/</td>\n",
       "    </tr>\n",
       "  </tbody>\n",
       "</table>\n",
       "</div>"
      ],
      "text/plain": [
       "   year                                       title  score  passing  \\\n",
       "0  2019                         Alita: Battle Angel      3        1   \n",
       "1  2019                              American Woman      3        1   \n",
       "2  2019                                       Close      3        1   \n",
       "3  2019                                Cold Pursuit      1        0   \n",
       "4  2019  How to Train Your Dragon: The Hidden World      2        0   \n",
       "\n",
       "     imdb_id                            imdb_link  \n",
       "0  tt0437086  http://us.imdb.com/title/tt0437086/  \n",
       "1  tt9109492  http://us.imdb.com/title/tt9109492/  \n",
       "2  tt5316540  http://us.imdb.com/title/tt5316540/  \n",
       "3  tt5719748  http://us.imdb.com/title/tt5719748/  \n",
       "4  tt2386490  http://us.imdb.com/title/tt2386490/  "
      ]
     },
     "execution_count": 7,
     "metadata": {},
     "output_type": "execute_result"
    }
   ],
   "source": [
    "bechdel_df = pd.read_csv('my_data/bechdel_test_movies.csv')\n",
    "bechdel_df.head()"
   ]
  },
  {
   "cell_type": "code",
   "execution_count": 8,
   "metadata": {},
   "outputs": [],
   "source": [
    "bechdel_movies = []\n",
    "for m in bechdel_df.title:\n",
    "    bechdel_movies.append(m.lower().strip())\n",
    "\n",
    "tmdb_movies = []\n",
    "for t in tmdb_df.title:\n",
    "    tmdb_movies.append(t.lower().strip())"
   ]
  },
  {
   "cell_type": "code",
   "execution_count": 9,
   "metadata": {},
   "outputs": [],
   "source": [
    "shared_bechdel_tmdb_movies = set(bechdel_movies) & set(tmdb_movies)"
   ]
  },
  {
   "cell_type": "code",
   "execution_count": 10,
   "metadata": {},
   "outputs": [
    {
     "data": {
      "text/plain": [
       "2816"
      ]
     },
     "execution_count": 10,
     "metadata": {},
     "output_type": "execute_result"
    }
   ],
   "source": [
    "len(shared_bechdel_tmdb_movies)"
   ]
  },
  {
   "cell_type": "code",
   "execution_count": null,
   "metadata": {},
   "outputs": [],
   "source": []
  }
 ],
 "metadata": {
  "kernelspec": {
   "display_name": "Python (learn-env)",
   "language": "python",
   "name": "learn-env"
  },
  "language_info": {
   "codemirror_mode": {
    "name": "ipython",
    "version": 3
   },
   "file_extension": ".py",
   "mimetype": "text/x-python",
   "name": "python",
   "nbconvert_exporter": "python",
   "pygments_lexer": "ipython3",
   "version": "3.7.2"
  },
  "toc": {
   "base_numbering": 1,
   "nav_menu": {},
   "number_sections": false,
   "sideBar": true,
   "skip_h1_title": false,
   "title_cell": "Table of Contents",
   "title_sidebar": "Contents",
   "toc_cell": false,
   "toc_position": {
    "height": "calc(100% - 180px)",
    "left": "10px",
    "top": "150px",
    "width": "291.797px"
   },
   "toc_section_display": true,
   "toc_window_display": true
  }
 },
 "nbformat": 4,
 "nbformat_minor": 2
}
