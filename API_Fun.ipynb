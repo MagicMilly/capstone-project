{
 "cells": [
  {
   "cell_type": "code",
   "execution_count": 29,
   "metadata": {},
   "outputs": [],
   "source": [
    "import json\n",
    "import pandas as pd\n",
    "import numpy as np\n",
    "import tmdbsimple as tmdb\n",
    "\n",
    "from requests import get\n",
    "\n",
    "from get_path import path"
   ]
  },
  {
   "cell_type": "code",
   "execution_count": 3,
   "metadata": {},
   "outputs": [],
   "source": [
    "with open(path) as f:\n",
    "    data = json.load(f)"
   ]
  },
  {
   "cell_type": "code",
   "execution_count": 5,
   "metadata": {},
   "outputs": [],
   "source": [
    "tmdb.API_KEY = data['key']"
   ]
  },
  {
   "cell_type": "code",
   "execution_count": 30,
   "metadata": {},
   "outputs": [],
   "source": [
    "api_key = data['key']"
   ]
  },
  {
   "cell_type": "code",
   "execution_count": 6,
   "metadata": {},
   "outputs": [
    {
     "data": {
      "text/html": [
       "<div>\n",
       "<style scoped>\n",
       "    .dataframe tbody tr th:only-of-type {\n",
       "        vertical-align: middle;\n",
       "    }\n",
       "\n",
       "    .dataframe tbody tr th {\n",
       "        vertical-align: top;\n",
       "    }\n",
       "\n",
       "    .dataframe thead th {\n",
       "        text-align: right;\n",
       "    }\n",
       "</style>\n",
       "<table border=\"1\" class=\"dataframe\">\n",
       "  <thead>\n",
       "    <tr style=\"text-align: right;\">\n",
       "      <th></th>\n",
       "      <th>year</th>\n",
       "      <th>title</th>\n",
       "      <th>score</th>\n",
       "      <th>passing</th>\n",
       "      <th>imdb_id</th>\n",
       "      <th>director_fnbt</th>\n",
       "      <th>writer_fnbt</th>\n",
       "      <th>exec_fnbt</th>\n",
       "      <th>producer_fnbt</th>\n",
       "      <th>overall_fnbt</th>\n",
       "      <th>updated_budgets</th>\n",
       "      <th>updated_revenue</th>\n",
       "    </tr>\n",
       "  </thead>\n",
       "  <tbody>\n",
       "    <tr>\n",
       "      <th>0</th>\n",
       "      <td>2019.0</td>\n",
       "      <td>Alita: Battle Angel</td>\n",
       "      <td>3.0</td>\n",
       "      <td>1.0</td>\n",
       "      <td>tt0437086</td>\n",
       "      <td>0.0</td>\n",
       "      <td>1.0</td>\n",
       "      <td>0.0</td>\n",
       "      <td>0.0</td>\n",
       "      <td>1.0</td>\n",
       "      <td>170000000.0</td>\n",
       "      <td>359700000.0</td>\n",
       "    </tr>\n",
       "    <tr>\n",
       "      <th>1</th>\n",
       "      <td>2019.0</td>\n",
       "      <td>American Woman</td>\n",
       "      <td>3.0</td>\n",
       "      <td>1.0</td>\n",
       "      <td>tt9109492</td>\n",
       "      <td>NaN</td>\n",
       "      <td>NaN</td>\n",
       "      <td>NaN</td>\n",
       "      <td>NaN</td>\n",
       "      <td>NaN</td>\n",
       "      <td>0.0</td>\n",
       "      <td>0.0</td>\n",
       "    </tr>\n",
       "    <tr>\n",
       "      <th>2</th>\n",
       "      <td>2019.0</td>\n",
       "      <td>Close</td>\n",
       "      <td>3.0</td>\n",
       "      <td>1.0</td>\n",
       "      <td>tt5316540</td>\n",
       "      <td>1.0</td>\n",
       "      <td>1.0</td>\n",
       "      <td>0.0</td>\n",
       "      <td>0.0</td>\n",
       "      <td>2.0</td>\n",
       "      <td>0.0</td>\n",
       "      <td>0.0</td>\n",
       "    </tr>\n",
       "    <tr>\n",
       "      <th>3</th>\n",
       "      <td>2019.0</td>\n",
       "      <td>Cold Pursuit</td>\n",
       "      <td>1.0</td>\n",
       "      <td>0.0</td>\n",
       "      <td>tt5719748</td>\n",
       "      <td>0.0</td>\n",
       "      <td>0.0</td>\n",
       "      <td>0.0</td>\n",
       "      <td>0.0</td>\n",
       "      <td>0.0</td>\n",
       "      <td>0.0</td>\n",
       "      <td>0.0</td>\n",
       "    </tr>\n",
       "    <tr>\n",
       "      <th>4</th>\n",
       "      <td>2019.0</td>\n",
       "      <td>How to Train Your Dragon: The Hidden World</td>\n",
       "      <td>2.0</td>\n",
       "      <td>0.0</td>\n",
       "      <td>tt2386490</td>\n",
       "      <td>NaN</td>\n",
       "      <td>NaN</td>\n",
       "      <td>NaN</td>\n",
       "      <td>NaN</td>\n",
       "      <td>NaN</td>\n",
       "      <td>0.0</td>\n",
       "      <td>0.0</td>\n",
       "    </tr>\n",
       "  </tbody>\n",
       "</table>\n",
       "</div>"
      ],
      "text/plain": [
       "     year                                       title  score  passing  \\\n",
       "0  2019.0                         Alita: Battle Angel    3.0      1.0   \n",
       "1  2019.0                              American Woman    3.0      1.0   \n",
       "2  2019.0                                       Close    3.0      1.0   \n",
       "3  2019.0                                Cold Pursuit    1.0      0.0   \n",
       "4  2019.0  How to Train Your Dragon: The Hidden World    2.0      0.0   \n",
       "\n",
       "     imdb_id  director_fnbt  writer_fnbt  exec_fnbt  producer_fnbt  \\\n",
       "0  tt0437086            0.0          1.0        0.0            0.0   \n",
       "1  tt9109492            NaN          NaN        NaN            NaN   \n",
       "2  tt5316540            1.0          1.0        0.0            0.0   \n",
       "3  tt5719748            0.0          0.0        0.0            0.0   \n",
       "4  tt2386490            NaN          NaN        NaN            NaN   \n",
       "\n",
       "   overall_fnbt  updated_budgets  updated_revenue  \n",
       "0           1.0      170000000.0      359700000.0  \n",
       "1           NaN              0.0              0.0  \n",
       "2           2.0              0.0              0.0  \n",
       "3           0.0              0.0              0.0  \n",
       "4           NaN              0.0              0.0  "
      ]
     },
     "execution_count": 6,
     "metadata": {},
     "output_type": "execute_result"
    }
   ],
   "source": [
    "bechdel_df = pd.read_csv('my_data/updated_bechdel_2.csv')\n",
    "bechdel_df.head()"
   ]
  },
  {
   "cell_type": "code",
   "execution_count": 8,
   "metadata": {},
   "outputs": [
    {
     "name": "stdout",
     "output_type": "stream",
     "text": [
      "{'vote_count': 993, 'id': 166428, 'video': False, 'vote_average': 7.8, 'title': 'How to Train Your Dragon: The Hidden World', 'popularity': 310.039, 'poster_path': '/xvx4Yhf0DVH8G4LzNISpMfFBDy2.jpg', 'original_language': 'en', 'original_title': 'How to Train Your Dragon: The Hidden World', 'genre_ids': [16, 10751, 12], 'backdrop_path': '/h3KN24PrOheHVYs9ypuOIdFBEpX.jpg', 'adult': False, 'overview': 'As Hiccup fulfills his dream of creating a peaceful dragon utopia, Toothless’ discovery of an untamed, elusive mate draws the Night Fury away. When danger mounts at home and Hiccup’s reign as village chief is tested, both dragon and rider must make impossible decisions to save their kind.', 'release_date': '2019-01-03'}\n"
     ]
    }
   ],
   "source": [
    "search = tmdb.Search()\n",
    "response = search.movie(query='How to Train Your Dragon: The Hidden World')\n",
    "for s in search.results:\n",
    "    print(s)"
   ]
  },
  {
   "cell_type": "code",
   "execution_count": 9,
   "metadata": {},
   "outputs": [],
   "source": [
    "response = tmdb.Movies(166428).info()"
   ]
  },
  {
   "cell_type": "code",
   "execution_count": null,
   "metadata": {},
   "outputs": [],
   "source": [
    "response = tmdb.Movies()"
   ]
  },
  {
   "cell_type": "code",
   "execution_count": null,
   "metadata": {},
   "outputs": [],
   "source": [
    "response = tmdb.Movies.Find()"
   ]
  },
  {
   "cell_type": "code",
   "execution_count": null,
   "metadata": {},
   "outputs": [],
   "source": [
    "'/{id}/external_ids'"
   ]
  },
  {
   "cell_type": "code",
   "execution_count": 10,
   "metadata": {},
   "outputs": [
    {
     "data": {
      "text/plain": [
       "{'adult': False,\n",
       " 'backdrop_path': '/h3KN24PrOheHVYs9ypuOIdFBEpX.jpg',\n",
       " 'belongs_to_collection': {'id': 89137,\n",
       "  'name': 'How to Train Your Dragon Collection',\n",
       "  'poster_path': '/4tBKIkPLFMkiZETjAMOHNoty8B1.jpg',\n",
       "  'backdrop_path': '/mvcfPkOvgDJG2lEAxTz0NKqoQLo.jpg'},\n",
       " 'budget': 129000000,\n",
       " 'genres': [{'id': 16, 'name': 'Animation'},\n",
       "  {'id': 10751, 'name': 'Family'},\n",
       "  {'id': 12, 'name': 'Adventure'}],\n",
       " 'homepage': 'https://www.howtotrainyourdragon.com/',\n",
       " 'id': 166428,\n",
       " 'imdb_id': 'tt2386490',\n",
       " 'original_language': 'en',\n",
       " 'original_title': 'How to Train Your Dragon: The Hidden World',\n",
       " 'overview': 'As Hiccup fulfills his dream of creating a peaceful dragon utopia, Toothless’ discovery of an untamed, elusive mate draws the Night Fury away. When danger mounts at home and Hiccup’s reign as village chief is tested, both dragon and rider must make impossible decisions to save their kind.',\n",
       " 'popularity': 310.039,\n",
       " 'poster_path': '/xvx4Yhf0DVH8G4LzNISpMfFBDy2.jpg',\n",
       " 'production_companies': [{'id': 20154,\n",
       "   'logo_path': None,\n",
       "   'name': 'Mad Hatter Entertainment',\n",
       "   'origin_country': 'US'},\n",
       "  {'id': 521,\n",
       "   'logo_path': '/kP7t6RwGz2AvvTkvnI1uteEwHet.png',\n",
       "   'name': 'DreamWorks Animation',\n",
       "   'origin_country': 'US'}],\n",
       " 'production_countries': [{'iso_3166_1': 'US',\n",
       "   'name': 'United States of America'}],\n",
       " 'release_date': '2019-01-03',\n",
       " 'revenue': 375396270,\n",
       " 'runtime': 104,\n",
       " 'spoken_languages': [{'iso_639_1': 'en', 'name': 'English'}],\n",
       " 'status': 'Released',\n",
       " 'tagline': 'The friendship of a lifetime',\n",
       " 'title': 'How to Train Your Dragon: The Hidden World',\n",
       " 'video': False,\n",
       " 'vote_average': 7.8,\n",
       " 'vote_count': 998}"
      ]
     },
     "execution_count": 10,
     "metadata": {},
     "output_type": "execute_result"
    }
   ],
   "source": [
    "response"
   ]
  },
  {
   "cell_type": "code",
   "execution_count": 49,
   "metadata": {},
   "outputs": [
    {
     "data": {
      "text/plain": [
       "{'movie_results': [{'id': 166428,\n",
       "   'video': False,\n",
       "   'vote_count': 993,\n",
       "   'vote_average': 7.8,\n",
       "   'title': 'How to Train Your Dragon: The Hidden World',\n",
       "   'release_date': '2019-01-03',\n",
       "   'original_language': 'en',\n",
       "   'original_title': 'How to Train Your Dragon: The Hidden World',\n",
       "   'genre_ids': [12, 16, 10751],\n",
       "   'backdrop_path': '/h3KN24PrOheHVYs9ypuOIdFBEpX.jpg',\n",
       "   'adult': False,\n",
       "   'overview': 'As Hiccup fulfills his dream of creating a peaceful dragon utopia, Toothless’ discovery of an untamed, elusive mate draws the Night Fury away. When danger mounts at home and Hiccup’s reign as village chief is tested, both dragon and rider must make impossible decisions to save their kind.',\n",
       "   'poster_path': '/xvx4Yhf0DVH8G4LzNISpMfFBDy2.jpg',\n",
       "   'popularity': 310.039}],\n",
       " 'person_results': [],\n",
       " 'tv_results': [],\n",
       " 'tv_episode_results': [],\n",
       " 'tv_season_results': [],\n",
       " 'budget': {'movie_results': [],\n",
       "  'person_results': [],\n",
       "  'tv_results': [],\n",
       "  'tv_episode_results': [],\n",
       "  'tv_season_results': []},\n",
       " 'revenue': {'movie_results': [],\n",
       "  'person_results': [],\n",
       "  'tv_results': [],\n",
       "  'tv_episode_results': [],\n",
       "  'tv_season_results': []}}"
      ]
     },
     "execution_count": 49,
     "metadata": {},
     "output_type": "execute_result"
    }
   ],
   "source": [
    "# find method with imdb_id\n",
    "find = tmdb.Find('tt2386490')\n",
    "response = find.info(external_source='imdb_id',append_to_response='budget,revenue')\n",
    "response"
   ]
  },
  {
   "cell_type": "code",
   "execution_count": 54,
   "metadata": {},
   "outputs": [
    {
     "data": {
      "text/plain": [
       "[]"
      ]
     },
     "execution_count": 54,
     "metadata": {},
     "output_type": "execute_result"
    }
   ],
   "source": [
    "response['budget']['movie_results']"
   ]
  },
  {
   "cell_type": "code",
   "execution_count": 28,
   "metadata": {},
   "outputs": [
    {
     "data": {
      "text/plain": [
       "[{'id': 166428,\n",
       "  'video': False,\n",
       "  'vote_count': 993,\n",
       "  'vote_average': 7.8,\n",
       "  'title': 'How to Train Your Dragon: The Hidden World',\n",
       "  'release_date': '2019-01-03',\n",
       "  'original_language': 'en',\n",
       "  'original_title': 'How to Train Your Dragon: The Hidden World',\n",
       "  'genre_ids': [12, 16, 10751],\n",
       "  'backdrop_path': '/h3KN24PrOheHVYs9ypuOIdFBEpX.jpg',\n",
       "  'adult': False,\n",
       "  'overview': 'As Hiccup fulfills his dream of creating a peaceful dragon utopia, Toothless’ discovery of an untamed, elusive mate draws the Night Fury away. When danger mounts at home and Hiccup’s reign as village chief is tested, both dragon and rider must make impossible decisions to save their kind.',\n",
       "  'poster_path': '/xvx4Yhf0DVH8G4LzNISpMfFBDy2.jpg',\n",
       "  'popularity': 310.039}]"
      ]
     },
     "execution_count": 28,
     "metadata": {},
     "output_type": "execute_result"
    }
   ],
   "source": [
    "response['movie_results']"
   ]
  },
  {
   "cell_type": "code",
   "execution_count": null,
   "metadata": {},
   "outputs": [],
   "source": [
    "reponse = get('http://api.themoviedb.org/3/movie/500?api_key=XXXXXXXX&append_to_response=credits,releases,images'\n",
    "/find/{external_id}"
   ]
  },
  {
   "cell_type": "code",
   "execution_count": 31,
   "metadata": {},
   "outputs": [],
   "source": [
    "response = get('https://api.themoviedb.org/3/find/' + '{tt2386490}?api_key=' +  api_key + '&append_to_response=credits,releases,images')"
   ]
  },
  {
   "cell_type": "code",
   "execution_count": 38,
   "metadata": {},
   "outputs": [],
   "source": [
    "response = get('https://api.themoviedb.org/3/find/' + 'tt0137523' + '?api_key=' + api_key + '&external_source=imdb_id')"
   ]
  },
  {
   "cell_type": "code",
   "execution_count": 39,
   "metadata": {},
   "outputs": [
    {
     "data": {
      "text/plain": [
       "<Response [200]>"
      ]
     },
     "execution_count": 39,
     "metadata": {},
     "output_type": "execute_result"
    }
   ],
   "source": [
    "response"
   ]
  },
  {
   "cell_type": "code",
   "execution_count": 41,
   "metadata": {},
   "outputs": [],
   "source": [
    "# try append to imdb response\n",
    "response = get('https://api.themoviedb.org/3/find/' + 'tt0137523' + '?api_key=' + api_key + '&external_source=imdb_id&append_to_response=budget,revenue')"
   ]
  },
  {
   "cell_type": "code",
   "execution_count": 42,
   "metadata": {},
   "outputs": [
    {
     "data": {
      "text/plain": [
       "<Response [200]>"
      ]
     },
     "execution_count": 42,
     "metadata": {},
     "output_type": "execute_result"
    }
   ],
   "source": [
    "response"
   ]
  },
  {
   "cell_type": "code",
   "execution_count": 47,
   "metadata": {},
   "outputs": [
    {
     "data": {
      "text/plain": [
       "'{\"movie_results\":[{\"adult\":false,\"backdrop_path\":\"/52AfXWuXCHn3UjD17rBruA9f5qb.jpg\",\"genre_ids\":[18],\"id\":550,\"original_language\":\"en\",\"original_title\":\"Fight Club\",\"overview\":\"A ticking-time-bomb insomniac and a slippery soap salesman channel primal male aggression into a shocking new form of therapy. Their concept catches on, with underground \\\\\"fight clubs\\\\\" forming in every town, until an eccentric gets in the way and ignites an out-of-control spiral toward oblivion.\",\"poster_path\":\"/adw6Lq9FiC9zjYEpOqfq03ituwp.jpg\",\"release_date\":\"1999-10-15\",\"title\":\"Fight Club\",\"video\":false,\"vote_average\":8.4,\"vote_count\":15571,\"popularity\":34.427}],\"person_results\":[],\"tv_results\":[],\"tv_episode_results\":[],\"tv_season_results\":[],\"budget\":{\"movie_results\":[],\"person_results\":[],\"tv_results\":[],\"tv_episode_results\":[],\"tv_season_results\":[]},\"revenue\":{\"movie_results\":[],\"person_results\":[],\"tv_results\":[],\"tv_episode_results\":[],\"tv_season_results\":[]}}'"
      ]
     },
     "execution_count": 47,
     "metadata": {},
     "output_type": "execute_result"
    }
   ],
   "source": [
    "response.text"
   ]
  },
  {
   "cell_type": "code",
   "execution_count": 35,
   "metadata": {},
   "outputs": [],
   "source": [
    "response = get('https://api.themoviedb.org/3/discover/movie?api_key=' +  api_key + '&primary_release_year=2017&sort_by=revenue.desc')"
   ]
  },
  {
   "cell_type": "code",
   "execution_count": 36,
   "metadata": {},
   "outputs": [
    {
     "data": {
      "text/plain": [
       "<Response [200]>"
      ]
     },
     "execution_count": 36,
     "metadata": {},
     "output_type": "execute_result"
    }
   ],
   "source": [
    "response"
   ]
  },
  {
   "cell_type": "code",
   "execution_count": 37,
   "metadata": {},
   "outputs": [
    {
     "data": {
      "text/plain": [
       "b'{\"page\":1,\"total_results\":16089,\"total_pages\":805,\"results\":[{\"vote_count\":8070,\"id\":181808,\"video\":false,\"vote_average\":7,\"title\":\"Star Wars: The Last Jedi\",\"popularity\":30.541,\"poster_path\":\"\\\\/kOVEVeg59E0wsnXmF9nrh6OmWII.jpg\",\"original_language\":\"en\",\"original_title\":\"Star Wars: The Last Jedi\",\"genre_ids\":[14,12,878,28],\"backdrop_path\":\"\\\\/baNQpUlmX8shVmJBGHMSL5Y6MBl.jpg\",\"adult\":false,\"overview\":\"Rey develops her newly discovered abilities with the guidance of Luke Skywalker, who is unsettled by the strength of her powers. Meanwhile, the Resistance prepares to do battle with the First Order.\",\"release_date\":\"2017-12-13\"},{\"vote_count\":6055,\"id\":337339,\"video\":false,\"vote_average\":6.9,\"title\":\"The Fate of the Furious\",\"popularity\":33.822,\"poster_path\":\"\\\\/dImWM7GJqryWJO9LHa3XQ8DD5NH.jpg\",\"original_language\":\"en\",\"original_title\":\"The Fate of the Furious\",\"genre_ids\":[12,28,80,53,9648],\"backdrop_path\":\"\\\\/jzdnhRhG0dsuYorwvSqPqqnM1cV.jpg\",\"adult\":false,\"overview\":\"When a mysterious woman seduces Dom into the world of crime and a betrayal of those closest to him, the crew face trials that will test them as never before.\",\"release_date\":\"2017-04-12\"},{\"vote_count\":3914,\"id\":324852,\"video\":false,\"vote_average\":6.3,\"title\":\"Despicable Me 3\",\"popularity\":13.108,\"poster_path\":\"\\\\/6t3YWl7hrr88lCEFlGVqW5yV99R.jpg\",\"original_language\":\"en\",\"original_title\":\"Despicable Me 3\",\"genre_ids\":[28,16,35,10751,12],\"backdrop_path\":\"\\\\/ftRkFtAGuHngHnLiOxktq0aCVMF.jpg\",\"adult\":false,\"overview\":\"Gru and his wife Lucy must stop former \\'80s child star Balthazar Bratt from achieving world domination.\",\"release_date\":\"2017-06-15\"},{\"vote_count\":6815,\"id\":353486,\"video\":false,\"vote_average\":6.7,\"title\":\"Jumanji: Welcome to the Jungle\",\"popularity\":15.949,\"poster_path\":\"\\\\/bXrZ5iHBEjH7WMidbUDQ0U2xbmr.jpg\",\"original_language\":\"en\",\"original_title\":\"Jumanji: Welcome to the Jungle\",\"genre_ids\":[28,12,35,14],\"backdrop_path\":\"\\\\/rz3TAyd5kmiJmozp3GUbYeB5Kep.jpg\",\"adult\":false,\"overview\":\"The tables are turned as four teenagers are sucked into Jumanji\\'s world - pitted against rhinos, black mambas and an endless variety of jungle traps and puzzles. To survive, they\\'ll play as characters from the game.\",\"release_date\":\"2017-12-09\"},{\"vote_count\":10643,\"id\":315635,\"video\":false,\"vote_average\":7.4,\"title\":\"Spider-Man: Homecoming\",\"popularity\":38.222,\"poster_path\":\"\\\\/5x00yQZ3Mcz7duwMKc9GE8oZjFf.jpg\",\"original_language\":\"en\",\"original_title\":\"Spider-Man: Homecoming\",\"genre_ids\":[28,12,878,18],\"backdrop_path\":\"\\\\/vc8bCGjdVp0UbMNLzHnHSLRbBWQ.jpg\",\"adult\":false,\"overview\":\"Following the events of Captain America: Civil War, Peter Parker, with the help of his mentor Tony Stark, tries to balance his life as an ordinary high school student in Queens, New York City, with fighting crime as his superhero alter ego Spider-Man as a new threat, the Vulture, emerges.\",\"release_date\":\"2017-07-05\"},{\"vote_count\":56,\"id\":452557,\"video\":false,\"vote_average\":6.8,\"title\":\"Wolf Warrior 2\",\"popularity\":6.396,\"poster_path\":\"\\\\/87aWrVqaVhXhblhO7sYHLC2y8TT.jpg\",\"original_language\":\"zh\",\"original_title\":\"\\xe6\\x88\\x98\\xe7\\x8b\\xbc2\",\"genre_ids\":[10752,28,18],\"backdrop_path\":\"\\\\/dpbjivY5OdZjAr1gmRZVCsEkYRC.jpg\",\"adult\":false,\"overview\":\"China\\'s deadliest special forces operative settles into a quiet life on the sea. When sadistic mercenaries begin targeting nearby civilians, he must leave his newfound peace behind and return to his duties as a soldier and protector.\",\"release_date\":\"2017-07-27\"},{\"vote_count\":11548,\"id\":283995,\"video\":false,\"vote_average\":7.7,\"title\":\"Guardians of the Galaxy Vol. 2\",\"popularity\":38.391,\"poster_path\":\"\\\\/y4MBh0EjBlMuOzv9axM4qJlmhzz.jpg\",\"original_language\":\"en\",\"original_title\":\"Guardians of the Galaxy Vol. 2\",\"genre_ids\":[28,12,35,878],\"backdrop_path\":\"\\\\/aJn9XeesqsrSLKcHfHP4u5985hn.jpg\",\"adult\":false,\"overview\":\"The Guardians must fight to keep their newfound family together as they unravel the mysteries of Peter Quill\\'s true parentage.\",\"release_date\":\"2017-04-19\"},{\"vote_count\":10384,\"id\":284053,\"video\":false,\"vote_average\":7.5,\"title\":\"Thor: Ragnarok\",\"popularity\":40.986,\"poster_path\":\"\\\\/rzRwTcFvttcN1ZpX2xv4j3tSdJu.jpg\",\"original_language\":\"en\",\"original_title\":\"Thor: Ragnarok\",\"genre_ids\":[28,12,35,14,878],\"backdrop_path\":\"\\\\/kaIfm5ryEOwYg8mLbq8HkPuM1Fo.jpg\",\"adult\":false,\"overview\":\"Thor is on the other side of the universe and finds himself in a race against time to get back to Asgard to stop Ragnarok, the prophecy of destruction to his homeworld and the end of Asgardian civilization, at the hands of an all-powerful new threat, the ruthless Hela.\",\"release_date\":\"2017-10-25\"},{\"vote_count\":11914,\"id\":297762,\"video\":false,\"vote_average\":7.3,\"title\":\"Wonder Woman\",\"popularity\":36.85,\"poster_path\":\"\\\\/imekS7f1OuHyUP2LAiTEM0zBzUz.jpg\",\"original_language\":\"en\",\"original_title\":\"Wonder Woman\",\"genre_ids\":[12,14,10752],\"backdrop_path\":\"\\\\/6iUNJZymJBMXXriQyFZfLAKnjO6.jpg\",\"adult\":false,\"overview\":\"An Amazon princess comes to the world of Man in the grips of the First World War to confront the forces of evil and bring an end to human conflict.\",\"release_date\":\"2017-05-30\"},{\"vote_count\":8088,\"id\":354912,\"video\":false,\"vote_average\":8.1,\"title\":\"Coco\",\"popularity\":25.094,\"poster_path\":\"\\\\/eKi8dIrr8voobbaGzDpe8w0PVbC.jpg\",\"original_language\":\"en\",\"original_title\":\"Coco\",\"genre_ids\":[16,10751,35,12,14],\"backdrop_path\":\"\\\\/askg3SMvhqEl4OL52YuvdtY40Yb.jpg\",\"adult\":false,\"overview\":\"Despite his family\\xe2\\x80\\x99s baffling generations-old ban on music, Miguel dreams of becoming an accomplished musician like his idol, Ernesto de la Cruz. Desperate to prove his talent, Miguel finds himself in the stunning and colorful Land of the Dead following a mysterious chain of events. Along the way, he meets charming trickster Hector, and together, they set off on an extraordinary journey to unlock the real story behind Miguel\\'s family history.\",\"release_date\":\"2017-10-27\"},{\"vote_count\":6580,\"id\":166426,\"video\":false,\"vote_average\":6.5,\"title\":\"Pirates of the Caribbean: Dead Men Tell No Tales\",\"popularity\":20.985,\"poster_path\":\"\\\\/xbpSDU3p7YUGlu9Mr6Egg2Vweto.jpg\",\"original_language\":\"en\",\"original_title\":\"Pirates of the Caribbean: Dead Men Tell No Tales\",\"genre_ids\":[12,28,14,35],\"backdrop_path\":\"\\\\/7C921eWK06n12c1miRXnYoEu5Yv.jpg\",\"adult\":false,\"overview\":\"Thrust into an all-new adventure, a down-on-his-luck Capt. Jack Sparrow feels the winds of ill-fortune blowing even more strongly when deadly ghost sailors led by his old nemesis, the evil Capt. Salazar, escape from the Devil\\'s Triangle. Jack\\'s only hope of survival lies in seeking out the legendary Trident of Poseidon, but to find it, he must forge an uneasy alliance with a brilliant and beautiful astronomer and a headstrong young man in the British navy.\",\"release_date\":\"2017-05-23\"},{\"vote_count\":10374,\"id\":346364,\"video\":false,\"vote_average\":7.2,\"title\":\"It\",\"popularity\":14.025,\"poster_path\":\"\\\\/9E2y5Q7WlCVNEhP5GiVTjhEhx1o.jpg\",\"original_language\":\"en\",\"original_title\":\"It\",\"genre_ids\":[27,53],\"backdrop_path\":\"\\\\/tcheoA2nPATCm2vvXw2hVQoaEFD.jpg\",\"adult\":false,\"overview\":\"In a small town in Maine, seven children known as The Losers Club come face to face with life problems, bullies and a monster that takes the shape of a clown called Pennywise.\",\"release_date\":\"2017-09-06\"},{\"vote_count\":7045,\"id\":141052,\"video\":false,\"vote_average\":6.2,\"title\":\"Justice League\",\"popularity\":30.577,\"poster_path\":\"\\\\/eifGNCSDuxJeS1loAXil5bIGgvC.jpg\",\"original_language\":\"en\",\"original_title\":\"Justice League\",\"genre_ids\":[28,12,14,878],\"backdrop_path\":\"\\\\/o5T8rZxoWSBMYwjsUFUqTt6uMQB.jpg\",\"adult\":false,\"overview\":\"Fuelled by his restored faith in humanity and inspired by Superman\\'s selfless act, Bruce Wayne and Diana Prince assemble a team of metahumans consisting of Barry Allen, Arthur Curry and Victor Stone to face the catastrophic threat of Steppenwolf and the Parademons who are on the hunt for three Mother Boxes on Earth.\",\"release_date\":\"2017-11-15\"},{\"vote_count\":11752,\"id\":263115,\"video\":false,\"vote_average\":7.8,\"title\":\"Logan\",\"popularity\":26.908,\"poster_path\":\"\\\\/gGBu0hKw9BGddG8RkRAMX7B6NDB.jpg\",\"original_language\":\"en\",\"original_title\":\"Logan\",\"genre_ids\":[28,18,878],\"backdrop_path\":\"\\\\/5pAGnkFYSsFJ99ZxDIYnhQbQFXs.jpg\",\"adult\":false,\"overview\":\"In the near future, a weary Logan cares for an ailing Professor X in a hideout on the Mexican border. But Logan\\'s attempts to hide from the world and his legacy are upended when a young mutant arrives, pursued by dark forces.\",\"release_date\":\"2017-02-28\"},{\"vote_count\":3101,\"id\":335988,\"video\":false,\"vote_average\":6,\"title\":\"Transformers: The Last Knight\",\"popularity\":18.229,\"poster_path\":\"\\\\/s5HQf2Gb3lIO2cRcFwNL9sn1o1o.jpg\",\"original_language\":\"en\",\"original_title\":\"Transformers: The Last Knight\",\"genre_ids\":[28,878,53,12],\"backdrop_path\":\"\\\\/1n00NlOGRFZVs8coBxyZLm5l4EC.jpg\",\"adult\":false,\"overview\":\"Autobots and Decepticons are at war, with humans on the sidelines. Optimus Prime is gone. The key to saving our future lies buried in the secrets of the past, in the hidden history of Transformers on Earth.\",\"release_date\":\"2017-06-16\"},{\"vote_count\":5760,\"id\":293167,\"video\":false,\"vote_average\":6.3,\"title\":\"Kong: Skull Island\",\"popularity\":21.43,\"poster_path\":\"\\\\/r2517Vz9EhDhj88qwbDVj8DCRZN.jpg\",\"original_language\":\"en\",\"original_title\":\"Kong: Skull Island\",\"genre_ids\":[28,12,14],\"backdrop_path\":\"\\\\/pGwChWiAY1bdoxL79sXmaFBlYJH.jpg\",\"adult\":false,\"overview\":\"Explore the mysterious and dangerous home of the king of the apes as a team of explorers ventures deep inside the treacherous, primordial island.\",\"release_date\":\"2017-03-08\"},{\"vote_count\":8692,\"id\":374720,\"video\":false,\"vote_average\":7.4,\"title\":\"Dunkirk\",\"popularity\":21.749,\"poster_path\":\"\\\\/bOXBV303Fgkzn2K4FeKDc0O31q4.jpg\",\"original_language\":\"en\",\"original_title\":\"Dunkirk\",\"genre_ids\":[10752],\"backdrop_path\":\"\\\\/2bG3HXcUze0GyGAKnJSDF6gllzk.jpg\",\"adult\":false,\"overview\":\"The story of the miraculous evacuation of Allied soldiers from Belgium, Britain, Canada and France, who were cut off and surrounded by the German army from the beaches and harbour of Dunkirk between May 26th and June 4th 1940 during World War II.\",\"release_date\":\"2017-07-19\"},{\"vote_count\":4152,\"id\":295693,\"video\":false,\"vote_average\":6.4,\"title\":\"The Boss Baby\",\"popularity\":5.673,\"poster_path\":\"\\\\/unPB1iyEeTBcKiLg8W083rlViFH.jpg\",\"original_language\":\"en\",\"original_title\":\"The Boss Baby\",\"genre_ids\":[16,35,10751],\"backdrop_path\":\"\\\\/8keMlLuzB9XIUBnbdEq5DCqZdHQ.jpg\",\"adult\":false,\"overview\":\"A story about how a new baby\\'s arrival impacts a family, told from the point of view of a delightfully unreliable narrator, a wildly imaginative 7 year old named Tim.\",\"release_date\":\"2017-03-23\"},{\"vote_count\":5027,\"id\":281338,\"video\":false,\"vote_average\":7,\"title\":\"War for the Planet of the Apes\",\"popularity\":23.145,\"poster_path\":\"\\\\/ijQHiImv16vNSeZQsmih04kwn0C.jpg\",\"original_language\":\"en\",\"original_title\":\"War for the Planet of the Apes\",\"genre_ids\":[18,878,10752],\"backdrop_path\":\"\\\\/ulMscezy9YX0bhknvJbZoUgQxO5.jpg\",\"adult\":false,\"overview\":\"Caesar and his apes are forced into a deadly conflict with an army of humans led by a ruthless Colonel. After the apes suffer unimaginable losses, Caesar wrestles with his darker instincts and begins his own mythic quest to avenge his kind. As the journey finally brings them face to face, Caesar and the Colonel are pitted against each other in an epic battle that will determine the fate of both their species and the future of the planet.\",\"release_date\":\"2017-07-11\"},{\"vote_count\":32,\"id\":449927,\"video\":false,\"vote_average\":7,\"title\":\"Chasing the Dragon\",\"popularity\":3.178,\"poster_path\":\"\\\\/Lc0XGNZmsFe3uA1UMqhlBiJSY4.jpg\",\"original_language\":\"cn\",\"original_title\":\"\\xe8\\xbf\\xbd\\xe9\\xbe\\x8d\",\"genre_ids\":[28,80,36],\"backdrop_path\":\"\\\\/mr7gZ8R7pQsEwaEJamMYWWgxqEg.jpg\",\"adult\":false,\"overview\":\"An illegal immigrant from Mainland China sneaks into the corrupt British-colonized Hong Kong in 1963, transforming himself into a ruthless drug lord.\",\"release_date\":\"2017-09-28\"}]}'"
      ]
     },
     "execution_count": 37,
     "metadata": {},
     "output_type": "execute_result"
    }
   ],
   "source": [
    "response.content"
   ]
  },
  {
   "cell_type": "code",
   "execution_count": null,
   "metadata": {},
   "outputs": [],
   "source": []
  }
 ],
 "metadata": {
  "kernelspec": {
   "display_name": "Python [default]",
   "language": "python",
   "name": "python3"
  },
  "language_info": {
   "codemirror_mode": {
    "name": "ipython",
    "version": 3
   },
   "file_extension": ".py",
   "mimetype": "text/x-python",
   "name": "python",
   "nbconvert_exporter": "python",
   "pygments_lexer": "ipython3",
   "version": "3.6.6"
  },
  "toc": {
   "base_numbering": 1,
   "nav_menu": {},
   "number_sections": false,
   "sideBar": true,
   "skip_h1_title": false,
   "title_cell": "Table of Contents",
   "title_sidebar": "Contents",
   "toc_cell": false,
   "toc_position": {},
   "toc_section_display": true,
   "toc_window_display": false
  }
 },
 "nbformat": 4,
 "nbformat_minor": 2
}
