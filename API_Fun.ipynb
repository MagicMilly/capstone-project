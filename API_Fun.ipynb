{
 "cells": [
  {
   "cell_type": "code",
   "execution_count": 29,
   "metadata": {},
   "outputs": [],
   "source": [
    "import json\n",
    "import pandas as pd\n",
    "import numpy as np\n",
    "import tmdbsimple as tmdb\n",
    "\n",
    "from requests import get\n",
    "\n",
    "from get_path import path"
   ]
  },
  {
   "cell_type": "code",
   "execution_count": 3,
   "metadata": {},
   "outputs": [],
   "source": [
    "with open(path) as f:\n",
    "    data = json.load(f)"
   ]
  },
  {
   "cell_type": "code",
   "execution_count": 5,
   "metadata": {},
   "outputs": [],
   "source": [
    "tmdb.API_KEY = data['key']"
   ]
  },
  {
   "cell_type": "code",
   "execution_count": 30,
   "metadata": {},
   "outputs": [],
   "source": [
    "api_key = data['key']"
   ]
  },
  {
   "cell_type": "code",
   "execution_count": 6,
   "metadata": {},
   "outputs": [
    {
     "data": {
      "text/html": [
       "<div>\n",
       "<style scoped>\n",
       "    .dataframe tbody tr th:only-of-type {\n",
       "        vertical-align: middle;\n",
       "    }\n",
       "\n",
       "    .dataframe tbody tr th {\n",
       "        vertical-align: top;\n",
       "    }\n",
       "\n",
       "    .dataframe thead th {\n",
       "        text-align: right;\n",
       "    }\n",
       "</style>\n",
       "<table border=\"1\" class=\"dataframe\">\n",
       "  <thead>\n",
       "    <tr style=\"text-align: right;\">\n",
       "      <th></th>\n",
       "      <th>year</th>\n",
       "      <th>title</th>\n",
       "      <th>score</th>\n",
       "      <th>passing</th>\n",
       "      <th>imdb_id</th>\n",
       "      <th>director_fnbt</th>\n",
       "      <th>writer_fnbt</th>\n",
       "      <th>exec_fnbt</th>\n",
       "      <th>producer_fnbt</th>\n",
       "      <th>overall_fnbt</th>\n",
       "      <th>updated_budgets</th>\n",
       "      <th>updated_revenue</th>\n",
       "    </tr>\n",
       "  </thead>\n",
       "  <tbody>\n",
       "    <tr>\n",
       "      <th>0</th>\n",
       "      <td>2019.0</td>\n",
       "      <td>Alita: Battle Angel</td>\n",
       "      <td>3.0</td>\n",
       "      <td>1.0</td>\n",
       "      <td>tt0437086</td>\n",
       "      <td>0.0</td>\n",
       "      <td>1.0</td>\n",
       "      <td>0.0</td>\n",
       "      <td>0.0</td>\n",
       "      <td>1.0</td>\n",
       "      <td>170000000.0</td>\n",
       "      <td>359700000.0</td>\n",
       "    </tr>\n",
       "    <tr>\n",
       "      <th>1</th>\n",
       "      <td>2019.0</td>\n",
       "      <td>American Woman</td>\n",
       "      <td>3.0</td>\n",
       "      <td>1.0</td>\n",
       "      <td>tt9109492</td>\n",
       "      <td>NaN</td>\n",
       "      <td>NaN</td>\n",
       "      <td>NaN</td>\n",
       "      <td>NaN</td>\n",
       "      <td>NaN</td>\n",
       "      <td>0.0</td>\n",
       "      <td>0.0</td>\n",
       "    </tr>\n",
       "    <tr>\n",
       "      <th>2</th>\n",
       "      <td>2019.0</td>\n",
       "      <td>Close</td>\n",
       "      <td>3.0</td>\n",
       "      <td>1.0</td>\n",
       "      <td>tt5316540</td>\n",
       "      <td>1.0</td>\n",
       "      <td>1.0</td>\n",
       "      <td>0.0</td>\n",
       "      <td>0.0</td>\n",
       "      <td>2.0</td>\n",
       "      <td>0.0</td>\n",
       "      <td>0.0</td>\n",
       "    </tr>\n",
       "    <tr>\n",
       "      <th>3</th>\n",
       "      <td>2019.0</td>\n",
       "      <td>Cold Pursuit</td>\n",
       "      <td>1.0</td>\n",
       "      <td>0.0</td>\n",
       "      <td>tt5719748</td>\n",
       "      <td>0.0</td>\n",
       "      <td>0.0</td>\n",
       "      <td>0.0</td>\n",
       "      <td>0.0</td>\n",
       "      <td>0.0</td>\n",
       "      <td>0.0</td>\n",
       "      <td>0.0</td>\n",
       "    </tr>\n",
       "    <tr>\n",
       "      <th>4</th>\n",
       "      <td>2019.0</td>\n",
       "      <td>How to Train Your Dragon: The Hidden World</td>\n",
       "      <td>2.0</td>\n",
       "      <td>0.0</td>\n",
       "      <td>tt2386490</td>\n",
       "      <td>NaN</td>\n",
       "      <td>NaN</td>\n",
       "      <td>NaN</td>\n",
       "      <td>NaN</td>\n",
       "      <td>NaN</td>\n",
       "      <td>0.0</td>\n",
       "      <td>0.0</td>\n",
       "    </tr>\n",
       "  </tbody>\n",
       "</table>\n",
       "</div>"
      ],
      "text/plain": [
       "     year                                       title  score  passing  \\\n",
       "0  2019.0                         Alita: Battle Angel    3.0      1.0   \n",
       "1  2019.0                              American Woman    3.0      1.0   \n",
       "2  2019.0                                       Close    3.0      1.0   \n",
       "3  2019.0                                Cold Pursuit    1.0      0.0   \n",
       "4  2019.0  How to Train Your Dragon: The Hidden World    2.0      0.0   \n",
       "\n",
       "     imdb_id  director_fnbt  writer_fnbt  exec_fnbt  producer_fnbt  \\\n",
       "0  tt0437086            0.0          1.0        0.0            0.0   \n",
       "1  tt9109492            NaN          NaN        NaN            NaN   \n",
       "2  tt5316540            1.0          1.0        0.0            0.0   \n",
       "3  tt5719748            0.0          0.0        0.0            0.0   \n",
       "4  tt2386490            NaN          NaN        NaN            NaN   \n",
       "\n",
       "   overall_fnbt  updated_budgets  updated_revenue  \n",
       "0           1.0      170000000.0      359700000.0  \n",
       "1           NaN              0.0              0.0  \n",
       "2           2.0              0.0              0.0  \n",
       "3           0.0              0.0              0.0  \n",
       "4           NaN              0.0              0.0  "
      ]
     },
     "execution_count": 6,
     "metadata": {},
     "output_type": "execute_result"
    }
   ],
   "source": [
    "bechdel_df = pd.read_csv('my_data/updated_bechdel_2.csv')\n",
    "bechdel_df.head()"
   ]
  },
  {
   "cell_type": "code",
   "execution_count": 8,
   "metadata": {},
   "outputs": [
    {
     "name": "stdout",
     "output_type": "stream",
     "text": [
      "{'vote_count': 993, 'id': 166428, 'video': False, 'vote_average': 7.8, 'title': 'How to Train Your Dragon: The Hidden World', 'popularity': 310.039, 'poster_path': '/xvx4Yhf0DVH8G4LzNISpMfFBDy2.jpg', 'original_language': 'en', 'original_title': 'How to Train Your Dragon: The Hidden World', 'genre_ids': [16, 10751, 12], 'backdrop_path': '/h3KN24PrOheHVYs9ypuOIdFBEpX.jpg', 'adult': False, 'overview': 'As Hiccup fulfills his dream of creating a peaceful dragon utopia, Toothless’ discovery of an untamed, elusive mate draws the Night Fury away. When danger mounts at home and Hiccup’s reign as village chief is tested, both dragon and rider must make impossible decisions to save their kind.', 'release_date': '2019-01-03'}\n"
     ]
    }
   ],
   "source": [
    "search = tmdb.Search()\n",
    "response = search.movie(query='How to Train Your Dragon: The Hidden World')\n",
    "for s in search.results:\n",
    "    print(s)"
   ]
  },
  {
   "cell_type": "code",
   "execution_count": 9,
   "metadata": {},
   "outputs": [],
   "source": [
    "response = tmdb.Movies(166428).info()"
   ]
  },
  {
   "cell_type": "code",
   "execution_count": null,
   "metadata": {},
   "outputs": [],
   "source": [
    "response = tmdb.Movies()"
   ]
  },
  {
   "cell_type": "code",
   "execution_count": null,
   "metadata": {},
   "outputs": [],
   "source": [
    "response = tmdb.Movies.Find()"
   ]
  },
  {
   "cell_type": "code",
   "execution_count": null,
   "metadata": {},
   "outputs": [],
   "source": [
    "'/{id}/external_ids'"
   ]
  },
  {
   "cell_type": "code",
   "execution_count": 10,
   "metadata": {},
   "outputs": [
    {
     "data": {
      "text/plain": [
       "{'adult': False,\n",
       " 'backdrop_path': '/h3KN24PrOheHVYs9ypuOIdFBEpX.jpg',\n",
       " 'belongs_to_collection': {'id': 89137,\n",
       "  'name': 'How to Train Your Dragon Collection',\n",
       "  'poster_path': '/4tBKIkPLFMkiZETjAMOHNoty8B1.jpg',\n",
       "  'backdrop_path': '/mvcfPkOvgDJG2lEAxTz0NKqoQLo.jpg'},\n",
       " 'budget': 129000000,\n",
       " 'genres': [{'id': 16, 'name': 'Animation'},\n",
       "  {'id': 10751, 'name': 'Family'},\n",
       "  {'id': 12, 'name': 'Adventure'}],\n",
       " 'homepage': 'https://www.howtotrainyourdragon.com/',\n",
       " 'id': 166428,\n",
       " 'imdb_id': 'tt2386490',\n",
       " 'original_language': 'en',\n",
       " 'original_title': 'How to Train Your Dragon: The Hidden World',\n",
       " 'overview': 'As Hiccup fulfills his dream of creating a peaceful dragon utopia, Toothless’ discovery of an untamed, elusive mate draws the Night Fury away. When danger mounts at home and Hiccup’s reign as village chief is tested, both dragon and rider must make impossible decisions to save their kind.',\n",
       " 'popularity': 310.039,\n",
       " 'poster_path': '/xvx4Yhf0DVH8G4LzNISpMfFBDy2.jpg',\n",
       " 'production_companies': [{'id': 20154,\n",
       "   'logo_path': None,\n",
       "   'name': 'Mad Hatter Entertainment',\n",
       "   'origin_country': 'US'},\n",
       "  {'id': 521,\n",
       "   'logo_path': '/kP7t6RwGz2AvvTkvnI1uteEwHet.png',\n",
       "   'name': 'DreamWorks Animation',\n",
       "   'origin_country': 'US'}],\n",
       " 'production_countries': [{'iso_3166_1': 'US',\n",
       "   'name': 'United States of America'}],\n",
       " 'release_date': '2019-01-03',\n",
       " 'revenue': 375396270,\n",
       " 'runtime': 104,\n",
       " 'spoken_languages': [{'iso_639_1': 'en', 'name': 'English'}],\n",
       " 'status': 'Released',\n",
       " 'tagline': 'The friendship of a lifetime',\n",
       " 'title': 'How to Train Your Dragon: The Hidden World',\n",
       " 'video': False,\n",
       " 'vote_average': 7.8,\n",
       " 'vote_count': 998}"
      ]
     },
     "execution_count": 10,
     "metadata": {},
     "output_type": "execute_result"
    }
   ],
   "source": [
    "response"
   ]
  },
  {
   "cell_type": "code",
   "execution_count": 49,
   "metadata": {},
   "outputs": [
    {
     "data": {
      "text/plain": [
       "{'movie_results': [{'id': 166428,\n",
       "   'video': False,\n",
       "   'vote_count': 993,\n",
       "   'vote_average': 7.8,\n",
       "   'title': 'How to Train Your Dragon: The Hidden World',\n",
       "   'release_date': '2019-01-03',\n",
       "   'original_language': 'en',\n",
       "   'original_title': 'How to Train Your Dragon: The Hidden World',\n",
       "   'genre_ids': [12, 16, 10751],\n",
       "   'backdrop_path': '/h3KN24PrOheHVYs9ypuOIdFBEpX.jpg',\n",
       "   'adult': False,\n",
       "   'overview': 'As Hiccup fulfills his dream of creating a peaceful dragon utopia, Toothless’ discovery of an untamed, elusive mate draws the Night Fury away. When danger mounts at home and Hiccup’s reign as village chief is tested, both dragon and rider must make impossible decisions to save their kind.',\n",
       "   'poster_path': '/xvx4Yhf0DVH8G4LzNISpMfFBDy2.jpg',\n",
       "   'popularity': 310.039}],\n",
       " 'person_results': [],\n",
       " 'tv_results': [],\n",
       " 'tv_episode_results': [],\n",
       " 'tv_season_results': [],\n",
       " 'budget': {'movie_results': [],\n",
       "  'person_results': [],\n",
       "  'tv_results': [],\n",
       "  'tv_episode_results': [],\n",
       "  'tv_season_results': []},\n",
       " 'revenue': {'movie_results': [],\n",
       "  'person_results': [],\n",
       "  'tv_results': [],\n",
       "  'tv_episode_results': [],\n",
       "  'tv_season_results': []}}"
      ]
     },
     "execution_count": 49,
     "metadata": {},
     "output_type": "execute_result"
    }
   ],
   "source": [
    "# find method with imdb_id\n",
    "find = tmdb.Find('tt2386490')\n",
    "response = find.info(external_source='imdb_id',append_to_response='budget,revenue')\n",
    "response"
   ]
  },
  {
   "cell_type": "code",
   "execution_count": 54,
   "metadata": {},
   "outputs": [
    {
     "data": {
      "text/plain": [
       "[]"
      ]
     },
     "execution_count": 54,
     "metadata": {},
     "output_type": "execute_result"
    }
   ],
   "source": [
    "response['budget']['movie_results']"
   ]
  },
  {
   "cell_type": "code",
   "execution_count": 28,
   "metadata": {},
   "outputs": [
    {
     "data": {
      "text/plain": [
       "[{'id': 166428,\n",
       "  'video': False,\n",
       "  'vote_count': 993,\n",
       "  'vote_average': 7.8,\n",
       "  'title': 'How to Train Your Dragon: The Hidden World',\n",
       "  'release_date': '2019-01-03',\n",
       "  'original_language': 'en',\n",
       "  'original_title': 'How to Train Your Dragon: The Hidden World',\n",
       "  'genre_ids': [12, 16, 10751],\n",
       "  'backdrop_path': '/h3KN24PrOheHVYs9ypuOIdFBEpX.jpg',\n",
       "  'adult': False,\n",
       "  'overview': 'As Hiccup fulfills his dream of creating a peaceful dragon utopia, Toothless’ discovery of an untamed, elusive mate draws the Night Fury away. When danger mounts at home and Hiccup’s reign as village chief is tested, both dragon and rider must make impossible decisions to save their kind.',\n",
       "  'poster_path': '/xvx4Yhf0DVH8G4LzNISpMfFBDy2.jpg',\n",
       "  'popularity': 310.039}]"
      ]
     },
     "execution_count": 28,
     "metadata": {},
     "output_type": "execute_result"
    }
   ],
   "source": [
    "response['movie_results']"
   ]
  },
  {
   "cell_type": "code",
   "execution_count": null,
   "metadata": {},
   "outputs": [],
   "source": [
    "reponse = get('http://api.themoviedb.org/3/movie/500?api_key=XXXXXXXX&append_to_response=credits,releases,images'\n",
    "/find/{external_id}"
   ]
  },
  {
   "cell_type": "code",
   "execution_count": 31,
   "metadata": {},
   "outputs": [],
   "source": [
    "response = get('https://api.themoviedb.org/3/find/' + '{tt2386490}?api_key=' +  api_key + '&append_to_response=credits,releases,images')"
   ]
  },
  {
   "cell_type": "code",
   "execution_count": 38,
   "metadata": {},
   "outputs": [],
   "source": [
    "response = get('https://api.themoviedb.org/3/find/' + 'tt0137523' + '?api_key=' + api_key + '&external_source=imdb_id')"
   ]
  },
  {
   "cell_type": "code",
   "execution_count": 39,
   "metadata": {},
   "outputs": [
    {
     "data": {
      "text/plain": [
       "<Response [200]>"
      ]
     },
     "execution_count": 39,
     "metadata": {},
     "output_type": "execute_result"
    }
   ],
   "source": [
    "response"
   ]
  },
  {
   "cell_type": "code",
   "execution_count": 41,
   "metadata": {},
   "outputs": [],
   "source": [
    "# try append to imdb response\n",
    "response = get('https://api.themoviedb.org/3/find/' + 'tt0137523' + '?api_key=' + api_key + '&external_source=imdb_id&append_to_response=budget,revenue')"
   ]
  },
  {
   "cell_type": "code",
   "execution_count": 42,
   "metadata": {},
   "outputs": [
    {
     "data": {
      "text/plain": [
       "<Response [200]>"
      ]
     },
     "execution_count": 42,
     "metadata": {},
     "output_type": "execute_result"
    }
   ],
   "source": [
    "response"
   ]
  },
  {
   "cell_type": "code",
   "execution_count": 47,
   "metadata": {},
   "outputs": [
    {
     "data": {
      "text/plain": [
       "'{\"movie_results\":[{\"adult\":false,\"backdrop_path\":\"/52AfXWuXCHn3UjD17rBruA9f5qb.jpg\",\"genre_ids\":[18],\"id\":550,\"original_language\":\"en\",\"original_title\":\"Fight Club\",\"overview\":\"A ticking-time-bomb insomniac and a slippery soap salesman channel primal male aggression into a shocking new form of therapy. Their concept catches on, with underground \\\\\"fight clubs\\\\\" forming in every town, until an eccentric gets in the way and ignites an out-of-control spiral toward oblivion.\",\"poster_path\":\"/adw6Lq9FiC9zjYEpOqfq03ituwp.jpg\",\"release_date\":\"1999-10-15\",\"title\":\"Fight Club\",\"video\":false,\"vote_average\":8.4,\"vote_count\":15571,\"popularity\":34.427}],\"person_results\":[],\"tv_results\":[],\"tv_episode_results\":[],\"tv_season_results\":[],\"budget\":{\"movie_results\":[],\"person_results\":[],\"tv_results\":[],\"tv_episode_results\":[],\"tv_season_results\":[]},\"revenue\":{\"movie_results\":[],\"person_results\":[],\"tv_results\":[],\"tv_episode_results\":[],\"tv_season_results\":[]}}'"
      ]
     },
     "execution_count": 47,
     "metadata": {},
     "output_type": "execute_result"
    }
   ],
   "source": [
    "response.text"
   ]
  },
  {
   "cell_type": "code",
   "execution_count": 35,
   "metadata": {},
   "outputs": [],
   "source": [
    "response = get('https://api.themoviedb.org/3/discover/movie?api_key=' +  api_key + '&primary_release_year=2017&sort_by=revenue.desc')"
   ]
  },
  {
   "cell_type": "code",
   "execution_count": 56,
   "metadata": {},
   "outputs": [],
   "source": [
    "test_find_response = get('https://api.themoviedb.org/3/find/' + 'tt2255372' + '?api_key=' + api_key + '&external_source=imdb_id')"
   ]
  },
  {
   "cell_type": "code",
   "execution_count": 60,
   "metadata": {},
   "outputs": [
    {
     "data": {
      "text/plain": [
       "b'{\"movie_results\":[],\"person_results\":[],\"tv_results\":[],\"tv_episode_results\":[],\"tv_season_results\":[]}'"
      ]
     },
     "execution_count": 60,
     "metadata": {},
     "output_type": "execute_result"
    }
   ],
   "source": [
    "test_find_response."
   ]
  },
  {
   "cell_type": "code",
   "execution_count": 36,
   "metadata": {},
   "outputs": [
    {
     "data": {
      "text/plain": [
       "<Response [200]>"
      ]
     },
     "execution_count": 36,
     "metadata": {},
     "output_type": "execute_result"
    }
   ],
   "source": [
    "test_response = get('https://api.themoviedb.org/3/movie/' + str() + '?api_key=' + api_key)"
   ]
  },
  {
   "cell_type": "code",
   "execution_count": 55,
   "metadata": {},
   "outputs": [
    {
     "data": {
      "text/html": [
       "<div>\n",
       "<style scoped>\n",
       "    .dataframe tbody tr th:only-of-type {\n",
       "        vertical-align: middle;\n",
       "    }\n",
       "\n",
       "    .dataframe tbody tr th {\n",
       "        vertical-align: top;\n",
       "    }\n",
       "\n",
       "    .dataframe thead th {\n",
       "        text-align: right;\n",
       "    }\n",
       "</style>\n",
       "<table border=\"1\" class=\"dataframe\">\n",
       "  <thead>\n",
       "    <tr style=\"text-align: right;\">\n",
       "      <th></th>\n",
       "      <th>year</th>\n",
       "      <th>title</th>\n",
       "      <th>score</th>\n",
       "      <th>passing</th>\n",
       "      <th>imdb_id</th>\n",
       "      <th>director_fnbt</th>\n",
       "      <th>writer_fnbt</th>\n",
       "      <th>exec_fnbt</th>\n",
       "      <th>producer_fnbt</th>\n",
       "      <th>overall_fnbt</th>\n",
       "      <th>updated_budgets</th>\n",
       "      <th>updated_revenue</th>\n",
       "    </tr>\n",
       "  </thead>\n",
       "  <tbody>\n",
       "    <tr>\n",
       "      <th>1700</th>\n",
       "      <td>2013.0</td>\n",
       "      <td>R.I.P.D.</td>\n",
       "      <td>1.0</td>\n",
       "      <td>0.0</td>\n",
       "      <td>tt0790736</td>\n",
       "      <td>0.0</td>\n",
       "      <td>0.0</td>\n",
       "      <td>0.0</td>\n",
       "      <td>0.0</td>\n",
       "      <td>0.0</td>\n",
       "      <td>130000000.0</td>\n",
       "      <td>61648500.0</td>\n",
       "    </tr>\n",
       "    <tr>\n",
       "      <th>1701</th>\n",
       "      <td>2013.0</td>\n",
       "      <td>The Railway Man</td>\n",
       "      <td>0.0</td>\n",
       "      <td>0.0</td>\n",
       "      <td>tt2058107</td>\n",
       "      <td>0.0</td>\n",
       "      <td>0.0</td>\n",
       "      <td>0.0</td>\n",
       "      <td>0.0</td>\n",
       "      <td>0.0</td>\n",
       "      <td>26000000.0</td>\n",
       "      <td>22320893.0</td>\n",
       "    </tr>\n",
       "    <tr>\n",
       "      <th>1702</th>\n",
       "      <td>2013.0</td>\n",
       "      <td>rastres de sándal</td>\n",
       "      <td>3.0</td>\n",
       "      <td>1.0</td>\n",
       "      <td>tt3521332</td>\n",
       "      <td>1.0</td>\n",
       "      <td>1.0</td>\n",
       "      <td>0.0</td>\n",
       "      <td>0.0</td>\n",
       "      <td>2.0</td>\n",
       "      <td>0.0</td>\n",
       "      <td>0.0</td>\n",
       "    </tr>\n",
       "    <tr>\n",
       "      <th>1703</th>\n",
       "      <td>2013.0</td>\n",
       "      <td>Red 2</td>\n",
       "      <td>3.0</td>\n",
       "      <td>1.0</td>\n",
       "      <td>tt1821694</td>\n",
       "      <td>0.0</td>\n",
       "      <td>0.0</td>\n",
       "      <td>0.0</td>\n",
       "      <td>0.0</td>\n",
       "      <td>0.0</td>\n",
       "      <td>84000000.0</td>\n",
       "      <td>0.0</td>\n",
       "    </tr>\n",
       "    <tr>\n",
       "      <th>1704</th>\n",
       "      <td>2013.0</td>\n",
       "      <td>Remember Sunday</td>\n",
       "      <td>3.0</td>\n",
       "      <td>1.0</td>\n",
       "      <td>tt2770480</td>\n",
       "      <td>0.0</td>\n",
       "      <td>0.0</td>\n",
       "      <td>0.0</td>\n",
       "      <td>0.0</td>\n",
       "      <td>0.0</td>\n",
       "      <td>0.0</td>\n",
       "      <td>0.0</td>\n",
       "    </tr>\n",
       "    <tr>\n",
       "      <th>1705</th>\n",
       "      <td>2013.0</td>\n",
       "      <td>The Returned</td>\n",
       "      <td>3.0</td>\n",
       "      <td>1.0</td>\n",
       "      <td>tt2093270</td>\n",
       "      <td>0.0</td>\n",
       "      <td>0.0</td>\n",
       "      <td>0.0</td>\n",
       "      <td>0.0</td>\n",
       "      <td>0.0</td>\n",
       "      <td>0.0</td>\n",
       "      <td>0.0</td>\n",
       "    </tr>\n",
       "    <tr>\n",
       "      <th>1706</th>\n",
       "      <td>2013.0</td>\n",
       "      <td>Rewind</td>\n",
       "      <td>1.0</td>\n",
       "      <td>0.0</td>\n",
       "      <td>tt2193185</td>\n",
       "      <td>0.0</td>\n",
       "      <td>0.0</td>\n",
       "      <td>0.0</td>\n",
       "      <td>0.0</td>\n",
       "      <td>0.0</td>\n",
       "      <td>0.0</td>\n",
       "      <td>0.0</td>\n",
       "    </tr>\n",
       "    <tr>\n",
       "      <th>1707</th>\n",
       "      <td>2013.0</td>\n",
       "      <td>Riddick</td>\n",
       "      <td>0.0</td>\n",
       "      <td>0.0</td>\n",
       "      <td>tt1411250</td>\n",
       "      <td>0.0</td>\n",
       "      <td>0.0</td>\n",
       "      <td>0.0</td>\n",
       "      <td>0.0</td>\n",
       "      <td>0.0</td>\n",
       "      <td>38000000.0</td>\n",
       "      <td>98337295.0</td>\n",
       "    </tr>\n",
       "    <tr>\n",
       "      <th>1708</th>\n",
       "      <td>2013.0</td>\n",
       "      <td>Riley Rewind</td>\n",
       "      <td>3.0</td>\n",
       "      <td>1.0</td>\n",
       "      <td>tt2944454</td>\n",
       "      <td>NaN</td>\n",
       "      <td>NaN</td>\n",
       "      <td>NaN</td>\n",
       "      <td>NaN</td>\n",
       "      <td>NaN</td>\n",
       "      <td>70.0</td>\n",
       "      <td>0.0</td>\n",
       "    </tr>\n",
       "    <tr>\n",
       "      <th>1709</th>\n",
       "      <td>2013.0</td>\n",
       "      <td>Ronny</td>\n",
       "      <td>0.0</td>\n",
       "      <td>0.0</td>\n",
       "      <td>tt2831440</td>\n",
       "      <td>NaN</td>\n",
       "      <td>NaN</td>\n",
       "      <td>NaN</td>\n",
       "      <td>NaN</td>\n",
       "      <td>NaN</td>\n",
       "      <td>0.0</td>\n",
       "      <td>0.0</td>\n",
       "    </tr>\n",
       "    <tr>\n",
       "      <th>1710</th>\n",
       "      <td>2013.0</td>\n",
       "      <td>Runner Runner</td>\n",
       "      <td>0.0</td>\n",
       "      <td>0.0</td>\n",
       "      <td>tt2364841</td>\n",
       "      <td>0.0</td>\n",
       "      <td>0.0</td>\n",
       "      <td>0.0</td>\n",
       "      <td>1.0</td>\n",
       "      <td>1.0</td>\n",
       "      <td>30000000.0</td>\n",
       "      <td>62675095.0</td>\n",
       "    </tr>\n",
       "    <tr>\n",
       "      <th>1711</th>\n",
       "      <td>2013.0</td>\n",
       "      <td>Rush</td>\n",
       "      <td>1.0</td>\n",
       "      <td>0.0</td>\n",
       "      <td>tt1979320</td>\n",
       "      <td>0.0</td>\n",
       "      <td>0.0</td>\n",
       "      <td>0.0</td>\n",
       "      <td>0.0</td>\n",
       "      <td>0.0</td>\n",
       "      <td>38000000.0</td>\n",
       "      <td>90247624.0</td>\n",
       "    </tr>\n",
       "    <tr>\n",
       "      <th>1712</th>\n",
       "      <td>2013.0</td>\n",
       "      <td>RWBY</td>\n",
       "      <td>3.0</td>\n",
       "      <td>1.0</td>\n",
       "      <td>tt3066242</td>\n",
       "      <td>0.0</td>\n",
       "      <td>0.0</td>\n",
       "      <td>0.0</td>\n",
       "      <td>0.0</td>\n",
       "      <td>0.0</td>\n",
       "      <td>0.0</td>\n",
       "      <td>0.0</td>\n",
       "    </tr>\n",
       "    <tr>\n",
       "      <th>1713</th>\n",
       "      <td>2013.0</td>\n",
       "      <td>Sadako 3D 2</td>\n",
       "      <td>3.0</td>\n",
       "      <td>1.0</td>\n",
       "      <td>tt2440362</td>\n",
       "      <td>0.0</td>\n",
       "      <td>0.0</td>\n",
       "      <td>0.0</td>\n",
       "      <td>0.0</td>\n",
       "      <td>0.0</td>\n",
       "      <td>0.0</td>\n",
       "      <td>0.0</td>\n",
       "    </tr>\n",
       "    <tr>\n",
       "      <th>1714</th>\n",
       "      <td>2013.0</td>\n",
       "      <td>Safe Haven</td>\n",
       "      <td>3.0</td>\n",
       "      <td>1.0</td>\n",
       "      <td>tt1702439</td>\n",
       "      <td>0.0</td>\n",
       "      <td>1.0</td>\n",
       "      <td>0.0</td>\n",
       "      <td>0.0</td>\n",
       "      <td>1.0</td>\n",
       "      <td>28000000.0</td>\n",
       "      <td>97594140.0</td>\n",
       "    </tr>\n",
       "    <tr>\n",
       "      <th>1715</th>\n",
       "      <td>2013.0</td>\n",
       "      <td>Saige Paints the Sky</td>\n",
       "      <td>3.0</td>\n",
       "      <td>1.0</td>\n",
       "      <td>tt2818348</td>\n",
       "      <td>0.0</td>\n",
       "      <td>0.0</td>\n",
       "      <td>0.0</td>\n",
       "      <td>0.0</td>\n",
       "      <td>0.0</td>\n",
       "      <td>0.0</td>\n",
       "      <td>0.0</td>\n",
       "    </tr>\n",
       "    <tr>\n",
       "      <th>1716</th>\n",
       "      <td>2013.0</td>\n",
       "      <td>Saving Mr. Banks</td>\n",
       "      <td>3.0</td>\n",
       "      <td>1.0</td>\n",
       "      <td>tt2140373</td>\n",
       "      <td>0.0</td>\n",
       "      <td>1.0</td>\n",
       "      <td>1.0</td>\n",
       "      <td>1.0</td>\n",
       "      <td>3.0</td>\n",
       "      <td>35000000.0</td>\n",
       "      <td>117867984.0</td>\n",
       "    </tr>\n",
       "    <tr>\n",
       "      <th>1717</th>\n",
       "      <td>2013.0</td>\n",
       "      <td>The Secret Life of Walter Mitty</td>\n",
       "      <td>3.0</td>\n",
       "      <td>1.0</td>\n",
       "      <td>tt0359950</td>\n",
       "      <td>0.0</td>\n",
       "      <td>0.0</td>\n",
       "      <td>0.0</td>\n",
       "      <td>0.0</td>\n",
       "      <td>0.0</td>\n",
       "      <td>90000000.0</td>\n",
       "      <td>188133322.0</td>\n",
       "    </tr>\n",
       "    <tr>\n",
       "      <th>1718</th>\n",
       "      <td>2013.0</td>\n",
       "      <td>The Selfish Giant</td>\n",
       "      <td>1.0</td>\n",
       "      <td>0.0</td>\n",
       "      <td>tt2304426</td>\n",
       "      <td>1.0</td>\n",
       "      <td>1.0</td>\n",
       "      <td>0.0</td>\n",
       "      <td>0.0</td>\n",
       "      <td>2.0</td>\n",
       "      <td>0.0</td>\n",
       "      <td>0.0</td>\n",
       "    </tr>\n",
       "    <tr>\n",
       "      <th>1719</th>\n",
       "      <td>2013.0</td>\n",
       "      <td>Sharknado</td>\n",
       "      <td>3.0</td>\n",
       "      <td>1.0</td>\n",
       "      <td>tt2724064</td>\n",
       "      <td>0.0</td>\n",
       "      <td>0.0</td>\n",
       "      <td>0.0</td>\n",
       "      <td>0.0</td>\n",
       "      <td>0.0</td>\n",
       "      <td>1000000.0</td>\n",
       "      <td>0.0</td>\n",
       "    </tr>\n",
       "    <tr>\n",
       "      <th>1720</th>\n",
       "      <td>2013.0</td>\n",
       "      <td>She Made Them Do It</td>\n",
       "      <td>1.0</td>\n",
       "      <td>0.0</td>\n",
       "      <td>tt2336846</td>\n",
       "      <td>0.0</td>\n",
       "      <td>0.0</td>\n",
       "      <td>0.0</td>\n",
       "      <td>0.0</td>\n",
       "      <td>0.0</td>\n",
       "      <td>0.0</td>\n",
       "      <td>0.0</td>\n",
       "    </tr>\n",
       "    <tr>\n",
       "      <th>1721</th>\n",
       "      <td>2013.0</td>\n",
       "      <td>Short Term 12</td>\n",
       "      <td>3.0</td>\n",
       "      <td>1.0</td>\n",
       "      <td>tt2370248</td>\n",
       "      <td>0.0</td>\n",
       "      <td>0.0</td>\n",
       "      <td>0.0</td>\n",
       "      <td>0.0</td>\n",
       "      <td>0.0</td>\n",
       "      <td>0.0</td>\n",
       "      <td>1600000.0</td>\n",
       "    </tr>\n",
       "    <tr>\n",
       "      <th>1722</th>\n",
       "      <td>2013.0</td>\n",
       "      <td>Side Effects</td>\n",
       "      <td>3.0</td>\n",
       "      <td>1.0</td>\n",
       "      <td>tt2053463</td>\n",
       "      <td>0.0</td>\n",
       "      <td>0.0</td>\n",
       "      <td>0.0</td>\n",
       "      <td>0.0</td>\n",
       "      <td>0.0</td>\n",
       "      <td>2000000.0</td>\n",
       "      <td>63372757.0</td>\n",
       "    </tr>\n",
       "    <tr>\n",
       "      <th>1723</th>\n",
       "      <td>2013.0</td>\n",
       "      <td>The Sisters Plotz</td>\n",
       "      <td>3.0</td>\n",
       "      <td>1.0</td>\n",
       "      <td>tt2255372</td>\n",
       "      <td>NaN</td>\n",
       "      <td>NaN</td>\n",
       "      <td>NaN</td>\n",
       "      <td>NaN</td>\n",
       "      <td>NaN</td>\n",
       "      <td>0.0</td>\n",
       "      <td>0.0</td>\n",
       "    </tr>\n",
       "    <tr>\n",
       "      <th>1724</th>\n",
       "      <td>2013.0</td>\n",
       "      <td>Skinwalker Ranch</td>\n",
       "      <td>0.0</td>\n",
       "      <td>0.0</td>\n",
       "      <td>tt2881698</td>\n",
       "      <td>0.0</td>\n",
       "      <td>0.0</td>\n",
       "      <td>0.0</td>\n",
       "      <td>0.0</td>\n",
       "      <td>0.0</td>\n",
       "      <td>0.0</td>\n",
       "      <td>0.0</td>\n",
       "    </tr>\n",
       "  </tbody>\n",
       "</table>\n",
       "</div>"
      ],
      "text/plain": [
       "        year                            title  score  passing    imdb_id  \\\n",
       "1700  2013.0                         R.I.P.D.    1.0      0.0  tt0790736   \n",
       "1701  2013.0                  The Railway Man    0.0      0.0  tt2058107   \n",
       "1702  2013.0                rastres de sándal    3.0      1.0  tt3521332   \n",
       "1703  2013.0                            Red 2    3.0      1.0  tt1821694   \n",
       "1704  2013.0                  Remember Sunday    3.0      1.0  tt2770480   \n",
       "1705  2013.0                     The Returned    3.0      1.0  tt2093270   \n",
       "1706  2013.0                           Rewind    1.0      0.0  tt2193185   \n",
       "1707  2013.0                          Riddick    0.0      0.0  tt1411250   \n",
       "1708  2013.0                     Riley Rewind    3.0      1.0  tt2944454   \n",
       "1709  2013.0                            Ronny    0.0      0.0  tt2831440   \n",
       "1710  2013.0                    Runner Runner    0.0      0.0  tt2364841   \n",
       "1711  2013.0                             Rush    1.0      0.0  tt1979320   \n",
       "1712  2013.0                             RWBY    3.0      1.0  tt3066242   \n",
       "1713  2013.0                      Sadako 3D 2    3.0      1.0  tt2440362   \n",
       "1714  2013.0                       Safe Haven    3.0      1.0  tt1702439   \n",
       "1715  2013.0             Saige Paints the Sky    3.0      1.0  tt2818348   \n",
       "1716  2013.0                 Saving Mr. Banks    3.0      1.0  tt2140373   \n",
       "1717  2013.0  The Secret Life of Walter Mitty    3.0      1.0  tt0359950   \n",
       "1718  2013.0                The Selfish Giant    1.0      0.0  tt2304426   \n",
       "1719  2013.0                        Sharknado    3.0      1.0  tt2724064   \n",
       "1720  2013.0              She Made Them Do It    1.0      0.0  tt2336846   \n",
       "1721  2013.0                    Short Term 12    3.0      1.0  tt2370248   \n",
       "1722  2013.0                     Side Effects    3.0      1.0  tt2053463   \n",
       "1723  2013.0                The Sisters Plotz    3.0      1.0  tt2255372   \n",
       "1724  2013.0                 Skinwalker Ranch    0.0      0.0  tt2881698   \n",
       "\n",
       "      director_fnbt  writer_fnbt  exec_fnbt  producer_fnbt  overall_fnbt  \\\n",
       "1700            0.0          0.0        0.0            0.0           0.0   \n",
       "1701            0.0          0.0        0.0            0.0           0.0   \n",
       "1702            1.0          1.0        0.0            0.0           2.0   \n",
       "1703            0.0          0.0        0.0            0.0           0.0   \n",
       "1704            0.0          0.0        0.0            0.0           0.0   \n",
       "1705            0.0          0.0        0.0            0.0           0.0   \n",
       "1706            0.0          0.0        0.0            0.0           0.0   \n",
       "1707            0.0          0.0        0.0            0.0           0.0   \n",
       "1708            NaN          NaN        NaN            NaN           NaN   \n",
       "1709            NaN          NaN        NaN            NaN           NaN   \n",
       "1710            0.0          0.0        0.0            1.0           1.0   \n",
       "1711            0.0          0.0        0.0            0.0           0.0   \n",
       "1712            0.0          0.0        0.0            0.0           0.0   \n",
       "1713            0.0          0.0        0.0            0.0           0.0   \n",
       "1714            0.0          1.0        0.0            0.0           1.0   \n",
       "1715            0.0          0.0        0.0            0.0           0.0   \n",
       "1716            0.0          1.0        1.0            1.0           3.0   \n",
       "1717            0.0          0.0        0.0            0.0           0.0   \n",
       "1718            1.0          1.0        0.0            0.0           2.0   \n",
       "1719            0.0          0.0        0.0            0.0           0.0   \n",
       "1720            0.0          0.0        0.0            0.0           0.0   \n",
       "1721            0.0          0.0        0.0            0.0           0.0   \n",
       "1722            0.0          0.0        0.0            0.0           0.0   \n",
       "1723            NaN          NaN        NaN            NaN           NaN   \n",
       "1724            0.0          0.0        0.0            0.0           0.0   \n",
       "\n",
       "      updated_budgets  updated_revenue  \n",
       "1700      130000000.0       61648500.0  \n",
       "1701       26000000.0       22320893.0  \n",
       "1702              0.0              0.0  \n",
       "1703       84000000.0              0.0  \n",
       "1704              0.0              0.0  \n",
       "1705              0.0              0.0  \n",
       "1706              0.0              0.0  \n",
       "1707       38000000.0       98337295.0  \n",
       "1708             70.0              0.0  \n",
       "1709              0.0              0.0  \n",
       "1710       30000000.0       62675095.0  \n",
       "1711       38000000.0       90247624.0  \n",
       "1712              0.0              0.0  \n",
       "1713              0.0              0.0  \n",
       "1714       28000000.0       97594140.0  \n",
       "1715              0.0              0.0  \n",
       "1716       35000000.0      117867984.0  \n",
       "1717       90000000.0      188133322.0  \n",
       "1718              0.0              0.0  \n",
       "1719        1000000.0              0.0  \n",
       "1720              0.0              0.0  \n",
       "1721              0.0        1600000.0  \n",
       "1722        2000000.0       63372757.0  \n",
       "1723              0.0              0.0  \n",
       "1724              0.0              0.0  "
      ]
     },
     "execution_count": 55,
     "metadata": {},
     "output_type": "execute_result"
    }
   ],
   "source": [
    "bechdel_df[1700:1725]"
   ]
  },
  {
   "cell_type": "code",
   "execution_count": null,
   "metadata": {},
   "outputs": [],
   "source": [
    "# function not using wrapper\n",
    "def get_budget_and_revenue(imdb_id, api_key=api_key):\n",
    "    budget_list = []\n",
    "    revenue_list = []\n",
    "    response = get('https://api.themoviedb.org/3/find/' + imdb_id + '?api_key=' + api_key + '&external_source=imdb_id')\n",
    "    tmdb_id = response['id']\n",
    "    new_response = get('https://api.themoviedb.org/3/movie/' + str(tmdb_id) + '?api_key=' + api_key)\n",
    "    budget_list.append()\n",
    "    \n",
    "    \n",
    "    \n",
    "    "
   ]
  },
  {
   "cell_type": "code",
   "execution_count": null,
   "metadata": {},
   "outputs": [],
   "source": [
    "# omg just do function using wrapper\n",
    "def get_budget_and_revenue(list_of_imdb_ids):\n",
    "    budget_dict = {}\n",
    "    revenue_dict = {}\n",
    "    for imdb_id in list_of_imdb_ids:\n",
    "        find = tmdb.Find(imdb_id)\n",
    "        find_response = find.info(external_source='imdb_id')\n",
    "        if find_response['movie_results']:\n",
    "            tmdb_id = find_response['movie_results'][0]['id']\n",
    "            movie_response = tmdb.Movies(tmdb_id).info()\n",
    "            budget_dict[imdb_id] = movie_response['budget']\n",
    "            revenue_dict[imdb_id] = movie_response['revenue']\n",
    "        else:\n",
    "            print(f'No movie info for {imdb_id}')"
   ]
  },
  {
   "cell_type": "code",
   "execution_count": 64,
   "metadata": {},
   "outputs": [
    {
     "data": {
      "text/plain": [
       "{'movie_results': [],\n",
       " 'person_results': [],\n",
       " 'tv_results': [],\n",
       " 'tv_episode_results': [],\n",
       " 'tv_season_results': []}"
      ]
     },
     "execution_count": 64,
     "metadata": {},
     "output_type": "execute_result"
    }
   ],
   "source": [
    "test_find = tmdb.Find('tt2255372')\n",
    "test_response = test_find.info(external_source='imdb_id')\n",
    "test_response"
   ]
  },
  {
   "cell_type": "code",
   "execution_count": 65,
   "metadata": {},
   "outputs": [
    {
     "data": {
      "text/plain": [
       "{'movie_results': [{'id': 116745,\n",
       "   'video': False,\n",
       "   'vote_count': 4696,\n",
       "   'vote_average': 7.1,\n",
       "   'title': 'The Secret Life of Walter Mitty',\n",
       "   'release_date': '2013-12-18',\n",
       "   'original_language': 'en',\n",
       "   'original_title': 'The Secret Life of Walter Mitty',\n",
       "   'genre_ids': [12, 35, 18, 14],\n",
       "   'backdrop_path': '/mrvlpJFAzKwZZkLm9VD7Rh2VECi.jpg',\n",
       "   'adult': False,\n",
       "   'overview': 'A timid magazine photo manager who lives life vicariously through daydreams embarks on a true-life adventure when a negative goes missing.',\n",
       "   'poster_path': '/b0nIj7dr2bcLAn3erYhql7f6aUm.jpg',\n",
       "   'popularity': 11.611}],\n",
       " 'person_results': [],\n",
       " 'tv_results': [],\n",
       " 'tv_episode_results': [],\n",
       " 'tv_season_results': []}"
      ]
     },
     "execution_count": 65,
     "metadata": {},
     "output_type": "execute_result"
    }
   ],
   "source": [
    "test_find = tmdb.Find('tt0359950')\n",
    "test_response = test_find.info(external_source='imdb_id')\n",
    "test_response"
   ]
  },
  {
   "cell_type": "code",
   "execution_count": 70,
   "metadata": {},
   "outputs": [],
   "source": [
    "tmdb_id = test_response['movie_results'][0]['id']"
   ]
  },
  {
   "cell_type": "code",
   "execution_count": 71,
   "metadata": {},
   "outputs": [
    {
     "data": {
      "text/plain": [
       "{'adult': False,\n",
       " 'backdrop_path': '/mrvlpJFAzKwZZkLm9VD7Rh2VECi.jpg',\n",
       " 'belongs_to_collection': None,\n",
       " 'budget': 90000000,\n",
       " 'genres': [{'id': 12, 'name': 'Adventure'},\n",
       "  {'id': 35, 'name': 'Comedy'},\n",
       "  {'id': 18, 'name': 'Drama'},\n",
       "  {'id': 14, 'name': 'Fantasy'}],\n",
       " 'homepage': None,\n",
       " 'id': 116745,\n",
       " 'imdb_id': 'tt0359950',\n",
       " 'original_language': 'en',\n",
       " 'original_title': 'The Secret Life of Walter Mitty',\n",
       " 'overview': 'A timid magazine photo manager who lives life vicariously through daydreams embarks on a true-life adventure when a negative goes missing.',\n",
       " 'popularity': 11.611,\n",
       " 'poster_path': '/b0nIj7dr2bcLAn3erYhql7f6aUm.jpg',\n",
       " 'production_companies': [{'id': 290,\n",
       "   'logo_path': '/Q8mw2AOQQc8Qg0uNwLWq86DVZv.png',\n",
       "   'name': 'Ingenious Media',\n",
       "   'origin_country': 'GB'},\n",
       "  {'id': 22213,\n",
       "   'logo_path': '/qx9K6bFWJupwde0xQDwOvXkOaL8.png',\n",
       "   'name': 'TSG Entertainment',\n",
       "   'origin_country': 'US'},\n",
       "  {'id': 9118,\n",
       "   'logo_path': '/9o6KLcDBRw3fNItUflJVwj8dZpC.png',\n",
       "   'name': 'Samuel Goldwyn Films',\n",
       "   'origin_country': 'US'},\n",
       "  {'id': 12,\n",
       "   'logo_path': '/iaYpEp3LQmb8AfAtmTvpqd4149c.png',\n",
       "   'name': 'New Line Cinema',\n",
       "   'origin_country': 'US'},\n",
       "  {'id': 10893,\n",
       "   'logo_path': None,\n",
       "   'name': 'Big Screen Productions',\n",
       "   'origin_country': ''},\n",
       "  {'id': 37336,\n",
       "   'logo_path': None,\n",
       "   'name': 'Down Productions',\n",
       "   'origin_country': ''},\n",
       "  {'id': 25,\n",
       "   'logo_path': '/qZCc1lty5FzX30aOCVRBLzaVmcp.png',\n",
       "   'name': '20th Century Fox',\n",
       "   'origin_country': 'US'},\n",
       "  {'id': 2932,\n",
       "   'logo_path': '/4uLKLjGivVg2YnAIhAn8k7ZuVFj.png',\n",
       "   'name': 'Red Hour',\n",
       "   'origin_country': 'US'}],\n",
       " 'production_countries': [{'iso_3166_1': 'US',\n",
       "   'name': 'United States of America'}],\n",
       " 'release_date': '2013-12-18',\n",
       " 'revenue': 188133322,\n",
       " 'runtime': 114,\n",
       " 'spoken_languages': [{'iso_639_1': 'en', 'name': 'English'}],\n",
       " 'status': 'Released',\n",
       " 'tagline': 'Stop Dreaming, Start Living',\n",
       " 'title': 'The Secret Life of Walter Mitty',\n",
       " 'video': False,\n",
       " 'vote_average': 7.1,\n",
       " 'vote_count': 4696}"
      ]
     },
     "execution_count": 71,
     "metadata": {},
     "output_type": "execute_result"
    }
   ],
   "source": [
    "response = tmdb.Movies(tmdb_id).info()\n",
    "response"
   ]
  },
  {
   "cell_type": "code",
   "execution_count": 72,
   "metadata": {},
   "outputs": [
    {
     "data": {
      "text/plain": [
       "90000000"
      ]
     },
     "execution_count": 72,
     "metadata": {},
     "output_type": "execute_result"
    }
   ],
   "source": [
    "response['budget']"
   ]
  },
  {
   "cell_type": "code",
   "execution_count": 73,
   "metadata": {},
   "outputs": [
    {
     "data": {
      "text/plain": [
       "188133322"
      ]
     },
     "execution_count": 73,
     "metadata": {},
     "output_type": "execute_result"
    }
   ],
   "source": [
    "response['revenue']"
   ]
  },
  {
   "cell_type": "code",
   "execution_count": null,
   "metadata": {},
   "outputs": [],
   "source": []
  }
 ],
 "metadata": {
  "kernelspec": {
   "display_name": "Python [default]",
   "language": "python",
   "name": "python3"
  },
  "language_info": {
   "codemirror_mode": {
    "name": "ipython",
    "version": 3
   },
   "file_extension": ".py",
   "mimetype": "text/x-python",
   "name": "python",
   "nbconvert_exporter": "python",
   "pygments_lexer": "ipython3",
   "version": "3.6.6"
  },
  "toc": {
   "base_numbering": 1,
   "nav_menu": {},
   "number_sections": false,
   "sideBar": true,
   "skip_h1_title": false,
   "title_cell": "Table of Contents",
   "title_sidebar": "Contents",
   "toc_cell": false,
   "toc_position": {},
   "toc_section_display": true,
   "toc_window_display": false
  }
 },
 "nbformat": 4,
 "nbformat_minor": 2
}
