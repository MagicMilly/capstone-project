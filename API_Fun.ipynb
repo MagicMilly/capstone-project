{
 "cells": [
  {
   "cell_type": "code",
   "execution_count": 74,
   "metadata": {},
   "outputs": [],
   "source": [
    "import json\n",
    "import pandas as pd\n",
    "import numpy as np\n",
    "import tmdbsimple as tmdb\n",
    "\n",
    "from get_path import path\n",
    "from requests import get\n",
    "from time import sleep, time\n",
    "from warnings import warn"
   ]
  },
  {
   "cell_type": "markdown",
   "metadata": {},
   "source": [
    "## I. The Movie Database API with tmdbsimple wrapper"
   ]
  },
  {
   "cell_type": "markdown",
   "metadata": {},
   "source": [
    "#### Import API key"
   ]
  },
  {
   "cell_type": "code",
   "execution_count": 3,
   "metadata": {},
   "outputs": [],
   "source": [
    "with open(path) as f:\n",
    "    data = json.load(f)"
   ]
  },
  {
   "cell_type": "code",
   "execution_count": 5,
   "metadata": {},
   "outputs": [],
   "source": [
    "tmdb.API_KEY = data['key']"
   ]
  },
  {
   "cell_type": "code",
   "execution_count": 30,
   "metadata": {},
   "outputs": [],
   "source": [
    "api_key = data['key']"
   ]
  },
  {
   "cell_type": "code",
   "execution_count": 6,
   "metadata": {},
   "outputs": [
    {
     "data": {
      "text/html": [
       "<div>\n",
       "<style scoped>\n",
       "    .dataframe tbody tr th:only-of-type {\n",
       "        vertical-align: middle;\n",
       "    }\n",
       "\n",
       "    .dataframe tbody tr th {\n",
       "        vertical-align: top;\n",
       "    }\n",
       "\n",
       "    .dataframe thead th {\n",
       "        text-align: right;\n",
       "    }\n",
       "</style>\n",
       "<table border=\"1\" class=\"dataframe\">\n",
       "  <thead>\n",
       "    <tr style=\"text-align: right;\">\n",
       "      <th></th>\n",
       "      <th>year</th>\n",
       "      <th>title</th>\n",
       "      <th>score</th>\n",
       "      <th>passing</th>\n",
       "      <th>imdb_id</th>\n",
       "      <th>director_fnbt</th>\n",
       "      <th>writer_fnbt</th>\n",
       "      <th>exec_fnbt</th>\n",
       "      <th>producer_fnbt</th>\n",
       "      <th>overall_fnbt</th>\n",
       "      <th>updated_budgets</th>\n",
       "      <th>updated_revenue</th>\n",
       "    </tr>\n",
       "  </thead>\n",
       "  <tbody>\n",
       "    <tr>\n",
       "      <th>0</th>\n",
       "      <td>2019.0</td>\n",
       "      <td>Alita: Battle Angel</td>\n",
       "      <td>3.0</td>\n",
       "      <td>1.0</td>\n",
       "      <td>tt0437086</td>\n",
       "      <td>0.0</td>\n",
       "      <td>1.0</td>\n",
       "      <td>0.0</td>\n",
       "      <td>0.0</td>\n",
       "      <td>1.0</td>\n",
       "      <td>170000000.0</td>\n",
       "      <td>359700000.0</td>\n",
       "    </tr>\n",
       "    <tr>\n",
       "      <th>1</th>\n",
       "      <td>2019.0</td>\n",
       "      <td>American Woman</td>\n",
       "      <td>3.0</td>\n",
       "      <td>1.0</td>\n",
       "      <td>tt9109492</td>\n",
       "      <td>NaN</td>\n",
       "      <td>NaN</td>\n",
       "      <td>NaN</td>\n",
       "      <td>NaN</td>\n",
       "      <td>NaN</td>\n",
       "      <td>0.0</td>\n",
       "      <td>0.0</td>\n",
       "    </tr>\n",
       "    <tr>\n",
       "      <th>2</th>\n",
       "      <td>2019.0</td>\n",
       "      <td>Close</td>\n",
       "      <td>3.0</td>\n",
       "      <td>1.0</td>\n",
       "      <td>tt5316540</td>\n",
       "      <td>1.0</td>\n",
       "      <td>1.0</td>\n",
       "      <td>0.0</td>\n",
       "      <td>0.0</td>\n",
       "      <td>2.0</td>\n",
       "      <td>0.0</td>\n",
       "      <td>0.0</td>\n",
       "    </tr>\n",
       "    <tr>\n",
       "      <th>3</th>\n",
       "      <td>2019.0</td>\n",
       "      <td>Cold Pursuit</td>\n",
       "      <td>1.0</td>\n",
       "      <td>0.0</td>\n",
       "      <td>tt5719748</td>\n",
       "      <td>0.0</td>\n",
       "      <td>0.0</td>\n",
       "      <td>0.0</td>\n",
       "      <td>0.0</td>\n",
       "      <td>0.0</td>\n",
       "      <td>0.0</td>\n",
       "      <td>0.0</td>\n",
       "    </tr>\n",
       "    <tr>\n",
       "      <th>4</th>\n",
       "      <td>2019.0</td>\n",
       "      <td>How to Train Your Dragon: The Hidden World</td>\n",
       "      <td>2.0</td>\n",
       "      <td>0.0</td>\n",
       "      <td>tt2386490</td>\n",
       "      <td>NaN</td>\n",
       "      <td>NaN</td>\n",
       "      <td>NaN</td>\n",
       "      <td>NaN</td>\n",
       "      <td>NaN</td>\n",
       "      <td>0.0</td>\n",
       "      <td>0.0</td>\n",
       "    </tr>\n",
       "  </tbody>\n",
       "</table>\n",
       "</div>"
      ],
      "text/plain": [
       "     year                                       title  score  passing  \\\n",
       "0  2019.0                         Alita: Battle Angel    3.0      1.0   \n",
       "1  2019.0                              American Woman    3.0      1.0   \n",
       "2  2019.0                                       Close    3.0      1.0   \n",
       "3  2019.0                                Cold Pursuit    1.0      0.0   \n",
       "4  2019.0  How to Train Your Dragon: The Hidden World    2.0      0.0   \n",
       "\n",
       "     imdb_id  director_fnbt  writer_fnbt  exec_fnbt  producer_fnbt  \\\n",
       "0  tt0437086            0.0          1.0        0.0            0.0   \n",
       "1  tt9109492            NaN          NaN        NaN            NaN   \n",
       "2  tt5316540            1.0          1.0        0.0            0.0   \n",
       "3  tt5719748            0.0          0.0        0.0            0.0   \n",
       "4  tt2386490            NaN          NaN        NaN            NaN   \n",
       "\n",
       "   overall_fnbt  updated_budgets  updated_revenue  \n",
       "0           1.0      170000000.0      359700000.0  \n",
       "1           NaN              0.0              0.0  \n",
       "2           2.0              0.0              0.0  \n",
       "3           0.0              0.0              0.0  \n",
       "4           NaN              0.0              0.0  "
      ]
     },
     "execution_count": 6,
     "metadata": {},
     "output_type": "execute_result"
    }
   ],
   "source": [
    "bechdel_df = pd.read_csv('my_data/updated_bechdel_2.csv')\n",
    "bechdel_df.head()"
   ]
  },
  {
   "cell_type": "markdown",
   "metadata": {},
   "source": [
    "#### Search by query"
   ]
  },
  {
   "cell_type": "code",
   "execution_count": 8,
   "metadata": {},
   "outputs": [
    {
     "name": "stdout",
     "output_type": "stream",
     "text": [
      "{'vote_count': 993, 'id': 166428, 'video': False, 'vote_average': 7.8, 'title': 'How to Train Your Dragon: The Hidden World', 'popularity': 310.039, 'poster_path': '/xvx4Yhf0DVH8G4LzNISpMfFBDy2.jpg', 'original_language': 'en', 'original_title': 'How to Train Your Dragon: The Hidden World', 'genre_ids': [16, 10751, 12], 'backdrop_path': '/h3KN24PrOheHVYs9ypuOIdFBEpX.jpg', 'adult': False, 'overview': 'As Hiccup fulfills his dream of creating a peaceful dragon utopia, Toothless’ discovery of an untamed, elusive mate draws the Night Fury away. When danger mounts at home and Hiccup’s reign as village chief is tested, both dragon and rider must make impossible decisions to save their kind.', 'release_date': '2019-01-03'}\n"
     ]
    }
   ],
   "source": [
    "search = tmdb.Search()\n",
    "response = search.movie(query='How to Train Your Dragon: The Hidden World')\n",
    "for s in search.results:\n",
    "    print(s)"
   ]
  },
  {
   "cell_type": "markdown",
   "metadata": {},
   "source": [
    "#### Movie details with TMDB id"
   ]
  },
  {
   "cell_type": "code",
   "execution_count": 9,
   "metadata": {},
   "outputs": [],
   "source": [
    "response = tmdb.Movies(166428).info()"
   ]
  },
  {
   "cell_type": "code",
   "execution_count": 10,
   "metadata": {},
   "outputs": [
    {
     "data": {
      "text/plain": [
       "{'adult': False,\n",
       " 'backdrop_path': '/h3KN24PrOheHVYs9ypuOIdFBEpX.jpg',\n",
       " 'belongs_to_collection': {'id': 89137,\n",
       "  'name': 'How to Train Your Dragon Collection',\n",
       "  'poster_path': '/4tBKIkPLFMkiZETjAMOHNoty8B1.jpg',\n",
       "  'backdrop_path': '/mvcfPkOvgDJG2lEAxTz0NKqoQLo.jpg'},\n",
       " 'budget': 129000000,\n",
       " 'genres': [{'id': 16, 'name': 'Animation'},\n",
       "  {'id': 10751, 'name': 'Family'},\n",
       "  {'id': 12, 'name': 'Adventure'}],\n",
       " 'homepage': 'https://www.howtotrainyourdragon.com/',\n",
       " 'id': 166428,\n",
       " 'imdb_id': 'tt2386490',\n",
       " 'original_language': 'en',\n",
       " 'original_title': 'How to Train Your Dragon: The Hidden World',\n",
       " 'overview': 'As Hiccup fulfills his dream of creating a peaceful dragon utopia, Toothless’ discovery of an untamed, elusive mate draws the Night Fury away. When danger mounts at home and Hiccup’s reign as village chief is tested, both dragon and rider must make impossible decisions to save their kind.',\n",
       " 'popularity': 310.039,\n",
       " 'poster_path': '/xvx4Yhf0DVH8G4LzNISpMfFBDy2.jpg',\n",
       " 'production_companies': [{'id': 20154,\n",
       "   'logo_path': None,\n",
       "   'name': 'Mad Hatter Entertainment',\n",
       "   'origin_country': 'US'},\n",
       "  {'id': 521,\n",
       "   'logo_path': '/kP7t6RwGz2AvvTkvnI1uteEwHet.png',\n",
       "   'name': 'DreamWorks Animation',\n",
       "   'origin_country': 'US'}],\n",
       " 'production_countries': [{'iso_3166_1': 'US',\n",
       "   'name': 'United States of America'}],\n",
       " 'release_date': '2019-01-03',\n",
       " 'revenue': 375396270,\n",
       " 'runtime': 104,\n",
       " 'spoken_languages': [{'iso_639_1': 'en', 'name': 'English'}],\n",
       " 'status': 'Released',\n",
       " 'tagline': 'The friendship of a lifetime',\n",
       " 'title': 'How to Train Your Dragon: The Hidden World',\n",
       " 'video': False,\n",
       " 'vote_average': 7.8,\n",
       " 'vote_count': 998}"
      ]
     },
     "execution_count": 10,
     "metadata": {},
     "output_type": "execute_result"
    }
   ],
   "source": [
    "response"
   ]
  },
  {
   "cell_type": "markdown",
   "metadata": {},
   "source": [
    "#### General details with IMDB id"
   ]
  },
  {
   "cell_type": "code",
   "execution_count": 49,
   "metadata": {},
   "outputs": [
    {
     "data": {
      "text/plain": [
       "{'movie_results': [{'id': 166428,\n",
       "   'video': False,\n",
       "   'vote_count': 993,\n",
       "   'vote_average': 7.8,\n",
       "   'title': 'How to Train Your Dragon: The Hidden World',\n",
       "   'release_date': '2019-01-03',\n",
       "   'original_language': 'en',\n",
       "   'original_title': 'How to Train Your Dragon: The Hidden World',\n",
       "   'genre_ids': [12, 16, 10751],\n",
       "   'backdrop_path': '/h3KN24PrOheHVYs9ypuOIdFBEpX.jpg',\n",
       "   'adult': False,\n",
       "   'overview': 'As Hiccup fulfills his dream of creating a peaceful dragon utopia, Toothless’ discovery of an untamed, elusive mate draws the Night Fury away. When danger mounts at home and Hiccup’s reign as village chief is tested, both dragon and rider must make impossible decisions to save their kind.',\n",
       "   'poster_path': '/xvx4Yhf0DVH8G4LzNISpMfFBDy2.jpg',\n",
       "   'popularity': 310.039}],\n",
       " 'person_results': [],\n",
       " 'tv_results': [],\n",
       " 'tv_episode_results': [],\n",
       " 'tv_season_results': [],\n",
       " 'budget': {'movie_results': [],\n",
       "  'person_results': [],\n",
       "  'tv_results': [],\n",
       "  'tv_episode_results': [],\n",
       "  'tv_season_results': []},\n",
       " 'revenue': {'movie_results': [],\n",
       "  'person_results': [],\n",
       "  'tv_results': [],\n",
       "  'tv_episode_results': [],\n",
       "  'tv_season_results': []}}"
      ]
     },
     "execution_count": 49,
     "metadata": {},
     "output_type": "execute_result"
    }
   ],
   "source": [
    "find = tmdb.Find('tt2386490')\n",
    "response = find.info(external_source='imdb_id',append_to_response='budget,revenue')\n",
    "response"
   ]
  },
  {
   "cell_type": "code",
   "execution_count": 28,
   "metadata": {},
   "outputs": [
    {
     "data": {
      "text/plain": [
       "[{'id': 166428,\n",
       "  'video': False,\n",
       "  'vote_count': 993,\n",
       "  'vote_average': 7.8,\n",
       "  'title': 'How to Train Your Dragon: The Hidden World',\n",
       "  'release_date': '2019-01-03',\n",
       "  'original_language': 'en',\n",
       "  'original_title': 'How to Train Your Dragon: The Hidden World',\n",
       "  'genre_ids': [12, 16, 10751],\n",
       "  'backdrop_path': '/h3KN24PrOheHVYs9ypuOIdFBEpX.jpg',\n",
       "  'adult': False,\n",
       "  'overview': 'As Hiccup fulfills his dream of creating a peaceful dragon utopia, Toothless’ discovery of an untamed, elusive mate draws the Night Fury away. When danger mounts at home and Hiccup’s reign as village chief is tested, both dragon and rider must make impossible decisions to save their kind.',\n",
       "  'poster_path': '/xvx4Yhf0DVH8G4LzNISpMfFBDy2.jpg',\n",
       "  'popularity': 310.039}]"
      ]
     },
     "execution_count": 28,
     "metadata": {},
     "output_type": "execute_result"
    }
   ],
   "source": [
    "response['movie_results']"
   ]
  },
  {
   "cell_type": "markdown",
   "metadata": {},
   "source": [
    "#### Request without using wrapper"
   ]
  },
  {
   "cell_type": "code",
   "execution_count": 89,
   "metadata": {},
   "outputs": [],
   "source": [
    "from ratelimit import limits"
   ]
  },
  {
   "cell_type": "code",
   "execution_count": null,
   "metadata": {},
   "outputs": [],
   "source": [
    "# not complete\n",
    "@limits(calls=40, period=10)\n",
    "def get_budget_and_revenue(imdb_id_list, api_key=api_key):\n",
    "    \n",
    "    budget_dict = {}\n",
    "    revenue_dict = {}\n",
    "    counter = 0\n",
    "    \n",
    "    for imdb_id in imdb_id_list:\n",
    "        \n",
    "        response = get('https://api.themoviedb.org/3/find/' + imdb_id + '?api_key=' + api_key + '&external_source=imdb_id')\n",
    "        \n",
    "        if response['movie_results']:\n",
    "            tmdb_id = response['id']\n",
    "            counter += 1\n",
    "            print(f'')\n",
    "\n",
    "            new_response = get('https://api.themoviedb.org/3/movie/' + str(tmdb_id) + '?api_key=' + api_key)\n",
    "    \n",
    "            "
   ]
  },
  {
   "cell_type": "code",
   "execution_count": 90,
   "metadata": {},
   "outputs": [],
   "source": [
    "@limits(calls=40, period=10)\n",
    "def call_general_movie_page(url):\n",
    "    response = get(url)\n",
    "    if response.status_code != 200:\n",
    "        raise Exception('API response: {}'.format(response.status_code))\n",
    "    return response"
   ]
  },
  {
   "cell_type": "markdown",
   "metadata": {},
   "source": [
    "#### Test function "
   ]
  },
  {
   "cell_type": "code",
   "execution_count": 122,
   "metadata": {},
   "outputs": [],
   "source": [
    "# test list\n",
    "imdb_id_list = ['tt5316540', 'tt5719748', 'tt2386490']\n",
    "movie_pages = []\n",
    "for imdb_id in imdb_id_list:\n",
    "    url = 'https://api.themoviedb.org/3/find/' + imdb_id + '?api_key=' + api_key + '&external_source=imdb_id'\n",
    "    response = call_general_movie_page(url)\n",
    "    movie_pages.append(response.json())"
   ]
  },
  {
   "cell_type": "code",
   "execution_count": 123,
   "metadata": {},
   "outputs": [
    {
     "data": {
      "text/plain": [
       "[{'movie_results': [{'adult': False,\n",
       "    'backdrop_path': '/j7n2zYUODG8ViBSq7VyXyGlwJfH.jpg',\n",
       "    'genre_ids': [28, 53],\n",
       "    'id': 460321,\n",
       "    'original_language': 'en',\n",
       "    'original_title': 'Close',\n",
       "    'overview': 'A counter-terrorism expert takes a job protecting a young heiress. After an attempted kidnapping puts both of their lives in danger, they must flee.',\n",
       "    'poster_path': '/gDvJFHJCVXce4SVDsbLOqUk9sKQ.jpg',\n",
       "    'release_date': '2019-01-18',\n",
       "    'title': 'Close',\n",
       "    'video': False,\n",
       "    'vote_average': 5.6,\n",
       "    'vote_count': 222,\n",
       "    'popularity': 23.585}],\n",
       "  'person_results': [],\n",
       "  'tv_results': [],\n",
       "  'tv_episode_results': [],\n",
       "  'tv_season_results': []},\n",
       " {'movie_results': [{'adult': False,\n",
       "    'backdrop_path': '/7Wg6FOEvhduISlxSzSCutAl4lPq.jpg',\n",
       "    'genre_ids': [53, 28, 18],\n",
       "    'id': 438650,\n",
       "    'original_language': 'en',\n",
       "    'original_title': 'Cold Pursuit',\n",
       "    'overview': \"Nels Coxman's quiet life comes crashing down when his beloved son dies under mysterious circumstances. His search for the truth soon becomes a quest for revenge as he seeks coldblooded justice against a drug lord and his inner circle.\",\n",
       "    'poster_path': '/hXgmWPd1SuujRZ4QnKLzrj79PAw.jpg',\n",
       "    'release_date': '2019-02-07',\n",
       "    'title': 'Cold Pursuit',\n",
       "    'video': False,\n",
       "    'vote_average': 5.2,\n",
       "    'vote_count': 235,\n",
       "    'popularity': 60.938}],\n",
       "  'person_results': [],\n",
       "  'tv_results': [],\n",
       "  'tv_episode_results': [],\n",
       "  'tv_season_results': []},\n",
       " {'movie_results': [{'id': 166428,\n",
       "    'video': False,\n",
       "    'vote_count': 993,\n",
       "    'vote_average': 7.8,\n",
       "    'title': 'How to Train Your Dragon: The Hidden World',\n",
       "    'release_date': '2019-01-03',\n",
       "    'original_language': 'en',\n",
       "    'original_title': 'How to Train Your Dragon: The Hidden World',\n",
       "    'genre_ids': [12, 16, 10751],\n",
       "    'backdrop_path': '/h3KN24PrOheHVYs9ypuOIdFBEpX.jpg',\n",
       "    'adult': False,\n",
       "    'overview': 'As Hiccup fulfills his dream of creating a peaceful dragon utopia, Toothless’ discovery of an untamed, elusive mate draws the Night Fury away. When danger mounts at home and Hiccup’s reign as village chief is tested, both dragon and rider must make impossible decisions to save their kind.',\n",
       "    'poster_path': '/xvx4Yhf0DVH8G4LzNISpMfFBDy2.jpg',\n",
       "    'popularity': 310.039}],\n",
       "  'person_results': [],\n",
       "  'tv_results': [],\n",
       "  'tv_episode_results': [],\n",
       "  'tv_season_results': []}]"
      ]
     },
     "execution_count": 123,
     "metadata": {},
     "output_type": "execute_result"
    }
   ],
   "source": [
    "movie_pages"
   ]
  },
  {
   "cell_type": "code",
   "execution_count": 124,
   "metadata": {},
   "outputs": [],
   "source": [
    "tmdb_ids = []\n",
    "for movie in movie_pages:\n",
    "    tmdb_ids.append(movie['movie_results'][0]['id'])"
   ]
  },
  {
   "cell_type": "code",
   "execution_count": 125,
   "metadata": {},
   "outputs": [
    {
     "data": {
      "text/plain": [
       "[460321, 438650, 166428]"
      ]
     },
     "execution_count": 125,
     "metadata": {},
     "output_type": "execute_result"
    }
   ],
   "source": [
    "tmdb_ids"
   ]
  },
  {
   "cell_type": "code",
   "execution_count": null,
   "metadata": {},
   "outputs": [],
   "source": [
    "@limits(calls=40, period=10)\n",
    "def call_general_movie_page(url):\n",
    "    response = get(url)\n",
    "    if response.status_code != 200:\n",
    "        raise Exception('API response: {}'.format(response.status_code))\n",
    "    return response"
   ]
  },
  {
   "cell_type": "code",
   "execution_count": 126,
   "metadata": {},
   "outputs": [],
   "source": [
    "# budgets = []\n",
    "# revenues = []\n",
    "# for tmdb_id in tmdb_ids:\n",
    "url = 'https://api.themoviedb.org/3/movie/' + str(438650) + '?api_key=' + api_key\n",
    "response = call_general_movie_page(url)\n",
    "movie_details = response.json()"
   ]
  },
  {
   "cell_type": "code",
   "execution_count": 127,
   "metadata": {},
   "outputs": [
    {
     "data": {
      "text/plain": [
       "{'adult': False,\n",
       " 'backdrop_path': '/7Wg6FOEvhduISlxSzSCutAl4lPq.jpg',\n",
       " 'belongs_to_collection': None,\n",
       " 'budget': 0,\n",
       " 'genres': [{'id': 53, 'name': 'Thriller'},\n",
       "  {'id': 28, 'name': 'Action'},\n",
       "  {'id': 18, 'name': 'Drama'}],\n",
       " 'homepage': 'https://coldpursuit.movie',\n",
       " 'id': 438650,\n",
       " 'imdb_id': 'tt5719748',\n",
       " 'original_language': 'en',\n",
       " 'original_title': 'Cold Pursuit',\n",
       " 'overview': \"Nels Coxman's quiet life comes crashing down when his beloved son dies under mysterious circumstances. His search for the truth soon becomes a quest for revenge as he seeks coldblooded justice against a drug lord and his inner circle.\",\n",
       " 'popularity': 60.938,\n",
       " 'poster_path': '/hXgmWPd1SuujRZ4QnKLzrj79PAw.jpg',\n",
       " 'production_companies': [{'id': 694,\n",
       "   'logo_path': '/5LEHONGkZBIoWvp1ygHOF8iyi1M.png',\n",
       "   'name': 'StudioCanal',\n",
       "   'origin_country': 'FR'},\n",
       "  {'id': 5111,\n",
       "   'logo_path': '/aE4BQJodjfWGODctvPgfbVD2OKO.png',\n",
       "   'name': 'Paradox Produksjon',\n",
       "   'origin_country': 'NO'}],\n",
       " 'production_countries': [{'iso_3166_1': 'CA', 'name': 'Canada'},\n",
       "  {'iso_3166_1': 'NO', 'name': 'Norway'},\n",
       "  {'iso_3166_1': 'GB', 'name': 'United Kingdom'},\n",
       "  {'iso_3166_1': 'US', 'name': 'United States of America'}],\n",
       " 'release_date': '2019-02-07',\n",
       " 'revenue': 0,\n",
       " 'runtime': 118,\n",
       " 'spoken_languages': [{'iso_639_1': 'en', 'name': 'English'}],\n",
       " 'status': 'Released',\n",
       " 'tagline': 'Meet Nels Coxman. Citizen of the Year.',\n",
       " 'title': 'Cold Pursuit',\n",
       " 'video': False,\n",
       " 'vote_average': 5.1,\n",
       " 'vote_count': 239}"
      ]
     },
     "execution_count": 127,
     "metadata": {},
     "output_type": "execute_result"
    }
   ],
   "source": [
    "movie_details"
   ]
  },
  {
   "cell_type": "code",
   "execution_count": 93,
   "metadata": {},
   "outputs": [],
   "source": [
    "url = 'https://api.themoviedb.org/3/find/' + 'tt5316540' + '?api_key=' + api_key + '&external_source=imdb_id'\n",
    "response = call_general_movie_page(url)"
   ]
  },
  {
   "cell_type": "code",
   "execution_count": 94,
   "metadata": {},
   "outputs": [
    {
     "data": {
      "text/plain": [
       "'{\"movie_results\":[{\"adult\":false,\"backdrop_path\":\"/j7n2zYUODG8ViBSq7VyXyGlwJfH.jpg\",\"genre_ids\":[28,53],\"id\":460321,\"original_language\":\"en\",\"original_title\":\"Close\",\"overview\":\"A counter-terrorism expert takes a job protecting a young heiress. After an attempted kidnapping puts both of their lives in danger, they must flee.\",\"poster_path\":\"/gDvJFHJCVXce4SVDsbLOqUk9sKQ.jpg\",\"release_date\":\"2019-01-18\",\"title\":\"Close\",\"video\":false,\"vote_average\":5.6,\"vote_count\":222,\"popularity\":23.585}],\"person_results\":[],\"tv_results\":[],\"tv_episode_results\":[],\"tv_season_results\":[]}'"
      ]
     },
     "execution_count": 94,
     "metadata": {},
     "output_type": "execute_result"
    }
   ],
   "source": [
    "response.text"
   ]
  },
  {
   "cell_type": "markdown",
   "metadata": {},
   "source": [
    "#### Test code for Function"
   ]
  },
  {
   "cell_type": "code",
   "execution_count": 64,
   "metadata": {},
   "outputs": [
    {
     "data": {
      "text/plain": [
       "{'movie_results': [],\n",
       " 'person_results': [],\n",
       " 'tv_results': [],\n",
       " 'tv_episode_results': [],\n",
       " 'tv_season_results': []}"
      ]
     },
     "execution_count": 64,
     "metadata": {},
     "output_type": "execute_result"
    }
   ],
   "source": [
    "test_find = tmdb.Find('tt2255372')\n",
    "test_response = test_find.info(external_source='imdb_id')\n",
    "test_response"
   ]
  },
  {
   "cell_type": "code",
   "execution_count": 80,
   "metadata": {},
   "outputs": [
    {
     "data": {
      "text/plain": [
       "{'movie_results': [{'id': 116745,\n",
       "   'video': False,\n",
       "   'vote_count': 4696,\n",
       "   'vote_average': 7.1,\n",
       "   'title': 'The Secret Life of Walter Mitty',\n",
       "   'release_date': '2013-12-18',\n",
       "   'original_language': 'en',\n",
       "   'original_title': 'The Secret Life of Walter Mitty',\n",
       "   'genre_ids': [12, 35, 18, 14],\n",
       "   'backdrop_path': '/mrvlpJFAzKwZZkLm9VD7Rh2VECi.jpg',\n",
       "   'adult': False,\n",
       "   'overview': 'A timid magazine photo manager who lives life vicariously through daydreams embarks on a true-life adventure when a negative goes missing.',\n",
       "   'poster_path': '/b0nIj7dr2bcLAn3erYhql7f6aUm.jpg',\n",
       "   'popularity': 11.611}],\n",
       " 'person_results': [],\n",
       " 'tv_results': [],\n",
       " 'tv_episode_results': [],\n",
       " 'tv_season_results': []}"
      ]
     },
     "execution_count": 80,
     "metadata": {},
     "output_type": "execute_result"
    }
   ],
   "source": [
    "test_find = tmdb.Find('tt0359950')\n",
    "test_response = test_find.info(external_source='imdb_id')\n",
    "test_response"
   ]
  },
  {
   "cell_type": "code",
   "execution_count": 70,
   "metadata": {},
   "outputs": [],
   "source": [
    "tmdb_id = test_response['movie_results'][0]['id']"
   ]
  },
  {
   "cell_type": "code",
   "execution_count": 86,
   "metadata": {},
   "outputs": [],
   "source": [
    "# X-RateLimit-Limit: 40\n",
    "# X-RateLimit-Remaining: 39\n",
    "# X-RateLimit-Reset: 1541720136"
   ]
  },
  {
   "cell_type": "code",
   "execution_count": 71,
   "metadata": {},
   "outputs": [
    {
     "data": {
      "text/plain": [
       "{'adult': False,\n",
       " 'backdrop_path': '/mrvlpJFAzKwZZkLm9VD7Rh2VECi.jpg',\n",
       " 'belongs_to_collection': None,\n",
       " 'budget': 90000000,\n",
       " 'genres': [{'id': 12, 'name': 'Adventure'},\n",
       "  {'id': 35, 'name': 'Comedy'},\n",
       "  {'id': 18, 'name': 'Drama'},\n",
       "  {'id': 14, 'name': 'Fantasy'}],\n",
       " 'homepage': None,\n",
       " 'id': 116745,\n",
       " 'imdb_id': 'tt0359950',\n",
       " 'original_language': 'en',\n",
       " 'original_title': 'The Secret Life of Walter Mitty',\n",
       " 'overview': 'A timid magazine photo manager who lives life vicariously through daydreams embarks on a true-life adventure when a negative goes missing.',\n",
       " 'popularity': 11.611,\n",
       " 'poster_path': '/b0nIj7dr2bcLAn3erYhql7f6aUm.jpg',\n",
       " 'production_companies': [{'id': 290,\n",
       "   'logo_path': '/Q8mw2AOQQc8Qg0uNwLWq86DVZv.png',\n",
       "   'name': 'Ingenious Media',\n",
       "   'origin_country': 'GB'},\n",
       "  {'id': 22213,\n",
       "   'logo_path': '/qx9K6bFWJupwde0xQDwOvXkOaL8.png',\n",
       "   'name': 'TSG Entertainment',\n",
       "   'origin_country': 'US'},\n",
       "  {'id': 9118,\n",
       "   'logo_path': '/9o6KLcDBRw3fNItUflJVwj8dZpC.png',\n",
       "   'name': 'Samuel Goldwyn Films',\n",
       "   'origin_country': 'US'},\n",
       "  {'id': 12,\n",
       "   'logo_path': '/iaYpEp3LQmb8AfAtmTvpqd4149c.png',\n",
       "   'name': 'New Line Cinema',\n",
       "   'origin_country': 'US'},\n",
       "  {'id': 10893,\n",
       "   'logo_path': None,\n",
       "   'name': 'Big Screen Productions',\n",
       "   'origin_country': ''},\n",
       "  {'id': 37336,\n",
       "   'logo_path': None,\n",
       "   'name': 'Down Productions',\n",
       "   'origin_country': ''},\n",
       "  {'id': 25,\n",
       "   'logo_path': '/qZCc1lty5FzX30aOCVRBLzaVmcp.png',\n",
       "   'name': '20th Century Fox',\n",
       "   'origin_country': 'US'},\n",
       "  {'id': 2932,\n",
       "   'logo_path': '/4uLKLjGivVg2YnAIhAn8k7ZuVFj.png',\n",
       "   'name': 'Red Hour',\n",
       "   'origin_country': 'US'}],\n",
       " 'production_countries': [{'iso_3166_1': 'US',\n",
       "   'name': 'United States of America'}],\n",
       " 'release_date': '2013-12-18',\n",
       " 'revenue': 188133322,\n",
       " 'runtime': 114,\n",
       " 'spoken_languages': [{'iso_639_1': 'en', 'name': 'English'}],\n",
       " 'status': 'Released',\n",
       " 'tagline': 'Stop Dreaming, Start Living',\n",
       " 'title': 'The Secret Life of Walter Mitty',\n",
       " 'video': False,\n",
       " 'vote_average': 7.1,\n",
       " 'vote_count': 4696}"
      ]
     },
     "execution_count": 71,
     "metadata": {},
     "output_type": "execute_result"
    }
   ],
   "source": [
    "response = tmdb.Movies(tmdb_id).info()\n",
    "response"
   ]
  },
  {
   "cell_type": "code",
   "execution_count": 72,
   "metadata": {},
   "outputs": [
    {
     "data": {
      "text/plain": [
       "90000000"
      ]
     },
     "execution_count": 72,
     "metadata": {},
     "output_type": "execute_result"
    }
   ],
   "source": [
    "response['budget']"
   ]
  },
  {
   "cell_type": "code",
   "execution_count": 73,
   "metadata": {},
   "outputs": [
    {
     "data": {
      "text/plain": [
       "188133322"
      ]
     },
     "execution_count": 73,
     "metadata": {},
     "output_type": "execute_result"
    }
   ],
   "source": [
    "response['revenue']"
   ]
  },
  {
   "cell_type": "markdown",
   "metadata": {},
   "source": [
    "#### Request Function using wrapper"
   ]
  },
  {
   "cell_type": "code",
   "execution_count": null,
   "metadata": {},
   "outputs": [],
   "source": [
    "def get_budget_and_revenue(list_of_imdb_ids):\n",
    "    \n",
    "    counter = 0\n",
    "    \n",
    "    budget_dict = {}\n",
    "    revenue_dict = {}\n",
    "    \n",
    "    for imdb_id in list_of_imdb_ids:\n",
    "        find = tmdb.Find(imdb_id)\n",
    "        find_response = find.info(external_source='imdb_id')\n",
    "        counter += 1\n",
    "        print(f'counter = {counter}')\n",
    "        \n",
    "        if find_response['movie_results']:\n",
    "            tmdb_id = find_response['movie_results'][0]['id']\n",
    "            movie_response = tmdb.Movies(tmdb_id).info()\n",
    "            budget_dict[imdb_id] = movie_response['budget']\n",
    "            revenue_dict[imdb_id] = movie_response['revenue']\n",
    "            counter += 1\n",
    "            print(f'counter = {counter}')\n",
    "        else:\n",
    "            print(f'No movie info for {imdb_id}')"
   ]
  },
  {
   "cell_type": "code",
   "execution_count": 88,
   "metadata": {},
   "outputs": [
    {
     "name": "stdout",
     "output_type": "stream",
     "text": [
      "0. This is a thing!\n",
      "0. This is a thing!\n",
      "0. This is a thing!\n",
      "0. This is a thing!\n",
      "0. This is a thing!\n",
      "0. This is a thing!\n",
      "0. This is a thing!\n",
      "0. This is a thing!\n",
      "0. This is a thing!\n",
      "0. This is a thing!\n",
      "0. This is a thing!\n",
      "0. This is a thing!\n",
      "0. This is a thing!\n",
      "0. This is a thing!\n",
      "0. This is a thing!\n",
      "0. This is a thing!\n",
      "0. This is a thing!\n",
      "0. This is a thing!\n",
      "0. This is a thing!\n",
      "0. This is a thing!\n",
      "0. This is a thing!\n",
      "0. This is a thing!\n",
      "0. This is a thing!\n",
      "0. This is a thing!\n",
      "0. This is a thing!\n",
      "0. This is a thing!\n",
      "0. This is a thing!\n",
      "0. This is a thing!\n",
      "0. This is a thing!\n",
      "0. This is a thing!\n",
      "0. This is a thing!\n",
      "0. This is a thing!\n",
      "0. This is a thing!\n",
      "0. This is a thing!\n",
      "0. This is a thing!\n",
      "0. This is a thing!\n",
      "0. This is a thing!\n",
      "0. This is a thing!\n",
      "0. This is a thing!\n",
      "0. This is a thing!\n",
      "0. This is a thing!\n",
      "0. This is a thing!\n",
      "0. This is a thing!\n",
      "0. This is a thing!\n",
      "0. This is a thing!\n",
      "0. This is a thing!\n",
      "0. This is a thing!\n",
      "0. This is a thing!\n"
     ]
    },
    {
     "data": {
      "text/plain": [
       "{'10': '5', 'Things': '5', 'I': '5', 'Hate': '5', 'About': '5', 'You': '5'}"
      ]
     },
     "execution_count": 88,
     "metadata": {},
     "output_type": "execute_result"
    }
   ],
   "source": [
    "# test sleep\n",
    "random_list = ['10', 'Things', 'I', 'Hate', 'About', 'You']\n",
    "other_random_list = ['a', 'b', 'c', '1', '2', '3', '4', '5']\n",
    "\n",
    "empty_dict = {}\n",
    "for x in random_list:\n",
    "    for y in other_random_list:\n",
    "        counter = 0\n",
    "        if counter < 40:\n",
    "            empty_dict[x] = y\n",
    "            print(f'{counter}. This is a thing!')\n",
    "            counter += 1\n",
    "        if counter == 40:\n",
    "            print('Going to sleep for 10 seconds now. Zzzzz')\n",
    "            sleep(10)\n",
    "            counter = 0\n",
    "            \n",
    "empty_dict"
   ]
  },
  {
   "cell_type": "code",
   "execution_count": null,
   "metadata": {},
   "outputs": [],
   "source": []
  }
 ],
 "metadata": {
  "kernelspec": {
   "display_name": "Python [default]",
   "language": "python",
   "name": "python3"
  },
  "language_info": {
   "codemirror_mode": {
    "name": "ipython",
    "version": 3
   },
   "file_extension": ".py",
   "mimetype": "text/x-python",
   "name": "python",
   "nbconvert_exporter": "python",
   "pygments_lexer": "ipython3",
   "version": "3.6.6"
  },
  "toc": {
   "base_numbering": 1,
   "nav_menu": {},
   "number_sections": false,
   "sideBar": true,
   "skip_h1_title": false,
   "title_cell": "Table of Contents",
   "title_sidebar": "Contents",
   "toc_cell": false,
   "toc_position": {},
   "toc_section_display": true,
   "toc_window_display": true
  }
 },
 "nbformat": 4,
 "nbformat_minor": 2
}
