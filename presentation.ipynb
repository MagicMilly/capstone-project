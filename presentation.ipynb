{
 "cells": [
  {
   "cell_type": "markdown",
   "metadata": {},
   "source": [
    "## Women in Film & The Bechdel Test\n",
    "* Emily J. Cain\n",
    "* Capstone Project"
   ]
  },
  {
   "cell_type": "code",
   "execution_count": 1,
   "metadata": {},
   "outputs": [
    {
     "data": {
      "text/html": [
       "<script type=\"text/javascript\">window.PlotlyConfig = {MathJaxConfig: 'local'};</script><script type=\"text/javascript\">if (window.MathJax) {MathJax.Hub.Config({SVG: {font: \"STIX-Web\"}});}</script><script>requirejs.config({paths: { 'plotly': ['https://cdn.plot.ly/plotly-latest.min']},});if(!window._Plotly) {require(['plotly'],function(plotly) {window._Plotly=plotly;});}</script>"
      ],
      "text/vnd.plotly.v1+html": [
       "<script type=\"text/javascript\">window.PlotlyConfig = {MathJaxConfig: 'local'};</script><script type=\"text/javascript\">if (window.MathJax) {MathJax.Hub.Config({SVG: {font: \"STIX-Web\"}});}</script><script>requirejs.config({paths: { 'plotly': ['https://cdn.plot.ly/plotly-latest.min']},});if(!window._Plotly) {require(['plotly'],function(plotly) {window._Plotly=plotly;});}</script>"
      ]
     },
     "metadata": {},
     "output_type": "display_data"
    }
   ],
   "source": [
    "import numpy as np\n",
    "import os\n",
    "import pandas as pd\n",
    "import plotly.graph_objs as go\n",
    "\n",
    "# import get, requests - whatever was used for TMDb API calls, plus additional wrappers/libraries\n",
    "# beautiful soup\n",
    "# scipy.stats\n",
    "\n",
    "from plotly.offline import download_plotlyjs, init_notebook_mode, plot, iplot\n",
    "init_notebook_mode(connected=True)"
   ]
  },
  {
   "cell_type": "code",
   "execution_count": null,
   "metadata": {},
   "outputs": [],
   "source": [
    "# Notes\n",
    "# Include any custom functions used with docstrings\n",
    "# External and Internal Hyperlinks (for table of contents)\n",
    "# Add probability calculations to dataframe to be used for Tab Two on app?"
   ]
  },
  {
   "cell_type": "markdown",
   "metadata": {},
   "source": [
    "## I. Data Collection & Cleaning\n",
    "\n",
    "### Sources\n",
    "#### Primary\n",
    "* Bechdel Test Website - scraped\n",
    "* TMDb API\n",
    "* Wikidata SPARQL Queries\n",
    "\n",
    "#### Supplemental\n",
    "* Kaggle Datasets\n",
    "* U.S. Census Bureau\n",
    "* Motion Picture Association of America (MPAA)\n",
    "* Women's Media Center (WMC)"
   ]
  },
  {
   "cell_type": "markdown",
   "metadata": {},
   "source": [
    "### A. Bechdel Test Website\n",
    "Scraped using Beautiful Soup to obtain:\n",
    "* Name of movie\n",
    "* Year\n",
    "* Total points\n",
    "    * 1 point for at least two named female characters (\"Women in Cafe #1\", for example, would not qualify)\n",
    "    * 2 points for named female characters who talk to each other\n",
    "    * 3 points for named female characters who talk to each other about something other than a man\n",
    "* Passing or Non-Passing (3 points = Passing)"
   ]
  },
  {
   "cell_type": "markdown",
   "metadata": {},
   "source": [
    "### B. TMDb (The Movie Database) API\n",
    "API calls made with (whatever that name was)"
   ]
  },
  {
   "cell_type": "markdown",
   "metadata": {},
   "source": [
    "### C. Wikidata SPARQL Queries\n",
    "* Used to find movies that had a Bechdel Test id to obtain (if available):\n",
    "    * Director(s) Name & Gender\n",
    "    * Screenwriter(s) Name & Gender\n",
    "    * Producer(s) Name & Gender\n",
    "    * Film Budget\n",
    "    * Box Office Revenue\n",
    "    \n",
    "    \n",
    "* Used for Academy Awards queries to obtain (if available):\n",
    "    * Nominees and Winners for all current and defunct non-acting categories\n",
    "    * Names\n",
    "    * Genders\n",
    "    * Year of Awards show"
   ]
  },
  {
   "cell_type": "markdown",
   "metadata": {},
   "source": [
    "## II. Exploratory Data Analysis & Visualizations"
   ]
  },
  {
   "cell_type": "markdown",
   "metadata": {},
   "source": [
    "## III. Conditional Probability with Bayes Theorem"
   ]
  },
  {
   "cell_type": "markdown",
   "metadata": {},
   "source": [
    "## IV. Hypothesis Testing"
   ]
  },
  {
   "cell_type": "markdown",
   "metadata": {},
   "source": [
    "## V. Dashboard\n",
    "* Visualize important insight & metrics\n",
    "* Allow user to explore, customize, and extract the data that interests them"
   ]
  },
  {
   "cell_type": "markdown",
   "metadata": {},
   "source": [
    "## VI. Conclusion"
   ]
  },
  {
   "cell_type": "markdown",
   "metadata": {},
   "source": [
    "### A. Crowdsourced Data"
   ]
  },
  {
   "cell_type": "markdown",
   "metadata": {},
   "source": [
    "## VII. Recommendations"
   ]
  },
  {
   "cell_type": "markdown",
   "metadata": {},
   "source": [
    "### A. Existing Projects & Initiatives:\n",
    "* Annenberg Inclusion Initiative - University of Southern California based think tank focused on diversity and inclusion in entertainment\n",
    "* Women's Media Center - Nonpartisan and Non-profit organization founded by Jane Fonda, Robin Morgan and Gloria Steinem to raise awareness and take action on a wide range of issues affecting women and girls\n",
    "* Geena Davis Institute on Gender & Media - \"If she can see it, she can be it\" - promotes increased visibility of women in media and in other roles, especially in roles where girls may not have seen much female representation\n",
    "* Women in Media - Non-profit organization promoting gender balance in media by offering networking for female and female-identifying crew members"
   ]
  },
  {
   "cell_type": "markdown",
   "metadata": {},
   "source": [
    "## VIII. Further Research"
   ]
  }
 ],
 "metadata": {
  "kernelspec": {
   "display_name": "Python (learn-env)",
   "language": "python",
   "name": "learn-env"
  },
  "language_info": {
   "codemirror_mode": {
    "name": "ipython",
    "version": 3
   },
   "file_extension": ".py",
   "mimetype": "text/x-python",
   "name": "python",
   "nbconvert_exporter": "python",
   "pygments_lexer": "ipython3",
   "version": "3.7.2"
  }
 },
 "nbformat": 4,
 "nbformat_minor": 2
}
