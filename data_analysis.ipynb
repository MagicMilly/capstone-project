{
 "cells": [
  {
   "cell_type": "code",
   "execution_count": 30,
   "metadata": {},
   "outputs": [],
   "source": [
    "# notes\n",
    "# change Bayes Theorem to markdown"
   ]
  },
  {
   "cell_type": "markdown",
   "metadata": {},
   "source": [
    "## Data Analysis\n",
    "* Sampling\n",
    "* Calculate likelihoods/probabilities\n",
    "* Hypothesis Testing"
   ]
  },
  {
   "cell_type": "code",
   "execution_count": 1,
   "metadata": {},
   "outputs": [
    {
     "data": {
      "text/html": [
       "<script type=\"text/javascript\">window.PlotlyConfig = {MathJaxConfig: 'local'};</script><script type=\"text/javascript\">if (window.MathJax) {MathJax.Hub.Config({SVG: {font: \"STIX-Web\"}});}</script><script>requirejs.config({paths: { 'plotly': ['https://cdn.plot.ly/plotly-latest.min']},});if(!window._Plotly) {require(['plotly'],function(plotly) {window._Plotly=plotly;});}</script>"
      ],
      "text/vnd.plotly.v1+html": [
       "<script type=\"text/javascript\">window.PlotlyConfig = {MathJaxConfig: 'local'};</script><script type=\"text/javascript\">if (window.MathJax) {MathJax.Hub.Config({SVG: {font: \"STIX-Web\"}});}</script><script>requirejs.config({paths: { 'plotly': ['https://cdn.plot.ly/plotly-latest.min']},});if(!window._Plotly) {require(['plotly'],function(plotly) {window._Plotly=plotly;});}</script>"
      ]
     },
     "metadata": {},
     "output_type": "display_data"
    }
   ],
   "source": [
    "import numpy as np\n",
    "import pandas as pd\n",
    "import plotly.graph_objs as go\n",
    "\n",
    "from plotly.offline import download_plotlyjs, init_notebook_mode, plot, iplot\n",
    "init_notebook_mode(connected=True)"
   ]
  },
  {
   "cell_type": "markdown",
   "metadata": {},
   "source": [
    "### I. Bechdel Test Dataset \n",
    "* determine probability of a film to pass the test"
   ]
  },
  {
   "cell_type": "code",
   "execution_count": 18,
   "metadata": {},
   "outputs": [
    {
     "data": {
      "text/html": [
       "<div>\n",
       "<style scoped>\n",
       "    .dataframe tbody tr th:only-of-type {\n",
       "        vertical-align: middle;\n",
       "    }\n",
       "\n",
       "    .dataframe tbody tr th {\n",
       "        vertical-align: top;\n",
       "    }\n",
       "\n",
       "    .dataframe thead th {\n",
       "        text-align: right;\n",
       "    }\n",
       "</style>\n",
       "<table border=\"1\" class=\"dataframe\">\n",
       "  <thead>\n",
       "    <tr style=\"text-align: right;\">\n",
       "      <th></th>\n",
       "      <th>year</th>\n",
       "      <th>title</th>\n",
       "      <th>score</th>\n",
       "      <th>passing</th>\n",
       "      <th>imdb_id</th>\n",
       "      <th>director_gender</th>\n",
       "      <th>writer_gender</th>\n",
       "      <th>exec_gender</th>\n",
       "      <th>producer_gender</th>\n",
       "      <th>overall_gender</th>\n",
       "      <th>budget</th>\n",
       "      <th>revenue</th>\n",
       "    </tr>\n",
       "  </thead>\n",
       "  <tbody>\n",
       "    <tr>\n",
       "      <th>0</th>\n",
       "      <td>2019.0</td>\n",
       "      <td>Alita: Battle Angel</td>\n",
       "      <td>3.0</td>\n",
       "      <td>1.0</td>\n",
       "      <td>tt0437086</td>\n",
       "      <td>0.0</td>\n",
       "      <td>1.0</td>\n",
       "      <td>0.0</td>\n",
       "      <td>0.0</td>\n",
       "      <td>1.0</td>\n",
       "      <td>170000000.0</td>\n",
       "      <td>359700000.0</td>\n",
       "    </tr>\n",
       "    <tr>\n",
       "      <th>1</th>\n",
       "      <td>2019.0</td>\n",
       "      <td>Close</td>\n",
       "      <td>3.0</td>\n",
       "      <td>1.0</td>\n",
       "      <td>tt5316540</td>\n",
       "      <td>1.0</td>\n",
       "      <td>1.0</td>\n",
       "      <td>0.0</td>\n",
       "      <td>0.0</td>\n",
       "      <td>2.0</td>\n",
       "      <td>0.0</td>\n",
       "      <td>0.0</td>\n",
       "    </tr>\n",
       "    <tr>\n",
       "      <th>2</th>\n",
       "      <td>2019.0</td>\n",
       "      <td>Cold Pursuit</td>\n",
       "      <td>1.0</td>\n",
       "      <td>0.0</td>\n",
       "      <td>tt5719748</td>\n",
       "      <td>0.0</td>\n",
       "      <td>0.0</td>\n",
       "      <td>0.0</td>\n",
       "      <td>0.0</td>\n",
       "      <td>0.0</td>\n",
       "      <td>0.0</td>\n",
       "      <td>0.0</td>\n",
       "    </tr>\n",
       "    <tr>\n",
       "      <th>3</th>\n",
       "      <td>2019.0</td>\n",
       "      <td>The Kid Who Would Be King</td>\n",
       "      <td>1.0</td>\n",
       "      <td>0.0</td>\n",
       "      <td>tt6811018</td>\n",
       "      <td>0.0</td>\n",
       "      <td>0.0</td>\n",
       "      <td>0.0</td>\n",
       "      <td>1.0</td>\n",
       "      <td>1.0</td>\n",
       "      <td>0.0</td>\n",
       "      <td>0.0</td>\n",
       "    </tr>\n",
       "    <tr>\n",
       "      <th>4</th>\n",
       "      <td>2019.0</td>\n",
       "      <td>Polar</td>\n",
       "      <td>2.0</td>\n",
       "      <td>0.0</td>\n",
       "      <td>tt4139588</td>\n",
       "      <td>0.0</td>\n",
       "      <td>0.0</td>\n",
       "      <td>0.0</td>\n",
       "      <td>0.0</td>\n",
       "      <td>0.0</td>\n",
       "      <td>0.0</td>\n",
       "      <td>0.0</td>\n",
       "    </tr>\n",
       "  </tbody>\n",
       "</table>\n",
       "</div>"
      ],
      "text/plain": [
       "     year                      title  score  passing    imdb_id  \\\n",
       "0  2019.0        Alita: Battle Angel    3.0      1.0  tt0437086   \n",
       "1  2019.0                      Close    3.0      1.0  tt5316540   \n",
       "2  2019.0               Cold Pursuit    1.0      0.0  tt5719748   \n",
       "3  2019.0  The Kid Who Would Be King    1.0      0.0  tt6811018   \n",
       "4  2019.0                      Polar    2.0      0.0  tt4139588   \n",
       "\n",
       "   director_gender  writer_gender  exec_gender  producer_gender  \\\n",
       "0              0.0            1.0          0.0              0.0   \n",
       "1              1.0            1.0          0.0              0.0   \n",
       "2              0.0            0.0          0.0              0.0   \n",
       "3              0.0            0.0          0.0              1.0   \n",
       "4              0.0            0.0          0.0              0.0   \n",
       "\n",
       "   overall_gender       budget      revenue  \n",
       "0             1.0  170000000.0  359700000.0  \n",
       "1             2.0          0.0          0.0  \n",
       "2             0.0          0.0          0.0  \n",
       "3             1.0          0.0          0.0  \n",
       "4             0.0          0.0          0.0  "
      ]
     },
     "execution_count": 18,
     "metadata": {},
     "output_type": "execute_result"
    }
   ],
   "source": [
    "df = pd.read_csv('my_data/updated_bechdel_4.csv')\n",
    "df.head()"
   ]
  },
  {
   "cell_type": "code",
   "execution_count": 19,
   "metadata": {},
   "outputs": [
    {
     "data": {
      "text/plain": [
       "(7612, 12)"
      ]
     },
     "execution_count": 19,
     "metadata": {},
     "output_type": "execute_result"
    }
   ],
   "source": [
    "df.shape"
   ]
  },
  {
   "cell_type": "markdown",
   "metadata": {},
   "source": [
    "Add Captain Marvel to dataset because it was released after I scraped Bechdel Test website (though the revenue will not be accurate at this point). "
   ]
  },
  {
   "cell_type": "code",
   "execution_count": 20,
   "metadata": {},
   "outputs": [
    {
     "data": {
      "text/plain": [
       "year                         2019\n",
       "title              Captain Marvel\n",
       "score                           3\n",
       "passing                         1\n",
       "imdb_id                 tt4154664\n",
       "director_gender                 1\n",
       "writer_gender                   1\n",
       "exec_gender                     1\n",
       "producer_gender                 1\n",
       "overall_gender                  4\n",
       "budget                  160000000\n",
       "revenue                 890000000\n",
       "dtype: object"
      ]
     },
     "execution_count": 20,
     "metadata": {},
     "output_type": "execute_result"
    }
   ],
   "source": [
    "captain_marvel = pd.Series({'year': 2019.0, 'title': 'Captain Marvel', 'score': 3.0, 'passing': 1.0, 'imdb_id': 'tt4154664', \n",
    "                            'director_gender': 1.0, 'writer_gender': 1.0, 'exec_gender': 1.0, 'producer_gender': 1.0, \n",
    "                            'overall_gender': 4.0, 'budget': 160000000, 'revenue': 890000000})\n",
    "captain_marvel"
   ]
  },
  {
   "cell_type": "code",
   "execution_count": 21,
   "metadata": {},
   "outputs": [],
   "source": [
    "df = df.append(captain_marvel, ignore_index=True)"
   ]
  },
  {
   "cell_type": "code",
   "execution_count": 22,
   "metadata": {},
   "outputs": [
    {
     "data": {
      "text/html": [
       "<div>\n",
       "<style scoped>\n",
       "    .dataframe tbody tr th:only-of-type {\n",
       "        vertical-align: middle;\n",
       "    }\n",
       "\n",
       "    .dataframe tbody tr th {\n",
       "        vertical-align: top;\n",
       "    }\n",
       "\n",
       "    .dataframe thead th {\n",
       "        text-align: right;\n",
       "    }\n",
       "</style>\n",
       "<table border=\"1\" class=\"dataframe\">\n",
       "  <thead>\n",
       "    <tr style=\"text-align: right;\">\n",
       "      <th></th>\n",
       "      <th>year</th>\n",
       "      <th>title</th>\n",
       "      <th>score</th>\n",
       "      <th>passing</th>\n",
       "      <th>imdb_id</th>\n",
       "      <th>director_gender</th>\n",
       "      <th>writer_gender</th>\n",
       "      <th>exec_gender</th>\n",
       "      <th>producer_gender</th>\n",
       "      <th>overall_gender</th>\n",
       "      <th>budget</th>\n",
       "      <th>revenue</th>\n",
       "    </tr>\n",
       "  </thead>\n",
       "  <tbody>\n",
       "    <tr>\n",
       "      <th>7608</th>\n",
       "      <td>2013.0</td>\n",
       "      <td>Future Shift</td>\n",
       "      <td>3.0</td>\n",
       "      <td>1.0</td>\n",
       "      <td>tt2991316</td>\n",
       "      <td>1.0</td>\n",
       "      <td>1.0</td>\n",
       "      <td>0.0</td>\n",
       "      <td>1.0</td>\n",
       "      <td>3.0</td>\n",
       "      <td>0.0</td>\n",
       "      <td>0.0</td>\n",
       "    </tr>\n",
       "    <tr>\n",
       "      <th>7609</th>\n",
       "      <td>2013.0</td>\n",
       "      <td>The Immigrant</td>\n",
       "      <td>3.0</td>\n",
       "      <td>1.0</td>\n",
       "      <td>tt1951181</td>\n",
       "      <td>0.0</td>\n",
       "      <td>0.0</td>\n",
       "      <td>0.0</td>\n",
       "      <td>0.0</td>\n",
       "      <td>0.0</td>\n",
       "      <td>16000000.0</td>\n",
       "      <td>5900000.0</td>\n",
       "    </tr>\n",
       "    <tr>\n",
       "      <th>7610</th>\n",
       "      <td>2013.0</td>\n",
       "      <td>Lost In Living</td>\n",
       "      <td>3.0</td>\n",
       "      <td>1.0</td>\n",
       "      <td>tt2628260</td>\n",
       "      <td>1.0</td>\n",
       "      <td>0.0</td>\n",
       "      <td>0.0</td>\n",
       "      <td>1.0</td>\n",
       "      <td>2.0</td>\n",
       "      <td>0.0</td>\n",
       "      <td>0.0</td>\n",
       "    </tr>\n",
       "    <tr>\n",
       "      <th>7611</th>\n",
       "      <td>2012.0</td>\n",
       "      <td>All I Want Is Everything</td>\n",
       "      <td>3.0</td>\n",
       "      <td>1.0</td>\n",
       "      <td>tt2387222</td>\n",
       "      <td>1.0</td>\n",
       "      <td>1.0</td>\n",
       "      <td>0.0</td>\n",
       "      <td>0.0</td>\n",
       "      <td>2.0</td>\n",
       "      <td>0.0</td>\n",
       "      <td>0.0</td>\n",
       "    </tr>\n",
       "    <tr>\n",
       "      <th>7612</th>\n",
       "      <td>2019.0</td>\n",
       "      <td>Captain Marvel</td>\n",
       "      <td>3.0</td>\n",
       "      <td>1.0</td>\n",
       "      <td>tt4154664</td>\n",
       "      <td>1.0</td>\n",
       "      <td>1.0</td>\n",
       "      <td>1.0</td>\n",
       "      <td>1.0</td>\n",
       "      <td>4.0</td>\n",
       "      <td>160000000.0</td>\n",
       "      <td>890000000.0</td>\n",
       "    </tr>\n",
       "  </tbody>\n",
       "</table>\n",
       "</div>"
      ],
      "text/plain": [
       "        year                     title  score  passing    imdb_id  \\\n",
       "7608  2013.0              Future Shift    3.0      1.0  tt2991316   \n",
       "7609  2013.0             The Immigrant    3.0      1.0  tt1951181   \n",
       "7610  2013.0            Lost In Living    3.0      1.0  tt2628260   \n",
       "7611  2012.0  All I Want Is Everything    3.0      1.0  tt2387222   \n",
       "7612  2019.0            Captain Marvel    3.0      1.0  tt4154664   \n",
       "\n",
       "      director_gender  writer_gender  exec_gender  producer_gender  \\\n",
       "7608              1.0            1.0          0.0              1.0   \n",
       "7609              0.0            0.0          0.0              0.0   \n",
       "7610              1.0            0.0          0.0              1.0   \n",
       "7611              1.0            1.0          0.0              0.0   \n",
       "7612              1.0            1.0          1.0              1.0   \n",
       "\n",
       "      overall_gender       budget      revenue  \n",
       "7608             3.0          0.0          0.0  \n",
       "7609             0.0   16000000.0    5900000.0  \n",
       "7610             2.0          0.0          0.0  \n",
       "7611             2.0          0.0          0.0  \n",
       "7612             4.0  160000000.0  890000000.0  "
      ]
     },
     "execution_count": 22,
     "metadata": {},
     "output_type": "execute_result"
    }
   ],
   "source": [
    "df.tail()"
   ]
  },
  {
   "cell_type": "code",
   "execution_count": 23,
   "metadata": {},
   "outputs": [
    {
     "data": {
      "text/plain": [
       "1.0    4362\n",
       "0.0    3251\n",
       "Name: passing, dtype: int64"
      ]
     },
     "execution_count": 23,
     "metadata": {},
     "output_type": "execute_result"
    }
   ],
   "source": [
    "df.passing.value_counts()"
   ]
  },
  {
   "cell_type": "markdown",
   "metadata": {},
   "source": [
    "#### Probability of randomly selected film passing"
   ]
  },
  {
   "cell_type": "code",
   "execution_count": 24,
   "metadata": {},
   "outputs": [
    {
     "data": {
      "text/plain": [
       "57.3"
      ]
     },
     "execution_count": 24,
     "metadata": {},
     "output_type": "execute_result"
    }
   ],
   "source": [
    "passing_proba = 4362/len(df)\n",
    "passing_proba = round((passing_proba * 100),2)\n",
    "passing_proba"
   ]
  },
  {
   "cell_type": "markdown",
   "metadata": {},
   "source": [
    "#### Verify probability of randomly selected film passing with random sampling"
   ]
  },
  {
   "cell_type": "code",
   "execution_count": 29,
   "metadata": {},
   "outputs": [
    {
     "name": "stdout",
     "output_type": "stream",
     "text": [
      "The mean passing value of 100 samples is 57.0\n"
     ]
    }
   ],
   "source": [
    "sample_passing = []\n",
    "for i in range(100):\n",
    "    sample = df.sample(n=100, replace=True, random_state=19)\n",
    "    passing = sample.passing.value_counts()[1]\n",
    "    sample_passing.append(passing)\n",
    "\n",
    "print(f'The mean passing value of 100 samples is {np.mean(sample_passing)}')"
   ]
  },
  {
   "cell_type": "code",
   "execution_count": 27,
   "metadata": {},
   "outputs": [
    {
     "name": "stdout",
     "output_type": "stream",
     "text": [
      "1.0    67\n",
      "0.0    33\n",
      "Name: passing, dtype: int64\n",
      "67\n"
     ]
    }
   ],
   "source": [
    "test_sample = df.sample(n=100)\n",
    "print(test_sample.passing.value_counts())\n",
    "print(test_sample.passing.value_counts()[1])"
   ]
  },
  {
   "cell_type": "markdown",
   "metadata": {},
   "source": [
    "#### Conditional Probability, Bayes Theorem, & Likelihood\n",
    "Visualizations have shown that films with a director and/or writer of an underrepresented gender are more likely to pass the Test </br>\n",
    "P(A|B) = P(A) * P(B|A) / P(B)"
   ]
  },
  {
   "cell_type": "markdown",
   "metadata": {},
   "source": [
    "P(A) = Probability of a film passing the Bechdel Test for this dataset </br>\n",
    "P(B) = Probability of a film having a director of an underrepresented gender </br>\n",
    "P(C) = Probability of a film having a writer of an underrepresented gender </br>"
   ]
  },
  {
   "cell_type": "code",
   "execution_count": 34,
   "metadata": {},
   "outputs": [
    {
     "data": {
      "text/plain": [
       "0.1"
      ]
     },
     "execution_count": 34,
     "metadata": {},
     "output_type": "execute_result"
    }
   ],
   "source": [
    "director_proba = round((df.director_gender.value_counts()[1] / len(df)),2)\n",
    "director_proba"
   ]
  },
  {
   "cell_type": "code",
   "execution_count": 36,
   "metadata": {},
   "outputs": [
    {
     "data": {
      "text/plain": [
       "0.16"
      ]
     },
     "execution_count": 36,
     "metadata": {},
     "output_type": "execute_result"
    }
   ],
   "source": [
    "writer_proba = round((df.writer_gender.value_counts()[1] / len(df)), 2)\n",
    "writer_proba"
   ]
  },
  {
   "cell_type": "markdown",
   "metadata": {},
   "source": [
    "P(A) = 0.57 </br>\n",
    "P(B) = 0.1 </br>\n",
    "P(C) = 0.16"
   ]
  },
  {
   "cell_type": "markdown",
   "metadata": {},
   "source": [
    "#### Likelihood\n",
    "P(B|A) = probability of director gender, given a passing test </br>\n",
    "P(C|A) = probability of writer gender, given a passing test"
   ]
  },
  {
   "cell_type": "code",
   "execution_count": 39,
   "metadata": {},
   "outputs": [
    {
     "data": {
      "text/html": [
       "<div>\n",
       "<style scoped>\n",
       "    .dataframe tbody tr th:only-of-type {\n",
       "        vertical-align: middle;\n",
       "    }\n",
       "\n",
       "    .dataframe tbody tr th {\n",
       "        vertical-align: top;\n",
       "    }\n",
       "\n",
       "    .dataframe thead th {\n",
       "        text-align: right;\n",
       "    }\n",
       "</style>\n",
       "<table border=\"1\" class=\"dataframe\">\n",
       "  <thead>\n",
       "    <tr style=\"text-align: right;\">\n",
       "      <th></th>\n",
       "      <th>year</th>\n",
       "      <th>title</th>\n",
       "      <th>score</th>\n",
       "      <th>passing</th>\n",
       "      <th>imdb_id</th>\n",
       "      <th>director_gender</th>\n",
       "      <th>writer_gender</th>\n",
       "      <th>exec_gender</th>\n",
       "      <th>producer_gender</th>\n",
       "      <th>overall_gender</th>\n",
       "      <th>budget</th>\n",
       "      <th>revenue</th>\n",
       "    </tr>\n",
       "  </thead>\n",
       "  <tbody>\n",
       "    <tr>\n",
       "      <th>0</th>\n",
       "      <td>2019.0</td>\n",
       "      <td>Alita: Battle Angel</td>\n",
       "      <td>3.0</td>\n",
       "      <td>1.0</td>\n",
       "      <td>tt0437086</td>\n",
       "      <td>0.0</td>\n",
       "      <td>1.0</td>\n",
       "      <td>0.0</td>\n",
       "      <td>0.0</td>\n",
       "      <td>1.0</td>\n",
       "      <td>170000000.0</td>\n",
       "      <td>359700000.0</td>\n",
       "    </tr>\n",
       "    <tr>\n",
       "      <th>1</th>\n",
       "      <td>2019.0</td>\n",
       "      <td>Close</td>\n",
       "      <td>3.0</td>\n",
       "      <td>1.0</td>\n",
       "      <td>tt5316540</td>\n",
       "      <td>1.0</td>\n",
       "      <td>1.0</td>\n",
       "      <td>0.0</td>\n",
       "      <td>0.0</td>\n",
       "      <td>2.0</td>\n",
       "      <td>0.0</td>\n",
       "      <td>0.0</td>\n",
       "    </tr>\n",
       "    <tr>\n",
       "      <th>6</th>\n",
       "      <td>2018.0</td>\n",
       "      <td>6 Balloons</td>\n",
       "      <td>3.0</td>\n",
       "      <td>1.0</td>\n",
       "      <td>tt6142496</td>\n",
       "      <td>1.0</td>\n",
       "      <td>1.0</td>\n",
       "      <td>0.0</td>\n",
       "      <td>0.0</td>\n",
       "      <td>2.0</td>\n",
       "      <td>0.0</td>\n",
       "      <td>0.0</td>\n",
       "    </tr>\n",
       "    <tr>\n",
       "      <th>10</th>\n",
       "      <td>2018.0</td>\n",
       "      <td>A Simple Favor</td>\n",
       "      <td>3.0</td>\n",
       "      <td>1.0</td>\n",
       "      <td>tt7040874</td>\n",
       "      <td>0.0</td>\n",
       "      <td>1.0</td>\n",
       "      <td>0.0</td>\n",
       "      <td>1.0</td>\n",
       "      <td>2.0</td>\n",
       "      <td>20000000.0</td>\n",
       "      <td>42600000.0</td>\n",
       "    </tr>\n",
       "    <tr>\n",
       "      <th>11</th>\n",
       "      <td>2018.0</td>\n",
       "      <td>A Star Is Born</td>\n",
       "      <td>3.0</td>\n",
       "      <td>1.0</td>\n",
       "      <td>tt1517451</td>\n",
       "      <td>0.0</td>\n",
       "      <td>1.0</td>\n",
       "      <td>0.0</td>\n",
       "      <td>0.0</td>\n",
       "      <td>1.0</td>\n",
       "      <td>36000000.0</td>\n",
       "      <td>403588149.0</td>\n",
       "    </tr>\n",
       "  </tbody>\n",
       "</table>\n",
       "</div>"
      ],
      "text/plain": [
       "      year                title  score  passing    imdb_id  director_gender  \\\n",
       "0   2019.0  Alita: Battle Angel    3.0      1.0  tt0437086              0.0   \n",
       "1   2019.0                Close    3.0      1.0  tt5316540              1.0   \n",
       "6   2018.0           6 Balloons    3.0      1.0  tt6142496              1.0   \n",
       "10  2018.0       A Simple Favor    3.0      1.0  tt7040874              0.0   \n",
       "11  2018.0       A Star Is Born    3.0      1.0  tt1517451              0.0   \n",
       "\n",
       "    writer_gender  exec_gender  producer_gender  overall_gender       budget  \\\n",
       "0             1.0          0.0              0.0             1.0  170000000.0   \n",
       "1             1.0          0.0              0.0             2.0          0.0   \n",
       "6             1.0          0.0              0.0             2.0          0.0   \n",
       "10            1.0          0.0              1.0             2.0   20000000.0   \n",
       "11            1.0          0.0              0.0             1.0   36000000.0   \n",
       "\n",
       "        revenue  \n",
       "0   359700000.0  \n",
       "1           0.0  \n",
       "6           0.0  \n",
       "10   42600000.0  \n",
       "11  403588149.0  "
      ]
     },
     "execution_count": 39,
     "metadata": {},
     "output_type": "execute_result"
    }
   ],
   "source": [
    "passing_movies = df.loc[df.passing == 1]\n",
    "passing_movies.head()"
   ]
  },
  {
   "cell_type": "code",
   "execution_count": 40,
   "metadata": {},
   "outputs": [
    {
     "data": {
      "text/plain": [
       "(4362, 12)"
      ]
     },
     "execution_count": 40,
     "metadata": {},
     "output_type": "execute_result"
    }
   ],
   "source": [
    "passing_movies.shape"
   ]
  },
  {
   "cell_type": "code",
   "execution_count": 41,
   "metadata": {},
   "outputs": [
    {
     "data": {
      "text/plain": [
       "0.14"
      ]
     },
     "execution_count": 41,
     "metadata": {},
     "output_type": "execute_result"
    }
   ],
   "source": [
    "director_proba_with_passing = round((passing_movies.director_gender.value_counts()[1] / len(passing_movies)),2)\n",
    "director_proba_with_passing"
   ]
  },
  {
   "cell_type": "code",
   "execution_count": 44,
   "metadata": {},
   "outputs": [
    {
     "data": {
      "text/plain": [
       "0.22"
      ]
     },
     "execution_count": 44,
     "metadata": {},
     "output_type": "execute_result"
    }
   ],
   "source": [
    "writer_proba_with_passing = round((passing_movies.writer_gender.value_counts()[1] / len(passing_movies)), 2)\n",
    "writer_proba_with_passing"
   ]
  },
  {
   "cell_type": "markdown",
   "metadata": {},
   "source": [
    "P(B|A) = 0.14 </br>\n",
    "P(C|A) = 0.22"
   ]
  },
  {
   "cell_type": "code",
   "execution_count": 45,
   "metadata": {},
   "outputs": [
    {
     "data": {
      "text/plain": [
       "0.7979999999999999"
      ]
     },
     "execution_count": 45,
     "metadata": {},
     "output_type": "execute_result"
    }
   ],
   "source": [
    "proba_passing_with_director = (0.57 * 0.14) / 0.1\n",
    "proba_passing_with_director"
   ]
  },
  {
   "cell_type": "code",
   "execution_count": 46,
   "metadata": {},
   "outputs": [
    {
     "data": {
      "text/plain": [
       "0.7837499999999998"
      ]
     },
     "execution_count": 46,
     "metadata": {},
     "output_type": "execute_result"
    }
   ],
   "source": [
    "proba_passing_with_writer = (0.57 * 0.22) / 0.16\n",
    "proba_passing_with_writer"
   ]
  },
  {
   "cell_type": "markdown",
   "metadata": {},
   "source": [
    "P(A|B) = probability of passing test, given director of underrepresented gender = 0.8 </br>\n",
    "P(A|C) = probability of passing test, given writer of underrepresented gender = 0.78"
   ]
  }
 ],
 "metadata": {
  "kernelspec": {
   "display_name": "Python (learn-env)",
   "language": "python",
   "name": "learn-env"
  },
  "language_info": {
   "codemirror_mode": {
    "name": "ipython",
    "version": 3
   },
   "file_extension": ".py",
   "mimetype": "text/x-python",
   "name": "python",
   "nbconvert_exporter": "python",
   "pygments_lexer": "ipython3",
   "version": "3.7.2"
  }
 },
 "nbformat": 4,
 "nbformat_minor": 2
}
