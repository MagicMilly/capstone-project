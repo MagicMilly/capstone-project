{
 "cells": [
  {
   "cell_type": "code",
   "execution_count": 1,
   "metadata": {},
   "outputs": [],
   "source": [
    "from SPARQLWrapper import SPARQLWrapper, JSON\n",
    "import pandas as pd"
   ]
  },
  {
   "cell_type": "code",
   "execution_count": 2,
   "metadata": {},
   "outputs": [
    {
     "data": {
      "text/html": [
       "<div>\n",
       "<style scoped>\n",
       "    .dataframe tbody tr th:only-of-type {\n",
       "        vertical-align: middle;\n",
       "    }\n",
       "\n",
       "    .dataframe tbody tr th {\n",
       "        vertical-align: top;\n",
       "    }\n",
       "\n",
       "    .dataframe thead th {\n",
       "        text-align: right;\n",
       "    }\n",
       "</style>\n",
       "<table border=\"1\" class=\"dataframe\">\n",
       "  <thead>\n",
       "    <tr style=\"text-align: right;\">\n",
       "      <th></th>\n",
       "      <th>year</th>\n",
       "      <th>title</th>\n",
       "      <th>score</th>\n",
       "      <th>passing</th>\n",
       "      <th>imdb_id</th>\n",
       "      <th>imdb_link</th>\n",
       "    </tr>\n",
       "  </thead>\n",
       "  <tbody>\n",
       "    <tr>\n",
       "      <th>0</th>\n",
       "      <td>2019</td>\n",
       "      <td>Alita: Battle Angel</td>\n",
       "      <td>3</td>\n",
       "      <td>1</td>\n",
       "      <td>tt0437086</td>\n",
       "      <td>http://us.imdb.com/title/tt0437086/</td>\n",
       "    </tr>\n",
       "    <tr>\n",
       "      <th>1</th>\n",
       "      <td>2019</td>\n",
       "      <td>American Woman</td>\n",
       "      <td>3</td>\n",
       "      <td>1</td>\n",
       "      <td>tt9109492</td>\n",
       "      <td>http://us.imdb.com/title/tt9109492/</td>\n",
       "    </tr>\n",
       "    <tr>\n",
       "      <th>2</th>\n",
       "      <td>2019</td>\n",
       "      <td>Close</td>\n",
       "      <td>3</td>\n",
       "      <td>1</td>\n",
       "      <td>tt5316540</td>\n",
       "      <td>http://us.imdb.com/title/tt5316540/</td>\n",
       "    </tr>\n",
       "    <tr>\n",
       "      <th>3</th>\n",
       "      <td>2019</td>\n",
       "      <td>Cold Pursuit</td>\n",
       "      <td>1</td>\n",
       "      <td>0</td>\n",
       "      <td>tt5719748</td>\n",
       "      <td>http://us.imdb.com/title/tt5719748/</td>\n",
       "    </tr>\n",
       "    <tr>\n",
       "      <th>4</th>\n",
       "      <td>2019</td>\n",
       "      <td>How to Train Your Dragon: The Hidden World</td>\n",
       "      <td>2</td>\n",
       "      <td>0</td>\n",
       "      <td>tt2386490</td>\n",
       "      <td>http://us.imdb.com/title/tt2386490/</td>\n",
       "    </tr>\n",
       "  </tbody>\n",
       "</table>\n",
       "</div>"
      ],
      "text/plain": [
       "   year                                       title  score  passing  \\\n",
       "0  2019                         Alita: Battle Angel      3        1   \n",
       "1  2019                              American Woman      3        1   \n",
       "2  2019                                       Close      3        1   \n",
       "3  2019                                Cold Pursuit      1        0   \n",
       "4  2019  How to Train Your Dragon: The Hidden World      2        0   \n",
       "\n",
       "     imdb_id                            imdb_link  \n",
       "0  tt0437086  http://us.imdb.com/title/tt0437086/  \n",
       "1  tt9109492  http://us.imdb.com/title/tt9109492/  \n",
       "2  tt5316540  http://us.imdb.com/title/tt5316540/  \n",
       "3  tt5719748  http://us.imdb.com/title/tt5719748/  \n",
       "4  tt2386490  http://us.imdb.com/title/tt2386490/  "
      ]
     },
     "execution_count": 2,
     "metadata": {},
     "output_type": "execute_result"
    }
   ],
   "source": [
    "bechdel_df = pd.read_csv('my_data/bechdel_test_movies.csv')\n",
    "bechdel_df.head()"
   ]
  },
  {
   "cell_type": "code",
   "execution_count": 5,
   "metadata": {},
   "outputs": [],
   "source": [
    "# example from book\n",
    "# Linked movie database, which feels very mysterious\n",
    "\n",
    "# sparql = SPARQLWrapper('http://data.linkedmbd.org/sparql')\n",
    "# queryString = \"\"\"\n",
    "# PREFIX m: <http://data.linkedmdb.org/resource/movie/>\n",
    "# SELECT DISTINCT ?actorName WHERE {\n",
    "\n",
    "# ?dir1 m:director_name 'Steven Spielberg' .\n",
    "# ?dir2 m:director_name 'Stanley Kubrick' .\n",
    "\n",
    "# ?dir1film m:director ?dir1;\n",
    "#           m:actor ?actor .\n",
    "        \n",
    "# ?dir2film m:director ?dir2;\n",
    "#           m:actor ?actor .\n",
    "# }\n",
    "# \"\"\"\n",
    "\n",
    "# sparql.setQuery(queryString)\n",
    "# sparql.setReturnFormat(JSON)\n",
    "# results = sparql.query().convert()\n",
    "\n",
    "# if (len(results['results']['bindings']) == 0):\n",
    "#     print('No results found.')\n",
    "# else:\n",
    "#     for result in results['results']['bindings']:\n",
    "#         print(result['actorName']['value'])\n",
    "\n",
    "# I am not sure at all about this linked movie db"
   ]
  },
  {
   "cell_type": "code",
   "execution_count": 7,
   "metadata": {},
   "outputs": [
    {
     "name": "stdout",
     "output_type": "stream",
     "text": [
      "en: Asturias\n",
      "ar: منطقة أستورياس\n",
      "de: Asturien\n",
      "es: Asturias\n",
      "fr: Asturies\n",
      "it: Asturie\n",
      "ja: アストゥリアス州\n",
      "nl: Asturië (regio)\n",
      "pl: Asturia\n",
      "pt: Astúrias\n",
      "ru: Астурия\n",
      "zh: 阿斯图里亚斯\n"
     ]
    }
   ],
   "source": [
    "# SPARQLWrapper docs\n",
    "sparql = SPARQLWrapper(\"http://dbpedia.org/sparql\")\n",
    "sparql.setQuery(\"\"\"\n",
    "    PREFIX rdfs: <http://www.w3.org/2000/01/rdf-schema#>\n",
    "    SELECT ?label\n",
    "    WHERE { <http://dbpedia.org/resource/Asturias> rdfs:label ?label }\n",
    "\"\"\")\n",
    "sparql.setReturnFormat(JSON)\n",
    "results = sparql.query().convert()\n",
    "\n",
    "for result in results[\"results\"][\"bindings\"]:\n",
    "    print('%s: %s' % (result[\"label\"][\"xml:lang\"], result[\"label\"][\"value\"]))"
   ]
  },
  {
   "cell_type": "code",
   "execution_count": 11,
   "metadata": {},
   "outputs": [
    {
     "name": "stdout",
     "output_type": "stream",
     "text": [
      "{'movieTitle': {'type': 'literal', 'xml:lang': 'en', 'value': 'The Apartment'}, 'directorName': {'type': 'literal', 'xml:lang': 'en', 'value': 'Billy Wilder'}}\n",
      "{'movieTitle': {'type': 'literal', 'xml:lang': 'en', 'value': 'The Apartment'}, 'directorName': {'type': 'literal', 'xml:lang': 'ar', 'value': 'بيلي وايلدر'}}\n",
      "{'movieTitle': {'type': 'literal', 'xml:lang': 'en', 'value': 'The Apartment'}, 'directorName': {'type': 'literal', 'xml:lang': 'de', 'value': 'Billy Wilder'}}\n",
      "{'movieTitle': {'type': 'literal', 'xml:lang': 'en', 'value': 'The Apartment'}, 'directorName': {'type': 'literal', 'xml:lang': 'es', 'value': 'Billy Wilder'}}\n",
      "{'movieTitle': {'type': 'literal', 'xml:lang': 'en', 'value': 'The Apartment'}, 'directorName': {'type': 'literal', 'xml:lang': 'fr', 'value': 'Billy Wilder'}}\n"
     ]
    }
   ],
   "source": [
    "sparql = SPARQLWrapper(\"http://dbpedia.org/sparql\")\n",
    "sparql.setQuery(\"\"\"\n",
    "    PREFIX rdfs: <http://www.w3.org/2000/01/rdf-schema#>\n",
    "    SELECT ?movieTitle ?directorName\n",
    "    WHERE { \n",
    "    ?movie a dbo:Film.\n",
    "    ?movie dbo:director ?director.\n",
    "    \n",
    "    ?movie rdfs:label ?movieTitle.\n",
    "    ?director rdfs:label ?directorName.\n",
    "    }\n",
    "    LIMIT 5\n",
    "\"\"\")\n",
    "sparql.setReturnFormat(JSON)\n",
    "results = sparql.query().convert()\n",
    "\n",
    "for result in results[\"results\"][\"bindings\"]:\n",
    "    # print('%s: %s' % (result[\"movieTitle\"][\"xml:lang\"], result[\"movieTitle\"][\"value\"]))\n",
    "    print(result)"
   ]
  },
  {
   "cell_type": "code",
   "execution_count": null,
   "metadata": {},
   "outputs": [],
   "source": []
  }
 ],
 "metadata": {
  "kernelspec": {
   "display_name": "Python [conda env:learn-env]",
   "language": "python",
   "name": "conda-env-learn-env-py"
  },
  "language_info": {
   "codemirror_mode": {
    "name": "ipython",
    "version": 3
   },
   "file_extension": ".py",
   "mimetype": "text/x-python",
   "name": "python",
   "nbconvert_exporter": "python",
   "pygments_lexer": "ipython3",
   "version": "3.6.6"
  },
  "toc": {
   "base_numbering": 1,
   "nav_menu": {},
   "number_sections": false,
   "sideBar": true,
   "skip_h1_title": false,
   "title_cell": "Table of Contents",
   "title_sidebar": "Contents",
   "toc_cell": false,
   "toc_position": {},
   "toc_section_display": true,
   "toc_window_display": false
  }
 },
 "nbformat": 4,
 "nbformat_minor": 2
}
